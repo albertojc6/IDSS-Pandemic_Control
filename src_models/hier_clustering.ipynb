{
 "cells": [
  {
   "cell_type": "markdown",
   "id": "b10a8dd5",
   "metadata": {},
   "source": [
    "# <span style=\"font-family:Courier New; color:#CCCCCC\">**EEUU States Clustering**</span>"
   ]
  },
  {
   "cell_type": "markdown",
   "id": "960ee660",
   "metadata": {},
   "source": [
    "<span style=\"font-family:Courier New\">The first component of our Data Models consists in a hierarchical clustering of EEUU states. To carry out this task, it is essential to load the already preprocessed data, and select the variables necessary for the analysis.</span>"
   ]
  },
  {
   "cell_type": "code",
   "execution_count": 2,
   "id": "193f5a4c",
   "metadata": {},
   "outputs": [],
   "source": [
    "import pandas as pd"
   ]
  },
  {
   "cell_type": "markdown",
   "id": "f1be8442",
   "metadata": {},
   "source": [
    "## <span style=\"font-family:Courier New; color:#336666\">**Reading and Selecting Data**</span>"
   ]
  },
  {
   "cell_type": "code",
   "execution_count": null,
   "id": "dafba96d",
   "metadata": {},
   "outputs": [],
   "source": [
    "df_t = pd.read_csv(\"../data/preprocessed/dataMatrix/matriu_diaries.csv\")\n",
    "df_s = pd.read_csv(\"../data/preprocessed/dataMatrix/matriu_diaries.csv\")"
   ]
  },
  {
   "cell_type": "markdown",
   "id": "6b8bc08f",
   "metadata": {},
   "source": [
    "### <span style=\"font-family:Courier New; color:#336633\">**Data Selection**</span>"
   ]
  },
  {
   "cell_type": "markdown",
   "id": "2e6456af",
   "metadata": {},
   "source": [
    "#### <span style=\"font-family:Courier New; color:#994C00\">**Variables Selection**</span>\n"
   ]
  }
 ],
 "metadata": {
  "kernelspec": {
   "display_name": "Python 3",
   "language": "python",
   "name": "python3"
  },
  "language_info": {
   "codemirror_mode": {
    "name": "ipython",
    "version": 3
   },
   "file_extension": ".py",
   "mimetype": "text/x-python",
   "name": "python",
   "nbconvert_exporter": "python",
   "pygments_lexer": "ipython3",
   "version": "3.10.11"
  }
 },
 "nbformat": 4,
 "nbformat_minor": 5
}
