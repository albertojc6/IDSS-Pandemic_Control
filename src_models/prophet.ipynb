{
 "cells": [
  {
   "cell_type": "markdown",
   "id": "992eb456",
   "metadata": {},
   "source": [
    "**Models Prophet**"
   ]
  },
  {
   "cell_type": "code",
   "execution_count": 96,
   "id": "348d551a",
   "metadata": {},
   "outputs": [],
   "source": [
    "#%pip install prophet"
   ]
  },
  {
   "cell_type": "code",
   "execution_count": 97,
   "id": "0a3c7a5e",
   "metadata": {},
   "outputs": [],
   "source": [
    "import pandas as pd\n",
    "from prophet import Prophet\n",
    "from sklearn.preprocessing import OneHotEncoder\n",
    "import pickle\n",
    "import os\n",
    "import numpy as np\n",
    "from datetime import timedelta\n",
    "from sklearn.metrics import mean_absolute_error, mean_squared_error, r2_score\n",
    "\n"
   ]
  },
  {
   "cell_type": "code",
   "execution_count": 98,
   "id": "a8f63dad",
   "metadata": {},
   "outputs": [],
   "source": [
    "# Carreguem les dades\n",
    "dades_temporals = pd.read_csv('daily_covidMatrix.csv') \n",
    "dades_estatiques = pd.read_csv('static_stateMatrix.csv')\n",
    "clusters_targets = pd.read_csv('state_clusters.csv') "
   ]
  },
  {
   "cell_type": "code",
   "execution_count": 99,
   "id": "e0a9f860",
   "metadata": {},
   "outputs": [],
   "source": [
    "targets = {\n",
    "    'positiveIncrease': 'Cluster_positiveIncrease',\n",
    "    'hospitalizedIncrease': 'Cluster_hospitalizedIncrease',\n",
    "    'deathIncrease': 'Cluster_deathIncrease'\n",
    "}"
   ]
  },
  {
   "cell_type": "code",
   "execution_count": 100,
   "id": "f7246cab",
   "metadata": {},
   "outputs": [],
   "source": [
    "dades = pd.merge(dades_temporals, dades_estatiques, on='state', how='left')"
   ]
  },
  {
   "cell_type": "code",
   "execution_count": 101,
   "id": "71f25dc8",
   "metadata": {},
   "outputs": [
    {
     "name": "stderr",
     "output_type": "stream",
     "text": [
      "C:\\Users\\mibks\\AppData\\Local\\Packages\\PythonSoftwareFoundation.Python.3.10_qbz5n2kfra8p0\\LocalCache\\local-packages\\Python310\\site-packages\\sklearn\\preprocessing\\_encoders.py:972: FutureWarning: `sparse` was renamed to `sparse_output` in version 1.2 and will be removed in 1.4. `sparse_output` is ignored unless you leave `sparse` to its default value.\n",
      "  warnings.warn(\n"
     ]
    }
   ],
   "source": [
    "# Inicialitzem encoder per l'estat\n",
    "encoder = OneHotEncoder(sparse=False)\n",
    "states_encoded = encoder.fit_transform(dades[['state']])\n",
    "state_columns = encoder.get_feature_names_out(['state'])\n",
    "states_encoded_df = pd.DataFrame(states_encoded, columns=state_columns)\n",
    "\n",
    "dades = pd.concat([dades.reset_index(drop=True), states_encoded_df.reset_index(drop=True)], axis=1)\n"
   ]
  },
  {
   "cell_type": "code",
   "execution_count": 102,
   "id": "5df41cae",
   "metadata": {},
   "outputs": [],
   "source": [
    "altres_regressors = [\n",
    "    'totalTestResults', 'positive', 'death', 'negativeIncrease', 'total', \n",
    "    'totalTestResultsIncrease', 'posNeg', 'Dose1_Total', 'Dose1_65Plus', \n",
    "    'Complete_Total', 'Complete_65Plus', 'neighbor_contagions', 'no_coverage',\n",
    "    'bedsState_local_government','bedsNon_profit','bedsFor_profit',\n",
    "    'bedsTotal','population_state','pop_density_state', 'Low_SVI_CTGY',\n",
    "    'Moderate_Low_SVI_CTGY','Moderate_High_SVI_CTGY', 'Metro'\n",
    "]\n"
   ]
  },
  {
   "cell_type": "code",
   "execution_count": 103,
   "id": "6e3e2dca",
   "metadata": {},
   "outputs": [],
   "source": [
    "# Dividir en train i test\n",
    "\n",
    "dades['date'] = pd.to_datetime(dades['date'])\n",
    "\n",
    "train = dades[dades['date'] < '2021-03-01']\n",
    "test = dades[dades['date'] >= '2021-03-01']"
   ]
  },
  {
   "cell_type": "markdown",
   "id": "cd3dea96",
   "metadata": {},
   "source": [
    "Entrenar els diferents models"
   ]
  },
  {
   "cell_type": "code",
   "execution_count": 104,
   "id": "c54a4adb",
   "metadata": {},
   "outputs": [
    {
     "name": "stderr",
     "output_type": "stream",
     "text": [
      "16:32:21 - cmdstanpy - INFO - Chain [1] start processing\n",
      "16:32:24 - cmdstanpy - INFO - Chain [1] done processing\n"
     ]
    },
    {
     "name": "stdout",
     "output_type": "stream",
     "text": [
      "Model entrenat i guardat per positiveIncrease, cluster 3\n"
     ]
    },
    {
     "name": "stderr",
     "output_type": "stream",
     "text": [
      "16:32:27 - cmdstanpy - INFO - Chain [1] start processing\n",
      "16:32:29 - cmdstanpy - INFO - Chain [1] done processing\n"
     ]
    },
    {
     "name": "stdout",
     "output_type": "stream",
     "text": [
      "Model entrenat i guardat per positiveIncrease, cluster 6\n"
     ]
    },
    {
     "name": "stderr",
     "output_type": "stream",
     "text": [
      "16:32:34 - cmdstanpy - INFO - Chain [1] start processing\n",
      "16:32:42 - cmdstanpy - INFO - Chain [1] done processing\n"
     ]
    },
    {
     "name": "stdout",
     "output_type": "stream",
     "text": [
      "Model entrenat i guardat per positiveIncrease, cluster 5\n"
     ]
    },
    {
     "name": "stderr",
     "output_type": "stream",
     "text": [
      "16:32:45 - cmdstanpy - INFO - Chain [1] start processing\n",
      "16:32:47 - cmdstanpy - INFO - Chain [1] done processing\n"
     ]
    },
    {
     "name": "stdout",
     "output_type": "stream",
     "text": [
      "Model entrenat i guardat per positiveIncrease, cluster 2\n"
     ]
    },
    {
     "name": "stderr",
     "output_type": "stream",
     "text": [
      "16:32:50 - cmdstanpy - INFO - Chain [1] start processing\n",
      "16:32:51 - cmdstanpy - INFO - Chain [1] done processing\n"
     ]
    },
    {
     "name": "stdout",
     "output_type": "stream",
     "text": [
      "Model entrenat i guardat per positiveIncrease, cluster 4\n"
     ]
    },
    {
     "name": "stderr",
     "output_type": "stream",
     "text": [
      "16:32:53 - cmdstanpy - INFO - Chain [1] start processing\n",
      "16:32:53 - cmdstanpy - INFO - Chain [1] done processing\n"
     ]
    },
    {
     "name": "stdout",
     "output_type": "stream",
     "text": [
      "Model entrenat i guardat per positiveIncrease, cluster 1\n"
     ]
    },
    {
     "name": "stderr",
     "output_type": "stream",
     "text": [
      "16:32:57 - cmdstanpy - INFO - Chain [1] start processing\n",
      "16:32:58 - cmdstanpy - INFO - Chain [1] done processing\n"
     ]
    },
    {
     "name": "stdout",
     "output_type": "stream",
     "text": [
      "Model entrenat i guardat per hospitalizedIncrease, cluster 4\n"
     ]
    },
    {
     "name": "stderr",
     "output_type": "stream",
     "text": [
      "16:33:03 - cmdstanpy - INFO - Chain [1] start processing\n",
      "16:33:06 - cmdstanpy - INFO - Chain [1] done processing\n"
     ]
    },
    {
     "name": "stdout",
     "output_type": "stream",
     "text": [
      "Model entrenat i guardat per hospitalizedIncrease, cluster 3\n",
      "Model entrenat i guardat per hospitalizedIncrease, cluster 2\n"
     ]
    },
    {
     "name": "stderr",
     "output_type": "stream",
     "text": [
      "16:33:08 - cmdstanpy - INFO - Chain [1] start processing\n",
      "16:33:08 - cmdstanpy - INFO - Chain [1] done processing\n"
     ]
    },
    {
     "name": "stdout",
     "output_type": "stream",
     "text": [
      "Model entrenat i guardat per hospitalizedIncrease, cluster 6\n",
      "Model entrenat i guardat per hospitalizedIncrease, cluster 1\n"
     ]
    },
    {
     "name": "stderr",
     "output_type": "stream",
     "text": [
      "16:33:13 - cmdstanpy - INFO - Chain [1] start processing\n",
      "16:33:14 - cmdstanpy - INFO - Chain [1] done processing\n"
     ]
    },
    {
     "name": "stdout",
     "output_type": "stream",
     "text": [
      "Model entrenat i guardat per hospitalizedIncrease, cluster 7\n"
     ]
    },
    {
     "name": "stderr",
     "output_type": "stream",
     "text": [
      "16:33:16 - cmdstanpy - INFO - Chain [1] start processing\n",
      "16:33:16 - cmdstanpy - INFO - Chain [1] done processing\n"
     ]
    },
    {
     "name": "stdout",
     "output_type": "stream",
     "text": [
      "Model entrenat i guardat per hospitalizedIncrease, cluster 5\n"
     ]
    },
    {
     "name": "stderr",
     "output_type": "stream",
     "text": [
      "16:33:20 - cmdstanpy - INFO - Chain [1] start processing\n",
      "16:33:23 - cmdstanpy - INFO - Chain [1] done processing\n"
     ]
    },
    {
     "name": "stdout",
     "output_type": "stream",
     "text": [
      "Model entrenat i guardat per deathIncrease, cluster 6\n"
     ]
    },
    {
     "name": "stderr",
     "output_type": "stream",
     "text": [
      "16:33:27 - cmdstanpy - INFO - Chain [1] start processing\n",
      "16:33:29 - cmdstanpy - INFO - Chain [1] done processing\n"
     ]
    },
    {
     "name": "stdout",
     "output_type": "stream",
     "text": [
      "Model entrenat i guardat per deathIncrease, cluster 3\n"
     ]
    },
    {
     "name": "stderr",
     "output_type": "stream",
     "text": [
      "16:33:32 - cmdstanpy - INFO - Chain [1] start processing\n",
      "16:33:39 - cmdstanpy - INFO - Chain [1] done processing\n"
     ]
    },
    {
     "name": "stdout",
     "output_type": "stream",
     "text": [
      "Model entrenat i guardat per deathIncrease, cluster 5\n"
     ]
    },
    {
     "name": "stderr",
     "output_type": "stream",
     "text": [
      "16:33:43 - cmdstanpy - INFO - Chain [1] start processing\n",
      "16:33:44 - cmdstanpy - INFO - Chain [1] done processing\n"
     ]
    },
    {
     "name": "stdout",
     "output_type": "stream",
     "text": [
      "Model entrenat i guardat per deathIncrease, cluster 4\n"
     ]
    },
    {
     "name": "stderr",
     "output_type": "stream",
     "text": [
      "16:33:47 - cmdstanpy - INFO - Chain [1] start processing\n",
      "16:33:49 - cmdstanpy - INFO - Chain [1] done processing\n"
     ]
    },
    {
     "name": "stdout",
     "output_type": "stream",
     "text": [
      "Model entrenat i guardat per deathIncrease, cluster 1\n"
     ]
    },
    {
     "name": "stderr",
     "output_type": "stream",
     "text": [
      "16:33:51 - cmdstanpy - INFO - Chain [1] start processing\n",
      "16:33:53 - cmdstanpy - INFO - Chain [1] done processing\n"
     ]
    },
    {
     "name": "stdout",
     "output_type": "stream",
     "text": [
      "Model entrenat i guardat per deathIncrease, cluster 2\n"
     ]
    }
   ],
   "source": [
    "# Crear la carpeta per guardar els models\n",
    "os.makedirs('models_prophet', exist_ok=True)\n",
    "\n",
    "# Iterar per cada variable target\n",
    "for target_var, cluster_col in targets.items():\n",
    "    # Tots els clusters possibles per aquesta variable\n",
    "    clusters = clusters_targets[cluster_col].unique()\n",
    "    \n",
    "    for cluster in clusters:\n",
    "        # Estats que pertanyen a aquest cluster\n",
    "        estats_cluster = clusters_targets[clusters_targets[cluster_col] == cluster]['State'].unique()\n",
    "        \n",
    "        dades_cluster = train[train['state'].isin(estats_cluster)]      \n",
    "          \n",
    "        columns_model = ['date', target_var] + list(state_columns) + altres_regressors\n",
    "        df_prophet = dades_cluster[columns_model].rename(columns={'date': 'ds', target_var: 'y'})\n",
    "        \n",
    "        model = Prophet(\n",
    "            changepoint_prior_scale=0.1,\n",
    "            seasonality_prior_scale=10.0,\n",
    "            yearly_seasonality=True,\n",
    "            weekly_seasonality=True,\n",
    "            interval_width=0.90)\n",
    "        \n",
    "        regressors = list(state_columns) + altres_regressors              \n",
    "        for reg in regressors:\n",
    "            model.add_regressor(reg)\n",
    "\n",
    "        model.fit(df_prophet)\n",
    "            \n",
    "        model_filename = f'models_prophet/prophet_{target_var}_cluster{cluster}.pkl'\n",
    "        with open(model_filename, 'wb') as f:\n",
    "            pickle.dump(model, f)\n",
    "        \n",
    "        print(f\"Model entrenat i guardat per {target_var}, cluster {cluster}\")\n"
   ]
  },
  {
   "cell_type": "markdown",
   "id": "2bdf5f1a",
   "metadata": {},
   "source": [
    "Predir el test"
   ]
  },
  {
   "cell_type": "code",
   "execution_count": 105,
   "id": "4ca675e8",
   "metadata": {},
   "outputs": [],
   "source": [
    "metriques_totals = []\n",
    "\n",
    "# Iterar per cada target\n",
    "for target_var, cluster_col in targets.items():\n",
    "    # Tots els clusters possibles per aquest target\n",
    "    clusters = clusters_targets[cluster_col].unique()\n",
    "    \n",
    "    for cluster in clusters:\n",
    "        model_filename = f'models_prophet/prophet_{target_var}_cluster{cluster}.pkl'\n",
    "        \n",
    "        with open(model_filename, 'rb') as f:\n",
    "            model = pickle.load(f)\n",
    "        \n",
    "        estats_cluster = clusters_targets[clusters_targets[cluster_col] == cluster]['State'].unique()\n",
    "        \n",
    "        for estat in estats_cluster:\n",
    "            dades_estat = train[train['state'] == estat]\n",
    "            if dades_estat.empty:\n",
    "                continue\n",
    "            \n",
    "            columns_model = ['date', target_var] + list(state_columns) + altres_regressors\n",
    "            df_prophet = dades_estat[columns_model].rename(columns={'date': 'ds', target_var: 'y'})\n",
    "            df_prophet['ds'] = pd.to_datetime(df_prophet['ds'])\n",
    "            \n",
    "            # Última fila coneguda de regressors\n",
    "            regressors = list(state_columns) + altres_regressors\n",
    "            last_known = df_prophet[regressors].iloc[-1]\n",
    "            #print(estat)\n",
    "            \n",
    "\n",
    "            # Genera les dates futures (7 dies a partir de l'última data coneguda)\n",
    "            start_date = df_prophet['ds'].max() + timedelta(days=1)\n",
    "            future_dates = pd.date_range(start=start_date, periods=7, freq='D')\n",
    "            future = pd.DataFrame({'ds': future_dates})\n",
    "\n",
    "            # Repetir últims valors de regressors\n",
    "            future_states_df = pd.DataFrame([last_known.values] * 7, columns=regressors).reset_index(drop=True)\n",
    "            future = pd.concat([future, future_states_df], axis=1)\n",
    "            #print('------------------------------')\n",
    "            #print(future)\n",
    "            \n",
    "            # Predicció\n",
    "            forecast = model.predict(future)\n",
    "            #print('------------------')\n",
    "            #print(forecast)\n",
    "            prediccions = forecast[['ds', 'yhat']].copy()\n",
    "            prediccions['state'] = estat\n",
    "            prediccions['target'] = target_var\n",
    "            #print('------------------')\n",
    "            #print(prediccions)\n",
    "\n",
    "            # Comparació \n",
    "            test_estat = test[\n",
    "                (test['state'] == estat) &\n",
    "                (test['date'].isin(prediccions['ds']))\n",
    "            ]       \n",
    "                      \n",
    "            comparacio = pd.merge(prediccions, test_estat, left_on=['ds', 'state'], right_on=['date', 'state'])\n",
    "            \n",
    "            y_true = comparacio[target_var]\n",
    "            y_pred = comparacio['yhat']\n",
    "            \n",
    "            # Mètriques\n",
    "            mae = mean_absolute_error(y_true, y_pred)\n",
    "            mse = mean_squared_error(y_true, y_pred)\n",
    "            rmse = np.sqrt(mse)\n",
    "            r2 = r2_score(y_true, y_pred)\n",
    "           \n",
    "            metriques_totals.append({\n",
    "                'target': target_var,\n",
    "                'state': estat,\n",
    "                'cluster': cluster,\n",
    "                'MAE': mae,\n",
    "                'MSE': mse,\n",
    "                'R2': r2\n",
    "            })\n",
    "                \n",
    "df_metriques = pd.DataFrame(metriques_totals)\n",
    "\n"
   ]
  },
  {
   "cell_type": "code",
   "execution_count": 106,
   "id": "7d323064",
   "metadata": {},
   "outputs": [
    {
     "data": {
      "text/html": [
       "<div>\n",
       "<style scoped>\n",
       "    .dataframe tbody tr th:only-of-type {\n",
       "        vertical-align: middle;\n",
       "    }\n",
       "\n",
       "    .dataframe tbody tr th {\n",
       "        vertical-align: top;\n",
       "    }\n",
       "\n",
       "    .dataframe thead th {\n",
       "        text-align: right;\n",
       "    }\n",
       "</style>\n",
       "<table border=\"1\" class=\"dataframe\">\n",
       "  <thead>\n",
       "    <tr style=\"text-align: right;\">\n",
       "      <th></th>\n",
       "      <th>model</th>\n",
       "      <th>mitjana_MAE</th>\n",
       "      <th>mitjana_MSE</th>\n",
       "      <th>mitjana_R2</th>\n",
       "      <th>millor_MAE</th>\n",
       "      <th>millor_MSE</th>\n",
       "      <th>millor_R2</th>\n",
       "      <th>pitjor_MAE</th>\n",
       "      <th>pitjor_MSE</th>\n",
       "      <th>pitjor_R2</th>\n",
       "    </tr>\n",
       "  </thead>\n",
       "  <tbody>\n",
       "    <tr>\n",
       "      <th>0</th>\n",
       "      <td>deathIncrease_cluster1</td>\n",
       "      <td>27.547715</td>\n",
       "      <td>1.062147e+03</td>\n",
       "      <td>-28.607618</td>\n",
       "      <td>14.681555</td>\n",
       "      <td>265.330497</td>\n",
       "      <td>-0.034427</td>\n",
       "      <td>51.334345</td>\n",
       "      <td>2.796822e+03</td>\n",
       "      <td>-124.011484</td>\n",
       "    </tr>\n",
       "    <tr>\n",
       "      <th>1</th>\n",
       "      <td>deathIncrease_cluster2</td>\n",
       "      <td>64.387576</td>\n",
       "      <td>1.064746e+04</td>\n",
       "      <td>-62.461935</td>\n",
       "      <td>6.105500</td>\n",
       "      <td>43.149825</td>\n",
       "      <td>0.009337</td>\n",
       "      <td>156.831437</td>\n",
       "      <td>3.208720e+04</td>\n",
       "      <td>-316.399916</td>\n",
       "    </tr>\n",
       "    <tr>\n",
       "      <th>2</th>\n",
       "      <td>deathIncrease_cluster3</td>\n",
       "      <td>25.743007</td>\n",
       "      <td>1.845717e+03</td>\n",
       "      <td>-39.077287</td>\n",
       "      <td>6.736790</td>\n",
       "      <td>65.885989</td>\n",
       "      <td>0.138727</td>\n",
       "      <td>67.782542</td>\n",
       "      <td>9.075844e+03</td>\n",
       "      <td>-155.539757</td>\n",
       "    </tr>\n",
       "    <tr>\n",
       "      <th>3</th>\n",
       "      <td>deathIncrease_cluster4</td>\n",
       "      <td>11.768382</td>\n",
       "      <td>2.457216e+02</td>\n",
       "      <td>-66.937453</td>\n",
       "      <td>4.940514</td>\n",
       "      <td>46.064301</td>\n",
       "      <td>0.548281</td>\n",
       "      <td>22.378568</td>\n",
       "      <td>8.168224e+02</td>\n",
       "      <td>-402.681141</td>\n",
       "    </tr>\n",
       "    <tr>\n",
       "      <th>4</th>\n",
       "      <td>deathIncrease_cluster5</td>\n",
       "      <td>32.335051</td>\n",
       "      <td>2.131957e+03</td>\n",
       "      <td>-4.379094</td>\n",
       "      <td>11.379598</td>\n",
       "      <td>150.999873</td>\n",
       "      <td>-0.619739</td>\n",
       "      <td>82.795791</td>\n",
       "      <td>8.296884e+03</td>\n",
       "      <td>-17.375593</td>\n",
       "    </tr>\n",
       "    <tr>\n",
       "      <th>5</th>\n",
       "      <td>deathIncrease_cluster6</td>\n",
       "      <td>19.917848</td>\n",
       "      <td>7.083918e+02</td>\n",
       "      <td>-4.881258</td>\n",
       "      <td>4.367382</td>\n",
       "      <td>38.153263</td>\n",
       "      <td>0.220611</td>\n",
       "      <td>38.077750</td>\n",
       "      <td>2.025640e+03</td>\n",
       "      <td>-22.451568</td>\n",
       "    </tr>\n",
       "    <tr>\n",
       "      <th>6</th>\n",
       "      <td>hospitalizedIncrease_cluster1</td>\n",
       "      <td>0.000000</td>\n",
       "      <td>0.000000e+00</td>\n",
       "      <td>1.000000</td>\n",
       "      <td>0.000000</td>\n",
       "      <td>0.000000</td>\n",
       "      <td>1.000000</td>\n",
       "      <td>0.000000</td>\n",
       "      <td>0.000000e+00</td>\n",
       "      <td>1.000000</td>\n",
       "    </tr>\n",
       "    <tr>\n",
       "      <th>7</th>\n",
       "      <td>hospitalizedIncrease_cluster2</td>\n",
       "      <td>0.000000</td>\n",
       "      <td>0.000000e+00</td>\n",
       "      <td>1.000000</td>\n",
       "      <td>0.000000</td>\n",
       "      <td>0.000000</td>\n",
       "      <td>1.000000</td>\n",
       "      <td>0.000000</td>\n",
       "      <td>0.000000e+00</td>\n",
       "      <td>1.000000</td>\n",
       "    </tr>\n",
       "    <tr>\n",
       "      <th>8</th>\n",
       "      <td>hospitalizedIncrease_cluster3</td>\n",
       "      <td>27.875218</td>\n",
       "      <td>1.103420e+03</td>\n",
       "      <td>-22.848073</td>\n",
       "      <td>10.569809</td>\n",
       "      <td>138.515901</td>\n",
       "      <td>0.274156</td>\n",
       "      <td>44.003224</td>\n",
       "      <td>2.237653e+03</td>\n",
       "      <td>-165.602135</td>\n",
       "    </tr>\n",
       "    <tr>\n",
       "      <th>9</th>\n",
       "      <td>hospitalizedIncrease_cluster4</td>\n",
       "      <td>70.388972</td>\n",
       "      <td>7.002609e+03</td>\n",
       "      <td>-7.777900</td>\n",
       "      <td>13.124022</td>\n",
       "      <td>212.082337</td>\n",
       "      <td>0.571533</td>\n",
       "      <td>120.213623</td>\n",
       "      <td>1.720878e+04</td>\n",
       "      <td>-29.544640</td>\n",
       "    </tr>\n",
       "    <tr>\n",
       "      <th>10</th>\n",
       "      <td>hospitalizedIncrease_cluster5</td>\n",
       "      <td>3.747770</td>\n",
       "      <td>2.035802e+01</td>\n",
       "      <td>0.000000</td>\n",
       "      <td>2.965981</td>\n",
       "      <td>14.563815</td>\n",
       "      <td>0.000000</td>\n",
       "      <td>5.211050</td>\n",
       "      <td>3.173555e+01</td>\n",
       "      <td>0.000000</td>\n",
       "    </tr>\n",
       "    <tr>\n",
       "      <th>11</th>\n",
       "      <td>hospitalizedIncrease_cluster6</td>\n",
       "      <td>116.716168</td>\n",
       "      <td>6.265848e+04</td>\n",
       "      <td>-12.487854</td>\n",
       "      <td>15.202998</td>\n",
       "      <td>296.222377</td>\n",
       "      <td>0.416134</td>\n",
       "      <td>335.537125</td>\n",
       "      <td>2.883559e+05</td>\n",
       "      <td>-39.046370</td>\n",
       "    </tr>\n",
       "    <tr>\n",
       "      <th>12</th>\n",
       "      <td>hospitalizedIncrease_cluster7</td>\n",
       "      <td>26.840873</td>\n",
       "      <td>1.694364e+03</td>\n",
       "      <td>-30.051756</td>\n",
       "      <td>8.123860</td>\n",
       "      <td>69.696970</td>\n",
       "      <td>0.015642</td>\n",
       "      <td>72.725544</td>\n",
       "      <td>8.721933e+03</td>\n",
       "      <td>-83.260940</td>\n",
       "    </tr>\n",
       "    <tr>\n",
       "      <th>13</th>\n",
       "      <td>positiveIncrease_cluster1</td>\n",
       "      <td>53.138573</td>\n",
       "      <td>3.975414e+03</td>\n",
       "      <td>-2.399935</td>\n",
       "      <td>40.167352</td>\n",
       "      <td>2415.689274</td>\n",
       "      <td>0.241167</td>\n",
       "      <td>70.886055</td>\n",
       "      <td>6.291206e+03</td>\n",
       "      <td>-5.768005</td>\n",
       "    </tr>\n",
       "    <tr>\n",
       "      <th>14</th>\n",
       "      <td>positiveIncrease_cluster2</td>\n",
       "      <td>2435.574006</td>\n",
       "      <td>1.102652e+07</td>\n",
       "      <td>-3767.130674</td>\n",
       "      <td>235.585653</td>\n",
       "      <td>83310.999824</td>\n",
       "      <td>0.376216</td>\n",
       "      <td>6239.328455</td>\n",
       "      <td>4.233244e+07</td>\n",
       "      <td>-18098.205736</td>\n",
       "    </tr>\n",
       "    <tr>\n",
       "      <th>15</th>\n",
       "      <td>positiveIncrease_cluster3</td>\n",
       "      <td>1659.198369</td>\n",
       "      <td>3.984117e+06</td>\n",
       "      <td>-59.588459</td>\n",
       "      <td>259.075414</td>\n",
       "      <td>122624.745484</td>\n",
       "      <td>0.169651</td>\n",
       "      <td>3437.255539</td>\n",
       "      <td>1.218172e+07</td>\n",
       "      <td>-508.326353</td>\n",
       "    </tr>\n",
       "    <tr>\n",
       "      <th>16</th>\n",
       "      <td>positiveIncrease_cluster4</td>\n",
       "      <td>754.284558</td>\n",
       "      <td>9.406157e+05</td>\n",
       "      <td>-223.546131</td>\n",
       "      <td>131.789934</td>\n",
       "      <td>21705.897488</td>\n",
       "      <td>-0.319807</td>\n",
       "      <td>1349.810803</td>\n",
       "      <td>2.283573e+06</td>\n",
       "      <td>-1273.124976</td>\n",
       "    </tr>\n",
       "    <tr>\n",
       "      <th>17</th>\n",
       "      <td>positiveIncrease_cluster5</td>\n",
       "      <td>749.083641</td>\n",
       "      <td>1.036353e+06</td>\n",
       "      <td>-60.653707</td>\n",
       "      <td>171.103036</td>\n",
       "      <td>34817.891954</td>\n",
       "      <td>-0.176567</td>\n",
       "      <td>2643.034198</td>\n",
       "      <td>7.226103e+06</td>\n",
       "      <td>-525.077269</td>\n",
       "    </tr>\n",
       "    <tr>\n",
       "      <th>18</th>\n",
       "      <td>positiveIncrease_cluster6</td>\n",
       "      <td>581.026926</td>\n",
       "      <td>7.365737e+05</td>\n",
       "      <td>-21.335844</td>\n",
       "      <td>33.256250</td>\n",
       "      <td>1998.376165</td>\n",
       "      <td>0.294318</td>\n",
       "      <td>1937.930169</td>\n",
       "      <td>4.097619e+06</td>\n",
       "      <td>-134.999259</td>\n",
       "    </tr>\n",
       "  </tbody>\n",
       "</table>\n",
       "</div>"
      ],
      "text/plain": [
       "                            model  mitjana_MAE   mitjana_MSE   mitjana_R2  \\\n",
       "0          deathIncrease_cluster1    27.547715  1.062147e+03   -28.607618   \n",
       "1          deathIncrease_cluster2    64.387576  1.064746e+04   -62.461935   \n",
       "2          deathIncrease_cluster3    25.743007  1.845717e+03   -39.077287   \n",
       "3          deathIncrease_cluster4    11.768382  2.457216e+02   -66.937453   \n",
       "4          deathIncrease_cluster5    32.335051  2.131957e+03    -4.379094   \n",
       "5          deathIncrease_cluster6    19.917848  7.083918e+02    -4.881258   \n",
       "6   hospitalizedIncrease_cluster1     0.000000  0.000000e+00     1.000000   \n",
       "7   hospitalizedIncrease_cluster2     0.000000  0.000000e+00     1.000000   \n",
       "8   hospitalizedIncrease_cluster3    27.875218  1.103420e+03   -22.848073   \n",
       "9   hospitalizedIncrease_cluster4    70.388972  7.002609e+03    -7.777900   \n",
       "10  hospitalizedIncrease_cluster5     3.747770  2.035802e+01     0.000000   \n",
       "11  hospitalizedIncrease_cluster6   116.716168  6.265848e+04   -12.487854   \n",
       "12  hospitalizedIncrease_cluster7    26.840873  1.694364e+03   -30.051756   \n",
       "13      positiveIncrease_cluster1    53.138573  3.975414e+03    -2.399935   \n",
       "14      positiveIncrease_cluster2  2435.574006  1.102652e+07 -3767.130674   \n",
       "15      positiveIncrease_cluster3  1659.198369  3.984117e+06   -59.588459   \n",
       "16      positiveIncrease_cluster4   754.284558  9.406157e+05  -223.546131   \n",
       "17      positiveIncrease_cluster5   749.083641  1.036353e+06   -60.653707   \n",
       "18      positiveIncrease_cluster6   581.026926  7.365737e+05   -21.335844   \n",
       "\n",
       "    millor_MAE     millor_MSE  millor_R2   pitjor_MAE    pitjor_MSE  \\\n",
       "0    14.681555     265.330497  -0.034427    51.334345  2.796822e+03   \n",
       "1     6.105500      43.149825   0.009337   156.831437  3.208720e+04   \n",
       "2     6.736790      65.885989   0.138727    67.782542  9.075844e+03   \n",
       "3     4.940514      46.064301   0.548281    22.378568  8.168224e+02   \n",
       "4    11.379598     150.999873  -0.619739    82.795791  8.296884e+03   \n",
       "5     4.367382      38.153263   0.220611    38.077750  2.025640e+03   \n",
       "6     0.000000       0.000000   1.000000     0.000000  0.000000e+00   \n",
       "7     0.000000       0.000000   1.000000     0.000000  0.000000e+00   \n",
       "8    10.569809     138.515901   0.274156    44.003224  2.237653e+03   \n",
       "9    13.124022     212.082337   0.571533   120.213623  1.720878e+04   \n",
       "10    2.965981      14.563815   0.000000     5.211050  3.173555e+01   \n",
       "11   15.202998     296.222377   0.416134   335.537125  2.883559e+05   \n",
       "12    8.123860      69.696970   0.015642    72.725544  8.721933e+03   \n",
       "13   40.167352    2415.689274   0.241167    70.886055  6.291206e+03   \n",
       "14  235.585653   83310.999824   0.376216  6239.328455  4.233244e+07   \n",
       "15  259.075414  122624.745484   0.169651  3437.255539  1.218172e+07   \n",
       "16  131.789934   21705.897488  -0.319807  1349.810803  2.283573e+06   \n",
       "17  171.103036   34817.891954  -0.176567  2643.034198  7.226103e+06   \n",
       "18   33.256250    1998.376165   0.294318  1937.930169  4.097619e+06   \n",
       "\n",
       "       pitjor_R2  \n",
       "0    -124.011484  \n",
       "1    -316.399916  \n",
       "2    -155.539757  \n",
       "3    -402.681141  \n",
       "4     -17.375593  \n",
       "5     -22.451568  \n",
       "6       1.000000  \n",
       "7       1.000000  \n",
       "8    -165.602135  \n",
       "9     -29.544640  \n",
       "10      0.000000  \n",
       "11    -39.046370  \n",
       "12    -83.260940  \n",
       "13     -5.768005  \n",
       "14 -18098.205736  \n",
       "15   -508.326353  \n",
       "16  -1273.124976  \n",
       "17   -525.077269  \n",
       "18   -134.999259  "
      ]
     },
     "execution_count": 106,
     "metadata": {},
     "output_type": "execute_result"
    }
   ],
   "source": [
    "df_metriques['model'] = df_metriques['target'] + '_cluster' + df_metriques['cluster'].astype(str)\n",
    "\n",
    "mitjanes = df_metriques.groupby('model').agg({\n",
    "    'MAE': 'mean',\n",
    "    'MSE': 'mean',\n",
    "    'R2': 'mean'\n",
    "}).reset_index()\n",
    "mitjanes = mitjanes.rename(columns=lambda x: f'mitjana_{x}' if x != 'model' else x)\n",
    "\n",
    "# Millor resultat per model (mínim MAE, mínim MSE, màxim R2)\n",
    "millors = df_metriques.groupby('model').agg({\n",
    "    'MAE': 'min',\n",
    "    'MSE': 'min',\n",
    "    'R2': 'max'\n",
    "}).reset_index()\n",
    "millors = millors.rename(columns=lambda x: f'millor_{x}' if x != 'model' else x)\n",
    "\n",
    "# Pitjor resultat per model (màxim MAE, màxim MSE, mínim R2)\n",
    "pitjors = df_metriques.groupby('model').agg({\n",
    "    'MAE': 'max',\n",
    "    'MSE': 'max',\n",
    "    'R2': 'min'\n",
    "}).reset_index()\n",
    "pitjors = pitjors.rename(columns=lambda x: f'pitjor_{x}' if x != 'model' else x)\n",
    "\n",
    "# Juntar-ho tot en un sol DataFrame final\n",
    "resultats_models = mitjanes.merge(millors, on='model').merge(pitjors, on='model')\n",
    "\n",
    "resultats_models\n"
   ]
  }
 ],
 "metadata": {
  "kernelspec": {
   "display_name": "Python 3",
   "language": "python",
   "name": "python3"
  },
  "language_info": {
   "codemirror_mode": {
    "name": "ipython",
    "version": 3
   },
   "file_extension": ".py",
   "mimetype": "text/x-python",
   "name": "python",
   "nbconvert_exporter": "python",
   "pygments_lexer": "ipython3",
   "version": "3.10.11"
  }
 },
 "nbformat": 4,
 "nbformat_minor": 5
}
