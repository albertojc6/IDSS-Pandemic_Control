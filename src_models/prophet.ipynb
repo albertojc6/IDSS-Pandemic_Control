{
 "cells": [
  {
   "cell_type": "markdown",
   "id": "992eb456",
   "metadata": {},
   "source": [
    "**Models Prophet**"
   ]
  },
  {
   "cell_type": "code",
   "execution_count": 108,
   "id": "348d551a",
   "metadata": {},
   "outputs": [],
   "source": [
    "#%pip install prophet"
   ]
  },
  {
   "cell_type": "code",
   "execution_count": 109,
   "id": "0a3c7a5e",
   "metadata": {},
   "outputs": [],
   "source": [
    "import pandas as pd\n",
    "from prophet import Prophet\n",
    "from sklearn.preprocessing import OneHotEncoder\n",
    "import pickle\n",
    "import os\n",
    "import numpy as np\n",
    "from datetime import timedelta\n",
    "from sklearn.metrics import mean_absolute_error, mean_squared_error, r2_score\n",
    "\n"
   ]
  },
  {
   "cell_type": "code",
   "execution_count": 110,
   "id": "a8f63dad",
   "metadata": {},
   "outputs": [],
   "source": [
    "# Carreguem les dades\n",
    "dades_temporals = pd.read_csv('daily_covidMatrix.csv') \n",
    "dades_estatiques = pd.read_csv('static_stateMatrix.csv')\n",
    "clusters_targets = pd.read_csv('state_clusters_0.7-0.3.csv') "
   ]
  },
  {
   "cell_type": "code",
   "execution_count": 111,
   "id": "e0a9f860",
   "metadata": {},
   "outputs": [],
   "source": [
    "targets = {\n",
    "    'positiveIncrease': 'Cluster_positiveIncrease',\n",
    "    'hospitalizedIncrease': 'Cluster_hospitalizedIncrease',\n",
    "    'deathIncrease': 'Cluster_deathIncrease'\n",
    "}"
   ]
  },
  {
   "cell_type": "code",
   "execution_count": 112,
   "id": "f7246cab",
   "metadata": {},
   "outputs": [],
   "source": [
    "dades = pd.merge(dades_temporals, dades_estatiques, on='state', how='left')"
   ]
  },
  {
   "cell_type": "code",
   "execution_count": 113,
   "id": "71f25dc8",
   "metadata": {},
   "outputs": [
    {
     "name": "stderr",
     "output_type": "stream",
     "text": [
      "C:\\Users\\mibks\\AppData\\Local\\Packages\\PythonSoftwareFoundation.Python.3.10_qbz5n2kfra8p0\\LocalCache\\local-packages\\Python310\\site-packages\\sklearn\\preprocessing\\_encoders.py:972: FutureWarning: `sparse` was renamed to `sparse_output` in version 1.2 and will be removed in 1.4. `sparse_output` is ignored unless you leave `sparse` to its default value.\n",
      "  warnings.warn(\n"
     ]
    }
   ],
   "source": [
    "# Inicialitzem encoder per l'estat\n",
    "encoder = OneHotEncoder(sparse=False)\n",
    "states_encoded = encoder.fit_transform(dades[['state']])\n",
    "state_columns = encoder.get_feature_names_out(['state'])\n",
    "states_encoded_df = pd.DataFrame(states_encoded, columns=state_columns)\n",
    "\n",
    "dades = pd.concat([dades.reset_index(drop=True), states_encoded_df.reset_index(drop=True)], axis=1)\n"
   ]
  },
  {
   "cell_type": "code",
   "execution_count": 114,
   "id": "5df41cae",
   "metadata": {},
   "outputs": [],
   "source": [
    "altres_regressors = [\n",
    "    'no_coverage', 'bedsState_local_government','bedsNon_profit','bedsFor_profit',\n",
    "    'bedsTotal','population_state','pop_density_state', 'Low_SVI_CTGY',\n",
    "    'Moderate_Low_SVI_CTGY','Moderate_High_SVI_CTGY', 'Metro',\n",
    "    'private_coverage','public_coverage','labor_cov_diff','pop_60-69',\n",
    "    'pop_70-79','pop_80+'\n",
    "]\n",
    "#,'High_SVI_CTGY','Non-metro', 'pop_0-9', 'pop_10-19','pop_20-29','pop_30-39','pop_40-49','pop_50-59',\n",
    "\n"
   ]
  },
  {
   "cell_type": "code",
   "execution_count": 115,
   "id": "6e3e2dca",
   "metadata": {},
   "outputs": [],
   "source": [
    "# Dividir en train i test\n",
    "\n",
    "dades['date'] = pd.to_datetime(dades['date'])\n",
    "\n",
    "train = dades[dades['date'] < '2021-03-01']\n",
    "test = dades[dades['date'] >= '2021-03-01']"
   ]
  },
  {
   "cell_type": "markdown",
   "id": "cd3dea96",
   "metadata": {},
   "source": [
    "Entrenar els diferents models"
   ]
  },
  {
   "cell_type": "code",
   "execution_count": 116,
   "id": "c54a4adb",
   "metadata": {},
   "outputs": [
    {
     "name": "stderr",
     "output_type": "stream",
     "text": [
      "23:21:38 - cmdstanpy - INFO - Chain [1] start processing\n",
      "23:21:38 - cmdstanpy - INFO - Chain [1] done processing\n"
     ]
    },
    {
     "name": "stdout",
     "output_type": "stream",
     "text": [
      "Model entrenat i guardat per positiveIncrease, cluster 17\n"
     ]
    },
    {
     "name": "stderr",
     "output_type": "stream",
     "text": [
      "23:21:38 - cmdstanpy - INFO - Chain [1] start processing\n",
      "23:21:39 - cmdstanpy - INFO - Chain [1] done processing\n"
     ]
    },
    {
     "name": "stdout",
     "output_type": "stream",
     "text": [
      "Model entrenat i guardat per positiveIncrease, cluster 21\n"
     ]
    },
    {
     "name": "stderr",
     "output_type": "stream",
     "text": [
      "23:21:39 - cmdstanpy - INFO - Chain [1] start processing\n",
      "23:21:39 - cmdstanpy - INFO - Chain [1] done processing\n",
      "23:21:40 - cmdstanpy - INFO - Chain [1] start processing\n"
     ]
    },
    {
     "name": "stdout",
     "output_type": "stream",
     "text": [
      "Model entrenat i guardat per positiveIncrease, cluster 14\n"
     ]
    },
    {
     "name": "stderr",
     "output_type": "stream",
     "text": [
      "23:21:40 - cmdstanpy - INFO - Chain [1] done processing\n",
      "23:21:40 - cmdstanpy - ERROR - Chain [1] error: error during processing Operation not permitted\n",
      "Optimization terminated abnormally. Falling back to Newton.\n",
      "23:21:40 - cmdstanpy - INFO - Chain [1] start processing\n",
      "23:21:45 - cmdstanpy - INFO - Chain [1] done processing\n"
     ]
    },
    {
     "name": "stdout",
     "output_type": "stream",
     "text": [
      "Model entrenat i guardat per positiveIncrease, cluster 15\n"
     ]
    },
    {
     "name": "stderr",
     "output_type": "stream",
     "text": [
      "23:21:46 - cmdstanpy - INFO - Chain [1] start processing\n",
      "23:21:47 - cmdstanpy - INFO - Chain [1] done processing\n"
     ]
    },
    {
     "name": "stdout",
     "output_type": "stream",
     "text": [
      "Model entrenat i guardat per positiveIncrease, cluster 20\n"
     ]
    },
    {
     "name": "stderr",
     "output_type": "stream",
     "text": [
      "23:21:47 - cmdstanpy - INFO - Chain [1] start processing\n",
      "23:21:47 - cmdstanpy - INFO - Chain [1] done processing\n",
      "23:21:47 - cmdstanpy - ERROR - Chain [1] error: error during processing Operation not permitted\n",
      "Optimization terminated abnormally. Falling back to Newton.\n",
      "23:21:47 - cmdstanpy - INFO - Chain [1] start processing\n",
      "23:21:51 - cmdstanpy - INFO - Chain [1] done processing\n"
     ]
    },
    {
     "name": "stdout",
     "output_type": "stream",
     "text": [
      "Model entrenat i guardat per positiveIncrease, cluster 7\n"
     ]
    },
    {
     "name": "stderr",
     "output_type": "stream",
     "text": [
      "23:21:52 - cmdstanpy - INFO - Chain [1] start processing\n",
      "23:21:52 - cmdstanpy - INFO - Chain [1] done processing\n"
     ]
    },
    {
     "name": "stdout",
     "output_type": "stream",
     "text": [
      "Model entrenat i guardat per positiveIncrease, cluster 19\n"
     ]
    },
    {
     "name": "stderr",
     "output_type": "stream",
     "text": [
      "23:21:53 - cmdstanpy - INFO - Chain [1] start processing\n",
      "23:21:53 - cmdstanpy - INFO - Chain [1] done processing\n",
      "23:21:53 - cmdstanpy - ERROR - Chain [1] error: error during processing Operation not permitted\n",
      "Optimization terminated abnormally. Falling back to Newton.\n",
      "23:21:53 - cmdstanpy - INFO - Chain [1] start processing\n",
      "23:22:20 - cmdstanpy - INFO - Chain [1] done processing\n"
     ]
    },
    {
     "name": "stdout",
     "output_type": "stream",
     "text": [
      "Model entrenat i guardat per positiveIncrease, cluster 8\n"
     ]
    },
    {
     "name": "stderr",
     "output_type": "stream",
     "text": [
      "23:22:20 - cmdstanpy - INFO - Chain [1] start processing\n",
      "23:22:20 - cmdstanpy - INFO - Chain [1] done processing\n",
      "23:22:20 - cmdstanpy - INFO - Chain [1] start processing\n"
     ]
    },
    {
     "name": "stdout",
     "output_type": "stream",
     "text": [
      "Model entrenat i guardat per positiveIncrease, cluster 4\n"
     ]
    },
    {
     "name": "stderr",
     "output_type": "stream",
     "text": [
      "23:22:20 - cmdstanpy - INFO - Chain [1] done processing\n",
      "23:22:20 - cmdstanpy - ERROR - Chain [1] error: error during processing Operation not permitted\n",
      "Optimization terminated abnormally. Falling back to Newton.\n",
      "23:22:21 - cmdstanpy - INFO - Chain [1] start processing\n",
      "23:22:26 - cmdstanpy - INFO - Chain [1] done processing\n"
     ]
    },
    {
     "name": "stdout",
     "output_type": "stream",
     "text": [
      "Model entrenat i guardat per positiveIncrease, cluster 10\n"
     ]
    },
    {
     "name": "stderr",
     "output_type": "stream",
     "text": [
      "23:22:26 - cmdstanpy - INFO - Chain [1] start processing\n",
      "23:22:27 - cmdstanpy - INFO - Chain [1] done processing\n"
     ]
    },
    {
     "name": "stdout",
     "output_type": "stream",
     "text": [
      "Model entrenat i guardat per positiveIncrease, cluster 22\n"
     ]
    },
    {
     "name": "stderr",
     "output_type": "stream",
     "text": [
      "23:22:27 - cmdstanpy - INFO - Chain [1] start processing\n",
      "23:22:28 - cmdstanpy - INFO - Chain [1] done processing\n",
      "23:22:28 - cmdstanpy - INFO - Chain [1] start processing\n"
     ]
    },
    {
     "name": "stdout",
     "output_type": "stream",
     "text": [
      "Model entrenat i guardat per positiveIncrease, cluster 11\n"
     ]
    },
    {
     "name": "stderr",
     "output_type": "stream",
     "text": [
      "23:22:28 - cmdstanpy - INFO - Chain [1] done processing\n",
      "23:22:28 - cmdstanpy - ERROR - Chain [1] error: error during processing Operation not permitted\n",
      "Optimization terminated abnormally. Falling back to Newton.\n",
      "23:22:28 - cmdstanpy - INFO - Chain [1] start processing\n",
      "23:22:31 - cmdstanpy - INFO - Chain [1] done processing\n"
     ]
    },
    {
     "name": "stdout",
     "output_type": "stream",
     "text": [
      "Model entrenat i guardat per positiveIncrease, cluster 9\n"
     ]
    },
    {
     "name": "stderr",
     "output_type": "stream",
     "text": [
      "23:22:31 - cmdstanpy - INFO - Chain [1] start processing\n",
      "23:22:32 - cmdstanpy - INFO - Chain [1] done processing\n",
      "23:22:32 - cmdstanpy - INFO - Chain [1] start processing\n"
     ]
    },
    {
     "name": "stdout",
     "output_type": "stream",
     "text": [
      "Model entrenat i guardat per positiveIncrease, cluster 16\n"
     ]
    },
    {
     "name": "stderr",
     "output_type": "stream",
     "text": [
      "23:22:32 - cmdstanpy - INFO - Chain [1] done processing\n",
      "23:22:32 - cmdstanpy - ERROR - Chain [1] error: error during processing Operation not permitted\n",
      "Optimization terminated abnormally. Falling back to Newton.\n",
      "23:22:32 - cmdstanpy - INFO - Chain [1] start processing\n",
      "23:22:42 - cmdstanpy - INFO - Chain [1] done processing\n"
     ]
    },
    {
     "name": "stdout",
     "output_type": "stream",
     "text": [
      "Model entrenat i guardat per positiveIncrease, cluster 5\n"
     ]
    },
    {
     "name": "stderr",
     "output_type": "stream",
     "text": [
      "23:22:43 - cmdstanpy - INFO - Chain [1] start processing\n",
      "23:22:43 - cmdstanpy - INFO - Chain [1] done processing\n"
     ]
    },
    {
     "name": "stdout",
     "output_type": "stream",
     "text": [
      "Model entrenat i guardat per positiveIncrease, cluster 18\n"
     ]
    },
    {
     "name": "stderr",
     "output_type": "stream",
     "text": [
      "23:22:43 - cmdstanpy - INFO - Chain [1] start processing\n",
      "23:22:44 - cmdstanpy - INFO - Chain [1] done processing\n"
     ]
    },
    {
     "name": "stdout",
     "output_type": "stream",
     "text": [
      "Model entrenat i guardat per positiveIncrease, cluster 2\n"
     ]
    },
    {
     "name": "stderr",
     "output_type": "stream",
     "text": [
      "23:22:44 - cmdstanpy - INFO - Chain [1] start processing\n",
      "23:22:44 - cmdstanpy - INFO - Chain [1] done processing\n"
     ]
    },
    {
     "name": "stdout",
     "output_type": "stream",
     "text": [
      "Model entrenat i guardat per positiveIncrease, cluster 1\n"
     ]
    },
    {
     "name": "stderr",
     "output_type": "stream",
     "text": [
      "23:22:44 - cmdstanpy - INFO - Chain [1] start processing\n",
      "23:22:45 - cmdstanpy - INFO - Chain [1] done processing\n"
     ]
    },
    {
     "name": "stdout",
     "output_type": "stream",
     "text": [
      "Model entrenat i guardat per positiveIncrease, cluster 12\n"
     ]
    },
    {
     "name": "stderr",
     "output_type": "stream",
     "text": [
      "23:22:45 - cmdstanpy - INFO - Chain [1] start processing\n",
      "23:22:45 - cmdstanpy - INFO - Chain [1] done processing\n",
      "23:22:45 - cmdstanpy - ERROR - Chain [1] error: error during processing Operation not permitted\n",
      "Optimization terminated abnormally. Falling back to Newton.\n",
      "23:22:45 - cmdstanpy - INFO - Chain [1] start processing\n",
      "23:22:50 - cmdstanpy - INFO - Chain [1] done processing\n",
      "23:22:51 - cmdstanpy - INFO - Chain [1] start processing\n"
     ]
    },
    {
     "name": "stdout",
     "output_type": "stream",
     "text": [
      "Model entrenat i guardat per positiveIncrease, cluster 6\n"
     ]
    },
    {
     "name": "stderr",
     "output_type": "stream",
     "text": [
      "23:22:51 - cmdstanpy - INFO - Chain [1] done processing\n",
      "23:22:51 - cmdstanpy - ERROR - Chain [1] error: error during processing Operation not permitted\n",
      "Optimization terminated abnormally. Falling back to Newton.\n",
      "23:22:51 - cmdstanpy - INFO - Chain [1] start processing\n",
      "23:23:00 - cmdstanpy - INFO - Chain [1] done processing\n"
     ]
    },
    {
     "name": "stdout",
     "output_type": "stream",
     "text": [
      "Model entrenat i guardat per positiveIncrease, cluster 3\n"
     ]
    },
    {
     "name": "stderr",
     "output_type": "stream",
     "text": [
      "23:23:00 - cmdstanpy - INFO - Chain [1] start processing\n",
      "23:23:00 - cmdstanpy - INFO - Chain [1] done processing\n",
      "23:23:00 - cmdstanpy - ERROR - Chain [1] error: error during processing Operation not permitted\n",
      "Optimization terminated abnormally. Falling back to Newton.\n",
      "23:23:00 - cmdstanpy - INFO - Chain [1] start processing\n",
      "23:24:14 - cmdstanpy - INFO - Chain [1] done processing\n"
     ]
    },
    {
     "name": "stdout",
     "output_type": "stream",
     "text": [
      "Model entrenat i guardat per positiveIncrease, cluster 13\n"
     ]
    },
    {
     "name": "stderr",
     "output_type": "stream",
     "text": [
      "23:24:14 - cmdstanpy - INFO - Chain [1] start processing\n",
      "23:24:14 - cmdstanpy - INFO - Chain [1] done processing\n"
     ]
    },
    {
     "name": "stdout",
     "output_type": "stream",
     "text": [
      "Model entrenat i guardat per hospitalizedIncrease, cluster 10\n"
     ]
    },
    {
     "name": "stderr",
     "output_type": "stream",
     "text": [
      "23:24:15 - cmdstanpy - INFO - Chain [1] start processing\n",
      "23:24:15 - cmdstanpy - INFO - Chain [1] done processing\n"
     ]
    },
    {
     "name": "stdout",
     "output_type": "stream",
     "text": [
      "Model entrenat i guardat per hospitalizedIncrease, cluster 4\n"
     ]
    },
    {
     "name": "stderr",
     "output_type": "stream",
     "text": [
      "23:24:15 - cmdstanpy - INFO - Chain [1] start processing\n",
      "23:24:16 - cmdstanpy - INFO - Chain [1] done processing\n"
     ]
    },
    {
     "name": "stdout",
     "output_type": "stream",
     "text": [
      "Model entrenat i guardat per hospitalizedIncrease, cluster 3\n",
      "Model entrenat i guardat per hospitalizedIncrease, cluster 2\n"
     ]
    },
    {
     "name": "stderr",
     "output_type": "stream",
     "text": [
      "23:24:16 - cmdstanpy - INFO - Chain [1] start processing\n",
      "23:24:16 - cmdstanpy - INFO - Chain [1] done processing\n"
     ]
    },
    {
     "name": "stdout",
     "output_type": "stream",
     "text": [
      "Model entrenat i guardat per hospitalizedIncrease, cluster 8\n",
      "Model entrenat i guardat per hospitalizedIncrease, cluster 1\n"
     ]
    },
    {
     "name": "stderr",
     "output_type": "stream",
     "text": [
      "23:24:17 - cmdstanpy - INFO - Chain [1] start processing\n",
      "23:24:17 - cmdstanpy - INFO - Chain [1] done processing\n"
     ]
    },
    {
     "name": "stdout",
     "output_type": "stream",
     "text": [
      "Model entrenat i guardat per hospitalizedIncrease, cluster 9\n"
     ]
    },
    {
     "name": "stderr",
     "output_type": "stream",
     "text": [
      "23:24:17 - cmdstanpy - INFO - Chain [1] start processing\n",
      "23:24:17 - cmdstanpy - INFO - Chain [1] done processing\n",
      "23:24:17 - cmdstanpy - ERROR - Chain [1] error: error during processing Operation not permitted\n",
      "Optimization terminated abnormally. Falling back to Newton.\n",
      "23:24:17 - cmdstanpy - INFO - Chain [1] start processing\n",
      "23:24:21 - cmdstanpy - INFO - Chain [1] done processing\n"
     ]
    },
    {
     "name": "stdout",
     "output_type": "stream",
     "text": [
      "Model entrenat i guardat per hospitalizedIncrease, cluster 16\n"
     ]
    },
    {
     "name": "stderr",
     "output_type": "stream",
     "text": [
      "23:24:22 - cmdstanpy - INFO - Chain [1] start processing\n",
      "23:24:22 - cmdstanpy - INFO - Chain [1] done processing\n"
     ]
    },
    {
     "name": "stdout",
     "output_type": "stream",
     "text": [
      "Model entrenat i guardat per hospitalizedIncrease, cluster 5\n"
     ]
    },
    {
     "name": "stderr",
     "output_type": "stream",
     "text": [
      "23:24:23 - cmdstanpy - INFO - Chain [1] start processing\n",
      "23:24:23 - cmdstanpy - INFO - Chain [1] done processing\n"
     ]
    },
    {
     "name": "stdout",
     "output_type": "stream",
     "text": [
      "Model entrenat i guardat per hospitalizedIncrease, cluster 7\n"
     ]
    },
    {
     "name": "stderr",
     "output_type": "stream",
     "text": [
      "23:24:23 - cmdstanpy - INFO - Chain [1] start processing\n",
      "23:24:23 - cmdstanpy - INFO - Chain [1] done processing\n"
     ]
    },
    {
     "name": "stdout",
     "output_type": "stream",
     "text": [
      "Model entrenat i guardat per hospitalizedIncrease, cluster 6\n"
     ]
    },
    {
     "name": "stderr",
     "output_type": "stream",
     "text": [
      "23:24:24 - cmdstanpy - INFO - Chain [1] start processing\n",
      "23:24:24 - cmdstanpy - INFO - Chain [1] done processing\n"
     ]
    },
    {
     "name": "stdout",
     "output_type": "stream",
     "text": [
      "Model entrenat i guardat per hospitalizedIncrease, cluster 13\n"
     ]
    },
    {
     "name": "stderr",
     "output_type": "stream",
     "text": [
      "23:24:24 - cmdstanpy - INFO - Chain [1] start processing\n",
      "23:24:24 - cmdstanpy - INFO - Chain [1] done processing\n"
     ]
    },
    {
     "name": "stdout",
     "output_type": "stream",
     "text": [
      "Model entrenat i guardat per hospitalizedIncrease, cluster 12\n"
     ]
    },
    {
     "name": "stderr",
     "output_type": "stream",
     "text": [
      "23:24:25 - cmdstanpy - INFO - Chain [1] start processing\n",
      "23:24:25 - cmdstanpy - INFO - Chain [1] done processing\n",
      "23:24:25 - cmdstanpy - INFO - Chain [1] start processing\n"
     ]
    },
    {
     "name": "stdout",
     "output_type": "stream",
     "text": [
      "Model entrenat i guardat per hospitalizedIncrease, cluster 15\n"
     ]
    },
    {
     "name": "stderr",
     "output_type": "stream",
     "text": [
      "23:24:25 - cmdstanpy - INFO - Chain [1] done processing\n",
      "23:24:25 - cmdstanpy - ERROR - Chain [1] error: error during processing Operation not permitted\n",
      "Optimization terminated abnormally. Falling back to Newton.\n",
      "23:24:25 - cmdstanpy - INFO - Chain [1] start processing\n",
      "23:24:30 - cmdstanpy - INFO - Chain [1] done processing\n"
     ]
    },
    {
     "name": "stdout",
     "output_type": "stream",
     "text": [
      "Model entrenat i guardat per hospitalizedIncrease, cluster 11\n"
     ]
    },
    {
     "name": "stderr",
     "output_type": "stream",
     "text": [
      "23:24:30 - cmdstanpy - INFO - Chain [1] start processing\n",
      "23:24:30 - cmdstanpy - INFO - Chain [1] done processing\n",
      "23:24:30 - cmdstanpy - ERROR - Chain [1] error: error during processing Operation not permitted\n",
      "Optimization terminated abnormally. Falling back to Newton.\n",
      "23:24:30 - cmdstanpy - INFO - Chain [1] start processing\n",
      "23:26:03 - cmdstanpy - INFO - Chain [1] done processing\n"
     ]
    },
    {
     "name": "stdout",
     "output_type": "stream",
     "text": [
      "Model entrenat i guardat per hospitalizedIncrease, cluster 14\n"
     ]
    },
    {
     "name": "stderr",
     "output_type": "stream",
     "text": [
      "23:26:05 - cmdstanpy - INFO - Chain [1] start processing\n",
      "23:26:06 - cmdstanpy - INFO - Chain [1] done processing\n"
     ]
    },
    {
     "name": "stdout",
     "output_type": "stream",
     "text": [
      "Model entrenat i guardat per deathIncrease, cluster 12\n"
     ]
    },
    {
     "name": "stderr",
     "output_type": "stream",
     "text": [
      "23:26:07 - cmdstanpy - INFO - Chain [1] start processing\n",
      "23:26:07 - cmdstanpy - INFO - Chain [1] done processing\n"
     ]
    },
    {
     "name": "stdout",
     "output_type": "stream",
     "text": [
      "Model entrenat i guardat per deathIncrease, cluster 18\n"
     ]
    },
    {
     "name": "stderr",
     "output_type": "stream",
     "text": [
      "23:26:08 - cmdstanpy - INFO - Chain [1] start processing\n",
      "23:26:09 - cmdstanpy - INFO - Chain [1] done processing\n"
     ]
    },
    {
     "name": "stdout",
     "output_type": "stream",
     "text": [
      "Model entrenat i guardat per deathIncrease, cluster 10\n"
     ]
    },
    {
     "name": "stderr",
     "output_type": "stream",
     "text": [
      "23:26:10 - cmdstanpy - INFO - Chain [1] start processing\n",
      "23:26:11 - cmdstanpy - INFO - Chain [1] done processing\n"
     ]
    },
    {
     "name": "stdout",
     "output_type": "stream",
     "text": [
      "Model entrenat i guardat per deathIncrease, cluster 13\n"
     ]
    },
    {
     "name": "stderr",
     "output_type": "stream",
     "text": [
      "23:26:12 - cmdstanpy - INFO - Chain [1] start processing\n",
      "23:26:13 - cmdstanpy - INFO - Chain [1] done processing\n"
     ]
    },
    {
     "name": "stdout",
     "output_type": "stream",
     "text": [
      "Model entrenat i guardat per deathIncrease, cluster 7\n"
     ]
    },
    {
     "name": "stderr",
     "output_type": "stream",
     "text": [
      "23:26:14 - cmdstanpy - INFO - Chain [1] start processing\n",
      "23:26:16 - cmdstanpy - INFO - Chain [1] done processing\n"
     ]
    },
    {
     "name": "stdout",
     "output_type": "stream",
     "text": [
      "Model entrenat i guardat per deathIncrease, cluster 1\n"
     ]
    },
    {
     "name": "stderr",
     "output_type": "stream",
     "text": [
      "23:26:17 - cmdstanpy - INFO - Chain [1] start processing\n",
      "23:26:17 - cmdstanpy - INFO - Chain [1] done processing\n"
     ]
    },
    {
     "name": "stdout",
     "output_type": "stream",
     "text": [
      "Model entrenat i guardat per deathIncrease, cluster 3\n"
     ]
    },
    {
     "name": "stderr",
     "output_type": "stream",
     "text": [
      "23:26:18 - cmdstanpy - INFO - Chain [1] start processing\n",
      "23:26:19 - cmdstanpy - INFO - Chain [1] done processing\n"
     ]
    },
    {
     "name": "stdout",
     "output_type": "stream",
     "text": [
      "Model entrenat i guardat per deathIncrease, cluster 2\n"
     ]
    },
    {
     "name": "stderr",
     "output_type": "stream",
     "text": [
      "23:26:20 - cmdstanpy - INFO - Chain [1] start processing\n",
      "23:26:20 - cmdstanpy - INFO - Chain [1] done processing\n",
      "23:26:20 - cmdstanpy - ERROR - Chain [1] error: error during processing Operation not permitted\n",
      "Optimization terminated abnormally. Falling back to Newton.\n",
      "23:26:20 - cmdstanpy - INFO - Chain [1] start processing\n",
      "23:26:29 - cmdstanpy - INFO - Chain [1] done processing\n"
     ]
    },
    {
     "name": "stdout",
     "output_type": "stream",
     "text": [
      "Model entrenat i guardat per deathIncrease, cluster 16\n"
     ]
    },
    {
     "name": "stderr",
     "output_type": "stream",
     "text": [
      "23:26:30 - cmdstanpy - INFO - Chain [1] start processing\n",
      "23:26:31 - cmdstanpy - INFO - Chain [1] done processing\n"
     ]
    },
    {
     "name": "stdout",
     "output_type": "stream",
     "text": [
      "Model entrenat i guardat per deathIncrease, cluster 9\n"
     ]
    },
    {
     "name": "stderr",
     "output_type": "stream",
     "text": [
      "23:26:32 - cmdstanpy - INFO - Chain [1] start processing\n",
      "23:26:33 - cmdstanpy - INFO - Chain [1] done processing\n"
     ]
    },
    {
     "name": "stdout",
     "output_type": "stream",
     "text": [
      "Model entrenat i guardat per deathIncrease, cluster 6\n"
     ]
    },
    {
     "name": "stderr",
     "output_type": "stream",
     "text": [
      "23:26:34 - cmdstanpy - INFO - Chain [1] start processing\n",
      "23:26:34 - cmdstanpy - INFO - Chain [1] done processing\n"
     ]
    },
    {
     "name": "stdout",
     "output_type": "stream",
     "text": [
      "Model entrenat i guardat per deathIncrease, cluster 15\n"
     ]
    },
    {
     "name": "stderr",
     "output_type": "stream",
     "text": [
      "23:26:34 - cmdstanpy - INFO - Chain [1] start processing\n",
      "23:26:35 - cmdstanpy - INFO - Chain [1] done processing\n"
     ]
    },
    {
     "name": "stdout",
     "output_type": "stream",
     "text": [
      "Model entrenat i guardat per deathIncrease, cluster 17\n"
     ]
    },
    {
     "name": "stderr",
     "output_type": "stream",
     "text": [
      "23:26:35 - cmdstanpy - INFO - Chain [1] start processing\n",
      "23:26:36 - cmdstanpy - INFO - Chain [1] done processing\n"
     ]
    },
    {
     "name": "stdout",
     "output_type": "stream",
     "text": [
      "Model entrenat i guardat per deathIncrease, cluster 8\n"
     ]
    },
    {
     "name": "stderr",
     "output_type": "stream",
     "text": [
      "23:26:37 - cmdstanpy - INFO - Chain [1] start processing\n",
      "23:26:37 - cmdstanpy - INFO - Chain [1] done processing\n",
      "23:26:37 - cmdstanpy - ERROR - Chain [1] error: error during processing Operation not permitted\n",
      "Optimization terminated abnormally. Falling back to Newton.\n",
      "23:26:37 - cmdstanpy - INFO - Chain [1] start processing\n",
      "23:26:51 - cmdstanpy - INFO - Chain [1] done processing\n"
     ]
    },
    {
     "name": "stdout",
     "output_type": "stream",
     "text": [
      "Model entrenat i guardat per deathIncrease, cluster 5\n"
     ]
    },
    {
     "name": "stderr",
     "output_type": "stream",
     "text": [
      "23:26:52 - cmdstanpy - INFO - Chain [1] start processing\n",
      "23:26:52 - cmdstanpy - INFO - Chain [1] done processing\n"
     ]
    },
    {
     "name": "stdout",
     "output_type": "stream",
     "text": [
      "Model entrenat i guardat per deathIncrease, cluster 19\n"
     ]
    },
    {
     "name": "stderr",
     "output_type": "stream",
     "text": [
      "23:26:52 - cmdstanpy - INFO - Chain [1] start processing\n",
      "23:26:52 - cmdstanpy - INFO - Chain [1] done processing\n",
      "23:26:52 - cmdstanpy - ERROR - Chain [1] error: error during processing Operation not permitted\n",
      "Optimization terminated abnormally. Falling back to Newton.\n",
      "23:26:53 - cmdstanpy - INFO - Chain [1] start processing\n",
      "23:26:58 - cmdstanpy - INFO - Chain [1] done processing\n",
      "23:26:58 - cmdstanpy - INFO - Chain [1] start processing\n"
     ]
    },
    {
     "name": "stdout",
     "output_type": "stream",
     "text": [
      "Model entrenat i guardat per deathIncrease, cluster 4\n"
     ]
    },
    {
     "name": "stderr",
     "output_type": "stream",
     "text": [
      "23:26:58 - cmdstanpy - INFO - Chain [1] done processing\n",
      "23:26:58 - cmdstanpy - ERROR - Chain [1] error: error during processing Operation not permitted\n",
      "Optimization terminated abnormally. Falling back to Newton.\n",
      "23:26:58 - cmdstanpy - INFO - Chain [1] start processing\n",
      "23:27:01 - cmdstanpy - INFO - Chain [1] done processing\n"
     ]
    },
    {
     "name": "stdout",
     "output_type": "stream",
     "text": [
      "Model entrenat i guardat per deathIncrease, cluster 11\n"
     ]
    },
    {
     "name": "stderr",
     "output_type": "stream",
     "text": [
      "23:27:01 - cmdstanpy - INFO - Chain [1] start processing\n",
      "23:27:01 - cmdstanpy - INFO - Chain [1] done processing\n",
      "23:27:01 - cmdstanpy - ERROR - Chain [1] error: error during processing Operation not permitted\n",
      "Optimization terminated abnormally. Falling back to Newton.\n",
      "23:27:02 - cmdstanpy - INFO - Chain [1] start processing\n",
      "23:27:10 - cmdstanpy - INFO - Chain [1] done processing\n"
     ]
    },
    {
     "name": "stdout",
     "output_type": "stream",
     "text": [
      "Model entrenat i guardat per deathIncrease, cluster 14\n"
     ]
    },
    {
     "name": "stderr",
     "output_type": "stream",
     "text": [
      "23:27:10 - cmdstanpy - INFO - Chain [1] start processing\n",
      "23:27:10 - cmdstanpy - INFO - Chain [1] done processing\n",
      "23:27:10 - cmdstanpy - ERROR - Chain [1] error: error during processing Operation not permitted\n",
      "Optimization terminated abnormally. Falling back to Newton.\n",
      "23:27:10 - cmdstanpy - INFO - Chain [1] start processing\n",
      "23:28:52 - cmdstanpy - INFO - Chain [1] done processing\n"
     ]
    },
    {
     "name": "stdout",
     "output_type": "stream",
     "text": [
      "Model entrenat i guardat per deathIncrease, cluster 20\n"
     ]
    }
   ],
   "source": [
    "# Crear la carpeta per guardar els models\n",
    "os.makedirs('models_prophet', exist_ok=True)\n",
    "\n",
    "# Iterar per cada variable target\n",
    "for target_var, cluster_col in targets.items():\n",
    "    # Tots els clusters possibles per aquesta variable\n",
    "    clusters = clusters_targets[cluster_col].unique()\n",
    "    \n",
    "    for cluster in clusters:\n",
    "        # Estats que pertanyen a aquest cluster\n",
    "        estats_cluster = clusters_targets[clusters_targets[cluster_col] == cluster]['State'].unique()\n",
    "        \n",
    "        dades_cluster = train[train['state'].isin(estats_cluster)]      \n",
    "          \n",
    "        columns_model = ['date', target_var] + list(state_columns) + altres_regressors\n",
    "        df_prophet = dades_cluster[columns_model].rename(columns={'date': 'ds', target_var: 'y'})\n",
    "        \n",
    "        model = Prophet(\n",
    "            changepoint_prior_scale=0.05,\n",
    "            seasonality_prior_scale=10.0)\n",
    "        \n",
    "        regressors = list(state_columns) + altres_regressors              \n",
    "        for reg in regressors:\n",
    "            model.add_regressor(reg)\n",
    "\n",
    "        model.fit(df_prophet)\n",
    "            \n",
    "        model_filename = f'models_prophet/prophet_{target_var}_cluster{cluster}.pkl'\n",
    "        with open(model_filename, 'wb') as f:\n",
    "            pickle.dump(model, f)\n",
    "        \n",
    "        print(f\"Model entrenat i guardat per {target_var}, cluster {cluster}\")\n"
   ]
  },
  {
   "cell_type": "markdown",
   "id": "2bdf5f1a",
   "metadata": {},
   "source": [
    "Predir el test"
   ]
  },
  {
   "cell_type": "code",
   "execution_count": 117,
   "id": "4ca675e8",
   "metadata": {},
   "outputs": [],
   "source": [
    "metriques_totals = []\n",
    "\n",
    "# Iterar per cada target\n",
    "for target_var, cluster_col in targets.items():\n",
    "    # Tots els clusters possibles per aquest target\n",
    "    clusters = clusters_targets[cluster_col].unique()\n",
    "    \n",
    "    for cluster in clusters:\n",
    "        model_filename = f'models_prophet/prophet_{target_var}_cluster{cluster}.pkl'\n",
    "        \n",
    "        with open(model_filename, 'rb') as f:\n",
    "            model = pickle.load(f)\n",
    "        \n",
    "        estats_cluster = clusters_targets[clusters_targets[cluster_col] == cluster]['State'].unique()\n",
    "        \n",
    "        for estat in estats_cluster:\n",
    "            dades_estat = train[train['state'] == estat]\n",
    "            if dades_estat.empty:\n",
    "                continue\n",
    "            \n",
    "            columns_model = ['date', target_var] + list(state_columns) + altres_regressors\n",
    "            df_prophet = dades_estat[columns_model].rename(columns={'date': 'ds', target_var: 'y'})\n",
    "            df_prophet['ds'] = pd.to_datetime(df_prophet['ds'])\n",
    "            \n",
    "            # Última fila coneguda de regressors\n",
    "            regressors = list(state_columns) + altres_regressors\n",
    "            last_known = df_prophet[regressors].iloc[-1]\n",
    "            #print(estat)\n",
    "            \n",
    "\n",
    "            # Genera les dates futures (7 dies a partir de l'última data coneguda)\n",
    "            start_date = df_prophet['ds'].max() + timedelta(days=1)\n",
    "            future_dates = pd.date_range(start=start_date, periods=7, freq='D')\n",
    "            future = pd.DataFrame({'ds': future_dates})\n",
    "\n",
    "            # Repetir últims valors de regressors\n",
    "            future_states_df = pd.DataFrame([last_known.values] * 7, columns=regressors).reset_index(drop=True)\n",
    "            future = pd.concat([future, future_states_df], axis=1)\n",
    "            #print('------------------------------')\n",
    "            #print(future)\n",
    "            \n",
    "            # Predicció\n",
    "            forecast = model.predict(future)\n",
    "            #print('------------------')\n",
    "            #print(forecast)\n",
    "            prediccions = forecast[['ds', 'yhat']].copy()\n",
    "            prediccions['state'] = estat\n",
    "            prediccions['target'] = target_var\n",
    "            #print('------------------')\n",
    "            #print(prediccions)\n",
    "\n",
    "            # Comparació \n",
    "            test_estat = test[\n",
    "                (test['state'] == estat) &\n",
    "                (test['date'].isin(prediccions['ds']))\n",
    "            ]       \n",
    "                      \n",
    "            comparacio = pd.merge(prediccions, test_estat, left_on=['ds', 'state'], right_on=['date', 'state'])\n",
    "            \n",
    "            y_true = comparacio[target_var]\n",
    "            y_pred = comparacio['yhat']\n",
    "            \n",
    "            # Mètriques\n",
    "            mae = mean_absolute_error(y_true, y_pred)\n",
    "            mse = mean_squared_error(y_true, y_pred)\n",
    "            rmse = np.sqrt(mse)\n",
    "            r2 = r2_score(y_true, y_pred)\n",
    "           \n",
    "            metriques_totals.append({\n",
    "                'target': target_var,\n",
    "                'state': estat,\n",
    "                'cluster': cluster,\n",
    "                'MAE': mae,\n",
    "                'MSE': mse,\n",
    "                'R2': r2\n",
    "            })\n",
    "                \n",
    "df_metriques = pd.DataFrame(metriques_totals)\n",
    "\n"
   ]
  },
  {
   "cell_type": "code",
   "execution_count": 118,
   "id": "7d323064",
   "metadata": {},
   "outputs": [
    {
     "data": {
      "text/html": [
       "<div>\n",
       "<style scoped>\n",
       "    .dataframe tbody tr th:only-of-type {\n",
       "        vertical-align: middle;\n",
       "    }\n",
       "\n",
       "    .dataframe tbody tr th {\n",
       "        vertical-align: top;\n",
       "    }\n",
       "\n",
       "    .dataframe thead th {\n",
       "        text-align: right;\n",
       "    }\n",
       "</style>\n",
       "<table border=\"1\" class=\"dataframe\">\n",
       "  <thead>\n",
       "    <tr style=\"text-align: right;\">\n",
       "      <th></th>\n",
       "      <th>model</th>\n",
       "      <th>mitjana_MAE</th>\n",
       "      <th>mitjana_MSE</th>\n",
       "      <th>mitjana_R2</th>\n",
       "      <th>millor_MAE</th>\n",
       "      <th>millor_MSE</th>\n",
       "      <th>millor_R2</th>\n",
       "      <th>pitjor_MAE</th>\n",
       "      <th>pitjor_MSE</th>\n",
       "      <th>pitjor_R2</th>\n",
       "    </tr>\n",
       "  </thead>\n",
       "  <tbody>\n",
       "    <tr>\n",
       "      <th>0</th>\n",
       "      <td>deathIncrease_cluster1</td>\n",
       "      <td>33.641582</td>\n",
       "      <td>1.331696e+03</td>\n",
       "      <td>-4.389769</td>\n",
       "      <td>24.711521</td>\n",
       "      <td>7.497009e+02</td>\n",
       "      <td>-0.812834</td>\n",
       "      <td>46.142955</td>\n",
       "      <td>2.218391e+03</td>\n",
       "      <td>-9.643581</td>\n",
       "    </tr>\n",
       "    <tr>\n",
       "      <th>1</th>\n",
       "      <td>deathIncrease_cluster10</td>\n",
       "      <td>12.695371</td>\n",
       "      <td>2.107473e+02</td>\n",
       "      <td>-3.610056</td>\n",
       "      <td>11.369993</td>\n",
       "      <td>1.715329e+02</td>\n",
       "      <td>0.000106</td>\n",
       "      <td>14.020749</td>\n",
       "      <td>2.499617e+02</td>\n",
       "      <td>-7.220217</td>\n",
       "    </tr>\n",
       "    <tr>\n",
       "      <th>2</th>\n",
       "      <td>deathIncrease_cluster11</td>\n",
       "      <td>56.077193</td>\n",
       "      <td>5.947148e+03</td>\n",
       "      <td>0.342833</td>\n",
       "      <td>56.077193</td>\n",
       "      <td>5.947148e+03</td>\n",
       "      <td>0.342833</td>\n",
       "      <td>56.077193</td>\n",
       "      <td>5.947148e+03</td>\n",
       "      <td>0.342833</td>\n",
       "    </tr>\n",
       "    <tr>\n",
       "      <th>3</th>\n",
       "      <td>deathIncrease_cluster12</td>\n",
       "      <td>53.787953</td>\n",
       "      <td>3.451689e+03</td>\n",
       "      <td>-22.916847</td>\n",
       "      <td>31.140102</td>\n",
       "      <td>1.806262e+03</td>\n",
       "      <td>0.028998</td>\n",
       "      <td>65.592248</td>\n",
       "      <td>4.344751e+03</td>\n",
       "      <td>-76.641425</td>\n",
       "    </tr>\n",
       "    <tr>\n",
       "      <th>4</th>\n",
       "      <td>deathIncrease_cluster13</td>\n",
       "      <td>151.318958</td>\n",
       "      <td>2.917965e+04</td>\n",
       "      <td>-34.493661</td>\n",
       "      <td>88.138360</td>\n",
       "      <td>1.063126e+04</td>\n",
       "      <td>-1.198767</td>\n",
       "      <td>214.499556</td>\n",
       "      <td>4.772803e+04</td>\n",
       "      <td>-67.788555</td>\n",
       "    </tr>\n",
       "    <tr>\n",
       "      <th>5</th>\n",
       "      <td>deathIncrease_cluster14</td>\n",
       "      <td>87.664621</td>\n",
       "      <td>1.779077e+04</td>\n",
       "      <td>-0.381319</td>\n",
       "      <td>87.664621</td>\n",
       "      <td>1.779077e+04</td>\n",
       "      <td>-0.381319</td>\n",
       "      <td>87.664621</td>\n",
       "      <td>1.779077e+04</td>\n",
       "      <td>-0.381319</td>\n",
       "    </tr>\n",
       "    <tr>\n",
       "      <th>6</th>\n",
       "      <td>deathIncrease_cluster15</td>\n",
       "      <td>140.125759</td>\n",
       "      <td>2.474822e+04</td>\n",
       "      <td>-69.317871</td>\n",
       "      <td>103.384538</td>\n",
       "      <td>1.083094e+04</td>\n",
       "      <td>-0.193761</td>\n",
       "      <td>176.866979</td>\n",
       "      <td>3.866549e+04</td>\n",
       "      <td>-138.441982</td>\n",
       "    </tr>\n",
       "    <tr>\n",
       "      <th>7</th>\n",
       "      <td>deathIncrease_cluster16</td>\n",
       "      <td>1.729979</td>\n",
       "      <td>3.661098e+00</td>\n",
       "      <td>-4.276288</td>\n",
       "      <td>1.729979</td>\n",
       "      <td>3.661098e+00</td>\n",
       "      <td>-4.276288</td>\n",
       "      <td>1.729979</td>\n",
       "      <td>3.661098e+00</td>\n",
       "      <td>-4.276288</td>\n",
       "    </tr>\n",
       "    <tr>\n",
       "      <th>8</th>\n",
       "      <td>deathIncrease_cluster17</td>\n",
       "      <td>11.008761</td>\n",
       "      <td>1.518950e+02</td>\n",
       "      <td>-40.259618</td>\n",
       "      <td>8.994545</td>\n",
       "      <td>8.935463e+01</td>\n",
       "      <td>-0.438179</td>\n",
       "      <td>13.022977</td>\n",
       "      <td>2.144354e+02</td>\n",
       "      <td>-80.081058</td>\n",
       "    </tr>\n",
       "    <tr>\n",
       "      <th>9</th>\n",
       "      <td>deathIncrease_cluster18</td>\n",
       "      <td>32.969776</td>\n",
       "      <td>2.084202e+03</td>\n",
       "      <td>-9.788283</td>\n",
       "      <td>16.436543</td>\n",
       "      <td>3.297783e+02</td>\n",
       "      <td>0.092427</td>\n",
       "      <td>53.054857</td>\n",
       "      <td>4.996281e+03</td>\n",
       "      <td>-29.035567</td>\n",
       "    </tr>\n",
       "    <tr>\n",
       "      <th>10</th>\n",
       "      <td>deathIncrease_cluster19</td>\n",
       "      <td>2.694999</td>\n",
       "      <td>2.097359e+01</td>\n",
       "      <td>-1.079582</td>\n",
       "      <td>1.613789</td>\n",
       "      <td>3.913254e+00</td>\n",
       "      <td>0.106900</td>\n",
       "      <td>3.628760</td>\n",
       "      <td>4.053578e+01</td>\n",
       "      <td>-3.751476</td>\n",
       "    </tr>\n",
       "    <tr>\n",
       "      <th>11</th>\n",
       "      <td>deathIncrease_cluster2</td>\n",
       "      <td>42.965080</td>\n",
       "      <td>2.157241e+03</td>\n",
       "      <td>-208.122048</td>\n",
       "      <td>28.548827</td>\n",
       "      <td>8.332586e+02</td>\n",
       "      <td>-24.651114</td>\n",
       "      <td>57.381334</td>\n",
       "      <td>3.481223e+03</td>\n",
       "      <td>-391.592982</td>\n",
       "    </tr>\n",
       "    <tr>\n",
       "      <th>12</th>\n",
       "      <td>deathIncrease_cluster20</td>\n",
       "      <td>4.110051</td>\n",
       "      <td>1.818244e+01</td>\n",
       "      <td>-0.227189</td>\n",
       "      <td>4.110051</td>\n",
       "      <td>1.818244e+01</td>\n",
       "      <td>-0.227189</td>\n",
       "      <td>4.110051</td>\n",
       "      <td>1.818244e+01</td>\n",
       "      <td>-0.227189</td>\n",
       "    </tr>\n",
       "    <tr>\n",
       "      <th>13</th>\n",
       "      <td>deathIncrease_cluster3</td>\n",
       "      <td>10.138163</td>\n",
       "      <td>1.322747e+02</td>\n",
       "      <td>-2.127590</td>\n",
       "      <td>7.992998</td>\n",
       "      <td>7.761997e+01</td>\n",
       "      <td>-1.358276</td>\n",
       "      <td>12.283329</td>\n",
       "      <td>1.869295e+02</td>\n",
       "      <td>-2.896904</td>\n",
       "    </tr>\n",
       "    <tr>\n",
       "      <th>14</th>\n",
       "      <td>deathIncrease_cluster4</td>\n",
       "      <td>10.306896</td>\n",
       "      <td>1.103381e+02</td>\n",
       "      <td>-11.176952</td>\n",
       "      <td>10.306896</td>\n",
       "      <td>1.103381e+02</td>\n",
       "      <td>-11.176952</td>\n",
       "      <td>10.306896</td>\n",
       "      <td>1.103381e+02</td>\n",
       "      <td>-11.176952</td>\n",
       "    </tr>\n",
       "    <tr>\n",
       "      <th>15</th>\n",
       "      <td>deathIncrease_cluster5</td>\n",
       "      <td>13.994271</td>\n",
       "      <td>2.288273e+02</td>\n",
       "      <td>-1.464294</td>\n",
       "      <td>13.994271</td>\n",
       "      <td>2.288273e+02</td>\n",
       "      <td>-1.464294</td>\n",
       "      <td>13.994271</td>\n",
       "      <td>2.288273e+02</td>\n",
       "      <td>-1.464294</td>\n",
       "    </tr>\n",
       "    <tr>\n",
       "      <th>16</th>\n",
       "      <td>deathIncrease_cluster6</td>\n",
       "      <td>22.813771</td>\n",
       "      <td>6.492913e+02</td>\n",
       "      <td>-4.149001</td>\n",
       "      <td>18.290235</td>\n",
       "      <td>4.466826e+02</td>\n",
       "      <td>-0.485811</td>\n",
       "      <td>26.819060</td>\n",
       "      <td>8.026784e+02</td>\n",
       "      <td>-9.237347</td>\n",
       "    </tr>\n",
       "    <tr>\n",
       "      <th>17</th>\n",
       "      <td>deathIncrease_cluster7</td>\n",
       "      <td>10.072322</td>\n",
       "      <td>1.834040e+02</td>\n",
       "      <td>-75.342025</td>\n",
       "      <td>5.740662</td>\n",
       "      <td>5.900686e+01</td>\n",
       "      <td>-0.511061</td>\n",
       "      <td>21.371605</td>\n",
       "      <td>5.357175e+02</td>\n",
       "      <td>-282.003919</td>\n",
       "    </tr>\n",
       "    <tr>\n",
       "      <th>18</th>\n",
       "      <td>deathIncrease_cluster8</td>\n",
       "      <td>25.912457</td>\n",
       "      <td>8.155211e+02</td>\n",
       "      <td>-23.356174</td>\n",
       "      <td>16.081921</td>\n",
       "      <td>2.693033e+02</td>\n",
       "      <td>-0.266106</td>\n",
       "      <td>37.957306</td>\n",
       "      <td>1.556512e+03</td>\n",
       "      <td>-65.963894</td>\n",
       "    </tr>\n",
       "    <tr>\n",
       "      <th>19</th>\n",
       "      <td>deathIncrease_cluster9</td>\n",
       "      <td>6.317267</td>\n",
       "      <td>7.474866e+01</td>\n",
       "      <td>-0.457137</td>\n",
       "      <td>3.099697</td>\n",
       "      <td>1.252637e+01</td>\n",
       "      <td>0.254040</td>\n",
       "      <td>10.005142</td>\n",
       "      <td>1.936647e+02</td>\n",
       "      <td>-1.029803</td>\n",
       "    </tr>\n",
       "    <tr>\n",
       "      <th>20</th>\n",
       "      <td>hospitalizedIncrease_cluster1</td>\n",
       "      <td>0.000000</td>\n",
       "      <td>0.000000e+00</td>\n",
       "      <td>1.000000</td>\n",
       "      <td>0.000000</td>\n",
       "      <td>0.000000e+00</td>\n",
       "      <td>1.000000</td>\n",
       "      <td>0.000000</td>\n",
       "      <td>0.000000e+00</td>\n",
       "      <td>1.000000</td>\n",
       "    </tr>\n",
       "    <tr>\n",
       "      <th>21</th>\n",
       "      <td>hospitalizedIncrease_cluster10</td>\n",
       "      <td>215.173402</td>\n",
       "      <td>5.060516e+04</td>\n",
       "      <td>-26.104201</td>\n",
       "      <td>181.228566</td>\n",
       "      <td>3.656307e+04</td>\n",
       "      <td>-4.778318</td>\n",
       "      <td>249.118239</td>\n",
       "      <td>6.464724e+04</td>\n",
       "      <td>-47.430085</td>\n",
       "    </tr>\n",
       "    <tr>\n",
       "      <th>22</th>\n",
       "      <td>hospitalizedIncrease_cluster11</td>\n",
       "      <td>2.260574</td>\n",
       "      <td>7.490735e+00</td>\n",
       "      <td>-0.952372</td>\n",
       "      <td>2.260574</td>\n",
       "      <td>7.490735e+00</td>\n",
       "      <td>-0.952372</td>\n",
       "      <td>2.260574</td>\n",
       "      <td>7.490735e+00</td>\n",
       "      <td>-0.952372</td>\n",
       "    </tr>\n",
       "    <tr>\n",
       "      <th>23</th>\n",
       "      <td>hospitalizedIncrease_cluster12</td>\n",
       "      <td>56.491499</td>\n",
       "      <td>4.846430e+03</td>\n",
       "      <td>-2.011802</td>\n",
       "      <td>28.801721</td>\n",
       "      <td>1.077255e+03</td>\n",
       "      <td>0.027642</td>\n",
       "      <td>84.181277</td>\n",
       "      <td>8.615605e+03</td>\n",
       "      <td>-4.051245</td>\n",
       "    </tr>\n",
       "    <tr>\n",
       "      <th>24</th>\n",
       "      <td>hospitalizedIncrease_cluster13</td>\n",
       "      <td>33.886479</td>\n",
       "      <td>2.151261e+03</td>\n",
       "      <td>-0.006887</td>\n",
       "      <td>17.940451</td>\n",
       "      <td>3.477908e+02</td>\n",
       "      <td>0.421647</td>\n",
       "      <td>49.832506</td>\n",
       "      <td>3.954732e+03</td>\n",
       "      <td>-0.435421</td>\n",
       "    </tr>\n",
       "    <tr>\n",
       "      <th>25</th>\n",
       "      <td>hospitalizedIncrease_cluster14</td>\n",
       "      <td>5.302963</td>\n",
       "      <td>2.941345e+01</td>\n",
       "      <td>-26.716520</td>\n",
       "      <td>5.302963</td>\n",
       "      <td>2.941345e+01</td>\n",
       "      <td>-26.716520</td>\n",
       "      <td>5.302963</td>\n",
       "      <td>2.941345e+01</td>\n",
       "      <td>-26.716520</td>\n",
       "    </tr>\n",
       "    <tr>\n",
       "      <th>26</th>\n",
       "      <td>hospitalizedIncrease_cluster15</td>\n",
       "      <td>7.300058</td>\n",
       "      <td>7.093104e+01</td>\n",
       "      <td>-4.882735</td>\n",
       "      <td>6.303158</td>\n",
       "      <td>5.058715e+01</td>\n",
       "      <td>-1.969546</td>\n",
       "      <td>8.503863</td>\n",
       "      <td>9.587390e+01</td>\n",
       "      <td>-8.113126</td>\n",
       "    </tr>\n",
       "    <tr>\n",
       "      <th>27</th>\n",
       "      <td>hospitalizedIncrease_cluster16</td>\n",
       "      <td>7.905951</td>\n",
       "      <td>7.002042e+01</td>\n",
       "      <td>-2.907745</td>\n",
       "      <td>7.905951</td>\n",
       "      <td>7.002042e+01</td>\n",
       "      <td>-2.907745</td>\n",
       "      <td>7.905951</td>\n",
       "      <td>7.002042e+01</td>\n",
       "      <td>-2.907745</td>\n",
       "    </tr>\n",
       "    <tr>\n",
       "      <th>28</th>\n",
       "      <td>hospitalizedIncrease_cluster2</td>\n",
       "      <td>0.000000</td>\n",
       "      <td>0.000000e+00</td>\n",
       "      <td>1.000000</td>\n",
       "      <td>0.000000</td>\n",
       "      <td>0.000000e+00</td>\n",
       "      <td>1.000000</td>\n",
       "      <td>0.000000</td>\n",
       "      <td>0.000000e+00</td>\n",
       "      <td>1.000000</td>\n",
       "    </tr>\n",
       "    <tr>\n",
       "      <th>29</th>\n",
       "      <td>hospitalizedIncrease_cluster3</td>\n",
       "      <td>42.769855</td>\n",
       "      <td>2.436505e+03</td>\n",
       "      <td>-4.639696</td>\n",
       "      <td>24.376721</td>\n",
       "      <td>1.043538e+03</td>\n",
       "      <td>-0.265364</td>\n",
       "      <td>68.878502</td>\n",
       "      <td>5.541966e+03</td>\n",
       "      <td>-16.088163</td>\n",
       "    </tr>\n",
       "    <tr>\n",
       "      <th>30</th>\n",
       "      <td>hospitalizedIncrease_cluster4</td>\n",
       "      <td>16.437015</td>\n",
       "      <td>4.787500e+02</td>\n",
       "      <td>-7.495656</td>\n",
       "      <td>6.222701</td>\n",
       "      <td>6.489362e+01</td>\n",
       "      <td>0.774866</td>\n",
       "      <td>28.144702</td>\n",
       "      <td>1.183086e+03</td>\n",
       "      <td>-30.175343</td>\n",
       "    </tr>\n",
       "    <tr>\n",
       "      <th>31</th>\n",
       "      <td>hospitalizedIncrease_cluster5</td>\n",
       "      <td>22.407909</td>\n",
       "      <td>9.666964e+02</td>\n",
       "      <td>-9.063252</td>\n",
       "      <td>7.488081</td>\n",
       "      <td>6.762382e+01</td>\n",
       "      <td>0.620960</td>\n",
       "      <td>35.439247</td>\n",
       "      <td>2.160561e+03</td>\n",
       "      <td>-61.431543</td>\n",
       "    </tr>\n",
       "    <tr>\n",
       "      <th>32</th>\n",
       "      <td>hospitalizedIncrease_cluster6</td>\n",
       "      <td>1.880409</td>\n",
       "      <td>6.969093e+00</td>\n",
       "      <td>0.000000</td>\n",
       "      <td>1.875944</td>\n",
       "      <td>6.968016e+00</td>\n",
       "      <td>0.000000</td>\n",
       "      <td>1.882779</td>\n",
       "      <td>6.971131e+00</td>\n",
       "      <td>0.000000</td>\n",
       "    </tr>\n",
       "    <tr>\n",
       "      <th>33</th>\n",
       "      <td>hospitalizedIncrease_cluster7</td>\n",
       "      <td>112.727555</td>\n",
       "      <td>7.301214e+04</td>\n",
       "      <td>-5.241497</td>\n",
       "      <td>21.343872</td>\n",
       "      <td>6.255158e+02</td>\n",
       "      <td>0.043853</td>\n",
       "      <td>331.137529</td>\n",
       "      <td>2.830771e+05</td>\n",
       "      <td>-15.435601</td>\n",
       "    </tr>\n",
       "    <tr>\n",
       "      <th>34</th>\n",
       "      <td>hospitalizedIncrease_cluster8</td>\n",
       "      <td>247.612398</td>\n",
       "      <td>6.260472e+04</td>\n",
       "      <td>0.000000</td>\n",
       "      <td>247.612398</td>\n",
       "      <td>6.260472e+04</td>\n",
       "      <td>0.000000</td>\n",
       "      <td>247.612398</td>\n",
       "      <td>6.260472e+04</td>\n",
       "      <td>0.000000</td>\n",
       "    </tr>\n",
       "    <tr>\n",
       "      <th>35</th>\n",
       "      <td>hospitalizedIncrease_cluster9</td>\n",
       "      <td>56.296887</td>\n",
       "      <td>5.252495e+03</td>\n",
       "      <td>-6.737213</td>\n",
       "      <td>46.001764</td>\n",
       "      <td>4.562748e+03</td>\n",
       "      <td>0.512697</td>\n",
       "      <td>66.592010</td>\n",
       "      <td>5.942241e+03</td>\n",
       "      <td>-13.987123</td>\n",
       "    </tr>\n",
       "    <tr>\n",
       "      <th>36</th>\n",
       "      <td>positiveIncrease_cluster1</td>\n",
       "      <td>520.638506</td>\n",
       "      <td>3.198945e+05</td>\n",
       "      <td>-1.765566</td>\n",
       "      <td>465.337816</td>\n",
       "      <td>2.285356e+05</td>\n",
       "      <td>0.401699</td>\n",
       "      <td>575.939196</td>\n",
       "      <td>4.112535e+05</td>\n",
       "      <td>-3.932830</td>\n",
       "    </tr>\n",
       "    <tr>\n",
       "      <th>37</th>\n",
       "      <td>positiveIncrease_cluster10</td>\n",
       "      <td>49.668278</td>\n",
       "      <td>2.828633e+03</td>\n",
       "      <td>-2.944758</td>\n",
       "      <td>49.668278</td>\n",
       "      <td>2.828633e+03</td>\n",
       "      <td>-2.944758</td>\n",
       "      <td>49.668278</td>\n",
       "      <td>2.828633e+03</td>\n",
       "      <td>-2.944758</td>\n",
       "    </tr>\n",
       "    <tr>\n",
       "      <th>38</th>\n",
       "      <td>positiveIncrease_cluster11</td>\n",
       "      <td>596.465685</td>\n",
       "      <td>4.567108e+05</td>\n",
       "      <td>-89.543296</td>\n",
       "      <td>74.289413</td>\n",
       "      <td>8.063895e+03</td>\n",
       "      <td>0.756952</td>\n",
       "      <td>942.995375</td>\n",
       "      <td>8.935362e+05</td>\n",
       "      <td>-314.532384</td>\n",
       "    </tr>\n",
       "    <tr>\n",
       "      <th>39</th>\n",
       "      <td>positiveIncrease_cluster12</td>\n",
       "      <td>200.193719</td>\n",
       "      <td>4.242745e+04</td>\n",
       "      <td>-24.582422</td>\n",
       "      <td>176.338262</td>\n",
       "      <td>3.217920e+04</td>\n",
       "      <td>-15.546846</td>\n",
       "      <td>224.049176</td>\n",
       "      <td>5.267570e+04</td>\n",
       "      <td>-33.617999</td>\n",
       "    </tr>\n",
       "    <tr>\n",
       "      <th>40</th>\n",
       "      <td>positiveIncrease_cluster13</td>\n",
       "      <td>22.703810</td>\n",
       "      <td>8.070102e+02</td>\n",
       "      <td>0.329953</td>\n",
       "      <td>22.703810</td>\n",
       "      <td>8.070102e+02</td>\n",
       "      <td>0.329953</td>\n",
       "      <td>22.703810</td>\n",
       "      <td>8.070102e+02</td>\n",
       "      <td>0.329953</td>\n",
       "    </tr>\n",
       "    <tr>\n",
       "      <th>41</th>\n",
       "      <td>positiveIncrease_cluster14</td>\n",
       "      <td>1676.054835</td>\n",
       "      <td>3.200394e+06</td>\n",
       "      <td>-15.337452</td>\n",
       "      <td>1283.575025</td>\n",
       "      <td>1.717825e+06</td>\n",
       "      <td>-2.463355</td>\n",
       "      <td>2022.101412</td>\n",
       "      <td>4.186155e+06</td>\n",
       "      <td>-23.458229</td>\n",
       "    </tr>\n",
       "    <tr>\n",
       "      <th>42</th>\n",
       "      <td>positiveIncrease_cluster15</td>\n",
       "      <td>10690.108003</td>\n",
       "      <td>1.144023e+08</td>\n",
       "      <td>-261.283637</td>\n",
       "      <td>10690.108003</td>\n",
       "      <td>1.144023e+08</td>\n",
       "      <td>-261.283637</td>\n",
       "      <td>10690.108003</td>\n",
       "      <td>1.144023e+08</td>\n",
       "      <td>-261.283637</td>\n",
       "    </tr>\n",
       "    <tr>\n",
       "      <th>43</th>\n",
       "      <td>positiveIncrease_cluster16</td>\n",
       "      <td>390.888015</td>\n",
       "      <td>2.928498e+05</td>\n",
       "      <td>-0.506474</td>\n",
       "      <td>222.817049</td>\n",
       "      <td>6.757925e+04</td>\n",
       "      <td>0.268756</td>\n",
       "      <td>704.513821</td>\n",
       "      <td>7.248300e+05</td>\n",
       "      <td>-1.376718</td>\n",
       "    </tr>\n",
       "    <tr>\n",
       "      <th>44</th>\n",
       "      <td>positiveIncrease_cluster17</td>\n",
       "      <td>229.758080</td>\n",
       "      <td>1.476416e+05</td>\n",
       "      <td>-0.061024</td>\n",
       "      <td>105.683483</td>\n",
       "      <td>1.348583e+04</td>\n",
       "      <td>0.343855</td>\n",
       "      <td>486.641154</td>\n",
       "      <td>4.809304e+05</td>\n",
       "      <td>-0.810641</td>\n",
       "    </tr>\n",
       "    <tr>\n",
       "      <th>45</th>\n",
       "      <td>positiveIncrease_cluster18</td>\n",
       "      <td>89.699767</td>\n",
       "      <td>9.965823e+03</td>\n",
       "      <td>-6.909973</td>\n",
       "      <td>66.968243</td>\n",
       "      <td>5.792660e+03</td>\n",
       "      <td>-4.981126</td>\n",
       "      <td>112.431291</td>\n",
       "      <td>1.413899e+04</td>\n",
       "      <td>-8.838819</td>\n",
       "    </tr>\n",
       "    <tr>\n",
       "      <th>46</th>\n",
       "      <td>positiveIncrease_cluster19</td>\n",
       "      <td>427.539855</td>\n",
       "      <td>2.098726e+05</td>\n",
       "      <td>-17.431298</td>\n",
       "      <td>309.309725</td>\n",
       "      <td>9.963035e+04</td>\n",
       "      <td>-6.679995</td>\n",
       "      <td>605.700470</td>\n",
       "      <td>3.814910e+05</td>\n",
       "      <td>-38.950632</td>\n",
       "    </tr>\n",
       "    <tr>\n",
       "      <th>47</th>\n",
       "      <td>positiveIncrease_cluster2</td>\n",
       "      <td>1584.763740</td>\n",
       "      <td>3.464864e+06</td>\n",
       "      <td>-13.279743</td>\n",
       "      <td>633.131171</td>\n",
       "      <td>6.776115e+05</td>\n",
       "      <td>0.295932</td>\n",
       "      <td>2741.599965</td>\n",
       "      <td>7.711269e+06</td>\n",
       "      <td>-28.752802</td>\n",
       "    </tr>\n",
       "    <tr>\n",
       "      <th>48</th>\n",
       "      <td>positiveIncrease_cluster20</td>\n",
       "      <td>866.928404</td>\n",
       "      <td>1.038198e+06</td>\n",
       "      <td>-7.276794</td>\n",
       "      <td>365.526843</td>\n",
       "      <td>2.063163e+05</td>\n",
       "      <td>0.032861</td>\n",
       "      <td>1401.184647</td>\n",
       "      <td>2.055252e+06</td>\n",
       "      <td>-20.778533</td>\n",
       "    </tr>\n",
       "    <tr>\n",
       "      <th>49</th>\n",
       "      <td>positiveIncrease_cluster21</td>\n",
       "      <td>288.049400</td>\n",
       "      <td>1.482434e+05</td>\n",
       "      <td>-1.490110</td>\n",
       "      <td>127.747059</td>\n",
       "      <td>3.328237e+04</td>\n",
       "      <td>-1.280197</td>\n",
       "      <td>448.351740</td>\n",
       "      <td>2.632043e+05</td>\n",
       "      <td>-1.700024</td>\n",
       "    </tr>\n",
       "    <tr>\n",
       "      <th>50</th>\n",
       "      <td>positiveIncrease_cluster22</td>\n",
       "      <td>460.339463</td>\n",
       "      <td>2.460943e+05</td>\n",
       "      <td>-40.312220</td>\n",
       "      <td>250.495585</td>\n",
       "      <td>6.996782e+04</td>\n",
       "      <td>-0.487082</td>\n",
       "      <td>594.311435</td>\n",
       "      <td>3.600402e+05</td>\n",
       "      <td>-85.302570</td>\n",
       "    </tr>\n",
       "    <tr>\n",
       "      <th>51</th>\n",
       "      <td>positiveIncrease_cluster3</td>\n",
       "      <td>39.816082</td>\n",
       "      <td>1.836618e+03</td>\n",
       "      <td>-0.436186</td>\n",
       "      <td>39.816082</td>\n",
       "      <td>1.836618e+03</td>\n",
       "      <td>-0.436186</td>\n",
       "      <td>39.816082</td>\n",
       "      <td>1.836618e+03</td>\n",
       "      <td>-0.436186</td>\n",
       "    </tr>\n",
       "    <tr>\n",
       "      <th>52</th>\n",
       "      <td>positiveIncrease_cluster4</td>\n",
       "      <td>2973.639531</td>\n",
       "      <td>9.734811e+06</td>\n",
       "      <td>-22.360597</td>\n",
       "      <td>2879.217388</td>\n",
       "      <td>9.646375e+06</td>\n",
       "      <td>-2.630019</td>\n",
       "      <td>3068.061674</td>\n",
       "      <td>9.823247e+06</td>\n",
       "      <td>-42.091175</td>\n",
       "    </tr>\n",
       "    <tr>\n",
       "      <th>53</th>\n",
       "      <td>positiveIncrease_cluster5</td>\n",
       "      <td>1590.134384</td>\n",
       "      <td>2.611820e+06</td>\n",
       "      <td>-39.711933</td>\n",
       "      <td>1590.134384</td>\n",
       "      <td>2.611820e+06</td>\n",
       "      <td>-39.711933</td>\n",
       "      <td>1590.134384</td>\n",
       "      <td>2.611820e+06</td>\n",
       "      <td>-39.711933</td>\n",
       "    </tr>\n",
       "    <tr>\n",
       "      <th>54</th>\n",
       "      <td>positiveIncrease_cluster6</td>\n",
       "      <td>8381.929540</td>\n",
       "      <td>7.132872e+07</td>\n",
       "      <td>-18.704708</td>\n",
       "      <td>8381.929540</td>\n",
       "      <td>7.132872e+07</td>\n",
       "      <td>-18.704708</td>\n",
       "      <td>8381.929540</td>\n",
       "      <td>7.132872e+07</td>\n",
       "      <td>-18.704708</td>\n",
       "    </tr>\n",
       "    <tr>\n",
       "      <th>55</th>\n",
       "      <td>positiveIncrease_cluster7</td>\n",
       "      <td>1081.679259</td>\n",
       "      <td>1.260476e+06</td>\n",
       "      <td>-0.765670</td>\n",
       "      <td>1081.679259</td>\n",
       "      <td>1.260476e+06</td>\n",
       "      <td>-0.765670</td>\n",
       "      <td>1081.679259</td>\n",
       "      <td>1.260476e+06</td>\n",
       "      <td>-0.765670</td>\n",
       "    </tr>\n",
       "    <tr>\n",
       "      <th>56</th>\n",
       "      <td>positiveIncrease_cluster8</td>\n",
       "      <td>113.022801</td>\n",
       "      <td>1.432132e+04</td>\n",
       "      <td>-5.777521</td>\n",
       "      <td>113.022801</td>\n",
       "      <td>1.432132e+04</td>\n",
       "      <td>-5.777521</td>\n",
       "      <td>113.022801</td>\n",
       "      <td>1.432132e+04</td>\n",
       "      <td>-5.777521</td>\n",
       "    </tr>\n",
       "    <tr>\n",
       "      <th>57</th>\n",
       "      <td>positiveIncrease_cluster9</td>\n",
       "      <td>1104.996688</td>\n",
       "      <td>1.545879e+06</td>\n",
       "      <td>-10.574641</td>\n",
       "      <td>1104.996688</td>\n",
       "      <td>1.545879e+06</td>\n",
       "      <td>-10.574641</td>\n",
       "      <td>1104.996688</td>\n",
       "      <td>1.545879e+06</td>\n",
       "      <td>-10.574641</td>\n",
       "    </tr>\n",
       "  </tbody>\n",
       "</table>\n",
       "</div>"
      ],
      "text/plain": [
       "                             model   mitjana_MAE   mitjana_MSE  mitjana_R2  \\\n",
       "0           deathIncrease_cluster1     33.641582  1.331696e+03   -4.389769   \n",
       "1          deathIncrease_cluster10     12.695371  2.107473e+02   -3.610056   \n",
       "2          deathIncrease_cluster11     56.077193  5.947148e+03    0.342833   \n",
       "3          deathIncrease_cluster12     53.787953  3.451689e+03  -22.916847   \n",
       "4          deathIncrease_cluster13    151.318958  2.917965e+04  -34.493661   \n",
       "5          deathIncrease_cluster14     87.664621  1.779077e+04   -0.381319   \n",
       "6          deathIncrease_cluster15    140.125759  2.474822e+04  -69.317871   \n",
       "7          deathIncrease_cluster16      1.729979  3.661098e+00   -4.276288   \n",
       "8          deathIncrease_cluster17     11.008761  1.518950e+02  -40.259618   \n",
       "9          deathIncrease_cluster18     32.969776  2.084202e+03   -9.788283   \n",
       "10         deathIncrease_cluster19      2.694999  2.097359e+01   -1.079582   \n",
       "11          deathIncrease_cluster2     42.965080  2.157241e+03 -208.122048   \n",
       "12         deathIncrease_cluster20      4.110051  1.818244e+01   -0.227189   \n",
       "13          deathIncrease_cluster3     10.138163  1.322747e+02   -2.127590   \n",
       "14          deathIncrease_cluster4     10.306896  1.103381e+02  -11.176952   \n",
       "15          deathIncrease_cluster5     13.994271  2.288273e+02   -1.464294   \n",
       "16          deathIncrease_cluster6     22.813771  6.492913e+02   -4.149001   \n",
       "17          deathIncrease_cluster7     10.072322  1.834040e+02  -75.342025   \n",
       "18          deathIncrease_cluster8     25.912457  8.155211e+02  -23.356174   \n",
       "19          deathIncrease_cluster9      6.317267  7.474866e+01   -0.457137   \n",
       "20   hospitalizedIncrease_cluster1      0.000000  0.000000e+00    1.000000   \n",
       "21  hospitalizedIncrease_cluster10    215.173402  5.060516e+04  -26.104201   \n",
       "22  hospitalizedIncrease_cluster11      2.260574  7.490735e+00   -0.952372   \n",
       "23  hospitalizedIncrease_cluster12     56.491499  4.846430e+03   -2.011802   \n",
       "24  hospitalizedIncrease_cluster13     33.886479  2.151261e+03   -0.006887   \n",
       "25  hospitalizedIncrease_cluster14      5.302963  2.941345e+01  -26.716520   \n",
       "26  hospitalizedIncrease_cluster15      7.300058  7.093104e+01   -4.882735   \n",
       "27  hospitalizedIncrease_cluster16      7.905951  7.002042e+01   -2.907745   \n",
       "28   hospitalizedIncrease_cluster2      0.000000  0.000000e+00    1.000000   \n",
       "29   hospitalizedIncrease_cluster3     42.769855  2.436505e+03   -4.639696   \n",
       "30   hospitalizedIncrease_cluster4     16.437015  4.787500e+02   -7.495656   \n",
       "31   hospitalizedIncrease_cluster5     22.407909  9.666964e+02   -9.063252   \n",
       "32   hospitalizedIncrease_cluster6      1.880409  6.969093e+00    0.000000   \n",
       "33   hospitalizedIncrease_cluster7    112.727555  7.301214e+04   -5.241497   \n",
       "34   hospitalizedIncrease_cluster8    247.612398  6.260472e+04    0.000000   \n",
       "35   hospitalizedIncrease_cluster9     56.296887  5.252495e+03   -6.737213   \n",
       "36       positiveIncrease_cluster1    520.638506  3.198945e+05   -1.765566   \n",
       "37      positiveIncrease_cluster10     49.668278  2.828633e+03   -2.944758   \n",
       "38      positiveIncrease_cluster11    596.465685  4.567108e+05  -89.543296   \n",
       "39      positiveIncrease_cluster12    200.193719  4.242745e+04  -24.582422   \n",
       "40      positiveIncrease_cluster13     22.703810  8.070102e+02    0.329953   \n",
       "41      positiveIncrease_cluster14   1676.054835  3.200394e+06  -15.337452   \n",
       "42      positiveIncrease_cluster15  10690.108003  1.144023e+08 -261.283637   \n",
       "43      positiveIncrease_cluster16    390.888015  2.928498e+05   -0.506474   \n",
       "44      positiveIncrease_cluster17    229.758080  1.476416e+05   -0.061024   \n",
       "45      positiveIncrease_cluster18     89.699767  9.965823e+03   -6.909973   \n",
       "46      positiveIncrease_cluster19    427.539855  2.098726e+05  -17.431298   \n",
       "47       positiveIncrease_cluster2   1584.763740  3.464864e+06  -13.279743   \n",
       "48      positiveIncrease_cluster20    866.928404  1.038198e+06   -7.276794   \n",
       "49      positiveIncrease_cluster21    288.049400  1.482434e+05   -1.490110   \n",
       "50      positiveIncrease_cluster22    460.339463  2.460943e+05  -40.312220   \n",
       "51       positiveIncrease_cluster3     39.816082  1.836618e+03   -0.436186   \n",
       "52       positiveIncrease_cluster4   2973.639531  9.734811e+06  -22.360597   \n",
       "53       positiveIncrease_cluster5   1590.134384  2.611820e+06  -39.711933   \n",
       "54       positiveIncrease_cluster6   8381.929540  7.132872e+07  -18.704708   \n",
       "55       positiveIncrease_cluster7   1081.679259  1.260476e+06   -0.765670   \n",
       "56       positiveIncrease_cluster8    113.022801  1.432132e+04   -5.777521   \n",
       "57       positiveIncrease_cluster9   1104.996688  1.545879e+06  -10.574641   \n",
       "\n",
       "      millor_MAE    millor_MSE   millor_R2    pitjor_MAE    pitjor_MSE  \\\n",
       "0      24.711521  7.497009e+02   -0.812834     46.142955  2.218391e+03   \n",
       "1      11.369993  1.715329e+02    0.000106     14.020749  2.499617e+02   \n",
       "2      56.077193  5.947148e+03    0.342833     56.077193  5.947148e+03   \n",
       "3      31.140102  1.806262e+03    0.028998     65.592248  4.344751e+03   \n",
       "4      88.138360  1.063126e+04   -1.198767    214.499556  4.772803e+04   \n",
       "5      87.664621  1.779077e+04   -0.381319     87.664621  1.779077e+04   \n",
       "6     103.384538  1.083094e+04   -0.193761    176.866979  3.866549e+04   \n",
       "7       1.729979  3.661098e+00   -4.276288      1.729979  3.661098e+00   \n",
       "8       8.994545  8.935463e+01   -0.438179     13.022977  2.144354e+02   \n",
       "9      16.436543  3.297783e+02    0.092427     53.054857  4.996281e+03   \n",
       "10      1.613789  3.913254e+00    0.106900      3.628760  4.053578e+01   \n",
       "11     28.548827  8.332586e+02  -24.651114     57.381334  3.481223e+03   \n",
       "12      4.110051  1.818244e+01   -0.227189      4.110051  1.818244e+01   \n",
       "13      7.992998  7.761997e+01   -1.358276     12.283329  1.869295e+02   \n",
       "14     10.306896  1.103381e+02  -11.176952     10.306896  1.103381e+02   \n",
       "15     13.994271  2.288273e+02   -1.464294     13.994271  2.288273e+02   \n",
       "16     18.290235  4.466826e+02   -0.485811     26.819060  8.026784e+02   \n",
       "17      5.740662  5.900686e+01   -0.511061     21.371605  5.357175e+02   \n",
       "18     16.081921  2.693033e+02   -0.266106     37.957306  1.556512e+03   \n",
       "19      3.099697  1.252637e+01    0.254040     10.005142  1.936647e+02   \n",
       "20      0.000000  0.000000e+00    1.000000      0.000000  0.000000e+00   \n",
       "21    181.228566  3.656307e+04   -4.778318    249.118239  6.464724e+04   \n",
       "22      2.260574  7.490735e+00   -0.952372      2.260574  7.490735e+00   \n",
       "23     28.801721  1.077255e+03    0.027642     84.181277  8.615605e+03   \n",
       "24     17.940451  3.477908e+02    0.421647     49.832506  3.954732e+03   \n",
       "25      5.302963  2.941345e+01  -26.716520      5.302963  2.941345e+01   \n",
       "26      6.303158  5.058715e+01   -1.969546      8.503863  9.587390e+01   \n",
       "27      7.905951  7.002042e+01   -2.907745      7.905951  7.002042e+01   \n",
       "28      0.000000  0.000000e+00    1.000000      0.000000  0.000000e+00   \n",
       "29     24.376721  1.043538e+03   -0.265364     68.878502  5.541966e+03   \n",
       "30      6.222701  6.489362e+01    0.774866     28.144702  1.183086e+03   \n",
       "31      7.488081  6.762382e+01    0.620960     35.439247  2.160561e+03   \n",
       "32      1.875944  6.968016e+00    0.000000      1.882779  6.971131e+00   \n",
       "33     21.343872  6.255158e+02    0.043853    331.137529  2.830771e+05   \n",
       "34    247.612398  6.260472e+04    0.000000    247.612398  6.260472e+04   \n",
       "35     46.001764  4.562748e+03    0.512697     66.592010  5.942241e+03   \n",
       "36    465.337816  2.285356e+05    0.401699    575.939196  4.112535e+05   \n",
       "37     49.668278  2.828633e+03   -2.944758     49.668278  2.828633e+03   \n",
       "38     74.289413  8.063895e+03    0.756952    942.995375  8.935362e+05   \n",
       "39    176.338262  3.217920e+04  -15.546846    224.049176  5.267570e+04   \n",
       "40     22.703810  8.070102e+02    0.329953     22.703810  8.070102e+02   \n",
       "41   1283.575025  1.717825e+06   -2.463355   2022.101412  4.186155e+06   \n",
       "42  10690.108003  1.144023e+08 -261.283637  10690.108003  1.144023e+08   \n",
       "43    222.817049  6.757925e+04    0.268756    704.513821  7.248300e+05   \n",
       "44    105.683483  1.348583e+04    0.343855    486.641154  4.809304e+05   \n",
       "45     66.968243  5.792660e+03   -4.981126    112.431291  1.413899e+04   \n",
       "46    309.309725  9.963035e+04   -6.679995    605.700470  3.814910e+05   \n",
       "47    633.131171  6.776115e+05    0.295932   2741.599965  7.711269e+06   \n",
       "48    365.526843  2.063163e+05    0.032861   1401.184647  2.055252e+06   \n",
       "49    127.747059  3.328237e+04   -1.280197    448.351740  2.632043e+05   \n",
       "50    250.495585  6.996782e+04   -0.487082    594.311435  3.600402e+05   \n",
       "51     39.816082  1.836618e+03   -0.436186     39.816082  1.836618e+03   \n",
       "52   2879.217388  9.646375e+06   -2.630019   3068.061674  9.823247e+06   \n",
       "53   1590.134384  2.611820e+06  -39.711933   1590.134384  2.611820e+06   \n",
       "54   8381.929540  7.132872e+07  -18.704708   8381.929540  7.132872e+07   \n",
       "55   1081.679259  1.260476e+06   -0.765670   1081.679259  1.260476e+06   \n",
       "56    113.022801  1.432132e+04   -5.777521    113.022801  1.432132e+04   \n",
       "57   1104.996688  1.545879e+06  -10.574641   1104.996688  1.545879e+06   \n",
       "\n",
       "     pitjor_R2  \n",
       "0    -9.643581  \n",
       "1    -7.220217  \n",
       "2     0.342833  \n",
       "3   -76.641425  \n",
       "4   -67.788555  \n",
       "5    -0.381319  \n",
       "6  -138.441982  \n",
       "7    -4.276288  \n",
       "8   -80.081058  \n",
       "9   -29.035567  \n",
       "10   -3.751476  \n",
       "11 -391.592982  \n",
       "12   -0.227189  \n",
       "13   -2.896904  \n",
       "14  -11.176952  \n",
       "15   -1.464294  \n",
       "16   -9.237347  \n",
       "17 -282.003919  \n",
       "18  -65.963894  \n",
       "19   -1.029803  \n",
       "20    1.000000  \n",
       "21  -47.430085  \n",
       "22   -0.952372  \n",
       "23   -4.051245  \n",
       "24   -0.435421  \n",
       "25  -26.716520  \n",
       "26   -8.113126  \n",
       "27   -2.907745  \n",
       "28    1.000000  \n",
       "29  -16.088163  \n",
       "30  -30.175343  \n",
       "31  -61.431543  \n",
       "32    0.000000  \n",
       "33  -15.435601  \n",
       "34    0.000000  \n",
       "35  -13.987123  \n",
       "36   -3.932830  \n",
       "37   -2.944758  \n",
       "38 -314.532384  \n",
       "39  -33.617999  \n",
       "40    0.329953  \n",
       "41  -23.458229  \n",
       "42 -261.283637  \n",
       "43   -1.376718  \n",
       "44   -0.810641  \n",
       "45   -8.838819  \n",
       "46  -38.950632  \n",
       "47  -28.752802  \n",
       "48  -20.778533  \n",
       "49   -1.700024  \n",
       "50  -85.302570  \n",
       "51   -0.436186  \n",
       "52  -42.091175  \n",
       "53  -39.711933  \n",
       "54  -18.704708  \n",
       "55   -0.765670  \n",
       "56   -5.777521  \n",
       "57  -10.574641  "
      ]
     },
     "execution_count": 118,
     "metadata": {},
     "output_type": "execute_result"
    }
   ],
   "source": [
    "df_metriques['model'] = df_metriques['target'] + '_cluster' + df_metriques['cluster'].astype(str)\n",
    "\n",
    "mitjanes = df_metriques.groupby('model').agg({\n",
    "    'MAE': 'mean',\n",
    "    'MSE': 'mean',\n",
    "    'R2': 'mean'\n",
    "}).reset_index()\n",
    "mitjanes = mitjanes.rename(columns=lambda x: f'mitjana_{x}' if x != 'model' else x)\n",
    "\n",
    "# Millor resultat per model (mínim MAE, mínim MSE, màxim R2)\n",
    "millors = df_metriques.groupby('model').agg({\n",
    "    'MAE': 'min',\n",
    "    'MSE': 'min',\n",
    "    'R2': 'max'\n",
    "}).reset_index()\n",
    "millors = millors.rename(columns=lambda x: f'millor_{x}' if x != 'model' else x)\n",
    "\n",
    "# Pitjor resultat per model (màxim MAE, màxim MSE, mínim R2)\n",
    "pitjors = df_metriques.groupby('model').agg({\n",
    "    'MAE': 'max',\n",
    "    'MSE': 'max',\n",
    "    'R2': 'min'\n",
    "}).reset_index()\n",
    "pitjors = pitjors.rename(columns=lambda x: f'pitjor_{x}' if x != 'model' else x)\n",
    "\n",
    "# Juntar-ho tot en un sol DataFrame final\n",
    "resultats_models = mitjanes.merge(millors, on='model').merge(pitjors, on='model')\n",
    "\n",
    "resultats_models\n"
   ]
  },
  {
   "cell_type": "code",
   "execution_count": 119,
   "id": "97828ca1",
   "metadata": {},
   "outputs": [],
   "source": [
    "#resultats_models.to_csv(\"resultats2_0.3-0.7.csv\", index=False)\n",
    "#resultats_models.to_csv(\"resultats2_0.5-0.5.csv\", index=False)\n",
    "resultats_models.to_csv(\"resultats2_0.7-0.3.csv\", index=False)\n",
    "#resultats_models.to_csv(\"resultats2.csv\", index=False)"
   ]
  }
 ],
 "metadata": {
  "kernelspec": {
   "display_name": "Python 3",
   "language": "python",
   "name": "python3"
  },
  "language_info": {
   "codemirror_mode": {
    "name": "ipython",
    "version": 3
   },
   "file_extension": ".py",
   "mimetype": "text/x-python",
   "name": "python",
   "nbconvert_exporter": "python",
   "pygments_lexer": "ipython3",
   "version": "3.10.11"
  }
 },
 "nbformat": 4,
 "nbformat_minor": 5
}
