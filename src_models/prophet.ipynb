{
 "cells": [
  {
   "cell_type": "markdown",
   "id": "992eb456",
   "metadata": {},
   "source": [
    "**Models Prophet**"
   ]
  },
  {
   "cell_type": "code",
   "execution_count": 1,
   "id": "348d551a",
   "metadata": {},
   "outputs": [],
   "source": [
    "#%pip install prophet"
   ]
  },
  {
   "cell_type": "code",
   "execution_count": 2,
   "id": "0a3c7a5e",
   "metadata": {},
   "outputs": [
    {
     "name": "stderr",
     "output_type": "stream",
     "text": [
      "Importing plotly failed. Interactive plots will not work.\n"
     ]
    }
   ],
   "source": [
    "import pandas as pd\n",
    "from prophet import Prophet\n",
    "from sklearn.preprocessing import OneHotEncoder\n",
    "import pickle\n",
    "import os\n",
    "import numpy as np\n",
    "from datetime import timedelta\n",
    "from sklearn.metrics import mean_absolute_error, mean_squared_error, r2_score\n",
    "\n"
   ]
  },
  {
   "cell_type": "code",
   "execution_count": 3,
   "id": "a8f63dad",
   "metadata": {},
   "outputs": [],
   "source": [
    "# Carreguem les dades\n",
    "dades_temporals = pd.read_csv('daily_covidMatrix.csv') \n",
    "clusters_targets = pd.read_csv('state_clusters.csv') "
   ]
  },
  {
   "cell_type": "code",
   "execution_count": 4,
   "id": "e0a9f860",
   "metadata": {},
   "outputs": [],
   "source": [
    "targets = {\n",
    "    'positiveIncrease': 'Cluster_positiveIncrease',\n",
    "    'hospitalizedIncrease': 'Cluster_hospitalizedIncrease',\n",
    "    'deathIncrease': 'Cluster_deathIncrease'\n",
    "}"
   ]
  },
  {
   "cell_type": "code",
   "execution_count": 5,
   "id": "71f25dc8",
   "metadata": {},
   "outputs": [
    {
     "name": "stderr",
     "output_type": "stream",
     "text": [
      "C:\\Users\\mibks\\AppData\\Local\\Packages\\PythonSoftwareFoundation.Python.3.10_qbz5n2kfra8p0\\LocalCache\\local-packages\\Python310\\site-packages\\sklearn\\preprocessing\\_encoders.py:972: FutureWarning: `sparse` was renamed to `sparse_output` in version 1.2 and will be removed in 1.4. `sparse_output` is ignored unless you leave `sparse` to its default value.\n",
      "  warnings.warn(\n"
     ]
    }
   ],
   "source": [
    "# Inicialitzem encoder per l'estat\n",
    "encoder = OneHotEncoder(sparse=False)\n",
    "states_encoded = encoder.fit_transform(dades_temporals[['state']])\n",
    "state_columns = encoder.get_feature_names_out(['state'])\n",
    "states_encoded_df = pd.DataFrame(states_encoded, columns=state_columns)\n",
    "\n",
    "dades_temporals = pd.concat([dades_temporals.reset_index(drop=True), states_encoded_df.reset_index(drop=True)], axis=1)\n"
   ]
  },
  {
   "cell_type": "code",
   "execution_count": 6,
   "id": "19d2f845",
   "metadata": {},
   "outputs": [],
   "source": [
    "altres_regressors = [\n",
    "    'totalTestResults', 'positive', 'death', 'negativeIncrease', 'total', \n",
    "    'totalTestResultsIncrease', 'posNeg', 'Dose1_Total', 'Dose1_65Plus', \n",
    "    'Complete_Total', 'Complete_65Plus', 'neighbor_contagions'\n",
    "]\n",
    "\n"
   ]
  },
  {
   "cell_type": "code",
   "execution_count": 7,
   "id": "6e3e2dca",
   "metadata": {},
   "outputs": [],
   "source": [
    "# Dividir en train i test\n",
    "\n",
    "dades_temporals['date'] = pd.to_datetime(dades_temporals['date'])\n",
    "\n",
    "train = dades_temporals[dades_temporals['date'] < '2021-03-01']\n",
    "test = dades_temporals[dades_temporals['date'] >= '2021-03-01']"
   ]
  },
  {
   "cell_type": "markdown",
   "id": "cd3dea96",
   "metadata": {},
   "source": [
    "Entrenar els diferents models"
   ]
  },
  {
   "cell_type": "code",
   "execution_count": 8,
   "id": "c54a4adb",
   "metadata": {},
   "outputs": [
    {
     "name": "stderr",
     "output_type": "stream",
     "text": [
      "23:03:09 - cmdstanpy - INFO - Chain [1] start processing\n",
      "23:03:25 - cmdstanpy - INFO - Chain [1] done processing\n"
     ]
    },
    {
     "name": "stdout",
     "output_type": "stream",
     "text": [
      "Model entrenat i guardat per positiveIncrease, cluster 3\n"
     ]
    },
    {
     "name": "stderr",
     "output_type": "stream",
     "text": [
      "23:03:27 - cmdstanpy - INFO - Chain [1] start processing\n",
      "23:03:35 - cmdstanpy - INFO - Chain [1] done processing\n"
     ]
    },
    {
     "name": "stdout",
     "output_type": "stream",
     "text": [
      "Model entrenat i guardat per positiveIncrease, cluster 6\n"
     ]
    },
    {
     "name": "stderr",
     "output_type": "stream",
     "text": [
      "23:03:38 - cmdstanpy - INFO - Chain [1] start processing\n",
      "23:03:59 - cmdstanpy - INFO - Chain [1] done processing\n"
     ]
    },
    {
     "name": "stdout",
     "output_type": "stream",
     "text": [
      "Model entrenat i guardat per positiveIncrease, cluster 5\n"
     ]
    },
    {
     "name": "stderr",
     "output_type": "stream",
     "text": [
      "23:04:01 - cmdstanpy - INFO - Chain [1] start processing\n",
      "23:04:11 - cmdstanpy - INFO - Chain [1] done processing\n"
     ]
    },
    {
     "name": "stdout",
     "output_type": "stream",
     "text": [
      "Model entrenat i guardat per positiveIncrease, cluster 2\n"
     ]
    },
    {
     "name": "stderr",
     "output_type": "stream",
     "text": [
      "23:04:13 - cmdstanpy - INFO - Chain [1] start processing\n",
      "23:04:27 - cmdstanpy - INFO - Chain [1] done processing\n"
     ]
    },
    {
     "name": "stdout",
     "output_type": "stream",
     "text": [
      "Model entrenat i guardat per positiveIncrease, cluster 4\n"
     ]
    },
    {
     "name": "stderr",
     "output_type": "stream",
     "text": [
      "23:04:28 - cmdstanpy - INFO - Chain [1] start processing\n",
      "23:04:33 - cmdstanpy - INFO - Chain [1] done processing\n"
     ]
    },
    {
     "name": "stdout",
     "output_type": "stream",
     "text": [
      "Model entrenat i guardat per positiveIncrease, cluster 1\n"
     ]
    },
    {
     "name": "stderr",
     "output_type": "stream",
     "text": [
      "23:04:36 - cmdstanpy - INFO - Chain [1] start processing\n",
      "23:04:47 - cmdstanpy - INFO - Chain [1] done processing\n"
     ]
    },
    {
     "name": "stdout",
     "output_type": "stream",
     "text": [
      "Model entrenat i guardat per hospitalizedIncrease, cluster 4\n"
     ]
    },
    {
     "name": "stderr",
     "output_type": "stream",
     "text": [
      "23:04:50 - cmdstanpy - INFO - Chain [1] start processing\n",
      "23:05:04 - cmdstanpy - INFO - Chain [1] done processing\n"
     ]
    },
    {
     "name": "stdout",
     "output_type": "stream",
     "text": [
      "Model entrenat i guardat per hospitalizedIncrease, cluster 3\n",
      "Model entrenat i guardat per hospitalizedIncrease, cluster 2\n"
     ]
    },
    {
     "name": "stderr",
     "output_type": "stream",
     "text": [
      "23:05:06 - cmdstanpy - INFO - Chain [1] start processing\n",
      "23:05:10 - cmdstanpy - INFO - Chain [1] done processing\n"
     ]
    },
    {
     "name": "stdout",
     "output_type": "stream",
     "text": [
      "Model entrenat i guardat per hospitalizedIncrease, cluster 6\n",
      "Model entrenat i guardat per hospitalizedIncrease, cluster 1\n"
     ]
    },
    {
     "name": "stderr",
     "output_type": "stream",
     "text": [
      "23:05:14 - cmdstanpy - INFO - Chain [1] start processing\n",
      "23:05:28 - cmdstanpy - INFO - Chain [1] done processing\n"
     ]
    },
    {
     "name": "stdout",
     "output_type": "stream",
     "text": [
      "Model entrenat i guardat per hospitalizedIncrease, cluster 7\n"
     ]
    },
    {
     "name": "stderr",
     "output_type": "stream",
     "text": [
      "23:05:29 - cmdstanpy - INFO - Chain [1] start processing\n",
      "23:05:30 - cmdstanpy - INFO - Chain [1] done processing\n"
     ]
    },
    {
     "name": "stdout",
     "output_type": "stream",
     "text": [
      "Model entrenat i guardat per hospitalizedIncrease, cluster 5\n"
     ]
    },
    {
     "name": "stderr",
     "output_type": "stream",
     "text": [
      "23:05:33 - cmdstanpy - INFO - Chain [1] start processing\n",
      "23:05:42 - cmdstanpy - INFO - Chain [1] done processing\n"
     ]
    },
    {
     "name": "stdout",
     "output_type": "stream",
     "text": [
      "Model entrenat i guardat per deathIncrease, cluster 6\n"
     ]
    },
    {
     "name": "stderr",
     "output_type": "stream",
     "text": [
      "23:05:45 - cmdstanpy - INFO - Chain [1] start processing\n",
      "23:06:03 - cmdstanpy - INFO - Chain [1] done processing\n"
     ]
    },
    {
     "name": "stdout",
     "output_type": "stream",
     "text": [
      "Model entrenat i guardat per deathIncrease, cluster 3\n"
     ]
    },
    {
     "name": "stderr",
     "output_type": "stream",
     "text": [
      "23:06:04 - cmdstanpy - INFO - Chain [1] start processing\n",
      "23:06:09 - cmdstanpy - INFO - Chain [1] done processing\n"
     ]
    },
    {
     "name": "stdout",
     "output_type": "stream",
     "text": [
      "Model entrenat i guardat per deathIncrease, cluster 5\n"
     ]
    },
    {
     "name": "stderr",
     "output_type": "stream",
     "text": [
      "23:06:11 - cmdstanpy - INFO - Chain [1] start processing\n",
      "23:06:19 - cmdstanpy - INFO - Chain [1] done processing\n"
     ]
    },
    {
     "name": "stdout",
     "output_type": "stream",
     "text": [
      "Model entrenat i guardat per deathIncrease, cluster 4\n"
     ]
    },
    {
     "name": "stderr",
     "output_type": "stream",
     "text": [
      "23:06:21 - cmdstanpy - INFO - Chain [1] start processing\n",
      "23:06:35 - cmdstanpy - INFO - Chain [1] done processing\n"
     ]
    },
    {
     "name": "stdout",
     "output_type": "stream",
     "text": [
      "Model entrenat i guardat per deathIncrease, cluster 1\n"
     ]
    },
    {
     "name": "stderr",
     "output_type": "stream",
     "text": [
      "23:06:36 - cmdstanpy - INFO - Chain [1] start processing\n",
      "23:06:43 - cmdstanpy - INFO - Chain [1] done processing\n"
     ]
    },
    {
     "name": "stdout",
     "output_type": "stream",
     "text": [
      "Model entrenat i guardat per deathIncrease, cluster 2\n"
     ]
    }
   ],
   "source": [
    "# Crear la carpeta per guardar els models\n",
    "os.makedirs('models_prophet', exist_ok=True)\n",
    "\n",
    "# Iterar per cada variable target\n",
    "for target_var, cluster_col in targets.items():\n",
    "    # Tots els clusters possibles per aquesta variable\n",
    "    clusters = clusters_targets[cluster_col].unique()\n",
    "    \n",
    "    for cluster in clusters:\n",
    "        # Estats que pertanyen a aquest cluster\n",
    "        estats_cluster = clusters_targets[clusters_targets[cluster_col] == cluster]['State'].unique()\n",
    "        \n",
    "        dades_cluster = train[train['state'].isin(estats_cluster)]\n",
    "        \n",
    "        if dades_cluster.empty:\n",
    "            continue  \n",
    "        \n",
    "        columns_model = ['date', target_var] + list(state_columns) + altres_regressors\n",
    "        df_prophet = dades_cluster[columns_model].rename(columns={'date': 'ds', target_var: 'y'})\n",
    "        \n",
    "        model = Prophet(\n",
    "            changepoint_prior_scale=0.1,\n",
    "            seasonality_prior_scale=10.0,\n",
    "            yearly_seasonality=True,\n",
    "            weekly_seasonality=True,\n",
    "            seasonality_mode='multiplicative',\n",
    "            interval_width=0.90\n",
    ")\n",
    "        \n",
    "        regressors = list(state_columns) + altres_regressors              \n",
    "        for reg in regressors:\n",
    "            model.add_regressor(reg)\n",
    "\n",
    "        model.fit(df_prophet)\n",
    "            \n",
    "        model_filename = f'models_prophet/prophet_{target_var}_cluster{cluster}.pkl'\n",
    "        with open(model_filename, 'wb') as f:\n",
    "            pickle.dump(model, f)\n",
    "        \n",
    "        print(f\"Model entrenat i guardat per {target_var}, cluster {cluster}\")\n"
   ]
  },
  {
   "cell_type": "markdown",
   "id": "2bdf5f1a",
   "metadata": {},
   "source": [
    "Predir el test"
   ]
  },
  {
   "cell_type": "code",
   "execution_count": 9,
   "id": "4ca675e8",
   "metadata": {},
   "outputs": [],
   "source": [
    "metriques_totals = []\n",
    "\n",
    "# Iterar per cada target\n",
    "for target_var, cluster_col in targets.items():\n",
    "    # Tots els clusters possibles per aquest target\n",
    "    clusters = clusters_targets[cluster_col].unique()\n",
    "    \n",
    "    for cluster in clusters:\n",
    "        model_filename = f'models_prophet/prophet_{target_var}_cluster{cluster}.pkl'\n",
    "        if not os.path.exists(model_filename):\n",
    "            print(f\"Model no trobat per {target_var} cluster {cluster}\")\n",
    "            continue\n",
    "\n",
    "        with open(model_filename, 'rb') as f:\n",
    "            model = pickle.load(f)\n",
    "        \n",
    "        estats_cluster = clusters_targets[clusters_targets[cluster_col] == cluster]['State'].unique()\n",
    "        \n",
    "        for estat in estats_cluster:\n",
    "            dades_estat = train[train['state'] == estat]\n",
    "            if dades_estat.empty:\n",
    "                continue\n",
    "            \n",
    "            columns_model = ['date', target_var] + list(state_columns) + altres_regressors\n",
    "            df_prophet = dades_estat[columns_model].rename(columns={'date': 'ds', target_var: 'y'})\n",
    "            df_prophet['ds'] = pd.to_datetime(df_prophet['ds'])\n",
    "            \n",
    "            # Última fila coneguda de regressors\n",
    "            regressors = list(state_columns) + altres_regressors\n",
    "            last_known = df_prophet[regressors].iloc[-1]\n",
    "\n",
    "            # Genera les dates futures (7 dies a partir de l'última data coneguda)\n",
    "            start_date = df_prophet['ds'].max() + timedelta(days=1)\n",
    "            future_dates = pd.date_range(start=start_date, periods=7, freq='D')\n",
    "            future = pd.DataFrame({'ds': future_dates})\n",
    "\n",
    "            # Repetir últims valors de regressors\n",
    "            future_states_df = pd.DataFrame([last_known.values] * 7, columns=regressors).reset_index(drop=True)\n",
    "            future = pd.concat([future, future_states_df], axis=1)\n",
    "\n",
    "            # Predicció\n",
    "            forecast = model.predict(future)\n",
    "            prediccions = forecast[['ds', 'yhat']].copy()\n",
    "            prediccions['state'] = estat\n",
    "            prediccions['target'] = target_var\n",
    "\n",
    "            # Comparació \n",
    "            test_estat = test[\n",
    "                (test['state'] == estat) &\n",
    "                (test['date'].isin(prediccions['ds']))\n",
    "            ]       \n",
    "                      \n",
    "            comparacio = pd.merge(prediccions, test_estat, left_on=['ds', 'state'], right_on=['date', 'state'])\n",
    "            \n",
    "            y_true = comparacio[target_var]\n",
    "            y_pred = comparacio['yhat']\n",
    "            \n",
    "            # Mètriques\n",
    "            mae = mean_absolute_error(y_true, y_pred)\n",
    "            mse = mean_squared_error(y_true, y_pred)\n",
    "            rmse = np.sqrt(mse)\n",
    "            r2 = r2_score(y_true, y_pred)\n",
    "           \n",
    "            metriques_totals.append({\n",
    "                'target': target_var,\n",
    "                'state': estat,\n",
    "                'cluster': cluster,\n",
    "                'MAE': mae,\n",
    "                'MSE': mse,\n",
    "                'R2': r2\n",
    "            })\n",
    "df_metriques = pd.DataFrame(metriques_totals)\n",
    "\n"
   ]
  },
  {
   "cell_type": "code",
   "execution_count": 10,
   "id": "7d323064",
   "metadata": {},
   "outputs": [
    {
     "data": {
      "text/html": [
       "<div>\n",
       "<style scoped>\n",
       "    .dataframe tbody tr th:only-of-type {\n",
       "        vertical-align: middle;\n",
       "    }\n",
       "\n",
       "    .dataframe tbody tr th {\n",
       "        vertical-align: top;\n",
       "    }\n",
       "\n",
       "    .dataframe thead th {\n",
       "        text-align: right;\n",
       "    }\n",
       "</style>\n",
       "<table border=\"1\" class=\"dataframe\">\n",
       "  <thead>\n",
       "    <tr style=\"text-align: right;\">\n",
       "      <th></th>\n",
       "      <th>model</th>\n",
       "      <th>mitjana_MAE</th>\n",
       "      <th>mitjana_MSE</th>\n",
       "      <th>mitjana_R2</th>\n",
       "      <th>millor_MAE</th>\n",
       "      <th>millor_MSE</th>\n",
       "      <th>millor_R2</th>\n",
       "      <th>pitjor_MAE</th>\n",
       "      <th>pitjor_MSE</th>\n",
       "      <th>pitjor_R2</th>\n",
       "    </tr>\n",
       "  </thead>\n",
       "  <tbody>\n",
       "    <tr>\n",
       "      <th>0</th>\n",
       "      <td>deathIncrease_cluster1</td>\n",
       "      <td>13.097464</td>\n",
       "      <td>4.750030e+02</td>\n",
       "      <td>-0.868948</td>\n",
       "      <td>1.750448</td>\n",
       "      <td>4.689418</td>\n",
       "      <td>-0.039769</td>\n",
       "      <td>24.280006</td>\n",
       "      <td>1.332112e+03</td>\n",
       "      <td>-2.902653</td>\n",
       "    </tr>\n",
       "    <tr>\n",
       "      <th>1</th>\n",
       "      <td>deathIncrease_cluster2</td>\n",
       "      <td>123.208078</td>\n",
       "      <td>2.005981e+04</td>\n",
       "      <td>-3441.758049</td>\n",
       "      <td>33.976026</td>\n",
       "      <td>1547.215126</td>\n",
       "      <td>-0.373395</td>\n",
       "      <td>198.162381</td>\n",
       "      <td>4.448377e+04</td>\n",
       "      <td>-21348.191069</td>\n",
       "    </tr>\n",
       "    <tr>\n",
       "      <th>2</th>\n",
       "      <td>deathIncrease_cluster3</td>\n",
       "      <td>49.891932</td>\n",
       "      <td>3.273508e+03</td>\n",
       "      <td>-312.200335</td>\n",
       "      <td>37.755046</td>\n",
       "      <td>1511.731859</td>\n",
       "      <td>0.286060</td>\n",
       "      <td>67.136050</td>\n",
       "      <td>6.460927e+03</td>\n",
       "      <td>-1559.912296</td>\n",
       "    </tr>\n",
       "    <tr>\n",
       "      <th>3</th>\n",
       "      <td>deathIncrease_cluster4</td>\n",
       "      <td>11.241975</td>\n",
       "      <td>2.248633e+02</td>\n",
       "      <td>-27.941521</td>\n",
       "      <td>5.644690</td>\n",
       "      <td>44.013273</td>\n",
       "      <td>-0.031859</td>\n",
       "      <td>25.332276</td>\n",
       "      <td>7.072586e+02</td>\n",
       "      <td>-245.367115</td>\n",
       "    </tr>\n",
       "    <tr>\n",
       "      <th>4</th>\n",
       "      <td>deathIncrease_cluster5</td>\n",
       "      <td>34.320397</td>\n",
       "      <td>1.730484e+03</td>\n",
       "      <td>-11.686677</td>\n",
       "      <td>22.663161</td>\n",
       "      <td>904.401027</td>\n",
       "      <td>0.269807</td>\n",
       "      <td>53.479714</td>\n",
       "      <td>3.530556e+03</td>\n",
       "      <td>-32.308546</td>\n",
       "    </tr>\n",
       "    <tr>\n",
       "      <th>5</th>\n",
       "      <td>deathIncrease_cluster6</td>\n",
       "      <td>29.268299</td>\n",
       "      <td>1.248662e+03</td>\n",
       "      <td>-20.086882</td>\n",
       "      <td>18.415666</td>\n",
       "      <td>418.469080</td>\n",
       "      <td>0.015084</td>\n",
       "      <td>51.081704</td>\n",
       "      <td>3.240225e+03</td>\n",
       "      <td>-87.269185</td>\n",
       "    </tr>\n",
       "    <tr>\n",
       "      <th>6</th>\n",
       "      <td>hospitalizedIncrease_cluster1</td>\n",
       "      <td>0.000000</td>\n",
       "      <td>0.000000e+00</td>\n",
       "      <td>1.000000</td>\n",
       "      <td>0.000000</td>\n",
       "      <td>0.000000</td>\n",
       "      <td>1.000000</td>\n",
       "      <td>0.000000</td>\n",
       "      <td>0.000000e+00</td>\n",
       "      <td>1.000000</td>\n",
       "    </tr>\n",
       "    <tr>\n",
       "      <th>7</th>\n",
       "      <td>hospitalizedIncrease_cluster2</td>\n",
       "      <td>0.000000</td>\n",
       "      <td>0.000000e+00</td>\n",
       "      <td>1.000000</td>\n",
       "      <td>0.000000</td>\n",
       "      <td>0.000000</td>\n",
       "      <td>1.000000</td>\n",
       "      <td>0.000000</td>\n",
       "      <td>0.000000e+00</td>\n",
       "      <td>1.000000</td>\n",
       "    </tr>\n",
       "    <tr>\n",
       "      <th>8</th>\n",
       "      <td>hospitalizedIncrease_cluster3</td>\n",
       "      <td>23.484497</td>\n",
       "      <td>1.220563e+03</td>\n",
       "      <td>-2.894450</td>\n",
       "      <td>6.685122</td>\n",
       "      <td>50.974057</td>\n",
       "      <td>0.711702</td>\n",
       "      <td>51.640174</td>\n",
       "      <td>3.934542e+03</td>\n",
       "      <td>-17.359957</td>\n",
       "    </tr>\n",
       "    <tr>\n",
       "      <th>9</th>\n",
       "      <td>hospitalizedIncrease_cluster4</td>\n",
       "      <td>46.180278</td>\n",
       "      <td>3.512939e+03</td>\n",
       "      <td>-2.759072</td>\n",
       "      <td>16.822773</td>\n",
       "      <td>319.458368</td>\n",
       "      <td>0.413002</td>\n",
       "      <td>106.339794</td>\n",
       "      <td>1.290671e+04</td>\n",
       "      <td>-17.586058</td>\n",
       "    </tr>\n",
       "    <tr>\n",
       "      <th>10</th>\n",
       "      <td>hospitalizedIncrease_cluster5</td>\n",
       "      <td>0.141252</td>\n",
       "      <td>1.996326e-02</td>\n",
       "      <td>0.000000</td>\n",
       "      <td>0.140713</td>\n",
       "      <td>0.019811</td>\n",
       "      <td>0.000000</td>\n",
       "      <td>0.141624</td>\n",
       "      <td>2.006837e-02</td>\n",
       "      <td>0.000000</td>\n",
       "    </tr>\n",
       "    <tr>\n",
       "      <th>11</th>\n",
       "      <td>hospitalizedIncrease_cluster6</td>\n",
       "      <td>81.678934</td>\n",
       "      <td>5.901783e+04</td>\n",
       "      <td>-1.217832</td>\n",
       "      <td>12.445480</td>\n",
       "      <td>310.539688</td>\n",
       "      <td>0.209054</td>\n",
       "      <td>314.821392</td>\n",
       "      <td>2.913339e+05</td>\n",
       "      <td>-4.422979</td>\n",
       "    </tr>\n",
       "    <tr>\n",
       "      <th>12</th>\n",
       "      <td>hospitalizedIncrease_cluster7</td>\n",
       "      <td>12.862755</td>\n",
       "      <td>1.411127e+03</td>\n",
       "      <td>-2.929375</td>\n",
       "      <td>2.345923</td>\n",
       "      <td>11.036839</td>\n",
       "      <td>-0.005155</td>\n",
       "      <td>53.274666</td>\n",
       "      <td>8.906209e+03</td>\n",
       "      <td>-9.898020</td>\n",
       "    </tr>\n",
       "    <tr>\n",
       "      <th>13</th>\n",
       "      <td>positiveIncrease_cluster1</td>\n",
       "      <td>84.826527</td>\n",
       "      <td>1.125511e+04</td>\n",
       "      <td>-4.283323</td>\n",
       "      <td>38.808463</td>\n",
       "      <td>2193.474871</td>\n",
       "      <td>-0.821206</td>\n",
       "      <td>148.493442</td>\n",
       "      <td>2.617418e+04</td>\n",
       "      <td>-7.222009</td>\n",
       "    </tr>\n",
       "    <tr>\n",
       "      <th>14</th>\n",
       "      <td>positiveIncrease_cluster2</td>\n",
       "      <td>643.179850</td>\n",
       "      <td>8.149479e+05</td>\n",
       "      <td>-69.194835</td>\n",
       "      <td>285.248432</td>\n",
       "      <td>136764.806278</td>\n",
       "      <td>0.073148</td>\n",
       "      <td>1697.371208</td>\n",
       "      <td>3.355095e+06</td>\n",
       "      <td>-296.532069</td>\n",
       "    </tr>\n",
       "    <tr>\n",
       "      <th>15</th>\n",
       "      <td>positiveIncrease_cluster3</td>\n",
       "      <td>992.677173</td>\n",
       "      <td>2.068841e+06</td>\n",
       "      <td>-3.929354</td>\n",
       "      <td>145.421516</td>\n",
       "      <td>41077.047052</td>\n",
       "      <td>-0.143024</td>\n",
       "      <td>3295.327003</td>\n",
       "      <td>1.140664e+07</td>\n",
       "      <td>-12.562824</td>\n",
       "    </tr>\n",
       "    <tr>\n",
       "      <th>16</th>\n",
       "      <td>positiveIncrease_cluster4</td>\n",
       "      <td>428.834525</td>\n",
       "      <td>4.385603e+05</td>\n",
       "      <td>-15.215233</td>\n",
       "      <td>170.342061</td>\n",
       "      <td>29913.379841</td>\n",
       "      <td>-0.512690</td>\n",
       "      <td>896.117283</td>\n",
       "      <td>1.455847e+06</td>\n",
       "      <td>-29.886624</td>\n",
       "    </tr>\n",
       "    <tr>\n",
       "      <th>17</th>\n",
       "      <td>positiveIncrease_cluster5</td>\n",
       "      <td>348.766209</td>\n",
       "      <td>2.344951e+05</td>\n",
       "      <td>-6.464346</td>\n",
       "      <td>84.259562</td>\n",
       "      <td>9483.497741</td>\n",
       "      <td>0.305425</td>\n",
       "      <td>1102.872425</td>\n",
       "      <td>1.478764e+06</td>\n",
       "      <td>-32.302672</td>\n",
       "    </tr>\n",
       "    <tr>\n",
       "      <th>18</th>\n",
       "      <td>positiveIncrease_cluster6</td>\n",
       "      <td>359.286833</td>\n",
       "      <td>2.455355e+05</td>\n",
       "      <td>-5.389542</td>\n",
       "      <td>101.160282</td>\n",
       "      <td>12603.046757</td>\n",
       "      <td>-0.029686</td>\n",
       "      <td>1119.500628</td>\n",
       "      <td>1.373818e+06</td>\n",
       "      <td>-24.204436</td>\n",
       "    </tr>\n",
       "  </tbody>\n",
       "</table>\n",
       "</div>"
      ],
      "text/plain": [
       "                            model  mitjana_MAE   mitjana_MSE   mitjana_R2  \\\n",
       "0          deathIncrease_cluster1    13.097464  4.750030e+02    -0.868948   \n",
       "1          deathIncrease_cluster2   123.208078  2.005981e+04 -3441.758049   \n",
       "2          deathIncrease_cluster3    49.891932  3.273508e+03  -312.200335   \n",
       "3          deathIncrease_cluster4    11.241975  2.248633e+02   -27.941521   \n",
       "4          deathIncrease_cluster5    34.320397  1.730484e+03   -11.686677   \n",
       "5          deathIncrease_cluster6    29.268299  1.248662e+03   -20.086882   \n",
       "6   hospitalizedIncrease_cluster1     0.000000  0.000000e+00     1.000000   \n",
       "7   hospitalizedIncrease_cluster2     0.000000  0.000000e+00     1.000000   \n",
       "8   hospitalizedIncrease_cluster3    23.484497  1.220563e+03    -2.894450   \n",
       "9   hospitalizedIncrease_cluster4    46.180278  3.512939e+03    -2.759072   \n",
       "10  hospitalizedIncrease_cluster5     0.141252  1.996326e-02     0.000000   \n",
       "11  hospitalizedIncrease_cluster6    81.678934  5.901783e+04    -1.217832   \n",
       "12  hospitalizedIncrease_cluster7    12.862755  1.411127e+03    -2.929375   \n",
       "13      positiveIncrease_cluster1    84.826527  1.125511e+04    -4.283323   \n",
       "14      positiveIncrease_cluster2   643.179850  8.149479e+05   -69.194835   \n",
       "15      positiveIncrease_cluster3   992.677173  2.068841e+06    -3.929354   \n",
       "16      positiveIncrease_cluster4   428.834525  4.385603e+05   -15.215233   \n",
       "17      positiveIncrease_cluster5   348.766209  2.344951e+05    -6.464346   \n",
       "18      positiveIncrease_cluster6   359.286833  2.455355e+05    -5.389542   \n",
       "\n",
       "    millor_MAE     millor_MSE  millor_R2   pitjor_MAE    pitjor_MSE  \\\n",
       "0     1.750448       4.689418  -0.039769    24.280006  1.332112e+03   \n",
       "1    33.976026    1547.215126  -0.373395   198.162381  4.448377e+04   \n",
       "2    37.755046    1511.731859   0.286060    67.136050  6.460927e+03   \n",
       "3     5.644690      44.013273  -0.031859    25.332276  7.072586e+02   \n",
       "4    22.663161     904.401027   0.269807    53.479714  3.530556e+03   \n",
       "5    18.415666     418.469080   0.015084    51.081704  3.240225e+03   \n",
       "6     0.000000       0.000000   1.000000     0.000000  0.000000e+00   \n",
       "7     0.000000       0.000000   1.000000     0.000000  0.000000e+00   \n",
       "8     6.685122      50.974057   0.711702    51.640174  3.934542e+03   \n",
       "9    16.822773     319.458368   0.413002   106.339794  1.290671e+04   \n",
       "10    0.140713       0.019811   0.000000     0.141624  2.006837e-02   \n",
       "11   12.445480     310.539688   0.209054   314.821392  2.913339e+05   \n",
       "12    2.345923      11.036839  -0.005155    53.274666  8.906209e+03   \n",
       "13   38.808463    2193.474871  -0.821206   148.493442  2.617418e+04   \n",
       "14  285.248432  136764.806278   0.073148  1697.371208  3.355095e+06   \n",
       "15  145.421516   41077.047052  -0.143024  3295.327003  1.140664e+07   \n",
       "16  170.342061   29913.379841  -0.512690   896.117283  1.455847e+06   \n",
       "17   84.259562    9483.497741   0.305425  1102.872425  1.478764e+06   \n",
       "18  101.160282   12603.046757  -0.029686  1119.500628  1.373818e+06   \n",
       "\n",
       "       pitjor_R2  \n",
       "0      -2.902653  \n",
       "1  -21348.191069  \n",
       "2   -1559.912296  \n",
       "3    -245.367115  \n",
       "4     -32.308546  \n",
       "5     -87.269185  \n",
       "6       1.000000  \n",
       "7       1.000000  \n",
       "8     -17.359957  \n",
       "9     -17.586058  \n",
       "10      0.000000  \n",
       "11     -4.422979  \n",
       "12     -9.898020  \n",
       "13     -7.222009  \n",
       "14   -296.532069  \n",
       "15    -12.562824  \n",
       "16    -29.886624  \n",
       "17    -32.302672  \n",
       "18    -24.204436  "
      ]
     },
     "execution_count": 10,
     "metadata": {},
     "output_type": "execute_result"
    }
   ],
   "source": [
    "df_metriques['model'] = df_metriques['target'] + '_cluster' + df_metriques['cluster'].astype(str)\n",
    "\n",
    "mitjanes = df_metriques.groupby('model').agg({\n",
    "    'MAE': 'mean',\n",
    "    'MSE': 'mean',\n",
    "    'R2': 'mean'\n",
    "}).reset_index()\n",
    "mitjanes = mitjanes.rename(columns=lambda x: f'mitjana_{x}' if x != 'model' else x)\n",
    "\n",
    "# Millor resultat per model (mínim MAE, mínim MSE, màxim R2)\n",
    "millors = df_metriques.groupby('model').agg({\n",
    "    'MAE': 'min',\n",
    "    'MSE': 'min',\n",
    "    'R2': 'max'\n",
    "}).reset_index()\n",
    "millors = millors.rename(columns=lambda x: f'millor_{x}' if x != 'model' else x)\n",
    "\n",
    "# Pitjor resultat per model (màxim MAE, màxim MSE, mínim R2)\n",
    "pitjors = df_metriques.groupby('model').agg({\n",
    "    'MAE': 'max',\n",
    "    'MSE': 'max',\n",
    "    'R2': 'min'\n",
    "}).reset_index()\n",
    "pitjors = pitjors.rename(columns=lambda x: f'pitjor_{x}' if x != 'model' else x)\n",
    "\n",
    "# Juntar-ho tot en un sol DataFrame final\n",
    "resultats_models = mitjanes.merge(millors, on='model').merge(pitjors, on='model')\n",
    "\n",
    "resultats_models\n"
   ]
  }
 ],
 "metadata": {
  "kernelspec": {
   "display_name": "Python 3",
   "language": "python",
   "name": "python3"
  },
  "language_info": {
   "codemirror_mode": {
    "name": "ipython",
    "version": 3
   },
   "file_extension": ".py",
   "mimetype": "text/x-python",
   "name": "python",
   "nbconvert_exporter": "python",
   "pygments_lexer": "ipython3",
   "version": "3.10.11"
  }
 },
 "nbformat": 4,
 "nbformat_minor": 5
}
