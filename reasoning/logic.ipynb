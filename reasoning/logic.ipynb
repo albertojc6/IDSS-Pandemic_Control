{
 "cells": [
  {
   "cell_type": "code",
<<<<<<< HEAD
   "execution_count": null,
=======
   "execution_count": 59,
>>>>>>> 4d1518b4cdc3b7c18020dea30a225c91a112a6ff
   "id": "9b7848a4",
   "metadata": {},
   "outputs": [
    {
     "name": "stdout",
     "output_type": "stream",
     "text": [
      "Requirement already satisfied: scikit-fuzzy in /Library/Frameworks/Python.framework/Versions/3.13/lib/python3.13/site-packages (0.5.0)\n",
      "\n",
      "\u001b[1m[\u001b[0m\u001b[34;49mnotice\u001b[0m\u001b[1;39;49m]\u001b[0m\u001b[39;49m A new release of pip is available: \u001b[0m\u001b[31;49m24.3.1\u001b[0m\u001b[39;49m -> \u001b[0m\u001b[32;49m25.1.1\u001b[0m\n",
      "\u001b[1m[\u001b[0m\u001b[34;49mnotice\u001b[0m\u001b[1;39;49m]\u001b[0m\u001b[39;49m To update, run: \u001b[0m\u001b[32;49mpip3 install --upgrade pip\u001b[0m\n",
      "Note: you may need to restart the kernel to use updated packages.\n"
     ]
    }
   ],
   "source": [
    "pip install scikit-fuzzy"
   ]
  },
  {
   "cell_type": "code",
<<<<<<< HEAD
   "execution_count": null,
=======
   "execution_count": 60,
>>>>>>> 4d1518b4cdc3b7c18020dea30a225c91a112a6ff
   "id": "e80c12bb",
   "metadata": {},
   "outputs": [],
   "source": [
    "import numpy as np\n",
    "import skfuzzy as fuzz\n",
    "from skfuzzy import control as ctrl"
   ]
  },
  {
   "cell_type": "markdown",
   "id": "241e731f",
   "metadata": {},
   "source": [
    "Generem dades artificials que de moment no tenim les oficials"
   ]
  },
  {
   "cell_type": "code",
<<<<<<< HEAD
   "execution_count": 17,
=======
   "execution_count": 61,
>>>>>>> 4d1518b4cdc3b7c18020dea30a225c91a112a6ff
   "id": "9ab33f04",
   "metadata": {},
   "outputs": [
    {
     "name": "stdout",
     "output_type": "stream",
     "text": [
      "        state  hospitalitzats  morts  contagiats\n",
      "0     Alabama            1176     55       34763\n",
      "1      Alaska            1509    368       33606\n",
      "2     Arizona             910     59       12534\n",
      "3    Arkansas            1344    248       30127\n",
      "4  California            1180    324       41397\n"
     ]
    }
   ],
   "source": [
    "import pandas as pd\n",
    "import numpy as np\n",
    "\n",
    "# Llista dels 51 estats dels EUA (noms complets)\n",
    "estats_usa = [\n",
    "    \"Alabama\", \"Alaska\", \"Arizona\", \"Arkansas\", \"California\", \"Colorado\", \"Connecticut\", \"Delaware\",\n",
    "    \"District of Columbia\", \"Florida\", \"Georgia\", \"Hawaii\", \"Idaho\", \"Illinois\", \"Indiana\", \"Iowa\",\n",
    "    \"Kansas\", \"Kentucky\", \"Louisiana\", \"Maine\", \"Maryland\", \"Massachusetts\", \"Michigan\", \"Minnesota\",\n",
    "    \"Mississippi\", \"Missouri\", \"Montana\", \"Nebraska\", \"Nevada\", \"New Hampshire\", \"New Jersey\", \"New Mexico\",\n",
    "    \"New York\", \"North Carolina\", \"North Dakota\", \"Ohio\", \"Oklahoma\", \"Oregon\", \"Pennsylvania\", \"Rhode Island\",\n",
    "    \"South Carolina\", \"South Dakota\", \"Tennessee\", \"Texas\", \"Utah\", \"Vermont\", \"Virginia\", \"Washington\",\n",
    "    \"West Virginia\", \"Wisconsin\", \"Wyoming\"\n",
    "]\n",
    "# Genera dades aleatòries realistes (ajustables)\n",
    "np.random.seed(42)  # Per reprodibilitat\n",
    "\n",
    "# Genera valors aleatoris per hospitalitzats, morts i contagiats\n",
    "df_epidemiologic = pd.DataFrame({\n",
    "    \"state\": estats_usa,\n",
    "    \"hospitalitzats\": np.random.randint(50, 2000, size=51),  # Exemple: entre 50 i 2000\n",
    "    \"morts\": np.random.randint(5, 500, size=51),            # Exemple: entre 5 i 500\n",
    "    \"contagiats\": np.random.randint(1000, 50000, size=51)   # Exemple: entre 1000 i 50000\n",
    "})\n",
    "\n",
    "# Mostra les primeres files\n",
    "print(df_epidemiologic.head())"
   ]
  },
  {
   "cell_type": "code",
<<<<<<< HEAD
   "execution_count": 18,
=======
   "execution_count": 62,
>>>>>>> 4d1518b4cdc3b7c18020dea30a225c91a112a6ff
   "id": "260d563e",
   "metadata": {},
   "outputs": [],
   "source": [
    "import pandas as pd\n",
    "\n",
    "df_demografic_original = pd.read_csv(\"../data/preprocessed/dataMatrix/static_stateMatrix.csv\")\n",
    "columnes = [\n",
    "    \"state\", \n",
    "    \"population_state\",\n",
    "    \"pop_density_state\",\n",
    "    \"bedsTotal\",\n",
    "    \"pop_0-9\", \"pop_10-19\", \"pop_20-29\", \"pop_30-39\",\n",
    "    \"pop_40-49\", \"pop_50-59\", \"pop_60-69\", \"pop_70-79\", \"pop_80+\"\n",
    "]\n",
    "df_demografic = df_demografic_original[columnes]"
   ]
  },
  {
   "cell_type": "markdown",
   "id": "4f175c70",
   "metadata": {},
   "source": [
    "Fusionem per tenir dades població (x edad ens poden servir també x tenir zones amb molta gent gran)"
   ]
  },
  {
   "cell_type": "code",
<<<<<<< HEAD
   "execution_count": 19,
=======
   "execution_count": 63,
>>>>>>> 4d1518b4cdc3b7c18020dea30a225c91a112a6ff
   "id": "9f4037a9",
   "metadata": {},
   "outputs": [
    {
     "name": "stdout",
     "output_type": "stream",
     "text": [
      "        state  population_state  pop_density_state  bedsTotal   pop_0-9  \\\n",
      "0     Alabama           4887871          96.509389        3.1  0.120933   \n",
      "1      Alaska            737438           1.291523        2.2  0.142617   \n",
      "2     Arizona           7171646          63.135855        1.9  0.123774   \n",
      "3    Arkansas           3013825          57.919684        3.2  0.127289   \n",
      "4  California          39557045         253.906502        1.8  0.124635   \n",
      "\n",
      "   pop_10-19  pop_20-29  pop_30-39  pop_40-49  pop_50-59  pop_60-69  \\\n",
      "0   0.128108   0.136099   0.124291   0.123013   0.133249   0.120537   \n",
      "1   0.130210   0.155501   0.147626   0.117347   0.127204   0.109072   \n",
      "2   0.132496   0.140854   0.129224   0.119039   0.120016   0.113492   \n",
      "3   0.132222   0.135421   0.126671   0.119787   0.126968   0.115755   \n",
      "4   0.128760   0.147575   0.143412   0.128138   0.126974   0.104040   \n",
      "\n",
      "   pop_70-79   pop_80+  hospitalitzats  morts  contagiats  \n",
      "0   0.075243  0.038527            1176     55       34763  \n",
      "1   0.050675  0.019748            1509    368       33606  \n",
      "2   0.080306  0.040799             910     59       12534  \n",
      "3   0.075878  0.040010            1344    248       30127  \n",
      "4   0.060900  0.035566            1180    324       41397  \n"
     ]
    }
   ],
   "source": [
    "# Fusiona els dos DataFrames per la columna \"state\"\n",
    "df = pd.merge(\n",
    "    df_demografic, \n",
    "    df_epidemiologic, \n",
    "    on=\"state\", \n",
    "    how=\"inner\" \n",
    ")\n",
    "\n",
    "# Mostra les primeres files (opcional)\n",
    "print(df.head())"
   ]
  },
  {
   "cell_type": "code",
<<<<<<< HEAD
   "execution_count": 20,
=======
   "execution_count": 64,
>>>>>>> 4d1518b4cdc3b7c18020dea30a225c91a112a6ff
   "id": "3ca7a93b",
   "metadata": {},
   "outputs": [],
   "source": [
    "# IA (Incidència Acumulada)\n",
    "df[\"IA\"] = (df[\"contagiats\"] / df[\"population_state\"]) * 100000\n",
    "\n",
    "# θ (Ocupació hospitalària %)\n",
    "df[\"beds_real\"] = (df[\"bedsTotal\"] * df[\"population_state\"]) / 1000\n",
    "df[\"theta\"] = (df[\"hospitalitzats\"] / df[\"beds_real\"]) * 100\n",
    "\n",
    "# π (Taxa de mortalitat %) per 100000 habitants\n",
    "df[\"pi\"] = (df[\"morts\"] / df[\"population_state\"]) * 100000\n",
    "\n",
    "# % població >65\n",
<<<<<<< HEAD
    "df_combinat[\"pop_>65\"] = df_combinat[\"pop_70-79\"] + df_combinat[\"pop_80+\"]\n"
=======
    "df[\"pop_>65\"] = df[\"pop_70-79\"] + df[\"pop_80+\"]\n",
    "\n",
    "df[\"viatgers\"] = df[\"IA\"] > 100"
>>>>>>> 4d1518b4cdc3b7c18020dea30a225c91a112a6ff
   ]
  },
  {
   "cell_type": "code",
<<<<<<< HEAD
   "execution_count": 21,
   "id": "6b6738b5",
   "metadata": {},
   "outputs": [],
   "source": [
    "import numpy as np\n",
    "import skfuzzy as fuzz\n",
    "from skfuzzy import control as ctrl\n",
    "\n",
    "# Definir variables d'entrada i sortida\n",
    "ia = ctrl.Antecedent(np.arange(0, 1001, 1), 'ia')                  # Incidència acumulada (per 100k)\n",
    "ocupacio = ctrl.Antecedent(np.arange(0, 101, 1), 'ocupacio')       # Ocupació hospitalària (%)\n",
    "mortalitat = ctrl.Antecedent(np.arange(0, 101, 1), 'mortalitat')   # Taxa de mortalitat (per 100k)\n",
    "poblacio65 = ctrl.Antecedent(np.arange(0, 101, 1), 'poblacio65')   # % població >65 anys\n",
    "densitat = ctrl.Antecedent(np.arange(0, 10001, 1), 'densitat')     # Densitat (hab/km²)\n",
    "risc = ctrl.Consequent(np.arange(0, 101, 1), 'risc')               # Risc de confinament (0-100)\n",
    "\n",
    "# Funcions de membresia per a cada variable (ajustar rangs segons els teus datos)\n",
    "# --- IA ---\n",
    "ia['Baixa'] = fuzz.trimf(ia.universe, [0, 0, 300])\n",
    "ia['Mitjana'] = fuzz.trimf(ia.universe, [200, 400, 600])\n",
    "ia['Alta'] = fuzz.trimf(ia.universe, [500, 1000, 1000])\n",
    "\n",
    "# --- Ocupació Hospitalària ---\n",
    "ocupacio['Baixa'] = fuzz.trimf(ocupacio.universe, [0, 0, 30])\n",
    "ocupacio['Moderada'] = fuzz.trimf(ocupacio.universe, [20, 50, 80])\n",
    "ocupacio['Crítica'] = fuzz.trimf(ocupacio.universe, [60, 100, 100])\n",
    "\n",
    "# --- Mortalitat ---\n",
    "mortalitat['Baixa'] = fuzz.trimf(mortalitat.universe, [0, 0, 30])\n",
    "mortalitat['Mitjana'] = fuzz.trimf(mortalitat.universe, [20, 50, 80])\n",
    "mortalitat['Alta'] = fuzz.trimf(mortalitat.universe, [60, 100, 100])\n",
    "\n",
    "# --- Població >65 ---\n",
    "poblacio65['Baixa'] = fuzz.trimf(poblacio65.universe, [0, 0, 20])\n",
    "poblacio65['Mitjana'] = fuzz.trimf(poblacio65.universe, [15, 30, 45])\n",
    "poblacio65['Alta'] = fuzz.trimf(poblacio65.universe, [40, 100, 100])\n",
    "\n",
    "# --- Densitat ---\n",
    "densitat['Baixa'] = fuzz.trimf(densitat.universe, [0, 0, 2000])\n",
    "densitat['Mitjana'] = fuzz.trimf(densitat.universe, [1500, 4000, 6000])\n",
    "densitat['Alta'] = fuzz.trimf(densitat.universe, [5000, 10000, 10000])\n",
    "\n",
    "# --- Risc ---\n",
    "risc['Baix'] = fuzz.trimf(risc.universe, [0, 0, 30])\n",
    "risc['Moderat'] = fuzz.trimf(risc.universe, [20, 50, 80])\n",
    "risc['Alt'] = fuzz.trimf(risc.universe, [60, 80, 100])\n",
    "risc['Extrem'] = fuzz.trimf(risc.universe, [80, 100, 100])"
   ]
  },
  {
   "cell_type": "code",
   "execution_count": 22,
   "id": "a65ec886",
   "metadata": {},
   "outputs": [],
   "source": [
    "# Definir regles basades en combinacions de variables (exemples):\n",
    "rule1 = ctrl.Rule(\n",
    "    ia['Alta'] & ocupacio['Crítica'] & mortalitat['Alta'],\n",
    "    risc['Extrem']\n",
    ")\n",
    "rule2 = ctrl.Rule(\n",
    "    ia['Mitjana'] & ocupacio['Moderada'] & (poblacio65['Alta'] | densitat['Alta']),\n",
    "    risc['Alt']\n",
    ")\n",
    "rule3 = ctrl.Rule(\n",
    "    ia['Baixa'] & ocupacio['Baixa'] & mortalitat['Baixa'],\n",
    "    risc['Baix']\n",
    ")\n",
    "rule4 = ctrl.Rule(\n",
    "    (ia['Mitjana'] | mortalitat['Mitjana']) & densitat['Mitjana'],\n",
    "    risc['Moderat']\n",
    ")\n",
    "rule5 = ctrl.Rule(\n",
    "    ocupacio['Crítica'] & (poblacio65['Alta'] | mortalitat['Alta']),\n",
    "    risc['Alt']\n",
    ")\n",
    "\n",
    "# Crear sistema de control\n",
    "risc_ctrl = ctrl.ControlSystem([rule1, rule2, rule3, rule4, rule5])\n",
    "risc_sim = ctrl.ControlSystemSimulation(risc_ctrl)"
   ]
  },
  {
   "cell_type": "code",
   "execution_count": 23,
   "id": "049f8730",
   "metadata": {},
   "outputs": [
    {
     "ename": "KeyError",
     "evalue": "'risc'",
     "output_type": "error",
     "traceback": [
      "\u001b[1;31m---------------------------------------------------------------------------\u001b[0m",
      "\u001b[1;31mKeyError\u001b[0m                                  Traceback (most recent call last)",
      "Cell \u001b[1;32mIn[23], line 12\u001b[0m\n\u001b[0;32m      9\u001b[0m     risc_sim\u001b[38;5;241m.\u001b[39mcompute()\n\u001b[0;32m     10\u001b[0m     \u001b[38;5;28;01mreturn\u001b[39;00m risc_sim\u001b[38;5;241m.\u001b[39moutput[\u001b[38;5;124m'\u001b[39m\u001b[38;5;124mrisc\u001b[39m\u001b[38;5;124m'\u001b[39m]\n\u001b[1;32m---> 12\u001b[0m df_combinat[\u001b[38;5;124m'\u001b[39m\u001b[38;5;124mnivell_risc\u001b[39m\u001b[38;5;124m'\u001b[39m] \u001b[38;5;241m=\u001b[39m \u001b[43mdf_combinat\u001b[49m\u001b[38;5;241;43m.\u001b[39;49m\u001b[43mapply\u001b[49m\u001b[43m(\u001b[49m\u001b[43mcalcular_risc\u001b[49m\u001b[43m,\u001b[49m\u001b[43m \u001b[49m\u001b[43maxis\u001b[49m\u001b[38;5;241;43m=\u001b[39;49m\u001b[38;5;241;43m1\u001b[39;49m\u001b[43m)\u001b[49m\n\u001b[0;32m     14\u001b[0m \u001b[38;5;66;03m# Classificar decisió de confinament\u001b[39;00m\n\u001b[0;32m     15\u001b[0m df_combinat[\u001b[38;5;124m'\u001b[39m\u001b[38;5;124mconfinar\u001b[39m\u001b[38;5;124m'\u001b[39m] \u001b[38;5;241m=\u001b[39m np\u001b[38;5;241m.\u001b[39mwhere(\n\u001b[0;32m     16\u001b[0m     df_combinat[\u001b[38;5;124m'\u001b[39m\u001b[38;5;124mnivell_risc\u001b[39m\u001b[38;5;124m'\u001b[39m] \u001b[38;5;241m>\u001b[39m\u001b[38;5;241m=\u001b[39m \u001b[38;5;241m70\u001b[39m,  \u001b[38;5;66;03m# Ajusta el llindar\u001b[39;00m\n\u001b[0;32m     17\u001b[0m     \u001b[38;5;124m'\u001b[39m\u001b[38;5;124mSí\u001b[39m\u001b[38;5;124m'\u001b[39m,\n\u001b[0;32m     18\u001b[0m     \u001b[38;5;124m'\u001b[39m\u001b[38;5;124mNo\u001b[39m\u001b[38;5;124m'\u001b[39m\n\u001b[0;32m     19\u001b[0m )\n",
      "File \u001b[1;32m~\\AppData\\Local\\Packages\\PythonSoftwareFoundation.Python.3.11_qbz5n2kfra8p0\\LocalCache\\local-packages\\Python311\\site-packages\\pandas\\core\\frame.py:9568\u001b[0m, in \u001b[0;36mDataFrame.apply\u001b[1;34m(self, func, axis, raw, result_type, args, **kwargs)\u001b[0m\n\u001b[0;32m   9557\u001b[0m \u001b[38;5;28;01mfrom\u001b[39;00m \u001b[38;5;21;01mpandas\u001b[39;00m\u001b[38;5;21;01m.\u001b[39;00m\u001b[38;5;21;01mcore\u001b[39;00m\u001b[38;5;21;01m.\u001b[39;00m\u001b[38;5;21;01mapply\u001b[39;00m \u001b[38;5;28;01mimport\u001b[39;00m frame_apply\n\u001b[0;32m   9559\u001b[0m op \u001b[38;5;241m=\u001b[39m frame_apply(\n\u001b[0;32m   9560\u001b[0m     \u001b[38;5;28mself\u001b[39m,\n\u001b[0;32m   9561\u001b[0m     func\u001b[38;5;241m=\u001b[39mfunc,\n\u001b[1;32m   (...)\u001b[0m\n\u001b[0;32m   9566\u001b[0m     kwargs\u001b[38;5;241m=\u001b[39mkwargs,\n\u001b[0;32m   9567\u001b[0m )\n\u001b[1;32m-> 9568\u001b[0m \u001b[38;5;28;01mreturn\u001b[39;00m \u001b[43mop\u001b[49m\u001b[38;5;241;43m.\u001b[39;49m\u001b[43mapply\u001b[49m\u001b[43m(\u001b[49m\u001b[43m)\u001b[49m\u001b[38;5;241m.\u001b[39m__finalize__(\u001b[38;5;28mself\u001b[39m, method\u001b[38;5;241m=\u001b[39m\u001b[38;5;124m\"\u001b[39m\u001b[38;5;124mapply\u001b[39m\u001b[38;5;124m\"\u001b[39m)\n",
      "File \u001b[1;32m~\\AppData\\Local\\Packages\\PythonSoftwareFoundation.Python.3.11_qbz5n2kfra8p0\\LocalCache\\local-packages\\Python311\\site-packages\\pandas\\core\\apply.py:764\u001b[0m, in \u001b[0;36mFrameApply.apply\u001b[1;34m(self)\u001b[0m\n\u001b[0;32m    761\u001b[0m \u001b[38;5;28;01melif\u001b[39;00m \u001b[38;5;28mself\u001b[39m\u001b[38;5;241m.\u001b[39mraw:\n\u001b[0;32m    762\u001b[0m     \u001b[38;5;28;01mreturn\u001b[39;00m \u001b[38;5;28mself\u001b[39m\u001b[38;5;241m.\u001b[39mapply_raw()\n\u001b[1;32m--> 764\u001b[0m \u001b[38;5;28;01mreturn\u001b[39;00m \u001b[38;5;28;43mself\u001b[39;49m\u001b[38;5;241;43m.\u001b[39;49m\u001b[43mapply_standard\u001b[49m\u001b[43m(\u001b[49m\u001b[43m)\u001b[49m\n",
      "File \u001b[1;32m~\\AppData\\Local\\Packages\\PythonSoftwareFoundation.Python.3.11_qbz5n2kfra8p0\\LocalCache\\local-packages\\Python311\\site-packages\\pandas\\core\\apply.py:891\u001b[0m, in \u001b[0;36mFrameApply.apply_standard\u001b[1;34m(self)\u001b[0m\n\u001b[0;32m    890\u001b[0m \u001b[38;5;28;01mdef\u001b[39;00m \u001b[38;5;21mapply_standard\u001b[39m(\u001b[38;5;28mself\u001b[39m):\n\u001b[1;32m--> 891\u001b[0m     results, res_index \u001b[38;5;241m=\u001b[39m \u001b[38;5;28;43mself\u001b[39;49m\u001b[38;5;241;43m.\u001b[39;49m\u001b[43mapply_series_generator\u001b[49m\u001b[43m(\u001b[49m\u001b[43m)\u001b[49m\n\u001b[0;32m    893\u001b[0m     \u001b[38;5;66;03m# wrap results\u001b[39;00m\n\u001b[0;32m    894\u001b[0m     \u001b[38;5;28;01mreturn\u001b[39;00m \u001b[38;5;28mself\u001b[39m\u001b[38;5;241m.\u001b[39mwrap_results(results, res_index)\n",
      "File \u001b[1;32m~\\AppData\\Local\\Packages\\PythonSoftwareFoundation.Python.3.11_qbz5n2kfra8p0\\LocalCache\\local-packages\\Python311\\site-packages\\pandas\\core\\apply.py:907\u001b[0m, in \u001b[0;36mFrameApply.apply_series_generator\u001b[1;34m(self)\u001b[0m\n\u001b[0;32m    904\u001b[0m \u001b[38;5;28;01mwith\u001b[39;00m option_context(\u001b[38;5;124m\"\u001b[39m\u001b[38;5;124mmode.chained_assignment\u001b[39m\u001b[38;5;124m\"\u001b[39m, \u001b[38;5;28;01mNone\u001b[39;00m):\n\u001b[0;32m    905\u001b[0m     \u001b[38;5;28;01mfor\u001b[39;00m i, v \u001b[38;5;129;01min\u001b[39;00m \u001b[38;5;28menumerate\u001b[39m(series_gen):\n\u001b[0;32m    906\u001b[0m         \u001b[38;5;66;03m# ignore SettingWithCopy here in case the user mutates\u001b[39;00m\n\u001b[1;32m--> 907\u001b[0m         results[i] \u001b[38;5;241m=\u001b[39m \u001b[38;5;28;43mself\u001b[39;49m\u001b[38;5;241;43m.\u001b[39;49m\u001b[43mf\u001b[49m\u001b[43m(\u001b[49m\u001b[43mv\u001b[49m\u001b[43m)\u001b[49m\n\u001b[0;32m    908\u001b[0m         \u001b[38;5;28;01mif\u001b[39;00m \u001b[38;5;28misinstance\u001b[39m(results[i], ABCSeries):\n\u001b[0;32m    909\u001b[0m             \u001b[38;5;66;03m# If we have a view on v, we need to make a copy because\u001b[39;00m\n\u001b[0;32m    910\u001b[0m             \u001b[38;5;66;03m#  series_generator will swap out the underlying data\u001b[39;00m\n\u001b[0;32m    911\u001b[0m             results[i] \u001b[38;5;241m=\u001b[39m results[i]\u001b[38;5;241m.\u001b[39mcopy(deep\u001b[38;5;241m=\u001b[39m\u001b[38;5;28;01mFalse\u001b[39;00m)\n",
      "Cell \u001b[1;32mIn[23], line 10\u001b[0m, in \u001b[0;36mcalcular_risc\u001b[1;34m(row)\u001b[0m\n\u001b[0;32m      7\u001b[0m risc_sim\u001b[38;5;241m.\u001b[39minput[\u001b[38;5;124m'\u001b[39m\u001b[38;5;124mdensitat\u001b[39m\u001b[38;5;124m'\u001b[39m] \u001b[38;5;241m=\u001b[39m row[\u001b[38;5;124m'\u001b[39m\u001b[38;5;124mpop_density_state\u001b[39m\u001b[38;5;124m'\u001b[39m]\n\u001b[0;32m      9\u001b[0m risc_sim\u001b[38;5;241m.\u001b[39mcompute()\n\u001b[1;32m---> 10\u001b[0m \u001b[38;5;28;01mreturn\u001b[39;00m \u001b[43mrisc_sim\u001b[49m\u001b[38;5;241;43m.\u001b[39;49m\u001b[43moutput\u001b[49m\u001b[43m[\u001b[49m\u001b[38;5;124;43m'\u001b[39;49m\u001b[38;5;124;43mrisc\u001b[39;49m\u001b[38;5;124;43m'\u001b[39;49m\u001b[43m]\u001b[49m\n",
      "\u001b[1;31mKeyError\u001b[0m: 'risc'"
     ]
=======
   "execution_count": 65,
   "id": "d9487f35",
   "metadata": {},
   "outputs": [
    {
     "data": {
      "text/html": [
       "<div>\n",
       "<style scoped>\n",
       "    .dataframe tbody tr th:only-of-type {\n",
       "        vertical-align: middle;\n",
       "    }\n",
       "\n",
       "    .dataframe tbody tr th {\n",
       "        vertical-align: top;\n",
       "    }\n",
       "\n",
       "    .dataframe thead th {\n",
       "        text-align: right;\n",
       "    }\n",
       "</style>\n",
       "<table border=\"1\" class=\"dataframe\">\n",
       "  <thead>\n",
       "    <tr style=\"text-align: right;\">\n",
       "      <th></th>\n",
       "      <th>state</th>\n",
       "      <th>population_state</th>\n",
       "      <th>pop_density_state</th>\n",
       "      <th>bedsTotal</th>\n",
       "      <th>pop_0-9</th>\n",
       "      <th>pop_10-19</th>\n",
       "      <th>pop_20-29</th>\n",
       "      <th>pop_30-39</th>\n",
       "      <th>pop_40-49</th>\n",
       "      <th>pop_50-59</th>\n",
       "      <th>...</th>\n",
       "      <th>pop_80+</th>\n",
       "      <th>hospitalitzats</th>\n",
       "      <th>morts</th>\n",
       "      <th>contagiats</th>\n",
       "      <th>IA</th>\n",
       "      <th>beds_real</th>\n",
       "      <th>theta</th>\n",
       "      <th>pi</th>\n",
       "      <th>pop_&gt;65</th>\n",
       "      <th>viatgers</th>\n",
       "    </tr>\n",
       "  </thead>\n",
       "  <tbody>\n",
       "    <tr>\n",
       "      <th>0</th>\n",
       "      <td>Alabama</td>\n",
       "      <td>4887871</td>\n",
       "      <td>96.509389</td>\n",
       "      <td>3.1</td>\n",
       "      <td>0.120933</td>\n",
       "      <td>0.128108</td>\n",
       "      <td>0.136099</td>\n",
       "      <td>0.124291</td>\n",
       "      <td>0.123013</td>\n",
       "      <td>0.133249</td>\n",
       "      <td>...</td>\n",
       "      <td>0.038527</td>\n",
       "      <td>1176</td>\n",
       "      <td>55</td>\n",
       "      <td>34763</td>\n",
       "      <td>711.209441</td>\n",
       "      <td>15152.4001</td>\n",
       "      <td>7.761147</td>\n",
       "      <td>1.125234</td>\n",
       "      <td>0.113770</td>\n",
       "      <td>True</td>\n",
       "    </tr>\n",
       "    <tr>\n",
       "      <th>1</th>\n",
       "      <td>Alaska</td>\n",
       "      <td>737438</td>\n",
       "      <td>1.291523</td>\n",
       "      <td>2.2</td>\n",
       "      <td>0.142617</td>\n",
       "      <td>0.130210</td>\n",
       "      <td>0.155501</td>\n",
       "      <td>0.147626</td>\n",
       "      <td>0.117347</td>\n",
       "      <td>0.127204</td>\n",
       "      <td>...</td>\n",
       "      <td>0.019748</td>\n",
       "      <td>1509</td>\n",
       "      <td>368</td>\n",
       "      <td>33606</td>\n",
       "      <td>4557.128870</td>\n",
       "      <td>1622.3636</td>\n",
       "      <td>93.012442</td>\n",
       "      <td>49.902500</td>\n",
       "      <td>0.070424</td>\n",
       "      <td>True</td>\n",
       "    </tr>\n",
       "    <tr>\n",
       "      <th>2</th>\n",
       "      <td>Arizona</td>\n",
       "      <td>7171646</td>\n",
       "      <td>63.135855</td>\n",
       "      <td>1.9</td>\n",
       "      <td>0.123774</td>\n",
       "      <td>0.132496</td>\n",
       "      <td>0.140854</td>\n",
       "      <td>0.129224</td>\n",
       "      <td>0.119039</td>\n",
       "      <td>0.120016</td>\n",
       "      <td>...</td>\n",
       "      <td>0.040799</td>\n",
       "      <td>910</td>\n",
       "      <td>59</td>\n",
       "      <td>12534</td>\n",
       "      <td>174.771594</td>\n",
       "      <td>13626.1274</td>\n",
       "      <td>6.678346</td>\n",
       "      <td>0.822684</td>\n",
       "      <td>0.121105</td>\n",
       "      <td>True</td>\n",
       "    </tr>\n",
       "    <tr>\n",
       "      <th>3</th>\n",
       "      <td>Arkansas</td>\n",
       "      <td>3013825</td>\n",
       "      <td>57.919684</td>\n",
       "      <td>3.2</td>\n",
       "      <td>0.127289</td>\n",
       "      <td>0.132222</td>\n",
       "      <td>0.135421</td>\n",
       "      <td>0.126671</td>\n",
       "      <td>0.119787</td>\n",
       "      <td>0.126968</td>\n",
       "      <td>...</td>\n",
       "      <td>0.040010</td>\n",
       "      <td>1344</td>\n",
       "      <td>248</td>\n",
       "      <td>30127</td>\n",
       "      <td>999.626720</td>\n",
       "      <td>9644.2400</td>\n",
       "      <td>13.935779</td>\n",
       "      <td>8.228746</td>\n",
       "      <td>0.115888</td>\n",
       "      <td>True</td>\n",
       "    </tr>\n",
       "    <tr>\n",
       "      <th>4</th>\n",
       "      <td>California</td>\n",
       "      <td>39557045</td>\n",
       "      <td>253.906502</td>\n",
       "      <td>1.8</td>\n",
       "      <td>0.124635</td>\n",
       "      <td>0.128760</td>\n",
       "      <td>0.147575</td>\n",
       "      <td>0.143412</td>\n",
       "      <td>0.128138</td>\n",
       "      <td>0.126974</td>\n",
       "      <td>...</td>\n",
       "      <td>0.035566</td>\n",
       "      <td>1180</td>\n",
       "      <td>324</td>\n",
       "      <td>41397</td>\n",
       "      <td>104.651396</td>\n",
       "      <td>71202.6810</td>\n",
       "      <td>1.657241</td>\n",
       "      <td>0.819070</td>\n",
       "      <td>0.096466</td>\n",
       "      <td>True</td>\n",
       "    </tr>\n",
       "  </tbody>\n",
       "</table>\n",
       "<p>5 rows × 22 columns</p>\n",
       "</div>"
      ],
      "text/plain": [
       "        state  population_state  pop_density_state  bedsTotal   pop_0-9  \\\n",
       "0     Alabama           4887871          96.509389        3.1  0.120933   \n",
       "1      Alaska            737438           1.291523        2.2  0.142617   \n",
       "2     Arizona           7171646          63.135855        1.9  0.123774   \n",
       "3    Arkansas           3013825          57.919684        3.2  0.127289   \n",
       "4  California          39557045         253.906502        1.8  0.124635   \n",
       "\n",
       "   pop_10-19  pop_20-29  pop_30-39  pop_40-49  pop_50-59  ...   pop_80+  \\\n",
       "0   0.128108   0.136099   0.124291   0.123013   0.133249  ...  0.038527   \n",
       "1   0.130210   0.155501   0.147626   0.117347   0.127204  ...  0.019748   \n",
       "2   0.132496   0.140854   0.129224   0.119039   0.120016  ...  0.040799   \n",
       "3   0.132222   0.135421   0.126671   0.119787   0.126968  ...  0.040010   \n",
       "4   0.128760   0.147575   0.143412   0.128138   0.126974  ...  0.035566   \n",
       "\n",
       "   hospitalitzats  morts  contagiats           IA   beds_real      theta  \\\n",
       "0            1176     55       34763   711.209441  15152.4001   7.761147   \n",
       "1            1509    368       33606  4557.128870   1622.3636  93.012442   \n",
       "2             910     59       12534   174.771594  13626.1274   6.678346   \n",
       "3            1344    248       30127   999.626720   9644.2400  13.935779   \n",
       "4            1180    324       41397   104.651396  71202.6810   1.657241   \n",
       "\n",
       "          pi   pop_>65  viatgers  \n",
       "0   1.125234  0.113770      True  \n",
       "1  49.902500  0.070424      True  \n",
       "2   0.822684  0.121105      True  \n",
       "3   8.228746  0.115888      True  \n",
       "4   0.819070  0.096466      True  \n",
       "\n",
       "[5 rows x 22 columns]"
      ]
     },
     "execution_count": 65,
     "metadata": {},
     "output_type": "execute_result"
>>>>>>> 4d1518b4cdc3b7c18020dea30a225c91a112a6ff
    }
   ],
   "source": [
    "df.head()\n"
   ]
  },
  {
   "cell_type": "code",
<<<<<<< HEAD
   "execution_count": null,
   "id": "d9487f35",
   "metadata": {},
   "outputs": [],
   "source": [
    "df_combinat.head()\n"
=======
   "execution_count": 66,
   "id": "96f9fa84",
   "metadata": {},
   "outputs": [],
   "source": [
    "defuncions = ctrl.Antecedent(np.arange(0, 501, 1), 'defuncions')  # Exemple: 0-500 morts\n",
    "infectats = ctrl.Antecedent(np.arange(0, 100001, 1), 'infectats')  # Exemple: 0-100k infectats\n",
    "hospitalitzats = ctrl.Antecedent(np.arange(0, 10001, 1), 'hospitalitzats')  # Exemple: 0-10k hospitalitzats\n",
    "\n",
    "\n",
    "risc = ctrl.Consequent(np.arange(0, 11, 1), 'risc')\n",
    "\n",
    "# Funcions d'afiliació (exemple)\n",
    "defuncions.automf(3, names=['Baix', 'Mitjà', 'Alt'])\n",
    "infectats.automf(3, names=['Baix', 'Mitjà', 'Alt'])\n",
    "hospitalitzats.automf(3, names=['Baix', 'Mitjà', 'Alt'])\n",
    "\n",
    "risc['Baix'] = fuzz.trimf(risc.universe, [0, 0, 5])\n",
    "risc['Mitjà'] = fuzz.trimf(risc.universe, [0, 5, 10])\n",
    "risc['Alt'] = fuzz.trimf(risc.universe, [5, 10, 10])\n",
    "\n",
    "# Regles difuses (exemple)\n",
    "regla1 = ctrl.Rule(defuncions['Alt'] | infectats['Alt'] | hospitalitzats['Alt'], risc['Alt'])\n",
    "regla2 = ctrl.Rule(defuncions['Mitjà'] & infectats['Mitjà'], risc['Mitjà'])\n",
    "regla3 = ctrl.Rule(defuncions['Baix'] & infectats['Baix'] & hospitalitzats['Baix'], risc['Baix'])\n",
    "\n",
    "sistema_risc = ctrl.ControlSystem([regla1, regla2, regla3])\n",
    "calculador_risc = ctrl.ControlSystemSimulation(sistema_risc)"
>>>>>>> 4d1518b4cdc3b7c18020dea30a225c91a112a6ff
   ]
  },
  {
   "cell_type": "code",
<<<<<<< HEAD
   "execution_count": null,
   "id": "f6bf3d12",
   "metadata": {},
   "outputs": [],
=======
   "execution_count": 67,
   "id": "30656a60",
   "metadata": {},
   "outputs": [
    {
     "name": "stdout",
     "output_type": "stream",
     "text": [
      "                   state      risc\n",
      "0                Alabama  4.352421\n",
      "1                 Alaska  5.533006\n",
      "2                Arizona  3.479155\n",
      "3               Arkansas  4.995570\n",
      "4             California  5.223613\n",
      "5               Colorado  4.491967\n",
      "6            Connecticut  7.887089\n",
      "7               Delaware  5.189115\n",
      "8   District of Columbia  4.504773\n",
      "9                Florida  3.048313\n",
      "10               Georgia  5.319452\n",
      "11                Hawaii  4.172460\n",
      "12                 Idaho  5.085925\n",
      "13              Illinois  6.403960\n",
      "14               Indiana  4.143234\n",
      "15                  Iowa  5.389974\n",
      "16                Kansas  2.738277\n",
      "17              Kentucky  4.992242\n",
      "18             Louisiana  5.096328\n",
      "19                 Maine  5.376812\n",
      "20              Maryland  4.739319\n",
      "21         Massachusetts  5.760706\n",
      "22              Michigan  5.339552\n",
      "23             Minnesota  2.647217\n",
      "24           Mississippi  7.259238\n",
      "25              Missouri  7.508470\n",
      "26               Montana  6.931332\n",
      "27              Nebraska  7.070126\n",
      "28                Nevada  5.046951\n",
      "29         New Hampshire  6.420226\n",
      "30            New Jersey  3.970988\n",
      "31            New Mexico  4.857942\n",
      "32              New York  3.721626\n",
      "33        North Carolina  6.229182\n",
      "34          North Dakota  2.637117\n",
      "35                  Ohio  5.497938\n",
      "36              Oklahoma  5.783633\n",
      "37                Oregon  2.253725\n",
      "38          Pennsylvania  6.502428\n",
      "39          Rhode Island  4.180333\n",
      "40        South Carolina  3.904395\n",
      "41          South Dakota  5.026069\n",
      "42             Tennessee  5.210946\n",
      "43                 Texas  7.559949\n",
      "44                  Utah  4.759497\n",
      "45               Vermont  6.141697\n",
      "46              Virginia  4.940536\n",
      "47            Washington  3.481685\n",
      "48         West Virginia  4.316843\n",
      "49             Wisconsin  4.894463\n",
      "50               Wyoming  6.725490\n"
     ]
    }
   ],
   "source": [
    "resultats = []\n",
    "for _, estat in df.iterrows():\n",
    "    try:\n",
    "        calculador_risc.input['defuncions'] = estat['morts']\n",
    "        calculador_risc.input['infectats'] = estat['contagiats']\n",
    "        calculador_risc.input['hospitalitzats'] = estat['hospitalitzats']\n",
    "        \n",
    "        calculador_risc.compute()\n",
    "        resultats.append(calculador_risc.output['risc'])\n",
    "    except Exception as e:\n",
    "        print(f\"Error a l'estat {estat['state']}: {e}\")\n",
    "        resultats.append(np.nan)  # Afegeix NaN si hi ha error\n",
    "\n",
    "# Afegeix els resultats al DataFrame\n",
    "df['risc'] = resultats\n",
    "print(df[['state', 'risc']])"
   ]
  },
  {
   "cell_type": "code",
   "execution_count": 68,
   "id": "f6bf3d12",
   "metadata": {},
   "outputs": [
    {
     "data": {
      "text/plain": [
       "Index(['state', 'no_coverage', 'private_coverage', 'public_coverage',\n",
       "       'labor_cov_diff', 'bedsState_local_government', 'bedsNon_profit',\n",
       "       'bedsFor_profit', 'bedsTotal', 'population_state', 'pop_density_state',\n",
       "       'pop_0-9', 'pop_10-19', 'pop_20-29', 'pop_30-39', 'pop_40-49',\n",
       "       'pop_50-59', 'pop_60-69', 'pop_70-79', 'pop_80+', 'Low_SVI_CTGY',\n",
       "       'Moderate_Low_SVI_CTGY', 'Moderate_High_SVI_CTGY', 'High_SVI_CTGY',\n",
       "       'Metro', 'Non-metro'],\n",
       "      dtype='object')"
      ]
     },
     "execution_count": 68,
     "metadata": {},
     "output_type": "execute_result"
    }
   ],
>>>>>>> 4d1518b4cdc3b7c18020dea30a225c91a112a6ff
   "source": [
    "df_demografic_original.columns"
   ]
  },
  {
   "cell_type": "code",
<<<<<<< HEAD
   "execution_count": null,
   "id": "5f46361d",
   "metadata": {},
   "outputs": [],
=======
   "execution_count": 69,
   "id": "5f46361d",
   "metadata": {},
   "outputs": [
    {
     "data": {
      "text/plain": [
       "Index(['state', 'population_state', 'pop_density_state', 'bedsTotal',\n",
       "       'pop_0-9', 'pop_10-19', 'pop_20-29', 'pop_30-39', 'pop_40-49',\n",
       "       'pop_50-59', 'pop_60-69', 'pop_70-79', 'pop_80+'],\n",
       "      dtype='object')"
      ]
     },
     "execution_count": 69,
     "metadata": {},
     "output_type": "execute_result"
    }
   ],
>>>>>>> 4d1518b4cdc3b7c18020dea30a225c91a112a6ff
   "source": [
    "df_demografic.columns"
   ]
  },
  {
   "cell_type": "code",
<<<<<<< HEAD
   "execution_count": null,
   "id": "ec3afd93",
   "metadata": {},
   "outputs": [],
=======
   "execution_count": 70,
   "id": "ec3afd93",
   "metadata": {},
   "outputs": [
    {
     "data": {
      "text/plain": [
       "Index(['state', 'population_state', 'pop_density_state', 'bedsTotal',\n",
       "       'pop_0-9', 'pop_10-19', 'pop_20-29', 'pop_30-39', 'pop_40-49',\n",
       "       'pop_50-59', 'pop_60-69', 'pop_70-79', 'pop_80+', 'hospitalitzats',\n",
       "       'morts', 'contagiats', 'IA', 'beds_real', 'theta', 'pi', 'pop_>65',\n",
       "       'viatgers', 'risc'],\n",
       "      dtype='object')"
      ]
     },
     "execution_count": 70,
     "metadata": {},
     "output_type": "execute_result"
    }
   ],
>>>>>>> 4d1518b4cdc3b7c18020dea30a225c91a112a6ff
   "source": [
    "df.columns"
   ]
  },
  {
   "cell_type": "code",
<<<<<<< HEAD
   "execution_count": null,
   "id": "b58e06a5",
   "metadata": {},
   "outputs": [],
=======
   "execution_count": 71,
   "id": "b58e06a5",
   "metadata": {},
   "outputs": [
    {
     "data": {
      "text/html": [
       "<div>\n",
       "<style scoped>\n",
       "    .dataframe tbody tr th:only-of-type {\n",
       "        vertical-align: middle;\n",
       "    }\n",
       "\n",
       "    .dataframe tbody tr th {\n",
       "        vertical-align: top;\n",
       "    }\n",
       "\n",
       "    .dataframe thead th {\n",
       "        text-align: right;\n",
       "    }\n",
       "</style>\n",
       "<table border=\"1\" class=\"dataframe\">\n",
       "  <thead>\n",
       "    <tr style=\"text-align: right;\">\n",
       "      <th></th>\n",
       "      <th>state</th>\n",
       "      <th>population_state</th>\n",
       "      <th>pop_density_state</th>\n",
       "      <th>bedsTotal</th>\n",
       "      <th>pop_0-9</th>\n",
       "      <th>pop_10-19</th>\n",
       "      <th>pop_20-29</th>\n",
       "      <th>pop_30-39</th>\n",
       "      <th>pop_40-49</th>\n",
       "      <th>pop_50-59</th>\n",
       "      <th>...</th>\n",
       "      <th>hospitalitzats</th>\n",
       "      <th>morts</th>\n",
       "      <th>contagiats</th>\n",
       "      <th>IA</th>\n",
       "      <th>beds_real</th>\n",
       "      <th>theta</th>\n",
       "      <th>pi</th>\n",
       "      <th>pop_&gt;65</th>\n",
       "      <th>viatgers</th>\n",
       "      <th>risc</th>\n",
       "    </tr>\n",
       "  </thead>\n",
       "  <tbody>\n",
       "    <tr>\n",
       "      <th>0</th>\n",
       "      <td>Alabama</td>\n",
       "      <td>4887871</td>\n",
       "      <td>96.509389</td>\n",
       "      <td>3.1</td>\n",
       "      <td>0.120933</td>\n",
       "      <td>0.128108</td>\n",
       "      <td>0.136099</td>\n",
       "      <td>0.124291</td>\n",
       "      <td>0.123013</td>\n",
       "      <td>0.133249</td>\n",
       "      <td>...</td>\n",
       "      <td>1176</td>\n",
       "      <td>55</td>\n",
       "      <td>34763</td>\n",
       "      <td>711.209441</td>\n",
       "      <td>15152.4001</td>\n",
       "      <td>7.761147</td>\n",
       "      <td>1.125234</td>\n",
       "      <td>0.113770</td>\n",
       "      <td>True</td>\n",
       "      <td>4.352421</td>\n",
       "    </tr>\n",
       "    <tr>\n",
       "      <th>1</th>\n",
       "      <td>Alaska</td>\n",
       "      <td>737438</td>\n",
       "      <td>1.291523</td>\n",
       "      <td>2.2</td>\n",
       "      <td>0.142617</td>\n",
       "      <td>0.130210</td>\n",
       "      <td>0.155501</td>\n",
       "      <td>0.147626</td>\n",
       "      <td>0.117347</td>\n",
       "      <td>0.127204</td>\n",
       "      <td>...</td>\n",
       "      <td>1509</td>\n",
       "      <td>368</td>\n",
       "      <td>33606</td>\n",
       "      <td>4557.128870</td>\n",
       "      <td>1622.3636</td>\n",
       "      <td>93.012442</td>\n",
       "      <td>49.902500</td>\n",
       "      <td>0.070424</td>\n",
       "      <td>True</td>\n",
       "      <td>5.533006</td>\n",
       "    </tr>\n",
       "    <tr>\n",
       "      <th>2</th>\n",
       "      <td>Arizona</td>\n",
       "      <td>7171646</td>\n",
       "      <td>63.135855</td>\n",
       "      <td>1.9</td>\n",
       "      <td>0.123774</td>\n",
       "      <td>0.132496</td>\n",
       "      <td>0.140854</td>\n",
       "      <td>0.129224</td>\n",
       "      <td>0.119039</td>\n",
       "      <td>0.120016</td>\n",
       "      <td>...</td>\n",
       "      <td>910</td>\n",
       "      <td>59</td>\n",
       "      <td>12534</td>\n",
       "      <td>174.771594</td>\n",
       "      <td>13626.1274</td>\n",
       "      <td>6.678346</td>\n",
       "      <td>0.822684</td>\n",
       "      <td>0.121105</td>\n",
       "      <td>True</td>\n",
       "      <td>3.479155</td>\n",
       "    </tr>\n",
       "    <tr>\n",
       "      <th>3</th>\n",
       "      <td>Arkansas</td>\n",
       "      <td>3013825</td>\n",
       "      <td>57.919684</td>\n",
       "      <td>3.2</td>\n",
       "      <td>0.127289</td>\n",
       "      <td>0.132222</td>\n",
       "      <td>0.135421</td>\n",
       "      <td>0.126671</td>\n",
       "      <td>0.119787</td>\n",
       "      <td>0.126968</td>\n",
       "      <td>...</td>\n",
       "      <td>1344</td>\n",
       "      <td>248</td>\n",
       "      <td>30127</td>\n",
       "      <td>999.626720</td>\n",
       "      <td>9644.2400</td>\n",
       "      <td>13.935779</td>\n",
       "      <td>8.228746</td>\n",
       "      <td>0.115888</td>\n",
       "      <td>True</td>\n",
       "      <td>4.995570</td>\n",
       "    </tr>\n",
       "    <tr>\n",
       "      <th>4</th>\n",
       "      <td>California</td>\n",
       "      <td>39557045</td>\n",
       "      <td>253.906502</td>\n",
       "      <td>1.8</td>\n",
       "      <td>0.124635</td>\n",
       "      <td>0.128760</td>\n",
       "      <td>0.147575</td>\n",
       "      <td>0.143412</td>\n",
       "      <td>0.128138</td>\n",
       "      <td>0.126974</td>\n",
       "      <td>...</td>\n",
       "      <td>1180</td>\n",
       "      <td>324</td>\n",
       "      <td>41397</td>\n",
       "      <td>104.651396</td>\n",
       "      <td>71202.6810</td>\n",
       "      <td>1.657241</td>\n",
       "      <td>0.819070</td>\n",
       "      <td>0.096466</td>\n",
       "      <td>True</td>\n",
       "      <td>5.223613</td>\n",
       "    </tr>\n",
       "  </tbody>\n",
       "</table>\n",
       "<p>5 rows × 23 columns</p>\n",
       "</div>"
      ],
      "text/plain": [
       "        state  population_state  pop_density_state  bedsTotal   pop_0-9  \\\n",
       "0     Alabama           4887871          96.509389        3.1  0.120933   \n",
       "1      Alaska            737438           1.291523        2.2  0.142617   \n",
       "2     Arizona           7171646          63.135855        1.9  0.123774   \n",
       "3    Arkansas           3013825          57.919684        3.2  0.127289   \n",
       "4  California          39557045         253.906502        1.8  0.124635   \n",
       "\n",
       "   pop_10-19  pop_20-29  pop_30-39  pop_40-49  pop_50-59  ...  hospitalitzats  \\\n",
       "0   0.128108   0.136099   0.124291   0.123013   0.133249  ...            1176   \n",
       "1   0.130210   0.155501   0.147626   0.117347   0.127204  ...            1509   \n",
       "2   0.132496   0.140854   0.129224   0.119039   0.120016  ...             910   \n",
       "3   0.132222   0.135421   0.126671   0.119787   0.126968  ...            1344   \n",
       "4   0.128760   0.147575   0.143412   0.128138   0.126974  ...            1180   \n",
       "\n",
       "   morts  contagiats           IA   beds_real      theta         pi   pop_>65  \\\n",
       "0     55       34763   711.209441  15152.4001   7.761147   1.125234  0.113770   \n",
       "1    368       33606  4557.128870   1622.3636  93.012442  49.902500  0.070424   \n",
       "2     59       12534   174.771594  13626.1274   6.678346   0.822684  0.121105   \n",
       "3    248       30127   999.626720   9644.2400  13.935779   8.228746  0.115888   \n",
       "4    324       41397   104.651396  71202.6810   1.657241   0.819070  0.096466   \n",
       "\n",
       "   viatgers      risc  \n",
       "0      True  4.352421  \n",
       "1      True  5.533006  \n",
       "2      True  3.479155  \n",
       "3      True  4.995570  \n",
       "4      True  5.223613  \n",
       "\n",
       "[5 rows x 23 columns]"
      ]
     },
     "execution_count": 71,
     "metadata": {},
     "output_type": "execute_result"
    }
   ],
>>>>>>> 4d1518b4cdc3b7c18020dea30a225c91a112a6ff
   "source": [
    "df.head()"
   ]
  },
  {
   "cell_type": "markdown",
   "id": "fbff77ae",
   "metadata": {},
   "source": [
    "## Aplicació de regles de coneixement difús "
   ]
  },
  {
   "cell_type": "code",
<<<<<<< HEAD
   "execution_count": null,
   "id": "37fa9c51",
   "metadata": {},
   "outputs": [],
=======
   "execution_count": 72,
   "id": "37fa9c51",
   "metadata": {},
   "outputs": [
    {
     "data": {
      "text/plain": [
       "'\\ndef classifica_risc(row):\\n    if row[\"Rt\"] > 1.5 and row[\"IA\"] > 150 and row[\"theta\"] > 80:\\n        return \"Crític\"\\n    elif row[\"Rt\"] > 1.2 and (row[\"IA\"] > 100 or row[\"pi\"] > 1.5) and row[\"theta\"] > 70:\\n        return \"Alt\"\\n    elif row[\"IA\"] > 50 and row[\"positivity_rate\"] > 5:\\n        return \"Moderat\"\\n    else:\\n        return \"Baix\"\\n\\ndf[\"nivell_risc\"] = df.apply(classifica_risc, axis=1)\\n\\n# Mostrem les dades clau resultants\\nprint(df[[\"state\", \"IA\", \"Rt\", \"theta\", \"pi\", \"positivity_rate\", \"pop_>65\", \"nivell_risc\"]].head())\\n'"
      ]
     },
     "execution_count": 72,
     "metadata": {},
     "output_type": "execute_result"
    }
   ],
>>>>>>> 4d1518b4cdc3b7c18020dea30a225c91a112a6ff
   "source": [
    "\n",
    "def classifica_risc(row):\n",
    "    if row[\"Rt\"] > 1.5 and row[\"IA\"] > 150 and row[\"theta\"] > 80:\n",
    "        return \"Crític\"\n",
    "    elif row[\"Rt\"] > 1.2 and (row[\"IA\"] > 100 or row[\"pi\"] > 1.5) and row[\"theta\"] > 70:\n",
    "        return \"Alt\"\n",
    "    elif row[\"IA\"] > 50 and row[\"positivity_rate\"] > 5:\n",
    "        return \"Moderat\"\n",
    "    else:\n",
    "        return \"Baix\"\n",
    "\n",
    "df[\"nivell_risc\"] = df.apply(classifica_risc, axis=1)\n",
    "\n",
    "# Mostrem les dades clau resultants\n",
<<<<<<< HEAD
    "print(df_combinat[[\"state\", \"IA\", \"Rt\", \"theta\", \"pi\", \"positivity_rate\", \"pop_>65\", \"nivell_risc\"]].head())\n"
   ]
  },
  {
   "cell_type": "code",
   "execution_count": null,
   "id": "c9e0a069",
   "metadata": {},
   "outputs": [],
   "source": [
    "df_combinat.head()"
   ]
  },
  {
   "cell_type": "markdown",
   "id": "d62fb4e9",
   "metadata": {},
   "source": [
    "-----------------------------------------"
=======
    "print(df[[\"state\", \"IA\", \"Rt\", \"theta\", \"pi\", \"positivity_rate\", \"pop_>65\", \"nivell_risc\"]].head())\n",
    "'''"
>>>>>>> 4d1518b4cdc3b7c18020dea30a225c91a112a6ff
   ]
  }
 ],
 "metadata": {
  "kernelspec": {
   "display_name": "Python 3",
   "language": "python",
   "name": "python3"
  },
  "language_info": {
   "codemirror_mode": {
    "name": "ipython",
    "version": 3
   },
   "file_extension": ".py",
   "mimetype": "text/x-python",
   "name": "python",
   "nbconvert_exporter": "python",
   "pygments_lexer": "ipython3",
   "version": "3.13.2"
  }
 },
 "nbformat": 4,
 "nbformat_minor": 5
}
