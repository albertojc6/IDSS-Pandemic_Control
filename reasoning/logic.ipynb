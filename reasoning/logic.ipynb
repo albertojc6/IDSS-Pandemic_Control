{
 "cells": [
  {
   "cell_type": "code",
   "execution_count": null,
   "id": "9b7848a4",
   "metadata": {},
   "outputs": [],
   "source": [
    "pip install scikit-fuzzy"
   ]
  },
  {
   "cell_type": "code",
   "execution_count": null,
   "id": "e80c12bb",
   "metadata": {},
   "outputs": [],
   "source": [
    "import numpy as np\n",
    "import skfuzzy as fuzz\n",
    "from skfuzzy import control as ctrl"
   ]
  },
  {
   "cell_type": "markdown",
   "id": "241e731f",
   "metadata": {},
   "source": [
    "Generem dades artificials que de moment no tenim les oficials"
   ]
  },
  {
   "cell_type": "code",
   "execution_count": 17,
   "id": "9ab33f04",
   "metadata": {},
   "outputs": [
    {
     "name": "stdout",
     "output_type": "stream",
     "text": [
      "        state  hospitalitzats  morts  contagiats\n",
      "0     Alabama            1176     55       34763\n",
      "1      Alaska            1509    368       33606\n",
      "2     Arizona             910     59       12534\n",
      "3    Arkansas            1344    248       30127\n",
      "4  California            1180    324       41397\n"
     ]
    }
   ],
   "source": [
    "import pandas as pd\n",
    "import numpy as np\n",
    "\n",
    "# Llista dels 51 estats dels EUA (noms complets)\n",
    "estats_usa = [\n",
    "    \"Alabama\", \"Alaska\", \"Arizona\", \"Arkansas\", \"California\", \"Colorado\", \"Connecticut\", \"Delaware\",\n",
    "    \"District of Columbia\", \"Florida\", \"Georgia\", \"Hawaii\", \"Idaho\", \"Illinois\", \"Indiana\", \"Iowa\",\n",
    "    \"Kansas\", \"Kentucky\", \"Louisiana\", \"Maine\", \"Maryland\", \"Massachusetts\", \"Michigan\", \"Minnesota\",\n",
    "    \"Mississippi\", \"Missouri\", \"Montana\", \"Nebraska\", \"Nevada\", \"New Hampshire\", \"New Jersey\", \"New Mexico\",\n",
    "    \"New York\", \"North Carolina\", \"North Dakota\", \"Ohio\", \"Oklahoma\", \"Oregon\", \"Pennsylvania\", \"Rhode Island\",\n",
    "    \"South Carolina\", \"South Dakota\", \"Tennessee\", \"Texas\", \"Utah\", \"Vermont\", \"Virginia\", \"Washington\",\n",
    "    \"West Virginia\", \"Wisconsin\", \"Wyoming\"\n",
    "]\n",
    "# Genera dades aleatòries realistes (ajustables)\n",
    "np.random.seed(42)  # Per reprodibilitat\n",
    "\n",
    "# Genera valors aleatoris per hospitalitzats, morts i contagiats\n",
    "df_epidemiologic = pd.DataFrame({\n",
    "    \"state\": estats_usa,\n",
    "    \"hospitalitzats\": np.random.randint(50, 2000, size=51),  # Exemple: entre 50 i 2000\n",
    "    \"morts\": np.random.randint(5, 500, size=51),            # Exemple: entre 5 i 500\n",
    "    \"contagiats\": np.random.randint(1000, 50000, size=51)   # Exemple: entre 1000 i 50000\n",
    "})\n",
    "\n",
    "# Mostra les primeres files\n",
    "print(df_epidemiologic.head())"
   ]
  },
  {
   "cell_type": "code",
   "execution_count": 18,
   "id": "260d563e",
   "metadata": {},
   "outputs": [],
   "source": [
    "import pandas as pd\n",
    "\n",
    "df_demografic_original = pd.read_csv(\"../data/preprocessed/dataMatrix/static_stateMatrix.csv\")\n",
    "columnes = [\n",
    "    \"state\", \n",
    "    \"population_state\",\n",
    "    \"pop_density_state\",\n",
    "    \"bedsTotal\",\n",
    "    \"pop_0-9\", \"pop_10-19\", \"pop_20-29\", \"pop_30-39\",\n",
    "    \"pop_40-49\", \"pop_50-59\", \"pop_60-69\", \"pop_70-79\", \"pop_80+\"\n",
    "]\n",
    "df_demografic = df_demografic_original[columnes]"
   ]
  },
  {
   "cell_type": "markdown",
   "id": "4f175c70",
   "metadata": {},
   "source": [
    "Fusionem per tenir dades població (x edad ens poden servir també x tenir zones amb molta gent gran)"
   ]
  },
  {
   "cell_type": "code",
   "execution_count": 19,
   "id": "9f4037a9",
   "metadata": {},
   "outputs": [
    {
     "name": "stdout",
     "output_type": "stream",
     "text": [
      "        state  population_state  pop_density_state  bedsTotal   pop_0-9  \\\n",
      "0     Alabama           4887871          96.509389        3.1  0.120933   \n",
      "1      Alaska            737438           1.291523        2.2  0.142617   \n",
      "2     Arizona           7171646          63.135855        1.9  0.123774   \n",
      "3    Arkansas           3013825          57.919684        3.2  0.127289   \n",
      "4  California          39557045         253.906502        1.8  0.124635   \n",
      "\n",
      "   pop_10-19  pop_20-29  pop_30-39  pop_40-49  pop_50-59  pop_60-69  \\\n",
      "0   0.128108   0.136099   0.124291   0.123013   0.133249   0.120537   \n",
      "1   0.130210   0.155501   0.147626   0.117347   0.127204   0.109072   \n",
      "2   0.132496   0.140854   0.129224   0.119039   0.120016   0.113492   \n",
      "3   0.132222   0.135421   0.126671   0.119787   0.126968   0.115755   \n",
      "4   0.128760   0.147575   0.143412   0.128138   0.126974   0.104040   \n",
      "\n",
      "   pop_70-79   pop_80+  hospitalitzats  morts  contagiats  \n",
      "0   0.075243  0.038527            1176     55       34763  \n",
      "1   0.050675  0.019748            1509    368       33606  \n",
      "2   0.080306  0.040799             910     59       12534  \n",
      "3   0.075878  0.040010            1344    248       30127  \n",
      "4   0.060900  0.035566            1180    324       41397  \n"
     ]
    }
   ],
   "source": [
    "# Fusiona els dos DataFrames per la columna \"state\"\n",
    "df_combinat = pd.merge(\n",
    "    df_demografic, \n",
    "    df_epidemiologic, \n",
    "    on=\"state\", \n",
    "    how=\"inner\" \n",
    ")\n",
    "\n",
    "# Mostra les primeres files (opcional)\n",
    "print(df_combinat.head())"
   ]
  },
  {
   "cell_type": "code",
   "execution_count": 20,
   "id": "3ca7a93b",
   "metadata": {},
   "outputs": [],
   "source": [
    "# IA (Incidència Acumulada)\n",
    "df_combinat[\"IA\"] = (df_combinat[\"contagiats\"] / df_combinat[\"population_state\"]) * 100000\n",
    "\n",
    "# θ (Ocupació hospitalària %)\n",
    "df_combinat[\"beds_real\"] = (df_combinat[\"bedsTotal\"] * df_combinat[\"population_state\"]) / 1000\n",
    "df_combinat[\"theta\"] = (df_combinat[\"hospitalitzats\"] / df_combinat[\"beds_real\"]) * 100\n",
    "\n",
    "# π (Taxa de mortalitat %) per 100000 habitants\n",
    "df_combinat[\"pi\"] = (df_combinat[\"morts\"] / df_combinat[\"population_state\"]) * 100000\n",
    "\n",
    "# % població >65\n",
    "df_combinat[\"pop_>65\"] = df_combinat[\"pop_70-79\"] + df_combinat[\"pop_80+\"]\n"
   ]
  },
  {
   "cell_type": "code",
   "execution_count": 21,
   "id": "6b6738b5",
   "metadata": {},
   "outputs": [],
   "source": [
    "import numpy as np\n",
    "import skfuzzy as fuzz\n",
    "from skfuzzy import control as ctrl\n",
    "\n",
    "# Definir variables d'entrada i sortida\n",
    "ia = ctrl.Antecedent(np.arange(0, 1001, 1), 'ia')                  # Incidència acumulada (per 100k)\n",
    "ocupacio = ctrl.Antecedent(np.arange(0, 101, 1), 'ocupacio')       # Ocupació hospitalària (%)\n",
    "mortalitat = ctrl.Antecedent(np.arange(0, 101, 1), 'mortalitat')   # Taxa de mortalitat (per 100k)\n",
    "poblacio65 = ctrl.Antecedent(np.arange(0, 101, 1), 'poblacio65')   # % població >65 anys\n",
    "densitat = ctrl.Antecedent(np.arange(0, 10001, 1), 'densitat')     # Densitat (hab/km²)\n",
    "risc = ctrl.Consequent(np.arange(0, 101, 1), 'risc')               # Risc de confinament (0-100)\n",
    "\n",
    "# Funcions de membresia per a cada variable (ajustar rangs segons els teus datos)\n",
    "# --- IA ---\n",
    "ia['Baixa'] = fuzz.trimf(ia.universe, [0, 0, 300])\n",
    "ia['Mitjana'] = fuzz.trimf(ia.universe, [200, 400, 600])\n",
    "ia['Alta'] = fuzz.trimf(ia.universe, [500, 1000, 1000])\n",
    "\n",
    "# --- Ocupació Hospitalària ---\n",
    "ocupacio['Baixa'] = fuzz.trimf(ocupacio.universe, [0, 0, 30])\n",
    "ocupacio['Moderada'] = fuzz.trimf(ocupacio.universe, [20, 50, 80])\n",
    "ocupacio['Crítica'] = fuzz.trimf(ocupacio.universe, [60, 100, 100])\n",
    "\n",
    "# --- Mortalitat ---\n",
    "mortalitat['Baixa'] = fuzz.trimf(mortalitat.universe, [0, 0, 30])\n",
    "mortalitat['Mitjana'] = fuzz.trimf(mortalitat.universe, [20, 50, 80])\n",
    "mortalitat['Alta'] = fuzz.trimf(mortalitat.universe, [60, 100, 100])\n",
    "\n",
    "# --- Població >65 ---\n",
    "poblacio65['Baixa'] = fuzz.trimf(poblacio65.universe, [0, 0, 20])\n",
    "poblacio65['Mitjana'] = fuzz.trimf(poblacio65.universe, [15, 30, 45])\n",
    "poblacio65['Alta'] = fuzz.trimf(poblacio65.universe, [40, 100, 100])\n",
    "\n",
    "# --- Densitat ---\n",
    "densitat['Baixa'] = fuzz.trimf(densitat.universe, [0, 0, 2000])\n",
    "densitat['Mitjana'] = fuzz.trimf(densitat.universe, [1500, 4000, 6000])\n",
    "densitat['Alta'] = fuzz.trimf(densitat.universe, [5000, 10000, 10000])\n",
    "\n",
    "# --- Risc ---\n",
    "risc['Baix'] = fuzz.trimf(risc.universe, [0, 0, 30])\n",
    "risc['Moderat'] = fuzz.trimf(risc.universe, [20, 50, 80])\n",
    "risc['Alt'] = fuzz.trimf(risc.universe, [60, 80, 100])\n",
    "risc['Extrem'] = fuzz.trimf(risc.universe, [80, 100, 100])"
   ]
  },
  {
   "cell_type": "code",
   "execution_count": 22,
   "id": "a65ec886",
   "metadata": {},
   "outputs": [],
   "source": [
    "# Definir regles basades en combinacions de variables (exemples):\n",
    "rule1 = ctrl.Rule(\n",
    "    ia['Alta'] & ocupacio['Crítica'] & mortalitat['Alta'],\n",
    "    risc['Extrem']\n",
    ")\n",
    "rule2 = ctrl.Rule(\n",
    "    ia['Mitjana'] & ocupacio['Moderada'] & (poblacio65['Alta'] | densitat['Alta']),\n",
    "    risc['Alt']\n",
    ")\n",
    "rule3 = ctrl.Rule(\n",
    "    ia['Baixa'] & ocupacio['Baixa'] & mortalitat['Baixa'],\n",
    "    risc['Baix']\n",
    ")\n",
    "rule4 = ctrl.Rule(\n",
    "    (ia['Mitjana'] | mortalitat['Mitjana']) & densitat['Mitjana'],\n",
    "    risc['Moderat']\n",
    ")\n",
    "rule5 = ctrl.Rule(\n",
    "    ocupacio['Crítica'] & (poblacio65['Alta'] | mortalitat['Alta']),\n",
    "    risc['Alt']\n",
    ")\n",
    "\n",
    "# Crear sistema de control\n",
    "risc_ctrl = ctrl.ControlSystem([rule1, rule2, rule3, rule4, rule5])\n",
    "risc_sim = ctrl.ControlSystemSimulation(risc_ctrl)"
   ]
  },
  {
   "cell_type": "code",
   "execution_count": 27,
   "id": "049f8730",
   "metadata": {},
   "outputs": [
    {
     "name": "stdout",
     "output_type": "stream",
     "text": [
      "Error a la fila 0: 'risc'\n",
      "Error a la fila 1: 'risc'\n",
      "Error a la fila 3: 'risc'\n",
      "Error a la fila 5: 'risc'\n",
      "Error a la fila 7: 'risc'\n",
      "Error a la fila 8: 'risc'\n",
      "Error a la fila 11: 'risc'\n",
      "Error a la fila 12: 'risc'\n",
      "Error a la fila 14: 'risc'\n",
      "Error a la fila 15: 'risc'\n",
      "Error a la fila 16: 'risc'\n",
      "Error a la fila 17: 'risc'\n",
      "Error a la fila 19: 'risc'\n",
      "Error a la fila 20: 'risc'\n",
      "Error a la fila 21: 'risc'\n",
      "Error a la fila 22: 'risc'\n",
      "Error a la fila 26: 'risc'\n",
      "Error a la fila 27: 'risc'\n",
      "Error a la fila 28: 'risc'\n",
      "Error a la fila 29: 'risc'\n",
      "Error a la fila 30: 'risc'\n",
      "Error a la fila 31: 'risc'\n",
      "Error a la fila 33: 'risc'\n",
      "Error a la fila 34: 'risc'\n",
      "Error a la fila 36: 'risc'\n",
      "Error a la fila 37: 'risc'\n",
      "Error a la fila 39: 'risc'\n",
      "Error a la fila 41: 'risc'\n",
      "Error a la fila 42: 'risc'\n",
      "Error a la fila 44: 'risc'\n",
      "Error a la fila 46: 'risc'\n",
      "Error a la fila 48: 'risc'\n",
      "Error a la fila 49: 'risc'\n",
      "Error a la fila 50: 'risc'\n",
      "Error a la fila 0: 'risc'\n",
      "Error a la fila 1: 'risc'\n",
      "Error a la fila 3: 'risc'\n",
      "Error a la fila 5: 'risc'\n",
      "Error a la fila 7: 'risc'\n",
      "Error a la fila 8: 'risc'\n",
      "Error a la fila 11: 'risc'\n",
      "Error a la fila 12: 'risc'\n",
      "Error a la fila 14: 'risc'\n",
      "Error a la fila 15: 'risc'\n",
      "Error a la fila 16: 'risc'\n",
      "Error a la fila 17: 'risc'\n",
      "Error a la fila 19: 'risc'\n",
      "Error a la fila 20: 'risc'\n",
      "Error a la fila 21: 'risc'\n",
      "Error a la fila 22: 'risc'\n",
      "Error a la fila 26: 'risc'\n",
      "Error a la fila 27: 'risc'\n",
      "Error a la fila 28: 'risc'\n",
      "Error a la fila 29: 'risc'\n",
      "Error a la fila 30: 'risc'\n",
      "Error a la fila 31: 'risc'\n",
      "Error a la fila 33: 'risc'\n",
      "Error a la fila 34: 'risc'\n",
      "Error a la fila 36: 'risc'\n",
      "Error a la fila 37: 'risc'\n",
      "Error a la fila 39: 'risc'\n",
      "Error a la fila 41: 'risc'\n",
      "Error a la fila 42: 'risc'\n",
      "Error a la fila 44: 'risc'\n",
      "Error a la fila 46: 'risc'\n",
      "Error a la fila 48: 'risc'\n",
      "Error a la fila 49: 'risc'\n",
      "Error a la fila 50: 'risc'\n"
     ]
    }
   ],
   "source": [
    "# Aplicar a cada fila del DataFrame\n",
    "def calcular_risc(row):\n",
    "    try:\n",
    "        # Definir el sistema de control cada vegada (evita problemes d'estat)\n",
    "        risc_ctrl = ctrl.ControlSystem([rule1, rule2, rule3, rule4, rule5])\n",
    "        risc_sim = ctrl.ControlSystemSimulation(risc_ctrl)\n",
    "        \n",
    "        # Assignar valors (noms exactes!)\n",
    "        risc_sim.input['ia'] = row['IA']\n",
    "        risc_sim.input['ocupacio'] = row['theta']\n",
    "        risc_sim.input['mortalitat'] = row['pi']\n",
    "        risc_sim.input['poblacio65'] = row['pop_>65']\n",
    "        risc_sim.input['densitat'] = row['pop_density_state']\n",
    "        \n",
    "        risc_sim.compute()\n",
    "        return risc_sim.output['risc']\n",
    "    except Exception as e:\n",
    "        print(f\"Error a la fila {row.name}: {e}\")\n",
    "        return 0  # Valor per defecte\n",
    "\n",
    "df_combinat['nivell_risc'] = df_combinat.apply(calcular_risc, axis=1)\n",
    "df_combinat['risc'] = df_combinat.apply(calcular_risc, axis=1)\n",
    "\n",
    "# Classificar decisió de confinament\n",
    "df_combinat['confinar'] = np.where(\n",
    "    df_combinat['nivell_risc'] >= 70,  # Ajusta el llindar\n",
    "    'Sí',\n",
    "    'No'\n",
    ")"
   ]
  },
  {
   "cell_type": "code",
   "execution_count": null,
   "id": "d9487f35",
   "metadata": {},
   "outputs": [],
   "source": [
    "df_combinat.head()\n"
   ]
  },
  {
   "cell_type": "code",
   "execution_count": null,
   "id": "f6bf3d12",
   "metadata": {},
   "outputs": [],
   "source": [
    "df_demografic_original.columns"
   ]
  },
  {
   "cell_type": "code",
   "execution_count": null,
   "id": "5f46361d",
   "metadata": {},
   "outputs": [],
   "source": [
    "df_demografic.columns"
   ]
  },
  {
   "cell_type": "code",
   "execution_count": null,
   "id": "ec3afd93",
   "metadata": {},
   "outputs": [],
   "source": [
    "df_combinat.columns"
   ]
  },
  {
   "cell_type": "code",
   "execution_count": null,
   "id": "b58e06a5",
   "metadata": {},
   "outputs": [],
   "source": [
    "df_combinat.head()"
   ]
  },
  {
   "cell_type": "markdown",
   "id": "fbff77ae",
   "metadata": {},
   "source": [
    "## Aplicació de regles de coneixement difús "
   ]
  },
  {
   "cell_type": "code",
   "execution_count": null,
   "id": "37fa9c51",
   "metadata": {},
   "outputs": [],
   "source": [
    "\n",
    "def classifica_risc(row):\n",
    "    if row[\"Rt\"] > 1.5 and row[\"IA\"] > 150 and row[\"theta\"] > 80:\n",
    "        return \"Crític\"\n",
    "    elif row[\"Rt\"] > 1.2 and (row[\"IA\"] > 100 or row[\"pi\"] > 1.5) and row[\"theta\"] > 70:\n",
    "        return \"Alt\"\n",
    "    elif row[\"IA\"] > 50 and row[\"positivity_rate\"] > 5:\n",
    "        return \"Moderat\"\n",
    "    else:\n",
    "        return \"Baix\"\n",
    "\n",
    "df_combinat[\"nivell_risc\"] = df_combinat.apply(classifica_risc, axis=1)\n",
    "\n",
    "# Mostrem les dades clau resultants\n",
    "print(df_combinat[[\"state\", \"IA\", \"Rt\", \"theta\", \"pi\", \"positivity_rate\", \"pop_>65\", \"nivell_risc\"]].head())\n"
   ]
  },
  {
   "cell_type": "code",
   "execution_count": null,
   "id": "c9e0a069",
   "metadata": {},
   "outputs": [],
   "source": [
    "df_combinat.head()"
   ]
  },
  {
   "cell_type": "markdown",
   "id": "d62fb4e9",
   "metadata": {},
   "source": [
    "-----------------------------------------"
   ]
  }
 ],
 "metadata": {
  "kernelspec": {
   "display_name": "Python 3",
   "language": "python",
   "name": "python3"
  },
  "language_info": {
   "codemirror_mode": {
    "name": "ipython",
    "version": 3
   },
   "file_extension": ".py",
   "mimetype": "text/x-python",
   "name": "python",
   "nbconvert_exporter": "python",
   "pygments_lexer": "ipython3",
   "version": "3.13.2"
  }
 },
 "nbformat": 4,
 "nbformat_minor": 5
}
