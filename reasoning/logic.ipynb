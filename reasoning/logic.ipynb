{
 "cells": [
  {
   "cell_type": "code",
   "execution_count": 1,
   "id": "9b7848a4",
   "metadata": {},
   "outputs": [
    {
     "name": "stdout",
     "output_type": "stream",
     "text": [
      "Collecting scikit-fuzzy\n",
      "  Downloading scikit_fuzzy-0.5.0-py2.py3-none-any.whl.metadata (2.6 kB)\n",
      "Downloading scikit_fuzzy-0.5.0-py2.py3-none-any.whl (920 kB)\n",
      "   ---------------------------------------- 0.0/920.8 kB ? eta -:--:--\n",
      "   --------------------------------------- 920.8/920.8 kB 14.0 MB/s eta 0:00:00\n",
      "Installing collected packages: scikit-fuzzy\n",
      "Successfully installed scikit-fuzzy-0.5.0\n",
      "Note: you may need to restart the kernel to use updated packages.\n"
     ]
    },
    {
     "name": "stderr",
     "output_type": "stream",
     "text": [
      "\n",
      "[notice] A new release of pip is available: 24.2 -> 25.1.1\n",
      "[notice] To update, run: C:\\Users\\aleix\\AppData\\Local\\Microsoft\\WindowsApps\\PythonSoftwareFoundation.Python.3.11_qbz5n2kfra8p0\\python.exe -m pip install --upgrade pip\n"
     ]
    }
   ],
   "source": [
    "pip install scikit-fuzzy"
   ]
  },
  {
   "cell_type": "code",
   "execution_count": 2,
   "id": "e80c12bb",
   "metadata": {},
   "outputs": [],
   "source": [
    "import numpy as np\n",
    "import skfuzzy as fuzz\n",
    "from skfuzzy import control as ctrl"
   ]
  },
  {
   "cell_type": "code",
   "execution_count": 9,
   "id": "9ab33f04",
   "metadata": {},
   "outputs": [
    {
     "name": "stdout",
     "output_type": "stream",
     "text": [
      "        state  hospitalitzats  morts  contagiats\n",
      "0     Alabama            1176     55       34763\n",
      "1      Alaska            1509    368       33606\n",
      "2     Arizona             910     59       12534\n",
      "3    Arkansas            1344    248       30127\n",
      "4  California            1180    324       41397\n"
     ]
    }
   ],
   "source": [
    "import pandas as pd\n",
    "import numpy as np\n",
    "\n",
    "# Llista dels 51 estats dels EUA (noms complets)\n",
    "estats_usa = [\n",
    "    \"Alabama\", \"Alaska\", \"Arizona\", \"Arkansas\", \"California\", \"Colorado\", \"Connecticut\", \"Delaware\",\n",
    "    \"District of Columbia\", \"Florida\", \"Georgia\", \"Hawaii\", \"Idaho\", \"Illinois\", \"Indiana\", \"Iowa\",\n",
    "    \"Kansas\", \"Kentucky\", \"Louisiana\", \"Maine\", \"Maryland\", \"Massachusetts\", \"Michigan\", \"Minnesota\",\n",
    "    \"Mississippi\", \"Missouri\", \"Montana\", \"Nebraska\", \"Nevada\", \"New Hampshire\", \"New Jersey\", \"New Mexico\",\n",
    "    \"New York\", \"North Carolina\", \"North Dakota\", \"Ohio\", \"Oklahoma\", \"Oregon\", \"Pennsylvania\", \"Rhode Island\",\n",
    "    \"South Carolina\", \"South Dakota\", \"Tennessee\", \"Texas\", \"Utah\", \"Vermont\", \"Virginia\", \"Washington\",\n",
    "    \"West Virginia\", \"Wisconsin\", \"Wyoming\"\n",
    "]\n",
    "# Genera dades aleatòries realistes (ajustables)\n",
    "np.random.seed(42)  # Per reprodibilitat\n",
    "\n",
    "# Genera valors aleatoris per hospitalitzats, morts i contagiats\n",
    "df_epidemiologic = pd.DataFrame({\n",
    "    \"state\": estats_usa,\n",
    "    \"hospitalitzats\": np.random.randint(50, 2000, size=51),  # Exemple: entre 50 i 2000\n",
    "    \"morts\": np.random.randint(5, 500, size=51),            # Exemple: entre 5 i 500\n",
    "    \"contagiats\": np.random.randint(1000, 50000, size=51)   # Exemple: entre 1000 i 50000\n",
    "})\n",
    "\n",
    "# Mostra les primeres files\n",
    "print(df_epidemiologic.head())"
   ]
  },
  {
   "cell_type": "code",
   "execution_count": 10,
   "id": "260d563e",
   "metadata": {},
   "outputs": [],
   "source": [
    "import pandas as pd\n",
    "\n",
    "# Llegeix el fitxer demogràfic (ajusta la ruta i el delimitador)\n",
    "df_demografic = pd.read_csv(\"C:/Users/aleix/Desktop/UNI/6eQuadrimestre/PAID/IDSS/IDSS-Pandemic_Control/data/preprocessed/dataMatrix/static_stateMatrix.csv\")\n",
    "\n",
    "# Selecciona les columnes demogràfiques necessàries\n",
    "columnes_demografia = [\n",
    "    \"state\", \n",
    "    \"population_state\",\n",
    "    \"pop_0-9\", \"pop_10-19\", \"pop_20-29\", \"pop_30-39\",\n",
    "    \"pop_40-49\", \"pop_50-59\", \"pop_60-69\", \"pop_70-79\", \"pop_80+\"\n",
    "]\n",
    "df_demografic = df_demografic[columnes_demografia]"
   ]
  },
  {
   "cell_type": "code",
   "execution_count": 11,
   "id": "9f4037a9",
   "metadata": {},
   "outputs": [
    {
     "name": "stdout",
     "output_type": "stream",
     "text": [
      "        state  population_state   pop_0-9  pop_10-19  pop_20-29  pop_30-39  \\\n",
      "0     Alabama           4887871  0.120933   0.128108   0.136099   0.124291   \n",
      "1      Alaska            737438  0.142617   0.130210   0.155501   0.147626   \n",
      "2     Arizona           7171646  0.123774   0.132496   0.140854   0.129224   \n",
      "3    Arkansas           3013825  0.127289   0.132222   0.135421   0.126671   \n",
      "4  California          39557045  0.124635   0.128760   0.147575   0.143412   \n",
      "\n",
      "   pop_40-49  pop_50-59  pop_60-69  pop_70-79   pop_80+  hospitalitzats  \\\n",
      "0   0.123013   0.133249   0.120537   0.075243  0.038527            1176   \n",
      "1   0.117347   0.127204   0.109072   0.050675  0.019748            1509   \n",
      "2   0.119039   0.120016   0.113492   0.080306  0.040799             910   \n",
      "3   0.119787   0.126968   0.115755   0.075878  0.040010            1344   \n",
      "4   0.128138   0.126974   0.104040   0.060900  0.035566            1180   \n",
      "\n",
      "   morts  contagiats  \n",
      "0     55       34763  \n",
      "1    368       33606  \n",
      "2     59       12534  \n",
      "3    248       30127  \n",
      "4    324       41397  \n"
     ]
    }
   ],
   "source": [
    "# Fusiona els dos DataFrames per la columna \"state\"\n",
    "df_combinat = pd.merge(\n",
    "    df_demografic, \n",
    "    df_epidemiologic, \n",
    "    on=\"state\", \n",
    "    how=\"inner\"  # Només estats presents a tots dos fitxers\n",
    ")\n",
    "\n",
    "# Mostra les primeres files (opcional)\n",
    "print(df_combinat.head())"
   ]
  },
  {
   "cell_type": "code",
   "execution_count": 18,
   "id": "96f9fa84",
   "metadata": {},
   "outputs": [],
   "source": [
    "defuncions = ctrl.Antecedent(np.arange(0, 501, 1), 'defuncions')  # Exemple: 0-500 morts\n",
    "infectats = ctrl.Antecedent(np.arange(0, 100001, 1), 'infectats')  # Exemple: 0-100k infectats\n",
    "hospitalitzats = ctrl.Antecedent(np.arange(0, 10001, 1), 'hospitalitzats')  # Exemple: 0-10k hospitalitzats\n",
    "\n",
    "\n",
    "# Variable de sortida\n",
    "risc = ctrl.Consequent(np.arange(0, 11, 1), 'risc')\n",
    "\n",
    "# Funcions d'afiliació (exemple)\n",
    "defuncions.automf(3, names=['Baix', 'Mitjà', 'Alt'])\n",
    "infectats.automf(3, names=['Baix', 'Mitjà', 'Alt'])\n",
    "hospitalitzats.automf(3, names=['Baix', 'Mitjà', 'Alt'])\n",
    "\n",
    "risc['Baix'] = fuzz.trimf(risc.universe, [0, 0, 5])\n",
    "risc['Mitjà'] = fuzz.trimf(risc.universe, [0, 5, 10])\n",
    "risc['Alt'] = fuzz.trimf(risc.universe, [5, 10, 10])\n",
    "\n",
    "# Regles difuses (exemple)\n",
    "regla1 = ctrl.Rule(defuncions['Alt'] | infectats['Alt'] | hospitalitzats['Alt'], risc['Alt'])\n",
    "regla2 = ctrl.Rule(defuncions['Mitjà'] & infectats['Mitjà'], risc['Mitjà'])\n",
    "regla3 = ctrl.Rule(defuncions['Baix'] & infectats['Baix'] & hospitalitzats['Baix'], risc['Baix'])\n",
    "\n",
    "sistema_risc = ctrl.ControlSystem([regla1, regla2, regla3])\n",
    "calculador_risc = ctrl.ControlSystemSimulation(sistema_risc)"
   ]
  },
  {
   "cell_type": "code",
   "execution_count": 21,
   "id": "30656a60",
   "metadata": {},
   "outputs": [
    {
     "name": "stdout",
     "output_type": "stream",
     "text": [
      "                   state      risc\n",
      "0                Alabama  4.352421\n",
      "1                 Alaska  5.533006\n",
      "2                Arizona  3.479155\n",
      "3               Arkansas  4.995570\n",
      "4             California  5.223613\n",
      "5               Colorado  4.491967\n",
      "6            Connecticut  7.887089\n",
      "7               Delaware  5.189115\n",
      "8   District of Columbia  4.504773\n",
      "9                Florida  3.048313\n",
      "10               Georgia  5.319452\n",
      "11                Hawaii  4.172460\n",
      "12                 Idaho  5.085925\n",
      "13              Illinois  6.403960\n",
      "14               Indiana  4.143234\n",
      "15                  Iowa  5.389974\n",
      "16                Kansas  2.738277\n",
      "17              Kentucky  4.992242\n",
      "18             Louisiana  5.096328\n",
      "19                 Maine  5.376812\n",
      "20              Maryland  4.739319\n",
      "21         Massachusetts  5.760706\n",
      "22              Michigan  5.339552\n",
      "23             Minnesota  2.647217\n",
      "24           Mississippi  7.259238\n",
      "25              Missouri  7.508470\n",
      "26               Montana  6.931332\n",
      "27              Nebraska  7.070126\n",
      "28                Nevada  5.046951\n",
      "29         New Hampshire  6.420226\n",
      "30            New Jersey  3.970988\n",
      "31            New Mexico  4.857942\n",
      "32              New York  3.721626\n",
      "33        North Carolina  6.229182\n",
      "34          North Dakota  2.637117\n",
      "35                  Ohio  5.497938\n",
      "36              Oklahoma  5.783633\n",
      "37                Oregon  2.253725\n",
      "38          Pennsylvania  6.502428\n",
      "39          Rhode Island  4.180333\n",
      "40        South Carolina  3.904395\n",
      "41          South Dakota  5.026069\n",
      "42             Tennessee  5.210946\n",
      "43                 Texas  7.559949\n",
      "44                  Utah  4.759497\n",
      "45               Vermont  6.141697\n",
      "46              Virginia  4.940536\n",
      "47            Washington  3.481685\n",
      "48         West Virginia  4.316843\n",
      "49             Wisconsin  4.894463\n",
      "50               Wyoming  6.725490\n"
     ]
    }
   ],
   "source": [
    "resultats = []\n",
    "for _, estat in df_combinat.iterrows():\n",
    "    try:\n",
    "        calculador_risc.input['defuncions'] = estat['morts']\n",
    "        calculador_risc.input['infectats'] = estat['contagiats']\n",
    "        calculador_risc.input['hospitalitzats'] = estat['hospitalitzats']\n",
    "        \n",
    "        calculador_risc.compute()\n",
    "        resultats.append(calculador_risc.output['risc'])\n",
    "    except Exception as e:\n",
    "        print(f\"Error a l'estat {estat['state']}: {e}\")\n",
    "        resultats.append(np.nan)  # Afegeix NaN si hi ha error\n",
    "\n",
    "# Afegeix els resultats al DataFrame\n",
    "df_combinat['risc'] = resultats\n",
    "print(df_combinat[['state', 'risc']])"
   ]
  }
 ],
 "metadata": {
  "kernelspec": {
   "display_name": "Python 3",
   "language": "python",
   "name": "python3"
  },
  "language_info": {
   "codemirror_mode": {
    "name": "ipython",
    "version": 3
   },
   "file_extension": ".py",
   "mimetype": "text/x-python",
   "name": "python",
   "nbconvert_exporter": "python",
   "pygments_lexer": "ipython3",
   "version": "3.11.9"
  }
 },
 "nbformat": 4,
 "nbformat_minor": 5
}
