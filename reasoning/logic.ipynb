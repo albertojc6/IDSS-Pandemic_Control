{
 "cells": [
  {
   "cell_type": "code",
   "execution_count": 49,
   "id": "9b7848a4",
   "metadata": {},
   "outputs": [
    {
     "name": "stdout",
     "output_type": "stream",
     "text": [
      "Requirement already satisfied: scikit-fuzzy in /Library/Frameworks/Python.framework/Versions/3.13/lib/python3.13/site-packages (0.5.0)\n",
      "\n",
      "\u001b[1m[\u001b[0m\u001b[34;49mnotice\u001b[0m\u001b[1;39;49m]\u001b[0m\u001b[39;49m A new release of pip is available: \u001b[0m\u001b[31;49m24.3.1\u001b[0m\u001b[39;49m -> \u001b[0m\u001b[32;49m25.1.1\u001b[0m\n",
      "\u001b[1m[\u001b[0m\u001b[34;49mnotice\u001b[0m\u001b[1;39;49m]\u001b[0m\u001b[39;49m To update, run: \u001b[0m\u001b[32;49mpip3 install --upgrade pip\u001b[0m\n",
      "Note: you may need to restart the kernel to use updated packages.\n"
     ]
    }
   ],
   "source": [
    "pip install scikit-fuzzy"
   ]
  },
  {
   "cell_type": "code",
   "execution_count": 50,
   "id": "e80c12bb",
   "metadata": {},
   "outputs": [],
   "source": [
    "import numpy as np\n",
    "import pandas as pd\n",
    "\n",
    "import skfuzzy as fuzz\n",
    "from skfuzzy import control as ctrl"
   ]
  },
  {
   "cell_type": "markdown",
   "id": "241e731f",
   "metadata": {},
   "source": [
    "Generem dades artificials que de moment no tenim les oficials"
   ]
  },
  {
   "cell_type": "code",
   "execution_count": 51,
   "id": "9ab33f04",
   "metadata": {},
   "outputs": [
    {
     "name": "stdout",
     "output_type": "stream",
     "text": [
      "        state  hospitalitzats  morts  contagiats\n",
      "0     Alabama            1176     55       34763\n",
      "1      Alaska            1509    368       33606\n",
      "2     Arizona             910     59       12534\n",
      "3    Arkansas            1344    248       30127\n",
      "4  California            1180    324       41397\n"
     ]
    }
   ],
   "source": [
    "# Llista dels 51 estats dels EUA (noms complets)\n",
    "estats_usa = [\n",
    "    \"Alabama\", \"Alaska\", \"Arizona\", \"Arkansas\", \"California\", \"Colorado\", \"Connecticut\", \"Delaware\",\n",
    "    \"District of Columbia\", \"Florida\", \"Georgia\", \"Hawaii\", \"Idaho\", \"Illinois\", \"Indiana\", \"Iowa\",\n",
    "    \"Kansas\", \"Kentucky\", \"Louisiana\", \"Maine\", \"Maryland\", \"Massachusetts\", \"Michigan\", \"Minnesota\",\n",
    "    \"Mississippi\", \"Missouri\", \"Montana\", \"Nebraska\", \"Nevada\", \"New Hampshire\", \"New Jersey\", \"New Mexico\",\n",
    "    \"New York\", \"North Carolina\", \"North Dakota\", \"Ohio\", \"Oklahoma\", \"Oregon\", \"Pennsylvania\", \"Rhode Island\",\n",
    "    \"South Carolina\", \"South Dakota\", \"Tennessee\", \"Texas\", \"Utah\", \"Vermont\", \"Virginia\", \"Washington\",\n",
    "    \"West Virginia\", \"Wisconsin\", \"Wyoming\"]\n",
    "\n",
    "# Genera dades aleatòries realistes (ajustables)\n",
    "np.random.seed(42)  # Per reprodibilitat\n",
    "\n",
    "# Genera valors aleatoris per hospitalitzats, morts i contagiats\n",
    "df_epidemiologic = pd.DataFrame({\n",
    "    \"state\": estats_usa,\n",
    "    \"hospitalitzats\": np.random.randint(50, 2000, size=51),  # Exemple: entre 50 i 2000\n",
    "    \"morts\": np.random.randint(5, 500, size=51),            # Exemple: entre 5 i 500\n",
    "    \"contagiats\": np.random.randint(1000, 50000, size=51)   # Exemple: entre 1000 i 50000\n",
    "})\n",
    "\n",
    "# Mostra les primeres files\n",
    "print(df_epidemiologic.head())"
   ]
  },
  {
   "cell_type": "code",
   "execution_count": 52,
   "id": "260d563e",
   "metadata": {},
   "outputs": [],
   "source": [
    "df_demografic_original = pd.read_csv(\"../data/preprocessed/dataMatrix/static_stateMatrix.csv\")\n",
    "columnes = [\n",
    "    \"state\", \n",
    "    \"population_state\",\n",
    "    \"pop_density_state\",\n",
    "    \"bedsTotal\",\n",
    "    \"pop_0-9\", \"pop_10-19\", \"pop_20-29\", \"pop_30-39\",\n",
    "    \"pop_40-49\", \"pop_50-59\", \"pop_60-69\", \"pop_70-79\", \"pop_80+\"\n",
    "]\n",
    "df_demografic = df_demografic_original[columnes]"
   ]
  },
  {
   "cell_type": "markdown",
   "id": "4f175c70",
   "metadata": {},
   "source": [
    "Fusionem per tenir dades població (x edad ens poden servir també x tenir zones amb molta gent gran)"
   ]
  },
  {
   "cell_type": "code",
   "execution_count": 53,
   "id": "9f4037a9",
   "metadata": {},
   "outputs": [
    {
     "name": "stdout",
     "output_type": "stream",
     "text": [
      "        state  population_state  pop_density_state  bedsTotal   pop_0-9  \\\n",
      "0     Alabama           4887871          96.509389        3.1  0.120933   \n",
      "1      Alaska            737438           1.291523        2.2  0.142617   \n",
      "2     Arizona           7171646          63.135855        1.9  0.123774   \n",
      "3    Arkansas           3013825          57.919684        3.2  0.127289   \n",
      "4  California          39557045         253.906502        1.8  0.124635   \n",
      "\n",
      "   pop_10-19  pop_20-29  pop_30-39  pop_40-49  pop_50-59  pop_60-69  \\\n",
      "0   0.128108   0.136099   0.124291   0.123013   0.133249   0.120537   \n",
      "1   0.130210   0.155501   0.147626   0.117347   0.127204   0.109072   \n",
      "2   0.132496   0.140854   0.129224   0.119039   0.120016   0.113492   \n",
      "3   0.132222   0.135421   0.126671   0.119787   0.126968   0.115755   \n",
      "4   0.128760   0.147575   0.143412   0.128138   0.126974   0.104040   \n",
      "\n",
      "   pop_70-79   pop_80+  hospitalitzats  morts  contagiats  \n",
      "0   0.075243  0.038527            1176     55       34763  \n",
      "1   0.050675  0.019748            1509    368       33606  \n",
      "2   0.080306  0.040799             910     59       12534  \n",
      "3   0.075878  0.040010            1344    248       30127  \n",
      "4   0.060900  0.035566            1180    324       41397  \n"
     ]
    }
   ],
   "source": [
    "# Fusiona els dos DataFrames per la columna \"state\"\n",
    "df_combinat = pd.merge(\n",
    "    df_demografic, \n",
    "    df_epidemiologic, \n",
    "    on=\"state\", \n",
    "    how=\"inner\" \n",
    ")\n",
    "\n",
    "# Mostra les primeres files (opcional)\n",
    "print(df_combinat.head())"
   ]
  },
  {
   "cell_type": "code",
   "execution_count": 54,
   "id": "3ca7a93b",
   "metadata": {},
   "outputs": [
    {
     "name": "stdout",
     "output_type": "stream",
     "text": [
      "        state  population_state  pop_density_state  bedsTotal   pop_0-9  \\\n",
      "0     Alabama           4887871          96.509389        3.1  0.120933   \n",
      "1      Alaska            737438           1.291523        2.2  0.142617   \n",
      "2     Arizona           7171646          63.135855        1.9  0.123774   \n",
      "3    Arkansas           3013825          57.919684        3.2  0.127289   \n",
      "4  California          39557045         253.906502        1.8  0.124635   \n",
      "\n",
      "   pop_10-19  pop_20-29  pop_30-39  pop_40-49  pop_50-59  ...  pop_70-79  \\\n",
      "0   0.128108   0.136099   0.124291   0.123013   0.133249  ...   0.075243   \n",
      "1   0.130210   0.155501   0.147626   0.117347   0.127204  ...   0.050675   \n",
      "2   0.132496   0.140854   0.129224   0.119039   0.120016  ...   0.080306   \n",
      "3   0.132222   0.135421   0.126671   0.119787   0.126968  ...   0.075878   \n",
      "4   0.128760   0.147575   0.143412   0.128138   0.126974  ...   0.060900   \n",
      "\n",
      "    pop_80+  hospitalitzats  morts  contagiats           IA   beds_real  \\\n",
      "0  0.038527            1176     55       34763   711.209441  15152.4001   \n",
      "1  0.019748            1509    368       33606  4557.128870   1622.3636   \n",
      "2  0.040799             910     59       12534   174.771594  13626.1274   \n",
      "3  0.040010            1344    248       30127   999.626720   9644.2400   \n",
      "4  0.035566            1180    324       41397   104.651396  71202.6810   \n",
      "\n",
      "       theta         pi   pop_>65  \n",
      "0   7.761147   1.125234  0.113770  \n",
      "1  93.012442  49.902500  0.070424  \n",
      "2   6.678346   0.822684  0.121105  \n",
      "3  13.935779   8.228746  0.115888  \n",
      "4   1.657241   0.819070  0.096466  \n",
      "\n",
      "[5 rows x 21 columns]\n"
     ]
    }
   ],
   "source": [
    "# IA (Incidència Acumulada)\n",
    "df_combinat[\"IA\"] = (df_combinat[\"contagiats\"] / df_combinat[\"population_state\"]) * 100000\n",
    "\n",
    "# θ (Ocupació hospitalària %)\n",
    "df_combinat[\"beds_real\"] = (df_combinat[\"bedsTotal\"] * df_combinat[\"population_state\"]) / 1000\n",
    "df_combinat[\"theta\"] = (df_combinat[\"hospitalitzats\"] / df_combinat[\"beds_real\"]) * 100\n",
    "\n",
    "# π (Taxa de mortalitat %) per 100000 habitants\n",
    "df_combinat[\"pi\"] = (df_combinat[\"morts\"] / df_combinat[\"population_state\"]) * 100000\n",
    "\n",
    "# % població >65\n",
    "df_combinat[\"pop_>65\"] = df_combinat[\"pop_70-79\"] + df_combinat[\"pop_80+\"]\n",
    "print(df_combinat.head())"
   ]
  },
  {
   "cell_type": "code",
   "execution_count": 55,
   "id": "6b6738b5",
   "metadata": {},
   "outputs": [],
   "source": [
    "import numpy as np\n",
    "import skfuzzy as fuzz\n",
    "from skfuzzy import control as ctrl\n",
    "\n",
    "# Definir variables d'entrada i sortida\n",
    "ia = ctrl.Antecedent(np.arange(0, 10000, 1), 'ia')                  # Incidència acumulada (per 100k)\n",
    "ocupacio = ctrl.Antecedent(np.arange(0, 101, 1), 'ocupacio')       # Ocupació hospitalària (%)\n",
    "mortalitat = ctrl.Antecedent(np.arange(0, 101, 1), 'mortalitat')   # Taxa de mortalitat (per 100k)\n",
    "poblacio65 = ctrl.Antecedent(np.arange(0, 101, 1), 'poblacio65')   # % població >65 anys\n",
    "densitat = ctrl.Antecedent(np.arange(0, 15001, 1), 'densitat')     # Densitat (hab/km²)\n",
    "risc = ctrl.Consequent(np.arange(0, 101, 1), 'risc')               # Risc de confinament (0-100)\n",
    "\n",
    "# Funcions de membresia per a cada variable (ajustar rangs segons els teus datos)\n",
    "# --- IA ---\n",
    "ia['Baixa'] = fuzz.trimf(ia.universe, [0, 0, 50])       # Fins a 50\n",
    "ia['Mitjana'] = fuzz.trimf(ia.universe, [30, 100, 150]) # Solapa amb Baixa i Alta\n",
    "ia['Alta'] = fuzz.trimf(ia.universe, [130, 200, 10000])   # A partir de 150\n",
    "\n",
    "# --- Ocupació Hospitalària ---\n",
    "ocupacio['Baixa'] = fuzz.trimf(ocupacio.universe, [0, 0, 70])       # Fins a 70%\n",
    "ocupacio['Moderada'] = fuzz.trimf(ocupacio.universe, [60, 75, 80])  # 70-80%\n",
    "ocupacio['Crítica'] = fuzz.trimf(ocupacio.universe, [75, 90, 100])  # >80%\n",
    "\n",
    "# --- Mortalitat ---\n",
    "mortalitat['Baixa'] = fuzz.trimf(mortalitat.universe, [0, 0, 1])    # <1%\n",
    "mortalitat['Mitjana'] = fuzz.trimf(mortalitat.universe, [0.5, 1.5, 2])  # 1-2%\n",
    "mortalitat['Alta'] = fuzz.trimf(mortalitat.universe, [1.5, 3, 100])  # >2%\n",
    "\n",
    "# --- Població >65 ---\n",
    "poblacio65['Baixa'] = fuzz.trimf(poblacio65.universe, [0, 0, 10])    # <10%\n",
    "poblacio65['Mitjana'] = fuzz.trimf(poblacio65.universe, [5, 15, 20]) # 10-20%\n",
    "poblacio65['Alta'] = fuzz.trimf(poblacio65.universe, [18, 30, 30])   # >20%\n",
    "\n",
    "# --- Densitat ---\n",
    "densitat['Baixa'] = fuzz.trimf(densitat.universe, [0, 0, 1500])     # <75è percentil\n",
    "densitat['Mitjana'] = fuzz.trimf(densitat.universe, [1000, 2000, 3000])  \n",
    "densitat['Alta'] = fuzz.trimf(densitat.universe, [2500, 4000, 40000])  # >=75è percentil\n",
    "\n",
    "# --- Risc ---\n",
    "risc['Molt Baix'] = fuzz.trimf(risc.universe, [0, 0, 20])        # 0-20\n",
    "risc['Baix'] = fuzz.trimf(risc.universe, [10, 25, 40])           # 20-40\n",
    "risc['Moderat'] = fuzz.trimf(risc.universe, [30, 45, 60])        # 40-60\n",
    "risc['Alt'] = fuzz.trimf(risc.universe, [50, 65, 80])            # 60-80\n",
    "risc['Molt Alt'] = fuzz.trimf(risc.universe, [70, 85, 95])       # 80-95\n",
    "risc['Extrem'] = fuzz.trimf(risc.universe, [90, 100, 100])       # 95-100"
   ]
  },
  {
   "cell_type": "code",
   "execution_count": 56,
   "id": "a65ec886",
   "metadata": {},
   "outputs": [],
   "source": [
    "# --- Regles Principals ---\n",
    "rule1 = ctrl.Rule(\n",
    "    ia['Alta'] & ocupacio['Crítica'] & mortalitat['Alta'],\n",
    "    risc['Extrem']\n",
    ")\n",
    "rule2 = ctrl.Rule(\n",
    "    ia['Mitjana'] & ocupacio['Moderada'] & (poblacio65['Alta'] | densitat['Alta']),\n",
    "    risc['Alt']\n",
    ")\n",
    "rule3 = ctrl.Rule(\n",
    "    ia['Baixa'] & ocupacio['Baixa'] & mortalitat['Baixa'],\n",
    "    risc['Molt Baix']\n",
    ")\n",
    "rule4 = ctrl.Rule(\n",
    "    (ia['Mitjana'] | mortalitat['Mitjana']) & densitat['Mitjana'],\n",
    "    risc['Moderat']\n",
    ")\n",
    "rule5 = ctrl.Rule(\n",
    "    ocupacio['Crítica'] & (poblacio65['Alta'] | mortalitat['Alta']),\n",
    "    risc['Molt Alt']\n",
    ")\n",
    "\n",
    "rule6 = ctrl.Rule(\n",
    "    ia['Alta'] & ocupacio['Moderada'] & mortalitat['Mitjana'],\n",
    "    risc['Alt']\n",
    ")\n",
    "rule7 = ctrl.Rule(\n",
    "    ia['Mitjana'] & (poblacio65['Mitjana'] | densitat['Mitjana']),\n",
    "    risc['Moderat']\n",
    ")\n",
    "rule8 = ctrl.Rule(\n",
    "    mortalitat['Alta'] & (ia['Baixa'] | ocupacio['Baixa']),\n",
    "    risc['Alt']\n",
    ")\n",
    "rule9 = ctrl.Rule(\n",
    "    densitat['Alta'] & ia['Mitjana'],\n",
    "    risc['Moderat']\n",
    ")\n",
    "\n",
    "# --- Regla Per Defecte (Captura Casos Residuals) ---\n",
    "rule10 = ctrl.Rule(\n",
    "    ia['Baixa'] | ocupacio['Baixa'] | mortalitat['Baixa'],\n",
    "    risc['Baix']\n",
    ")\n",
    "\n",
    "# Crear sistema de control\n",
    "risc_ctrl = ctrl.ControlSystem([rule1, rule2, rule3, rule4, rule5, \n",
    "    rule6, rule7, rule8, rule9, rule10])\n",
    "\n"
   ]
  },
  {
   "cell_type": "code",
   "execution_count": 57,
   "id": "5a7c0a6d",
   "metadata": {},
   "outputs": [
    {
     "data": {
      "text/plain": [
       "Index(['state', 'population_state', 'pop_density_state', 'bedsTotal',\n",
       "       'pop_0-9', 'pop_10-19', 'pop_20-29', 'pop_30-39', 'pop_40-49',\n",
       "       'pop_50-59', 'pop_60-69', 'pop_70-79', 'pop_80+', 'hospitalitzats',\n",
       "       'morts', 'contagiats', 'IA', 'beds_real', 'theta', 'pi', 'pop_>65'],\n",
       "      dtype='object')"
      ]
     },
     "execution_count": 57,
     "metadata": {},
     "output_type": "execute_result"
    }
   ],
   "source": [
    "df_combinat.columns\n"
   ]
  },
  {
   "cell_type": "code",
   "execution_count": 58,
   "id": "0c0adfb7",
   "metadata": {},
   "outputs": [
    {
     "name": "stdout",
     "output_type": "stream",
     "text": [
      "Màxim IA: 7534.570228321883\n",
      "Màxim Theta: 93.01244184719134\n",
      "Màxim Densitat: 11490.11954\n"
     ]
    }
   ],
   "source": [
    "print(\"Màxim IA:\", df_combinat['IA'].max())\n",
    "print(\"Màxim Theta:\", df_combinat['theta'].max())\n",
    "print(\"Màxim Densitat:\", df_combinat['pop_density_state'].max())"
   ]
  },
  {
   "cell_type": "code",
   "execution_count": 59,
   "id": "049f8730",
   "metadata": {},
   "outputs": [],
   "source": [
    "def calcular_risc(row):\n",
    "    risc_sim = ctrl.ControlSystemSimulation(risc_ctrl)\n",
    "    inputs = {\n",
    "        'ia': row['IA'],\n",
    "        'ocupacio': row['theta'],\n",
    "        'mortalitat': row['pi'],\n",
    "        'poblacio65': row['pop_>65'],\n",
    "        'densitat': row['pop_density_state']\n",
    "        }\n",
    "    for key, val in inputs.items():\n",
    "        risc_sim.input[key] = val\n",
    "    risc_sim.compute()\n",
    "    return risc_sim.output['risc']\n",
    "\n",
    "# Aplicar UNA VEGADA\n",
    "df_combinat['nivell_risc'] = df_combinat.apply(calcular_risc, axis=1)\n",
    "\n",
    "# Classificar decisió segons els nous llindars\n",
    "df_combinat['confinament'] = np.select(\n",
    "    [\n",
    "        df_combinat['nivell_risc'] < 40,  # Si nivell_risc < 40\n",
    "        (df_combinat['nivell_risc'] >= 40) & (df_combinat['nivell_risc'] < 60),  # Si nivell_risc entre 40 i 60\n",
    "        (df_combinat['nivell_risc'] >= 60) & (df_combinat['nivell_risc'] < 80),  # Si nivell_risc entre 60 i 80\n",
    "        df_combinat['nivell_risc'] >= 80  # Si nivell_risc >= 80\n",
    "    ],\n",
    "    [\n",
    "        'No',        # nivell_risc < 40\n",
    "        'Selectiu',     # nivell_risc entre 40 i 60\n",
    "        'Estricte',  # nivell_risc entre 60 i 80\n",
    "        'Imediat'   # nivell_risc >= 80\n",
    "    ],\n",
    "    default='No'  # Valor per defecte (opcional)\n",
    ")"
   ]
  },
  {
   "cell_type": "code",
   "execution_count": null,
   "id": "d92fb538",
   "metadata": {},
   "outputs": [
    {
     "ename": "NameError",
     "evalue": "name 'df_combinat' is not defined",
     "output_type": "error",
     "traceback": [
      "\u001b[1;31m---------------------------------------------------------------------------\u001b[0m",
      "\u001b[1;31mNameError\u001b[0m                                 Traceback (most recent call last)",
      "Cell \u001b[1;32mIn[1], line 1\u001b[0m\n\u001b[1;32m----> 1\u001b[0m df_combinat[\u001b[38;5;124m'\u001b[39m\u001b[38;5;124mbedsTotal2\u001b[39m\u001b[38;5;124m'\u001b[39m] \u001b[38;5;241m=\u001b[39m (\u001b[43mdf_combinat\u001b[49m[\u001b[38;5;124m'\u001b[39m\u001b[38;5;124mbedsTotal\u001b[39m\u001b[38;5;124m'\u001b[39m]\u001b[38;5;241m/\u001b[39m\u001b[38;5;241m1000\u001b[39m) \u001b[38;5;241m*\u001b[39m df_combinat[\u001b[38;5;124m'\u001b[39m\u001b[38;5;124mpopulation_state\u001b[39m\u001b[38;5;124m'\u001b[39m] \u001b[38;5;241m-\u001b[39m df_combinat[\u001b[38;5;124m'\u001b[39m\u001b[38;5;124mhospitalitzats\u001b[39m\u001b[38;5;124m'\u001b[39m]\n",
      "\u001b[1;31mNameError\u001b[0m: name 'df_combinat' is not defined"
     ]
    }
   ],
   "source": [
    "df_combinat['bedsTotal2'] = (df_combinat['bedsTotal']/1000) * df_combinat['population_state']\n",
    "df_combinat['bedsTotal3'] = df_combinat['bedsTotal2'] - df_combinat['hospitalitzats']"
   ]
  },
  {
   "cell_type": "code",
   "execution_count": null,
   "id": "24baaaaf",
   "metadata": {},
   "outputs": [],
   "source": [
    "df_veins = pd.read_csv(\"../data/raw/neighbor_states/neighbor_states.csv\")"
   ]
  },
  {
   "cell_type": "code",
   "execution_count": null,
   "id": "da51d9d1",
   "metadata": {},
   "outputs": [],
   "source": [
    "df_combinat"
   ]
  }
 ],
 "metadata": {
  "kernelspec": {
   "display_name": "Python 3",
   "language": "python",
   "name": "python3"
  },
  "language_info": {
   "codemirror_mode": {
    "name": "ipython",
    "version": 3
   },
   "file_extension": ".py",
   "mimetype": "text/x-python",
   "name": "python",
   "nbconvert_exporter": "python",
   "pygments_lexer": "ipython3",
   "version": "3.11.9"
  }
 },
 "nbformat": 4,
 "nbformat_minor": 5
}
