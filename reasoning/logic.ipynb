{
 "cells": [
  {
   "cell_type": "code",
   "execution_count": null,
   "id": "9b7848a4",
   "metadata": {},
   "outputs": [],
   "source": [
    "pip install scikit-fuzzy"
   ]
  },
  {
   "cell_type": "code",
   "execution_count": null,
   "id": "e80c12bb",
   "metadata": {},
   "outputs": [],
   "source": [
    "import numpy as np\n",
    "import pandas as pd\n",
    "\n",
    "import skfuzzy as fuzz\n",
    "from skfuzzy import control as ctrl"
   ]
  },
  {
   "cell_type": "markdown",
   "id": "241e731f",
   "metadata": {},
   "source": [
    "Generem dades artificials que de moment no tenim les oficials"
   ]
  },
  {
   "cell_type": "code",
   "execution_count": 21,
   "id": "9ab33f04",
   "metadata": {},
   "outputs": [
    {
     "name": "stdout",
     "output_type": "stream",
     "text": [
      "        state  hospitalitzats  morts  contagiats\n",
      "0     Alabama            1176     55       34763\n",
      "1      Alaska            1509    368       33606\n",
      "2     Arizona             910     59       12534\n",
      "3    Arkansas            1344    248       30127\n",
      "4  California            1180    324       41397\n"
     ]
    }
   ],
   "source": [
    "\n",
    "# Llista dels 51 estats dels EUA (noms complets)\n",
    "estats_usa = [\n",
    "    \"Alabama\", \"Alaska\", \"Arizona\", \"Arkansas\", \"California\", \"Colorado\", \"Connecticut\", \"Delaware\",\n",
    "    \"District of Columbia\", \"Florida\", \"Georgia\", \"Hawaii\", \"Idaho\", \"Illinois\", \"Indiana\", \"Iowa\",\n",
    "    \"Kansas\", \"Kentucky\", \"Louisiana\", \"Maine\", \"Maryland\", \"Massachusetts\", \"Michigan\", \"Minnesota\",\n",
    "    \"Mississippi\", \"Missouri\", \"Montana\", \"Nebraska\", \"Nevada\", \"New Hampshire\", \"New Jersey\", \"New Mexico\",\n",
    "    \"New York\", \"North Carolina\", \"North Dakota\", \"Ohio\", \"Oklahoma\", \"Oregon\", \"Pennsylvania\", \"Rhode Island\",\n",
    "    \"South Carolina\", \"South Dakota\", \"Tennessee\", \"Texas\", \"Utah\", \"Vermont\", \"Virginia\", \"Washington\",\n",
    "    \"West Virginia\", \"Wisconsin\", \"Wyoming\"\n",
    "]\n",
    "# Genera dades aleatòries realistes (ajustables)\n",
    "np.random.seed(42)  # Per reprodibilitat\n",
    "\n",
    "# Genera valors aleatoris per hospitalitzats, morts i contagiats\n",
    "df_epidemiologic = pd.DataFrame({\n",
    "    \"state\": estats_usa,\n",
    "    \"hospitalitzats\": np.random.randint(50, 2000, size=51),  # Exemple: entre 50 i 2000\n",
    "    \"morts\": np.random.randint(5, 500, size=51),            # Exemple: entre 5 i 500\n",
    "    \"contagiats\": np.random.randint(1000, 50000, size=51)   # Exemple: entre 1000 i 50000\n",
    "})\n",
    "\n",
    "# Mostra les primeres files\n",
    "print(df_epidemiologic.head())"
   ]
  },
  {
   "cell_type": "code",
   "execution_count": 22,
   "id": "260d563e",
   "metadata": {},
   "outputs": [],
   "source": [
    "df_demografic_original = pd.read_csv(\"../data/preprocessed/dataMatrix/static_stateMatrix.csv\")\n",
    "columnes = [\n",
    "    \"state\", \n",
    "    \"population_state\",\n",
    "    \"pop_density_state\",\n",
    "    \"bedsTotal\",\n",
    "    \"pop_0-9\", \"pop_10-19\", \"pop_20-29\", \"pop_30-39\",\n",
    "    \"pop_40-49\", \"pop_50-59\", \"pop_60-69\", \"pop_70-79\", \"pop_80+\"\n",
    "]\n",
    "df_demografic = df_demografic_original[columnes]"
   ]
  },
  {
   "cell_type": "markdown",
   "id": "4f175c70",
   "metadata": {},
   "source": [
    "Fusionem per tenir dades població (x edad ens poden servir també x tenir zones amb molta gent gran)"
   ]
  },
  {
   "cell_type": "code",
   "execution_count": 23,
   "id": "9f4037a9",
   "metadata": {},
   "outputs": [
    {
     "name": "stdout",
     "output_type": "stream",
     "text": [
      "        state  population_state  pop_density_state  bedsTotal   pop_0-9  \\\n",
      "0     Alabama           4887871          96.509389        3.1  0.120933   \n",
      "1      Alaska            737438           1.291523        2.2  0.142617   \n",
      "2     Arizona           7171646          63.135855        1.9  0.123774   \n",
      "3    Arkansas           3013825          57.919684        3.2  0.127289   \n",
      "4  California          39557045         253.906502        1.8  0.124635   \n",
      "\n",
      "   pop_10-19  pop_20-29  pop_30-39  pop_40-49  pop_50-59  pop_60-69  \\\n",
      "0   0.128108   0.136099   0.124291   0.123013   0.133249   0.120537   \n",
      "1   0.130210   0.155501   0.147626   0.117347   0.127204   0.109072   \n",
      "2   0.132496   0.140854   0.129224   0.119039   0.120016   0.113492   \n",
      "3   0.132222   0.135421   0.126671   0.119787   0.126968   0.115755   \n",
      "4   0.128760   0.147575   0.143412   0.128138   0.126974   0.104040   \n",
      "\n",
      "   pop_70-79   pop_80+  hospitalitzats  morts  contagiats  \n",
      "0   0.075243  0.038527            1176     55       34763  \n",
      "1   0.050675  0.019748            1509    368       33606  \n",
      "2   0.080306  0.040799             910     59       12534  \n",
      "3   0.075878  0.040010            1344    248       30127  \n",
      "4   0.060900  0.035566            1180    324       41397  \n"
     ]
    }
   ],
   "source": [
    "# Fusiona els dos DataFrames per la columna \"state\"\n",
    "df_combinat = pd.merge(\n",
    "    df_demografic, \n",
    "    df_epidemiologic, \n",
    "    on=\"state\", \n",
    "    how=\"inner\" \n",
    ")\n",
    "\n",
    "# Mostra les primeres files (opcional)\n",
    "print(df_combinat.head())"
   ]
  },
  {
   "cell_type": "code",
   "execution_count": 24,
   "id": "3ca7a93b",
   "metadata": {},
   "outputs": [
    {
     "name": "stdout",
     "output_type": "stream",
     "text": [
      "        state  population_state  pop_density_state  bedsTotal   pop_0-9  \\\n",
      "0     Alabama           4887871          96.509389        3.1  0.120933   \n",
      "1      Alaska            737438           1.291523        2.2  0.142617   \n",
      "2     Arizona           7171646          63.135855        1.9  0.123774   \n",
      "3    Arkansas           3013825          57.919684        3.2  0.127289   \n",
      "4  California          39557045         253.906502        1.8  0.124635   \n",
      "\n",
      "   pop_10-19  pop_20-29  pop_30-39  pop_40-49  pop_50-59  ...  pop_70-79  \\\n",
      "0   0.128108   0.136099   0.124291   0.123013   0.133249  ...   0.075243   \n",
      "1   0.130210   0.155501   0.147626   0.117347   0.127204  ...   0.050675   \n",
      "2   0.132496   0.140854   0.129224   0.119039   0.120016  ...   0.080306   \n",
      "3   0.132222   0.135421   0.126671   0.119787   0.126968  ...   0.075878   \n",
      "4   0.128760   0.147575   0.143412   0.128138   0.126974  ...   0.060900   \n",
      "\n",
      "    pop_80+  hospitalitzats  morts  contagiats           IA   beds_real  \\\n",
      "0  0.038527            1176     55       34763   711.209441  15152.4001   \n",
      "1  0.019748            1509    368       33606  4557.128870   1622.3636   \n",
      "2  0.040799             910     59       12534   174.771594  13626.1274   \n",
      "3  0.040010            1344    248       30127   999.626720   9644.2400   \n",
      "4  0.035566            1180    324       41397   104.651396  71202.6810   \n",
      "\n",
      "       theta         pi   pop_>65  \n",
      "0   7.761147   1.125234  0.113770  \n",
      "1  93.012442  49.902500  0.070424  \n",
      "2   6.678346   0.822684  0.121105  \n",
      "3  13.935779   8.228746  0.115888  \n",
      "4   1.657241   0.819070  0.096466  \n",
      "\n",
      "[5 rows x 21 columns]\n"
     ]
    }
   ],
   "source": [
    "# IA (Incidència Acumulada)\n",
    "df_combinat[\"IA\"] = (df_combinat[\"contagiats\"] / df_combinat[\"population_state\"]) * 100000\n",
    "\n",
    "# θ (Ocupació hospitalària %)\n",
    "df_combinat[\"beds_real\"] = (df_combinat[\"bedsTotal\"] * df_combinat[\"population_state\"]) / 1000\n",
    "df_combinat[\"theta\"] = (df_combinat[\"hospitalitzats\"] / df_combinat[\"beds_real\"]) * 100\n",
    "\n",
    "# π (Taxa de mortalitat %) per 100000 habitants\n",
    "df_combinat[\"pi\"] = (df_combinat[\"morts\"] / df_combinat[\"population_state\"]) * 100000\n",
    "\n",
    "# % població >65\n",
    "df_combinat[\"pop_>65\"] = df_combinat[\"pop_70-79\"] + df_combinat[\"pop_80+\"]\n",
    "print(df_combinat.head())"
   ]
  },
  {
   "cell_type": "code",
   "execution_count": 25,
   "id": "6b6738b5",
   "metadata": {},
   "outputs": [],
   "source": [
    "import numpy as np\n",
    "import skfuzzy as fuzz\n",
    "from skfuzzy import control as ctrl\n",
    "\n",
    "# Definir variables d'entrada i sortida\n",
    "ia = ctrl.Antecedent(np.arange(0, 10000, 1), 'ia')                  # Incidència acumulada (per 100k)\n",
    "ocupacio = ctrl.Antecedent(np.arange(0, 101, 1), 'ocupacio')       # Ocupació hospitalària (%)\n",
    "mortalitat = ctrl.Antecedent(np.arange(0, 101, 1), 'mortalitat')   # Taxa de mortalitat (per 100k)\n",
    "poblacio65 = ctrl.Antecedent(np.arange(0, 101, 1), 'poblacio65')   # % població >65 anys\n",
    "densitat = ctrl.Antecedent(np.arange(0, 15001, 1), 'densitat')     # Densitat (hab/km²)\n",
    "risc = ctrl.Consequent(np.arange(0, 101, 1), 'risc')               # Risc de confinament (0-100)\n",
    "\n",
    "# Funcions de membresia per a cada variable (ajustar rangs segons els teus datos)\n",
    "# --- IA ---\n",
    "ia['Baixa'] = fuzz.trimf(ia.universe, [0, 0, 50])       # Fins a 50\n",
    "ia['Mitjana'] = fuzz.trimf(ia.universe, [30, 100, 150]) # Solapa amb Baixa i Alta\n",
    "ia['Alta'] = fuzz.trimf(ia.universe, [130, 200, 10000])   # A partir de 150\n",
    "\n",
    "# --- Ocupació Hospitalària ---\n",
    "ocupacio['Baixa'] = fuzz.trimf(ocupacio.universe, [0, 0, 70])       # Fins a 70%\n",
    "ocupacio['Moderada'] = fuzz.trimf(ocupacio.universe, [60, 75, 80])  # 70-80%\n",
    "ocupacio['Crítica'] = fuzz.trimf(ocupacio.universe, [75, 90, 100])  # >80%\n",
    "\n",
    "# --- Mortalitat ---\n",
    "mortalitat['Baixa'] = fuzz.trimf(mortalitat.universe, [0, 0, 1])    # <1%\n",
    "mortalitat['Mitjana'] = fuzz.trimf(mortalitat.universe, [0.5, 1.5, 2])  # 1-2%\n",
    "mortalitat['Alta'] = fuzz.trimf(mortalitat.universe, [1.5, 3, 100])  # >2%\n",
    "\n",
    "# --- Població >65 ---\n",
    "poblacio65['Baixa'] = fuzz.trimf(poblacio65.universe, [0, 0, 10])    # <10%\n",
    "poblacio65['Mitjana'] = fuzz.trimf(poblacio65.universe, [5, 15, 20]) # 10-20%\n",
    "poblacio65['Alta'] = fuzz.trimf(poblacio65.universe, [18, 30, 30])   # >20%\n",
    "\n",
    "# --- Densitat ---\n",
    "densitat['Baixa'] = fuzz.trimf(densitat.universe, [0, 0, 1500])     # <75è percentil\n",
    "densitat['Mitjana'] = fuzz.trimf(densitat.universe, [1000, 2000, 3000])  \n",
    "densitat['Alta'] = fuzz.trimf(densitat.universe, [2500, 4000, 40000])  # >=75è percentil\n",
    "\n",
    "# --- Risc ---\n",
    "risc['Baix'] = fuzz.trimf(risc.universe, [0, 0, 30])  \n",
    "risc['Moderat'] = fuzz.trimf(risc.universe, [20, 45, 60])  \n",
    "risc['Alt'] = fuzz.trimf(risc.universe, [50, 70, 80])  \n",
    "risc['Extrem'] = fuzz.trimf(risc.universe, [75, 90, 100])  "
   ]
  },
  {
   "cell_type": "code",
   "execution_count": 26,
   "id": "a65ec886",
   "metadata": {},
   "outputs": [],
   "source": [
    "# Definir regles basades en combinacions de variables (exemples):\n",
    "rule1 = ctrl.Rule(\n",
    "    ia['Alta'] & ocupacio['Crítica'] & mortalitat['Alta'],\n",
    "    risc['Extrem']\n",
    ")\n",
    "rule2 = ctrl.Rule(\n",
    "    ia['Mitjana'] & ocupacio['Moderada'] & (poblacio65['Alta'] | densitat['Alta']),\n",
    "    risc['Alt']\n",
    ")\n",
    "rule3 = ctrl.Rule(\n",
    "    ia['Baixa'] & ocupacio['Baixa'] & mortalitat['Baixa'],\n",
    "    risc['Baix']\n",
    ")\n",
    "rule4 = ctrl.Rule(\n",
    "    (ia['Mitjana'] | mortalitat['Mitjana']) & densitat['Mitjana'],\n",
    "    risc['Moderat']\n",
    ")\n",
    "rule5 = ctrl.Rule(\n",
    "    ocupacio['Crítica'] & (poblacio65['Alta'] | mortalitat['Alta']),\n",
    "    risc['Alt']\n",
    ")\n",
    "\n",
    "rule6 = ctrl.Rule(\n",
    "    ia['Baixa'] | ocupacio['Baixa'] | mortalitat['Baixa'],\n",
    "    risc['Baix']\n",
    ")\n",
    "\n",
    "# Crear sistema de control\n",
    "risc_ctrl = ctrl.ControlSystem([rule1, rule2, rule3, rule4, rule5, rule6])\n",
    "risc_sim = ctrl.ControlSystemSimulation(risc_ctrl)"
   ]
  },
  {
   "cell_type": "code",
   "execution_count": 27,
   "id": "5a7c0a6d",
   "metadata": {},
   "outputs": [
    {
     "data": {
      "text/plain": [
       "Index(['state', 'population_state', 'pop_density_state', 'bedsTotal',\n",
       "       'pop_0-9', 'pop_10-19', 'pop_20-29', 'pop_30-39', 'pop_40-49',\n",
       "       'pop_50-59', 'pop_60-69', 'pop_70-79', 'pop_80+', 'hospitalitzats',\n",
       "       'morts', 'contagiats', 'IA', 'beds_real', 'theta', 'pi', 'pop_>65'],\n",
       "      dtype='object')"
      ]
     },
     "execution_count": 27,
     "metadata": {},
     "output_type": "execute_result"
    }
   ],
   "source": [
    "df_combinat.columns\n"
   ]
  },
  {
   "cell_type": "code",
   "execution_count": 28,
   "id": "0c0adfb7",
   "metadata": {},
   "outputs": [
    {
     "name": "stdout",
     "output_type": "stream",
     "text": [
      "Màxim IA: 7534.570228321883\n",
      "Màxim Theta: 93.01244184719134\n",
      "Màxim Densitat: 11490.11954\n"
     ]
    }
   ],
   "source": [
    "print(\"Màxim IA:\", df_combinat['IA'].max())\n",
    "print(\"Màxim Theta:\", df_combinat['theta'].max())\n",
    "print(\"Màxim Densitat:\", df_combinat['pop_density_state'].max())"
   ]
  },
  {
   "cell_type": "code",
   "execution_count": 29,
   "id": "049f8730",
   "metadata": {},
   "outputs": [],
   "source": [
    "def calcular_risc(row):\n",
    "    risc_sim = ctrl.ControlSystemSimulation(risc_ctrl)\n",
    "    inputs = {\n",
    "        'ia': row['IA'],\n",
    "        'ocupacio': row['theta'],\n",
    "        'mortalitat': row['pi'],\n",
    "        'poblacio65': row['pop_>65'],\n",
    "        'densitat': row['pop_density_state']\n",
    "        }\n",
    "    for key, val in inputs.items():\n",
    "        risc_sim.input[key] = val\n",
    "    risc_sim.compute()\n",
    "    return risc_sim.output['risc']\n",
    "\n",
    "# Aplicar UNA VEGADA\n",
    "df_combinat['nivell_risc'] = df_combinat.apply(calcular_risc, axis=1)\n",
    "\n",
    "# Classificar decisió (ajustar el llindar segons necessitat)\n",
    "df_combinat['confinar'] = np.where(\n",
    "    df_combinat['nivell_risc'] >= 70,\n",
    "    'Sí',\n",
    "    'No'\n",
    ")"
   ]
  },
  {
   "cell_type": "code",
   "execution_count": null,
   "id": "f05b22db",
   "metadata": {},
   "outputs": [],
   "source": [
    "df_combinat"
   ]
  }
 ],
 "metadata": {
  "kernelspec": {
   "display_name": "Python 3",
   "language": "python",
   "name": "python3"
  },
  "language_info": {
   "codemirror_mode": {
    "name": "ipython",
    "version": 3
   },
   "file_extension": ".py",
   "mimetype": "text/x-python",
   "name": "python",
   "nbconvert_exporter": "python",
   "pygments_lexer": "ipython3",
   "version": "3.13.2"
  }
 },
 "nbformat": 4,
 "nbformat_minor": 5
}
