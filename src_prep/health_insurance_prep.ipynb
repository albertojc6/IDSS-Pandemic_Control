{
 "cells": [
  {
   "cell_type": "code",
   "execution_count": null,
   "id": "b92b3014",
   "metadata": {},
   "outputs": [],
   "source": []
  },
  {
   "cell_type": "code",
   "execution_count": null,
   "id": "e49163b8",
   "metadata": {},
   "outputs": [],
   "source": [
    "data\\raw\\acs_2018_health_insurance_coverage_estimates.csv"
   ]
  }
 ],
 "metadata": {
  "language_info": {
   "name": "python"
  }
 },
 "nbformat": 4,
 "nbformat_minor": 5
}
