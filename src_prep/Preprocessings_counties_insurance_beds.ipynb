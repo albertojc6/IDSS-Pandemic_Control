{
  "cells": [
    {
      "cell_type": "markdown",
      "metadata": {
        "id": "1jRQcyNzsLtW"
      },
      "source": [
        "# Preprocessing Counties Data\n"
      ]
    },
    {
      "cell_type": "code",
      "execution_count": 47,
      "metadata": {
        "colab": {
          "base_uri": "https://localhost:8080/"
        },
        "id": "PJOnON06sLtY",
        "outputId": "044cd6b1-7f1d-43cf-fc9c-f709359530d3"
      },
      "outputs": [
        {
          "output_type": "stream",
          "name": "stdout",
          "text": [
            "Requirement already satisfied: openpyxl in /usr/local/lib/python3.11/dist-packages (3.1.5)\n",
            "Requirement already satisfied: et-xmlfile in /usr/local/lib/python3.11/dist-packages (from openpyxl) (2.0.0)\n"
          ]
        }
      ],
      "source": [
        "pip install openpyxl"
      ]
    },
    {
      "cell_type": "code",
      "source": [
        "import pandas as pd\n",
        "import matplotlib.pyplot as plt\n",
        "import seaborn as sns\n",
        "from sklearn.preprocessing import StandardScaler"
      ],
      "metadata": {
        "id": "uikBHdmALyc6"
      },
      "execution_count": 48,
      "outputs": []
    },
    {
      "cell_type": "code",
      "execution_count": 49,
      "metadata": {
        "colab": {
          "base_uri": "https://localhost:8080/"
        },
        "id": "5M_ODALwsLta",
        "outputId": "45b53edb-5d32-438a-bb1f-5b54c0df4d33"
      },
      "outputs": [
        {
          "output_type": "stream",
          "name": "stdout",
          "text": [
            "  state   county state_name  geo_id  population  pop_density\n",
            "0    AL  Autauga    Alabama    1001       55601    93.534505\n",
            "1    AL  Baldwin    Alabama    1003      218022   137.138546\n",
            "2    AL  Barbour    Alabama    1005       24881    28.114060\n",
            "3    AL     Bibb    Alabama    1007       22400    35.986169\n",
            "4    AL   Blount    Alabama    1009       57840    89.697955\n"
          ]
        },
        {
          "output_type": "execute_result",
          "data": {
            "text/plain": [
              "(3220, 6)"
            ]
          },
          "metadata": {},
          "execution_count": 49
        }
      ],
      "source": [
        "counties = \"/content/us_census_2018_population_estimates_counties.csv\"\n",
        "# Carreguem el dataset\n",
        "df = pd.read_csv(counties)\n",
        "print(df.head())\n",
        "df.shape"
      ]
    },
    {
      "cell_type": "code",
      "source": [
        "# Creem una còpia del DataFrame per preprocessar-ho\n",
        "df_preprocesado = df.copy()"
      ],
      "metadata": {
        "id": "ji5tOaeKvZAc"
      },
      "execution_count": 50,
      "outputs": []
    },
    {
      "cell_type": "markdown",
      "source": [
        "## Selecció de variables\n"
      ],
      "metadata": {
        "id": "BLQNN3ZRtb2U"
      }
    },
    {
      "cell_type": "markdown",
      "source": [
        "Eliminem la variable \"state\", que és l'abreujament de \"state_name\". Eliminem també la variable \"geo_id\" ja que no aporta res al nostre anàlisi."
      ],
      "metadata": {
        "id": "Hk39U-ejt7XC"
      }
    },
    {
      "cell_type": "code",
      "source": [
        "df_preprocesado = df_preprocesado.drop(['state', 'geo_id'], axis=1)"
      ],
      "metadata": {
        "id": "DtmoxVQkt2Ot"
      },
      "execution_count": 51,
      "outputs": []
    },
    {
      "cell_type": "markdown",
      "source": [
        "Renomenem la variable:\n",
        "- state_name --> state"
      ],
      "metadata": {
        "id": "C_OabGy3uzoK"
      }
    },
    {
      "cell_type": "code",
      "source": [
        "df_preprocesado = df_preprocesado.rename(columns={'state_name': 'state'})"
      ],
      "metadata": {
        "id": "foZaMpyLvCqP"
      },
      "execution_count": 52,
      "outputs": []
    },
    {
      "cell_type": "markdown",
      "metadata": {
        "id": "dkvV3_QzsLtb"
      },
      "source": [
        "## Gestió missings"
      ]
    },
    {
      "cell_type": "code",
      "execution_count": 53,
      "metadata": {
        "colab": {
          "base_uri": "https://localhost:8080/"
        },
        "id": "meVNmCmVsLtb",
        "outputId": "882f7a5e-c6de-4792-eae9-07bf01fe7184"
      },
      "outputs": [
        {
          "output_type": "stream",
          "name": "stdout",
          "text": [
            "county          0\n",
            "state           0\n",
            "population      0\n",
            "pop_density    78\n",
            "dtype: int64\n"
          ]
        }
      ],
      "source": [
        "missings = df_preprocesado.isnull().sum()\n",
        "print(missings)"
      ]
    },
    {
      "cell_type": "code",
      "source": [
        "# Busquem els counties amb valors nulls a la \"pop_density\"\n",
        "counties_null_pop_density = df_preprocesado[df_preprocesado['pop_density'].isnull()]['county'].tolist()\n",
        "counties_null_pop_density"
      ],
      "metadata": {
        "colab": {
          "base_uri": "https://localhost:8080/"
        },
        "id": "PvzIMTPY-VTZ",
        "outputId": "883a78a4-e616-4875-de80-2fe0cc3e6d18"
      },
      "execution_count": 54,
      "outputs": [
        {
          "output_type": "execute_result",
          "data": {
            "text/plain": [
              "['Adjuntas Municipio',\n",
              " 'Aguada Municipio',\n",
              " 'Aguadilla Municipio',\n",
              " 'Aguas Buenas Municipio',\n",
              " 'Aibonito Municipio',\n",
              " 'Añasco Municipio',\n",
              " 'Arecibo Municipio',\n",
              " 'Arroyo Municipio',\n",
              " 'Barceloneta Municipio',\n",
              " 'Barranquitas Municipio',\n",
              " 'Bayamón Municipio',\n",
              " 'Cabo Rojo Municipio',\n",
              " 'Caguas Municipio',\n",
              " 'Camuy Municipio',\n",
              " 'Canóvanas Municipio',\n",
              " 'Carolina Municipio',\n",
              " 'Cataño Municipio',\n",
              " 'Cayey Municipio',\n",
              " 'Ceiba Municipio',\n",
              " 'Ciales Municipio',\n",
              " 'Cidra Municipio',\n",
              " 'Coamo Municipio',\n",
              " 'Comerío Municipio',\n",
              " 'Corozal Municipio',\n",
              " 'Culebra Municipio',\n",
              " 'Dorado Municipio',\n",
              " 'Fajardo Municipio',\n",
              " 'Florida Municipio',\n",
              " 'Guánica Municipio',\n",
              " 'Guayama Municipio',\n",
              " 'Guayanilla Municipio',\n",
              " 'Guaynabo Municipio',\n",
              " 'Gurabo Municipio',\n",
              " 'Hatillo Municipio',\n",
              " 'Hormigueros Municipio',\n",
              " 'Humacao Municipio',\n",
              " 'Isabela Municipio',\n",
              " 'Jayuya Municipio',\n",
              " 'Juana Díaz Municipio',\n",
              " 'Juncos Municipio',\n",
              " 'Lajas Municipio',\n",
              " 'Lares Municipio',\n",
              " 'Las Marías Municipio',\n",
              " 'Las Piedras Municipio',\n",
              " 'Loíza Municipio',\n",
              " 'Luquillo Municipio',\n",
              " 'Manatí Municipio',\n",
              " 'Maricao Municipio',\n",
              " 'Maunabo Municipio',\n",
              " 'Mayagüez Municipio',\n",
              " 'Moca Municipio',\n",
              " 'Morovis Municipio',\n",
              " 'Naguabo Municipio',\n",
              " 'Naranjito Municipio',\n",
              " 'Orocovis Municipio',\n",
              " 'Patillas Municipio',\n",
              " 'Peñuelas Municipio',\n",
              " 'Ponce Municipio',\n",
              " 'Quebradillas Municipio',\n",
              " 'Rincón Municipio',\n",
              " 'Río Grande Municipio',\n",
              " 'Sabana Grande Municipio',\n",
              " 'Salinas Municipio',\n",
              " 'San Germán Municipio',\n",
              " 'San Juan Municipio',\n",
              " 'San Lorenzo Municipio',\n",
              " 'San Sebastián Municipio',\n",
              " 'Santa Isabel Municipio',\n",
              " 'Toa Alta Municipio',\n",
              " 'Toa Baja Municipio',\n",
              " 'Trujillo Alto Municipio',\n",
              " 'Utuado Municipio',\n",
              " 'Vega Alta Municipio',\n",
              " 'Vega Baja Municipio',\n",
              " 'Vieques Municipio',\n",
              " 'Villalba Municipio',\n",
              " 'Yabucoa Municipio',\n",
              " 'Yauco Municipio']"
            ]
          },
          "metadata": {},
          "execution_count": 54
        }
      ]
    },
    {
      "cell_type": "markdown",
      "source": [
        "Els 78 valors faltants corresponen a Puerto Rico. Busquem la densitat de població dels municipis a Puerto Rico a través del Cens de 2020. Creem un diccionari amb el nom de cada municipi i la corresponent densitat de població.\n"
      ],
      "metadata": {
        "id": "IdyKGpj6xU8M"
      }
    },
    {
      "cell_type": "code",
      "source": [
        "densidad_poblacion = {\n",
        "    'San Juan Municipio': 7.1471,\n",
        "    'Cataño Municipio': 4.7920,\n",
        "    'Bayamón Municipio': 4.1732,\n",
        "    'Carolina Municipio': 3.4121,\n",
        "    'Trujillo Alto Municipio': 3.2633,\n",
        "    'Guaynabo Municipio': 3.2547,\n",
        "    'Toa Baja Municipio': 3.2392,\n",
        "    'Toa Alta Municipio': 2.4744,\n",
        "    'Caguas Municipio': 2.1713,\n",
        "    'Dorado Municipio': 1.5521,\n",
        "    'Aguadilla Municipio': 1.5083,\n",
        "    'Gurabo Municipio': 1.4568,\n",
        "    'Juncos Municipio': 1.3972,\n",
        "    'Hormigueros Municipio': 1.3797,\n",
        "    'Canóvanas Municipio': 1.2881,\n",
        "    'Vega Alta Municipio': 1.2765,\n",
        "    'Aguada Municipio': 1.2358,\n",
        "    'Loíza Municipio': 1.2229,\n",
        "    'Barceloneta Municipio': 1.2119,\n",
        "    'Ponce Municipio': 1.1962,\n",
        "    'Vega Baja Municipio': 1.1868,\n",
        "    'Humacao Municipio': 1.1382,\n",
        "    'Cidra Municipio': 1.1096,\n",
        "    'Fajardo Municipio': 1.0743,\n",
        "    'Naranjito Municipio': 1.0672,\n",
        "    'Rincón Municipio': 1.0629,\n",
        "    'Arroyo Municipio': 1.0556,\n",
        "    'Quebradillas Municipio': 1.0421,\n",
        "    'Las Piedras Municipio': 1.0384,\n",
        "    'Mayagüez Municipio': 0.9408,\n",
        "    'Hatillo Municipio': 0.9212,\n",
        "    'Manatí Municipio': 0.8749,\n",
        "    'Barranquitas Municipio': 0.8461,\n",
        "    'Corozal Municipio': 0.8122,\n",
        "    'Aguas Buenas Municipio': 0.8052,\n",
        "    'Cayey Municipio': 0.8020,\n",
        "    'Aibonito Municipio': 0.7868,\n",
        "    'Isabela Municipio': 0.7764,\n",
        "    'Río Grande Municipio': 0.7763,\n",
        "    'Juana Díaz Municipio': 0.7721,\n",
        "    'Florida Municipio': 0.7688,\n",
        "    'Moca Municipio': 0.7441,\n",
        "    'Morovis Municipio': 0.7390,\n",
        "    'San Lorenzo Municipio': 0.7097,\n",
        "    'Camuy Municipio': 0.7082,\n",
        "    'Arecibo Municipio': 0.6968,\n",
        "    'Luquillo Municipio': 0.6889,\n",
        "    'Cabo Rojo Municipio': 0.6702,\n",
        "    'Comerío Municipio': 0.6649,\n",
        "    'Añasco Municipio': 0.6515,\n",
        "    'Sabana Grande Municipio': 0.6259,\n",
        "    'Villalba Municipio': 0.6199,\n",
        "    'Santa Isabel Municipio': 0.5959,\n",
        "    'San Germán Municipio': 0.5850,\n",
        "    'Guayama Municipio': 0.5629,\n",
        "    'San Sebastián Municipio': 0.5587,\n",
        "    'Yabucoa Municipio': 0.5510,\n",
        "    'Yauco Municipio': 0.5047,\n",
        "    'Maunabo Municipio': 0.5003,\n",
        "    'Lares Municipio': 0.4574,\n",
        "    'Peñuelas Municipio': 0.4572,\n",
        "    'Naguabo Municipio': 0.4527,\n",
        "    'Coamo Municipio': 0.4444,\n",
        "    'Guayanilla Municipio': 0.4207,\n",
        "    'Ceiba Municipio': 0.3894,\n",
        "    'Lajas Municipio': 0.3892,\n",
        "    'Guánica Municipio': 0.3721,\n",
        "    'Salinas Municipio': 0.3716,\n",
        "    'Patillas Municipio': 0.3430,\n",
        "    'Orocovis Municipio': 0.3369,\n",
        "    'Jayuya Municipio': 0.3319,\n",
        "    'Adjuntas Municipio': 0.2702,\n",
        "    'Ciales Municipio': 0.2553,\n",
        "    'Utuado Municipio': 0.2492,\n",
        "    'Las Marías Municipio': 0.1914,\n",
        "    'Vieques Municipio': 0.1624,\n",
        "    'Culebra Municipio': 0.1539,\n",
        "    'Maricao Municipio': 0.1298\n",
        "}\n"
      ],
      "metadata": {
        "id": "O_Gu5hBQ2Xt5"
      },
      "execution_count": 55,
      "outputs": []
    },
    {
      "cell_type": "markdown",
      "source": [
        "Recorrem la llista \"counties_null_pop_density\" per comprovar si el nom de cada comtat està al diccionari densitat_poblacion. Si el comtat està al diccionari, s'actualitza el valor de pop_density al DataFrame usant el valor corresponent del diccionari."
      ],
      "metadata": {
        "id": "rXotSepf-jEt"
      }
    },
    {
      "cell_type": "code",
      "source": [
        "for county in counties_null_pop_density:\n",
        "    if county in densidad_poblacion:\n",
        "        df_preprocesado.loc[df_preprocesado['county'] == county, 'pop_density'] = densidad_poblacion[county]\n"
      ],
      "metadata": {
        "id": "kuUYuO4m83YX"
      },
      "execution_count": 56,
      "outputs": []
    },
    {
      "cell_type": "markdown",
      "source": [
        "Tornem a mirar l'existència de missings per corroborar que no hi hagi més valors faltants."
      ],
      "metadata": {
        "id": "kaYGUOwF_dFR"
      }
    },
    {
      "cell_type": "code",
      "source": [
        "missings = df_preprocesado.isnull().sum()\n",
        "print(missings)"
      ],
      "metadata": {
        "colab": {
          "base_uri": "https://localhost:8080/"
        },
        "id": "Kl5MOhCX_aa4",
        "outputId": "d3b94125-0cd5-411a-ea10-884e64d5ae76"
      },
      "execution_count": 57,
      "outputs": [
        {
          "output_type": "stream",
          "name": "stdout",
          "text": [
            "county         0\n",
            "state          0\n",
            "population     0\n",
            "pop_density    0\n",
            "dtype: int64\n"
          ]
        }
      ]
    },
    {
      "cell_type": "markdown",
      "source": [
        "## Estatístiques descriptives"
      ],
      "metadata": {
        "id": "3tjunokoFypw"
      }
    },
    {
      "cell_type": "code",
      "source": [
        "# Població y Densitat de Població\n",
        "print(df_preprocesado['population'].describe())\n",
        "print(df_preprocesado['pop_density'].describe())\n"
      ],
      "metadata": {
        "colab": {
          "base_uri": "https://localhost:8080/"
        },
        "id": "1yz_3kbAFCS5",
        "outputId": "3c94ecc1-27c1-4379-cdc8-8d35d5a7df91"
      },
      "execution_count": 58,
      "outputs": [
        {
          "output_type": "stream",
          "name": "stdout",
          "text": [
            "count    3.220000e+03\n",
            "mean     1.025971e+05\n",
            "std      3.296352e+05\n",
            "min      8.800000e+01\n",
            "25%      1.113600e+04\n",
            "50%      2.606350e+04\n",
            "75%      6.701325e+04\n",
            "max      1.010552e+07\n",
            "Name: population, dtype: float64\n",
            "count     3220.000000\n",
            "mean       266.506798\n",
            "std       1781.984073\n",
            "min          0.036593\n",
            "25%         14.749124\n",
            "50%         42.766024\n",
            "75%        112.492102\n",
            "max      71886.166433\n",
            "Name: pop_density, dtype: float64\n"
          ]
        }
      ]
    },
    {
      "cell_type": "markdown",
      "source": [
        "## Distribució de Població i Densitat de Població"
      ],
      "metadata": {
        "id": "CIHcWIc-F31M"
      }
    },
    {
      "cell_type": "code",
      "source": [
        "# Histogramas\n",
        "plt.figure(figsize=(14, 6))\n",
        "\n",
        "# Població\n",
        "plt.subplot(1, 2, 1)\n",
        "sns.histplot(df_preprocesado['population'], kde=True, color='blue', bins=50)\n",
        "plt.title('Distribució de la Població')\n",
        "\n",
        "# Densitat de Població\n",
        "plt.subplot(1, 2, 2)\n",
        "sns.histplot(df_preprocesado['pop_density'], kde=True, color='green', bins=50)\n",
        "plt.title('Distribució de la Densitat de Població')\n",
        "\n",
        "plt.tight_layout()\n",
        "plt.show()\n"
      ],
      "metadata": {
        "colab": {
          "base_uri": "https://localhost:8080/",
          "height": 516
        },
        "id": "fg6L6EdBF5Pe",
        "outputId": "5d8bbd19-2292-426b-92cd-848467f80ce5"
      },
      "execution_count": 59,
      "outputs": [
        {
          "output_type": "display_data",
          "data": {
            "text/plain": [
              "<Figure size 1400x600 with 2 Axes>"
            ],
            "image/png": "[encoded data removed]"
          },
          "metadata": {}
        }
      ]
    },
    {
      "cell_type": "markdown",
      "source": [
        "Tots dos histogrames revelen com la major part de les dades sobre població i la seva densitat es concentren als nivells més baixos del rang. Això suggereix que hi ha moltes àrees amb poblacions relativament petites, mentre que les àrees amb poblacions més altes són rares. Com que són dades reals i ens seran útils no les modificarem. Posteriorment podrem agrupar els estats per densitat de població per tractar millor cada cas."
      ],
      "metadata": {
        "id": "DUej5xo64sJN"
      }
    },
    {
      "cell_type": "code",
      "source": [
        "df_preprocesado.head()"
      ],
      "metadata": {
        "colab": {
          "base_uri": "https://localhost:8080/",
          "height": 206
        },
        "id": "PsHhjb5RdLfW",
        "outputId": "97839955-d7a4-4152-d421-dfa9a72b21b2"
      },
      "execution_count": 60,
      "outputs": [
        {
          "output_type": "execute_result",
          "data": {
            "text/plain": [
              "    county    state  population  pop_density\n",
              "0  Autauga  Alabama       55601    93.534505\n",
              "1  Baldwin  Alabama      218022   137.138546\n",
              "2  Barbour  Alabama       24881    28.114060\n",
              "3     Bibb  Alabama       22400    35.986169\n",
              "4   Blount  Alabama       57840    89.697955"
            ],
            "text/html": [
              "\n",
              "  <div id=\"df-2c40bf7e-7989-4179-b0b3-e2d3bc1ab876\" class=\"colab-df-container\">\n",
              "    <div>\n",
              "<style scoped>\n",
              "    .dataframe tbody tr th:only-of-type {\n",
              "        vertical-align: middle;\n",
              "    }\n",
              "\n",
              "    .dataframe tbody tr th {\n",
              "        vertical-align: top;\n",
              "    }\n",
              "\n",
              "    .dataframe thead th {\n",
              "        text-align: right;\n",
              "    }\n",
              "</style>\n",
              "<table border=\"1\" class=\"dataframe\">\n",
              "  <thead>\n",
              "    <tr style=\"text-align: right;\">\n",
              "      <th></th>\n",
              "      <th>county</th>\n",
              "      <th>state</th>\n",
              "      <th>population</th>\n",
              "      <th>pop_density</th>\n",
              "    </tr>\n",
              "  </thead>\n",
              "  <tbody>\n",
              "    <tr>\n",
              "      <th>0</th>\n",
              "      <td>Autauga</td>\n",
              "      <td>Alabama</td>\n",
              "      <td>55601</td>\n",
              "      <td>93.534505</td>\n",
              "    </tr>\n",
              "    <tr>\n",
              "      <th>1</th>\n",
              "      <td>Baldwin</td>\n",
              "      <td>Alabama</td>\n",
              "      <td>218022</td>\n",
              "      <td>137.138546</td>\n",
              "    </tr>\n",
              "    <tr>\n",
              "      <th>2</th>\n",
              "      <td>Barbour</td>\n",
              "      <td>Alabama</td>\n",
              "      <td>24881</td>\n",
              "      <td>28.114060</td>\n",
              "    </tr>\n",
              "    <tr>\n",
              "      <th>3</th>\n",
              "      <td>Bibb</td>\n",
              "      <td>Alabama</td>\n",
              "      <td>22400</td>\n",
              "      <td>35.986169</td>\n",
              "    </tr>\n",
              "    <tr>\n",
              "      <th>4</th>\n",
              "      <td>Blount</td>\n",
              "      <td>Alabama</td>\n",
              "      <td>57840</td>\n",
              "      <td>89.697955</td>\n",
              "    </tr>\n",
              "  </tbody>\n",
              "</table>\n",
              "</div>\n",
              "    <div class=\"colab-df-buttons\">\n",
              "\n",
              "  <div class=\"colab-df-container\">\n",
              "    <button class=\"colab-df-convert\" onclick=\"convertToInteractive('df-2c40bf7e-7989-4179-b0b3-e2d3bc1ab876')\"\n",
              "            title=\"Convert this dataframe to an interactive table.\"\n",
              "            style=\"display:none;\">\n",
              "\n",
              "  <svg xmlns=\"http://www.w3.org/2000/svg\" height=\"24px\" viewBox=\"0 -960 960 960\">\n",
              "    <path d=\"M120-120v-720h720v720H120Zm60-500h600v-160H180v160Zm220 220h160v-160H400v160Zm0 220h160v-160H400v160ZM180-400h160v-160H180v160Zm440 0h160v-160H620v160ZM180-180h160v-160H180v160Zm440 0h160v-160H620v160Z\"/>\n",
              "  </svg>\n",
              "    </button>\n",
              "\n",
              "  <style>\n",
              "    .colab-df-container {\n",
              "      display:flex;\n",
              "      gap: 12px;\n",
              "    }\n",
              "\n",
              "    .colab-df-convert {\n",
              "      background-color: #E8F0FE;\n",
              "      border: none;\n",
              "      border-radius: 50%;\n",
              "      cursor: pointer;\n",
              "      display: none;\n",
              "      fill: #1967D2;\n",
              "      height: 32px;\n",
              "      padding: 0 0 0 0;\n",
              "      width: 32px;\n",
              "    }\n",
              "\n",
              "    .colab-df-convert:hover {\n",
              "      background-color: #E2EBFA;\n",
              "      box-shadow: 0px 1px 2px rgba(60, 64, 67, 0.3), 0px 1px 3px 1px rgba(60, 64, 67, 0.15);\n",
              "      fill: #174EA6;\n",
              "    }\n",
              "\n",
              "    .colab-df-buttons div {\n",
              "      margin-bottom: 4px;\n",
              "    }\n",
              "\n",
              "    [theme=dark] .colab-df-convert {\n",
              "      background-color: #3B4455;\n",
              "      fill: #D2E3FC;\n",
              "    }\n",
              "\n",
              "    [theme=dark] .colab-df-convert:hover {\n",
              "      background-color: #434B5C;\n",
              "      box-shadow: 0px 1px 3px 1px rgba(0, 0, 0, 0.15);\n",
              "      filter: drop-shadow(0px 1px 2px rgba(0, 0, 0, 0.3));\n",
              "      fill: #FFFFFF;\n",
              "    }\n",
              "  </style>\n",
              "\n",
              "    <script>\n",
              "      const buttonEl =\n",
              "        document.querySelector('#df-2c40bf7e-7989-4179-b0b3-e2d3bc1ab876 button.colab-df-convert');\n",
              "      buttonEl.style.display =\n",
              "        google.colab.kernel.accessAllowed ? 'block' : 'none';\n",
              "\n",
              "      async function convertToInteractive(key) {\n",
              "        const element = document.querySelector('#df-2c40bf7e-7989-4179-b0b3-e2d3bc1ab876');\n",
              "        const dataTable =\n",
              "          await google.colab.kernel.invokeFunction('convertToInteractive',\n",
              "                                                    [key], {});\n",
              "        if (!dataTable) return;\n",
              "\n",
              "        const docLinkHtml = 'Like what you see? Visit the ' +\n",
              "          '<a target=\"_blank\" href=https://colab.research.google.com/notebooks/data_table.ipynb>data table notebook</a>'\n",
              "          + ' to learn more about interactive tables.';\n",
              "        element.innerHTML = '';\n",
              "        dataTable['output_type'] = 'display_data';\n",
              "        await google.colab.output.renderOutput(dataTable, element);\n",
              "        const docLink = document.createElement('div');\n",
              "        docLink.innerHTML = docLinkHtml;\n",
              "        element.appendChild(docLink);\n",
              "      }\n",
              "    </script>\n",
              "  </div>\n",
              "\n",
              "\n",
              "<div id=\"df-63672112-02e2-4b99-869a-1b38015db5db\">\n",
              "  <button class=\"colab-df-quickchart\" onclick=\"quickchart('df-63672112-02e2-4b99-869a-1b38015db5db')\"\n",
              "            title=\"Suggest charts\"\n",
              "            style=\"display:none;\">\n",
              "\n",
              "<svg xmlns=\"http://www.w3.org/2000/svg\" height=\"24px\"viewBox=\"0 0 24 24\"\n",
              "     width=\"24px\">\n",
              "    <g>\n",
              "        <path d=\"M19 3H5c-1.1 0-2 .9-2 2v14c0 1.1.9 2 2 2h14c1.1 0 2-.9 2-2V5c0-1.1-.9-2-2-2zM9 17H7v-7h2v7zm4 0h-2V7h2v10zm4 0h-2v-4h2v4z\"/>\n",
              "    </g>\n",
              "</svg>\n",
              "  </button>\n",
              "\n",
              "<style>\n",
              "  .colab-df-quickchart {\n",
              "      --bg-color: #E8F0FE;\n",
              "      --fill-color: #1967D2;\n",
              "      --hover-bg-color: #E2EBFA;\n",
              "      --hover-fill-color: #174EA6;\n",
              "      --disabled-fill-color: #AAA;\n",
              "      --disabled-bg-color: #DDD;\n",
              "  }\n",
              "\n",
              "  [theme=dark] .colab-df-quickchart {\n",
              "      --bg-color: #3B4455;\n",
              "      --fill-color: #D2E3FC;\n",
              "      --hover-bg-color: #434B5C;\n",
              "      --hover-fill-color: #FFFFFF;\n",
              "      --disabled-bg-color: #3B4455;\n",
              "      --disabled-fill-color: #666;\n",
              "  }\n",
              "\n",
              "  .colab-df-quickchart {\n",
              "    background-color: var(--bg-color);\n",
              "    border: none;\n",
              "    border-radius: 50%;\n",
              "    cursor: pointer;\n",
              "    display: none;\n",
              "    fill: var(--fill-color);\n",
              "    height: 32px;\n",
              "    padding: 0;\n",
              "    width: 32px;\n",
              "  }\n",
              "\n",
              "  .colab-df-quickchart:hover {\n",
              "    background-color: var(--hover-bg-color);\n",
              "    box-shadow: 0 1px 2px rgba(60, 64, 67, 0.3), 0 1px 3px 1px rgba(60, 64, 67, 0.15);\n",
              "    fill: var(--button-hover-fill-color);\n",
              "  }\n",
              "\n",
              "  .colab-df-quickchart-complete:disabled,\n",
              "  .colab-df-quickchart-complete:disabled:hover {\n",
              "    background-color: var(--disabled-bg-color);\n",
              "    fill: var(--disabled-fill-color);\n",
              "    box-shadow: none;\n",
              "  }\n",
              "\n",
              "  .colab-df-spinner {\n",
              "    border: 2px solid var(--fill-color);\n",
              "    border-color: transparent;\n",
              "    border-bottom-color: var(--fill-color);\n",
              "    animation:\n",
              "      spin 1s steps(1) infinite;\n",
              "  }\n",
              "\n",
              "  @keyframes spin {\n",
              "    0% {\n",
              "      border-color: transparent;\n",
              "      border-bottom-color: var(--fill-color);\n",
              "      border-left-color: var(--fill-color);\n",
              "    }\n",
              "    20% {\n",
              "      border-color: transparent;\n",
              "      border-left-color: var(--fill-color);\n",
              "      border-top-color: var(--fill-color);\n",
              "    }\n",
              "    30% {\n",
              "      border-color: transparent;\n",
              "      border-left-color: var(--fill-color);\n",
              "      border-top-color: var(--fill-color);\n",
              "      border-right-color: var(--fill-color);\n",
              "    }\n",
              "    40% {\n",
              "      border-color: transparent;\n",
              "      border-right-color: var(--fill-color);\n",
              "      border-top-color: var(--fill-color);\n",
              "    }\n",
              "    60% {\n",
              "      border-color: transparent;\n",
              "      border-right-color: var(--fill-color);\n",
              "    }\n",
              "    80% {\n",
              "      border-color: transparent;\n",
              "      border-right-color: var(--fill-color);\n",
              "      border-bottom-color: var(--fill-color);\n",
              "    }\n",
              "    90% {\n",
              "      border-color: transparent;\n",
              "      border-bottom-color: var(--fill-color);\n",
              "    }\n",
              "  }\n",
              "</style>\n",
              "\n",
              "  <script>\n",
              "    async function quickchart(key) {\n",
              "      const quickchartButtonEl =\n",
              "        document.querySelector('#' + key + ' button');\n",
              "      quickchartButtonEl.disabled = true;  // To prevent multiple clicks.\n",
              "      quickchartButtonEl.classList.add('colab-df-spinner');\n",
              "      try {\n",
              "        const charts = await google.colab.kernel.invokeFunction(\n",
              "            'suggestCharts', [key], {});\n",
              "      } catch (error) {\n",
              "        console.error('Error during call to suggestCharts:', error);\n",
              "      }\n",
              "      quickchartButtonEl.classList.remove('colab-df-spinner');\n",
              "      quickchartButtonEl.classList.add('colab-df-quickchart-complete');\n",
              "    }\n",
              "    (() => {\n",
              "      let quickchartButtonEl =\n",
              "        document.querySelector('#df-63672112-02e2-4b99-869a-1b38015db5db button');\n",
              "      quickchartButtonEl.style.display =\n",
              "        google.colab.kernel.accessAllowed ? 'block' : 'none';\n",
              "    })();\n",
              "  </script>\n",
              "</div>\n",
              "\n",
              "    </div>\n",
              "  </div>\n"
            ],
            "application/vnd.google.colaboratory.intrinsic+json": {
              "type": "dataframe",
              "variable_name": "df_preprocesado",
              "summary": "{\n  \"name\": \"df_preprocesado\",\n  \"rows\": 3220,\n  \"fields\": [\n    {\n      \"column\": \"county\",\n      \"properties\": {\n        \"dtype\": \"string\",\n        \"num_unique_values\": 1955,\n        \"samples\": [\n          \"Lynn\",\n          \"Whatcom\",\n          \"Vinton\"\n        ],\n        \"semantic_type\": \"\",\n        \"description\": \"\"\n      }\n    },\n    {\n      \"column\": \"state\",\n      \"properties\": {\n        \"dtype\": \"category\",\n        \"num_unique_values\": 52,\n        \"samples\": [\n          \"Maine\",\n          \"South Dakota\",\n          \"Washington\"\n        ],\n        \"semantic_type\": \"\",\n        \"description\": \"\"\n      }\n    },\n    {\n      \"column\": \"population\",\n      \"properties\": {\n        \"dtype\": \"number\",\n        \"std\": 329635,\n        \"min\": 88,\n        \"max\": 10105518,\n        \"num_unique_values\": 3149,\n        \"samples\": [\n          41755,\n          5899,\n          8271\n        ],\n        \"semantic_type\": \"\",\n        \"description\": \"\"\n      }\n    },\n    {\n      \"column\": \"pop_density\",\n      \"properties\": {\n        \"dtype\": \"number\",\n        \"std\": 1781.984073216793,\n        \"min\": 0.0365930984,\n        \"max\": 71886.166433,\n        \"num_unique_values\": 3220,\n        \"samples\": [\n          2.1596520906,\n          136.85414441,\n          59.647671783\n        ],\n        \"semantic_type\": \"\",\n        \"description\": \"\"\n      }\n    }\n  ]\n}"
            }
          },
          "metadata": {},
          "execution_count": 60
        }
      ]
    },
    {
      "cell_type": "code",
      "source": [
        "# Guardem el DataFrame preprocessat\n",
        "df_preprocesado.to_csv(\"us_census_2018_population_estimates_counties_cleaned.csv\", index=False)"
      ],
      "metadata": {
        "id": "po0WBgygJo27"
      },
      "execution_count": 61,
      "outputs": []
    },
    {
      "cell_type": "markdown",
      "metadata": {
        "id": "z3II2DWpsLtc"
      },
      "source": [
        "# Preprocessing Beds Data"
      ]
    },
    {
      "cell_type": "code",
      "execution_count": 62,
      "metadata": {
        "colab": {
          "base_uri": "https://localhost:8080/"
        },
        "id": "pcllq51asLtd",
        "outputId": "092bc829-4099-4a86-9825-0195ddb504c1"
      },
      "outputs": [
        {
          "output_type": "stream",
          "name": "stdout",
          "text": [
            "  state  state_name  state_local_government  non_profit  for_profit  total\n",
            "0    AK      Alaska                     0.3         1.5         0.4    2.2\n",
            "1    AL     Alabama                     1.4         0.8         0.9    3.1\n",
            "2    AR    Arkansas                     0.3         2.2         0.7    3.2\n",
            "3    AZ     Arizona                     0.1         1.3         0.5    1.9\n",
            "4    CA  California                     0.3         1.2         0.3    1.8\n"
          ]
        },
        {
          "output_type": "execute_result",
          "data": {
            "text/plain": [
              "(51, 6)"
            ]
          },
          "metadata": {},
          "execution_count": 62
        }
      ],
      "source": [
        "beds = \"/content/kff_usa_hospital_beds_per_capita_2018.csv\"\n",
        "\n",
        "# Carreguem el dataset\n",
        "df2 = pd.read_csv(beds)\n",
        "print(df2.head())\n",
        "df2.shape"
      ]
    },
    {
      "cell_type": "code",
      "source": [
        "# Creem una còpia del DataFrame per preprocessar-ho\n",
        "df_preprocesado2 = df2.copy()"
      ],
      "metadata": {
        "id": "DHQbqet915pz"
      },
      "execution_count": 63,
      "outputs": []
    },
    {
      "cell_type": "markdown",
      "source": [
        "## Selecció de variables"
      ],
      "metadata": {
        "id": "fyHlwvN41gcB"
      }
    },
    {
      "cell_type": "markdown",
      "source": [
        "Com ho vam fer prèviament, eliminem la variable \"state\", que és l'abreujament de \"state_name\"."
      ],
      "metadata": {
        "id": "pRiqipLA2O0g"
      }
    },
    {
      "cell_type": "code",
      "source": [
        "df_preprocesado2 = df_preprocesado2.drop('state', axis=1)\n",
        "df_preprocesado2 = df_preprocesado2.rename(columns={'state_name': 'state'})"
      ],
      "metadata": {
        "id": "mpUQk36u1nbd"
      },
      "execution_count": 64,
      "outputs": []
    },
    {
      "cell_type": "markdown",
      "metadata": {
        "id": "G61-4xBKsLtd"
      },
      "source": [
        "## Gestió missings"
      ]
    },
    {
      "cell_type": "code",
      "execution_count": 65,
      "metadata": {
        "colab": {
          "base_uri": "https://localhost:8080/"
        },
        "id": "IOq12y6AsLte",
        "outputId": "d528646d-08d8-4aca-b13d-0036ccad0806"
      },
      "outputs": [
        {
          "output_type": "stream",
          "name": "stdout",
          "text": [
            "state                     0\n",
            "state_local_government    8\n",
            "non_profit                0\n",
            "for_profit                5\n",
            "total                     0\n",
            "dtype: int64\n"
          ]
        }
      ],
      "source": [
        "# Identificar i comptar els missings\n",
        "missings2 = df_preprocesado2.isnull().sum()\n",
        "print(missings2)"
      ]
    },
    {
      "cell_type": "markdown",
      "source": [
        "Omplim amb 0 els valors faltants. Aquests no es tenen en compte en fer la suma total de llits, i com que són pocs els tractarem com si l'hospital no comptés amb llits"
      ],
      "metadata": {
        "id": "aCd5jmfzdZqt"
      }
    },
    {
      "cell_type": "code",
      "execution_count": 26,
      "metadata": {
        "id": "4qnoosZLsLte"
      },
      "outputs": [],
      "source": [
        "df_preprocesado2 = df_preprocesado2.fillna(0)"
      ]
    },
    {
      "cell_type": "markdown",
      "source": [
        "## Estatístiques descriptives"
      ],
      "metadata": {
        "id": "cETlGa4wMnp4"
      }
    },
    {
      "cell_type": "code",
      "source": [
        "df_preprocesado2[['state_local_government', 'non_profit', 'for_profit', 'total']].describe()\n"
      ],
      "metadata": {
        "colab": {
          "base_uri": "https://localhost:8080/",
          "height": 300
        },
        "id": "uw-3xLyJMuGx",
        "outputId": "598b890d-fab3-41ee-b274-0755ef68e66f"
      },
      "execution_count": 66,
      "outputs": [
        {
          "output_type": "execute_result",
          "data": {
            "text/plain": [
              "       state_local_government  non_profit  for_profit      total\n",
              "count               43.000000   51.000000   46.000000  51.000000\n",
              "mean                 0.446512    1.864706    0.441304   2.635294\n",
              "std                  0.475269    0.791410    0.311681   0.750952\n",
              "min                  0.000000    0.500000    0.000000   1.600000\n",
              "25%                  0.200000    1.300000    0.200000   2.100000\n",
              "50%                  0.300000    1.800000    0.400000   2.500000\n",
              "75%                  0.500000    2.200000    0.700000   3.100000\n",
              "max                  2.600000    4.300000    1.300000   4.800000"
            ],
            "text/html": [
              "\n",
              "  <div id=\"df-d5c895f2-6920-49b0-87c2-be3ffef07f54\" class=\"colab-df-container\">\n",
              "    <div>\n",
              "<style scoped>\n",
              "    .dataframe tbody tr th:only-of-type {\n",
              "        vertical-align: middle;\n",
              "    }\n",
              "\n",
              "    .dataframe tbody tr th {\n",
              "        vertical-align: top;\n",
              "    }\n",
              "\n",
              "    .dataframe thead th {\n",
              "        text-align: right;\n",
              "    }\n",
              "</style>\n",
              "<table border=\"1\" class=\"dataframe\">\n",
              "  <thead>\n",
              "    <tr style=\"text-align: right;\">\n",
              "      <th></th>\n",
              "      <th>state_local_government</th>\n",
              "      <th>non_profit</th>\n",
              "      <th>for_profit</th>\n",
              "      <th>total</th>\n",
              "    </tr>\n",
              "  </thead>\n",
              "  <tbody>\n",
              "    <tr>\n",
              "      <th>count</th>\n",
              "      <td>43.000000</td>\n",
              "      <td>51.000000</td>\n",
              "      <td>46.000000</td>\n",
              "      <td>51.000000</td>\n",
              "    </tr>\n",
              "    <tr>\n",
              "      <th>mean</th>\n",
              "      <td>0.446512</td>\n",
              "      <td>1.864706</td>\n",
              "      <td>0.441304</td>\n",
              "      <td>2.635294</td>\n",
              "    </tr>\n",
              "    <tr>\n",
              "      <th>std</th>\n",
              "      <td>0.475269</td>\n",
              "      <td>0.791410</td>\n",
              "      <td>0.311681</td>\n",
              "      <td>0.750952</td>\n",
              "    </tr>\n",
              "    <tr>\n",
              "      <th>min</th>\n",
              "      <td>0.000000</td>\n",
              "      <td>0.500000</td>\n",
              "      <td>0.000000</td>\n",
              "      <td>1.600000</td>\n",
              "    </tr>\n",
              "    <tr>\n",
              "      <th>25%</th>\n",
              "      <td>0.200000</td>\n",
              "      <td>1.300000</td>\n",
              "      <td>0.200000</td>\n",
              "      <td>2.100000</td>\n",
              "    </tr>\n",
              "    <tr>\n",
              "      <th>50%</th>\n",
              "      <td>0.300000</td>\n",
              "      <td>1.800000</td>\n",
              "      <td>0.400000</td>\n",
              "      <td>2.500000</td>\n",
              "    </tr>\n",
              "    <tr>\n",
              "      <th>75%</th>\n",
              "      <td>0.500000</td>\n",
              "      <td>2.200000</td>\n",
              "      <td>0.700000</td>\n",
              "      <td>3.100000</td>\n",
              "    </tr>\n",
              "    <tr>\n",
              "      <th>max</th>\n",
              "      <td>2.600000</td>\n",
              "      <td>4.300000</td>\n",
              "      <td>1.300000</td>\n",
              "      <td>4.800000</td>\n",
              "    </tr>\n",
              "  </tbody>\n",
              "</table>\n",
              "</div>\n",
              "    <div class=\"colab-df-buttons\">\n",
              "\n",
              "  <div class=\"colab-df-container\">\n",
              "    <button class=\"colab-df-convert\" onclick=\"convertToInteractive('df-d5c895f2-6920-49b0-87c2-be3ffef07f54')\"\n",
              "            title=\"Convert this dataframe to an interactive table.\"\n",
              "            style=\"display:none;\">\n",
              "\n",
              "  <svg xmlns=\"http://www.w3.org/2000/svg\" height=\"24px\" viewBox=\"0 -960 960 960\">\n",
              "    <path d=\"M120-120v-720h720v720H120Zm60-500h600v-160H180v160Zm220 220h160v-160H400v160Zm0 220h160v-160H400v160ZM180-400h160v-160H180v160Zm440 0h160v-160H620v160ZM180-180h160v-160H180v160Zm440 0h160v-160H620v160Z\"/>\n",
              "  </svg>\n",
              "    </button>\n",
              "\n",
              "  <style>\n",
              "    .colab-df-container {\n",
              "      display:flex;\n",
              "      gap: 12px;\n",
              "    }\n",
              "\n",
              "    .colab-df-convert {\n",
              "      background-color: #E8F0FE;\n",
              "      border: none;\n",
              "      border-radius: 50%;\n",
              "      cursor: pointer;\n",
              "      display: none;\n",
              "      fill: #1967D2;\n",
              "      height: 32px;\n",
              "      padding: 0 0 0 0;\n",
              "      width: 32px;\n",
              "    }\n",
              "\n",
              "    .colab-df-convert:hover {\n",
              "      background-color: #E2EBFA;\n",
              "      box-shadow: 0px 1px 2px rgba(60, 64, 67, 0.3), 0px 1px 3px 1px rgba(60, 64, 67, 0.15);\n",
              "      fill: #174EA6;\n",
              "    }\n",
              "\n",
              "    .colab-df-buttons div {\n",
              "      margin-bottom: 4px;\n",
              "    }\n",
              "\n",
              "    [theme=dark] .colab-df-convert {\n",
              "      background-color: #3B4455;\n",
              "      fill: #D2E3FC;\n",
              "    }\n",
              "\n",
              "    [theme=dark] .colab-df-convert:hover {\n",
              "      background-color: #434B5C;\n",
              "      box-shadow: 0px 1px 3px 1px rgba(0, 0, 0, 0.15);\n",
              "      filter: drop-shadow(0px 1px 2px rgba(0, 0, 0, 0.3));\n",
              "      fill: #FFFFFF;\n",
              "    }\n",
              "  </style>\n",
              "\n",
              "    <script>\n",
              "      const buttonEl =\n",
              "        document.querySelector('#df-d5c895f2-6920-49b0-87c2-be3ffef07f54 button.colab-df-convert');\n",
              "      buttonEl.style.display =\n",
              "        google.colab.kernel.accessAllowed ? 'block' : 'none';\n",
              "\n",
              "      async function convertToInteractive(key) {\n",
              "        const element = document.querySelector('#df-d5c895f2-6920-49b0-87c2-be3ffef07f54');\n",
              "        const dataTable =\n",
              "          await google.colab.kernel.invokeFunction('convertToInteractive',\n",
              "                                                    [key], {});\n",
              "        if (!dataTable) return;\n",
              "\n",
              "        const docLinkHtml = 'Like what you see? Visit the ' +\n",
              "          '<a target=\"_blank\" href=https://colab.research.google.com/notebooks/data_table.ipynb>data table notebook</a>'\n",
              "          + ' to learn more about interactive tables.';\n",
              "        element.innerHTML = '';\n",
              "        dataTable['output_type'] = 'display_data';\n",
              "        await google.colab.output.renderOutput(dataTable, element);\n",
              "        const docLink = document.createElement('div');\n",
              "        docLink.innerHTML = docLinkHtml;\n",
              "        element.appendChild(docLink);\n",
              "      }\n",
              "    </script>\n",
              "  </div>\n",
              "\n",
              "\n",
              "<div id=\"df-9bdebffb-6131-4927-9956-44ed43cb7d58\">\n",
              "  <button class=\"colab-df-quickchart\" onclick=\"quickchart('df-9bdebffb-6131-4927-9956-44ed43cb7d58')\"\n",
              "            title=\"Suggest charts\"\n",
              "            style=\"display:none;\">\n",
              "\n",
              "<svg xmlns=\"http://www.w3.org/2000/svg\" height=\"24px\"viewBox=\"0 0 24 24\"\n",
              "     width=\"24px\">\n",
              "    <g>\n",
              "        <path d=\"M19 3H5c-1.1 0-2 .9-2 2v14c0 1.1.9 2 2 2h14c1.1 0 2-.9 2-2V5c0-1.1-.9-2-2-2zM9 17H7v-7h2v7zm4 0h-2V7h2v10zm4 0h-2v-4h2v4z\"/>\n",
              "    </g>\n",
              "</svg>\n",
              "  </button>\n",
              "\n",
              "<style>\n",
              "  .colab-df-quickchart {\n",
              "      --bg-color: #E8F0FE;\n",
              "      --fill-color: #1967D2;\n",
              "      --hover-bg-color: #E2EBFA;\n",
              "      --hover-fill-color: #174EA6;\n",
              "      --disabled-fill-color: #AAA;\n",
              "      --disabled-bg-color: #DDD;\n",
              "  }\n",
              "\n",
              "  [theme=dark] .colab-df-quickchart {\n",
              "      --bg-color: #3B4455;\n",
              "      --fill-color: #D2E3FC;\n",
              "      --hover-bg-color: #434B5C;\n",
              "      --hover-fill-color: #FFFFFF;\n",
              "      --disabled-bg-color: #3B4455;\n",
              "      --disabled-fill-color: #666;\n",
              "  }\n",
              "\n",
              "  .colab-df-quickchart {\n",
              "    background-color: var(--bg-color);\n",
              "    border: none;\n",
              "    border-radius: 50%;\n",
              "    cursor: pointer;\n",
              "    display: none;\n",
              "    fill: var(--fill-color);\n",
              "    height: 32px;\n",
              "    padding: 0;\n",
              "    width: 32px;\n",
              "  }\n",
              "\n",
              "  .colab-df-quickchart:hover {\n",
              "    background-color: var(--hover-bg-color);\n",
              "    box-shadow: 0 1px 2px rgba(60, 64, 67, 0.3), 0 1px 3px 1px rgba(60, 64, 67, 0.15);\n",
              "    fill: var(--button-hover-fill-color);\n",
              "  }\n",
              "\n",
              "  .colab-df-quickchart-complete:disabled,\n",
              "  .colab-df-quickchart-complete:disabled:hover {\n",
              "    background-color: var(--disabled-bg-color);\n",
              "    fill: var(--disabled-fill-color);\n",
              "    box-shadow: none;\n",
              "  }\n",
              "\n",
              "  .colab-df-spinner {\n",
              "    border: 2px solid var(--fill-color);\n",
              "    border-color: transparent;\n",
              "    border-bottom-color: var(--fill-color);\n",
              "    animation:\n",
              "      spin 1s steps(1) infinite;\n",
              "  }\n",
              "\n",
              "  @keyframes spin {\n",
              "    0% {\n",
              "      border-color: transparent;\n",
              "      border-bottom-color: var(--fill-color);\n",
              "      border-left-color: var(--fill-color);\n",
              "    }\n",
              "    20% {\n",
              "      border-color: transparent;\n",
              "      border-left-color: var(--fill-color);\n",
              "      border-top-color: var(--fill-color);\n",
              "    }\n",
              "    30% {\n",
              "      border-color: transparent;\n",
              "      border-left-color: var(--fill-color);\n",
              "      border-top-color: var(--fill-color);\n",
              "      border-right-color: var(--fill-color);\n",
              "    }\n",
              "    40% {\n",
              "      border-color: transparent;\n",
              "      border-right-color: var(--fill-color);\n",
              "      border-top-color: var(--fill-color);\n",
              "    }\n",
              "    60% {\n",
              "      border-color: transparent;\n",
              "      border-right-color: var(--fill-color);\n",
              "    }\n",
              "    80% {\n",
              "      border-color: transparent;\n",
              "      border-right-color: var(--fill-color);\n",
              "      border-bottom-color: var(--fill-color);\n",
              "    }\n",
              "    90% {\n",
              "      border-color: transparent;\n",
              "      border-bottom-color: var(--fill-color);\n",
              "    }\n",
              "  }\n",
              "</style>\n",
              "\n",
              "  <script>\n",
              "    async function quickchart(key) {\n",
              "      const quickchartButtonEl =\n",
              "        document.querySelector('#' + key + ' button');\n",
              "      quickchartButtonEl.disabled = true;  // To prevent multiple clicks.\n",
              "      quickchartButtonEl.classList.add('colab-df-spinner');\n",
              "      try {\n",
              "        const charts = await google.colab.kernel.invokeFunction(\n",
              "            'suggestCharts', [key], {});\n",
              "      } catch (error) {\n",
              "        console.error('Error during call to suggestCharts:', error);\n",
              "      }\n",
              "      quickchartButtonEl.classList.remove('colab-df-spinner');\n",
              "      quickchartButtonEl.classList.add('colab-df-quickchart-complete');\n",
              "    }\n",
              "    (() => {\n",
              "      let quickchartButtonEl =\n",
              "        document.querySelector('#df-9bdebffb-6131-4927-9956-44ed43cb7d58 button');\n",
              "      quickchartButtonEl.style.display =\n",
              "        google.colab.kernel.accessAllowed ? 'block' : 'none';\n",
              "    })();\n",
              "  </script>\n",
              "</div>\n",
              "\n",
              "    </div>\n",
              "  </div>\n"
            ],
            "application/vnd.google.colaboratory.intrinsic+json": {
              "type": "dataframe",
              "summary": "{\n  \"name\": \"df_preprocesado2[['state_local_government', 'non_profit', 'for_profit', 'total']]\",\n  \"rows\": 8,\n  \"fields\": [\n    {\n      \"column\": \"state_local_government\",\n      \"properties\": {\n        \"dtype\": \"number\",\n        \"std\": 14.996548658048368,\n        \"min\": 0.0,\n        \"max\": 43.0,\n        \"num_unique_values\": 8,\n        \"samples\": [\n          0.44651162790697674,\n          0.3,\n          43.0\n        ],\n        \"semantic_type\": \"\",\n        \"description\": \"\"\n      }\n    },\n    {\n      \"column\": \"non_profit\",\n      \"properties\": {\n        \"dtype\": \"number\",\n        \"std\": 17.425384489214284,\n        \"min\": 0.5,\n        \"max\": 51.0,\n        \"num_unique_values\": 8,\n        \"samples\": [\n          1.8647058823529414,\n          1.8,\n          51.0\n        ],\n        \"semantic_type\": \"\",\n        \"description\": \"\"\n      }\n    },\n    {\n      \"column\": \"for_profit\",\n      \"properties\": {\n        \"dtype\": \"number\",\n        \"std\": 16.098834258826393,\n        \"min\": 0.0,\n        \"max\": 46.0,\n        \"num_unique_values\": 8,\n        \"samples\": [\n          0.44130434782608696,\n          0.4,\n          46.0\n        ],\n        \"semantic_type\": \"\",\n        \"description\": \"\"\n      }\n    },\n    {\n      \"column\": \"total\",\n      \"properties\": {\n        \"dtype\": \"number\",\n        \"std\": 17.188380461916715,\n        \"min\": 0.7509523365465388,\n        \"max\": 51.0,\n        \"num_unique_values\": 8,\n        \"samples\": [\n          2.635294117647059,\n          2.5,\n          51.0\n        ],\n        \"semantic_type\": \"\",\n        \"description\": \"\"\n      }\n    }\n  ]\n}"
            }
          },
          "metadata": {},
          "execution_count": 66
        }
      ]
    },
    {
      "cell_type": "markdown",
      "source": [
        "## Visualització de les variables numèriques i outliers"
      ],
      "metadata": {
        "id": "7aOhlxoSNEOv"
      }
    },
    {
      "cell_type": "code",
      "source": [
        "sns.boxplot(data=df_preprocesado2[['state_local_government', 'non_profit', 'for_profit','total']])\n",
        "plt.show()"
      ],
      "metadata": {
        "colab": {
          "base_uri": "https://localhost:8080/",
          "height": 433
        },
        "id": "y2BKRKPQNP84",
        "outputId": "2b882b90-f8c8-45fa-e255-1b9836f7ffc0"
      },
      "execution_count": 67,
      "outputs": [
        {
          "output_type": "display_data",
          "data": {
            "text/plain": [
              "<Figure size 640x480 with 1 Axes>"
            ],
            "image/png": "[encoded data removed]"
          },
          "metadata": {}
        }
      ]
    },
    {
      "cell_type": "code",
      "source": [
        "# Rang interquartil (IQR)\n",
        "Q1 = df_preprocesado2[['state_local_government', 'non_profit', 'for_profit', 'total']].quantile(0.25)\n",
        "Q3 = df_preprocesado2[['state_local_government', 'non_profit', 'for_profit', 'total']].quantile(0.75)\n",
        "IQR = Q3 - Q1\n",
        "\n",
        "# Límits superior i inferior\n",
        "lower_bound = Q1 - 1.5 * IQR\n",
        "upper_bound = Q3 + 1.5 * IQR\n",
        "\n",
        "# Identifiquem els outliers\n",
        "outliers = ((df_preprocesado2[['state_local_government', 'non_profit', 'for_profit', 'total']] < lower_bound) |\n",
        "            (df_preprocesado2[['state_local_government', 'non_profit', 'for_profit', 'total']] > upper_bound))\n",
        "\n",
        "outliers_df = df_preprocesado2[outliers.any(axis=1)]\n",
        "print(outliers_df)"
      ],
      "metadata": {
        "colab": {
          "base_uri": "https://localhost:8080/"
        },
        "id": "T4tBGmucihsN",
        "outputId": "add7c4ee-bc0d-401f-f9ff-78096a0d222e"
      },
      "execution_count": 68,
      "outputs": [
        {
          "output_type": "stream",
          "name": "stdout",
          "text": [
            "           state  state_local_government  non_profit  for_profit  total\n",
            "1        Alabama                     1.4         0.8         0.9    3.1\n",
            "16        Kansas                     1.1         1.4         0.8    3.3\n",
            "25   Mississippi                     1.6         1.6         0.8    4.0\n",
            "28  North Dakota                     NaN         4.2         0.1    4.3\n",
            "41  South Dakota                     0.2         4.3         0.2    4.8\n",
            "50       Wyoming                     2.6         0.5         0.4    3.5\n"
          ]
        }
      ]
    },
    {
      "cell_type": "markdown",
      "source": [
        "Hi han algunes institucions amb quantitats considerablement baixes de llits a \"state_local_government\", això pot ser perquè operen amb pressupostos ajustats. D'altra banda, la categoria \"non_profit\" presenta valors atípics per sobre del límit superior, hi ha un nombre notablement més gran de llits, això pot ser perquè tendeixen a ser més grans i es beneficien de donacions. Quant a \"for_profit\", suggereix una capacitat mitjana menor i menys disparitat entre les entitats d'aquesta categoria. Ja que els outliers en aquest cas són valors vàlids, no cal eliminar-los."
      ],
      "metadata": {
        "id": "KcgqRBfIQELt"
      }
    },
    {
      "cell_type": "code",
      "source": [
        "df_preprocesado2.head()"
      ],
      "metadata": {
        "colab": {
          "base_uri": "https://localhost:8080/",
          "height": 206
        },
        "id": "S-EtsuMqfHUs",
        "outputId": "a3ba83b2-6463-4107-a754-9c1a60fbb34a"
      },
      "execution_count": 69,
      "outputs": [
        {
          "output_type": "execute_result",
          "data": {
            "text/plain": [
              "        state  state_local_government  non_profit  for_profit  total\n",
              "0      Alaska                     0.3         1.5         0.4    2.2\n",
              "1     Alabama                     1.4         0.8         0.9    3.1\n",
              "2    Arkansas                     0.3         2.2         0.7    3.2\n",
              "3     Arizona                     0.1         1.3         0.5    1.9\n",
              "4  California                     0.3         1.2         0.3    1.8"
            ],
            "text/html": [
              "\n",
              "  <div id=\"df-9d7e2f38-3b49-4fcd-b654-4fcbf22ce455\" class=\"colab-df-container\">\n",
              "    <div>\n",
              "<style scoped>\n",
              "    .dataframe tbody tr th:only-of-type {\n",
              "        vertical-align: middle;\n",
              "    }\n",
              "\n",
              "    .dataframe tbody tr th {\n",
              "        vertical-align: top;\n",
              "    }\n",
              "\n",
              "    .dataframe thead th {\n",
              "        text-align: right;\n",
              "    }\n",
              "</style>\n",
              "<table border=\"1\" class=\"dataframe\">\n",
              "  <thead>\n",
              "    <tr style=\"text-align: right;\">\n",
              "      <th></th>\n",
              "      <th>state</th>\n",
              "      <th>state_local_government</th>\n",
              "      <th>non_profit</th>\n",
              "      <th>for_profit</th>\n",
              "      <th>total</th>\n",
              "    </tr>\n",
              "  </thead>\n",
              "  <tbody>\n",
              "    <tr>\n",
              "      <th>0</th>\n",
              "      <td>Alaska</td>\n",
              "      <td>0.3</td>\n",
              "      <td>1.5</td>\n",
              "      <td>0.4</td>\n",
              "      <td>2.2</td>\n",
              "    </tr>\n",
              "    <tr>\n",
              "      <th>1</th>\n",
              "      <td>Alabama</td>\n",
              "      <td>1.4</td>\n",
              "      <td>0.8</td>\n",
              "      <td>0.9</td>\n",
              "      <td>3.1</td>\n",
              "    </tr>\n",
              "    <tr>\n",
              "      <th>2</th>\n",
              "      <td>Arkansas</td>\n",
              "      <td>0.3</td>\n",
              "      <td>2.2</td>\n",
              "      <td>0.7</td>\n",
              "      <td>3.2</td>\n",
              "    </tr>\n",
              "    <tr>\n",
              "      <th>3</th>\n",
              "      <td>Arizona</td>\n",
              "      <td>0.1</td>\n",
              "      <td>1.3</td>\n",
              "      <td>0.5</td>\n",
              "      <td>1.9</td>\n",
              "    </tr>\n",
              "    <tr>\n",
              "      <th>4</th>\n",
              "      <td>California</td>\n",
              "      <td>0.3</td>\n",
              "      <td>1.2</td>\n",
              "      <td>0.3</td>\n",
              "      <td>1.8</td>\n",
              "    </tr>\n",
              "  </tbody>\n",
              "</table>\n",
              "</div>\n",
              "    <div class=\"colab-df-buttons\">\n",
              "\n",
              "  <div class=\"colab-df-container\">\n",
              "    <button class=\"colab-df-convert\" onclick=\"convertToInteractive('df-9d7e2f38-3b49-4fcd-b654-4fcbf22ce455')\"\n",
              "            title=\"Convert this dataframe to an interactive table.\"\n",
              "            style=\"display:none;\">\n",
              "\n",
              "  <svg xmlns=\"http://www.w3.org/2000/svg\" height=\"24px\" viewBox=\"0 -960 960 960\">\n",
              "    <path d=\"M120-120v-720h720v720H120Zm60-500h600v-160H180v160Zm220 220h160v-160H400v160Zm0 220h160v-160H400v160ZM180-400h160v-160H180v160Zm440 0h160v-160H620v160ZM180-180h160v-160H180v160Zm440 0h160v-160H620v160Z\"/>\n",
              "  </svg>\n",
              "    </button>\n",
              "\n",
              "  <style>\n",
              "    .colab-df-container {\n",
              "      display:flex;\n",
              "      gap: 12px;\n",
              "    }\n",
              "\n",
              "    .colab-df-convert {\n",
              "      background-color: #E8F0FE;\n",
              "      border: none;\n",
              "      border-radius: 50%;\n",
              "      cursor: pointer;\n",
              "      display: none;\n",
              "      fill: #1967D2;\n",
              "      height: 32px;\n",
              "      padding: 0 0 0 0;\n",
              "      width: 32px;\n",
              "    }\n",
              "\n",
              "    .colab-df-convert:hover {\n",
              "      background-color: #E2EBFA;\n",
              "      box-shadow: 0px 1px 2px rgba(60, 64, 67, 0.3), 0px 1px 3px 1px rgba(60, 64, 67, 0.15);\n",
              "      fill: #174EA6;\n",
              "    }\n",
              "\n",
              "    .colab-df-buttons div {\n",
              "      margin-bottom: 4px;\n",
              "    }\n",
              "\n",
              "    [theme=dark] .colab-df-convert {\n",
              "      background-color: #3B4455;\n",
              "      fill: #D2E3FC;\n",
              "    }\n",
              "\n",
              "    [theme=dark] .colab-df-convert:hover {\n",
              "      background-color: #434B5C;\n",
              "      box-shadow: 0px 1px 3px 1px rgba(0, 0, 0, 0.15);\n",
              "      filter: drop-shadow(0px 1px 2px rgba(0, 0, 0, 0.3));\n",
              "      fill: #FFFFFF;\n",
              "    }\n",
              "  </style>\n",
              "\n",
              "    <script>\n",
              "      const buttonEl =\n",
              "        document.querySelector('#df-9d7e2f38-3b49-4fcd-b654-4fcbf22ce455 button.colab-df-convert');\n",
              "      buttonEl.style.display =\n",
              "        google.colab.kernel.accessAllowed ? 'block' : 'none';\n",
              "\n",
              "      async function convertToInteractive(key) {\n",
              "        const element = document.querySelector('#df-9d7e2f38-3b49-4fcd-b654-4fcbf22ce455');\n",
              "        const dataTable =\n",
              "          await google.colab.kernel.invokeFunction('convertToInteractive',\n",
              "                                                    [key], {});\n",
              "        if (!dataTable) return;\n",
              "\n",
              "        const docLinkHtml = 'Like what you see? Visit the ' +\n",
              "          '<a target=\"_blank\" href=https://colab.research.google.com/notebooks/data_table.ipynb>data table notebook</a>'\n",
              "          + ' to learn more about interactive tables.';\n",
              "        element.innerHTML = '';\n",
              "        dataTable['output_type'] = 'display_data';\n",
              "        await google.colab.output.renderOutput(dataTable, element);\n",
              "        const docLink = document.createElement('div');\n",
              "        docLink.innerHTML = docLinkHtml;\n",
              "        element.appendChild(docLink);\n",
              "      }\n",
              "    </script>\n",
              "  </div>\n",
              "\n",
              "\n",
              "<div id=\"df-4dd18b30-af41-4eda-9965-e4c67b4f8618\">\n",
              "  <button class=\"colab-df-quickchart\" onclick=\"quickchart('df-4dd18b30-af41-4eda-9965-e4c67b4f8618')\"\n",
              "            title=\"Suggest charts\"\n",
              "            style=\"display:none;\">\n",
              "\n",
              "<svg xmlns=\"http://www.w3.org/2000/svg\" height=\"24px\"viewBox=\"0 0 24 24\"\n",
              "     width=\"24px\">\n",
              "    <g>\n",
              "        <path d=\"M19 3H5c-1.1 0-2 .9-2 2v14c0 1.1.9 2 2 2h14c1.1 0 2-.9 2-2V5c0-1.1-.9-2-2-2zM9 17H7v-7h2v7zm4 0h-2V7h2v10zm4 0h-2v-4h2v4z\"/>\n",
              "    </g>\n",
              "</svg>\n",
              "  </button>\n",
              "\n",
              "<style>\n",
              "  .colab-df-quickchart {\n",
              "      --bg-color: #E8F0FE;\n",
              "      --fill-color: #1967D2;\n",
              "      --hover-bg-color: #E2EBFA;\n",
              "      --hover-fill-color: #174EA6;\n",
              "      --disabled-fill-color: #AAA;\n",
              "      --disabled-bg-color: #DDD;\n",
              "  }\n",
              "\n",
              "  [theme=dark] .colab-df-quickchart {\n",
              "      --bg-color: #3B4455;\n",
              "      --fill-color: #D2E3FC;\n",
              "      --hover-bg-color: #434B5C;\n",
              "      --hover-fill-color: #FFFFFF;\n",
              "      --disabled-bg-color: #3B4455;\n",
              "      --disabled-fill-color: #666;\n",
              "  }\n",
              "\n",
              "  .colab-df-quickchart {\n",
              "    background-color: var(--bg-color);\n",
              "    border: none;\n",
              "    border-radius: 50%;\n",
              "    cursor: pointer;\n",
              "    display: none;\n",
              "    fill: var(--fill-color);\n",
              "    height: 32px;\n",
              "    padding: 0;\n",
              "    width: 32px;\n",
              "  }\n",
              "\n",
              "  .colab-df-quickchart:hover {\n",
              "    background-color: var(--hover-bg-color);\n",
              "    box-shadow: 0 1px 2px rgba(60, 64, 67, 0.3), 0 1px 3px 1px rgba(60, 64, 67, 0.15);\n",
              "    fill: var(--button-hover-fill-color);\n",
              "  }\n",
              "\n",
              "  .colab-df-quickchart-complete:disabled,\n",
              "  .colab-df-quickchart-complete:disabled:hover {\n",
              "    background-color: var(--disabled-bg-color);\n",
              "    fill: var(--disabled-fill-color);\n",
              "    box-shadow: none;\n",
              "  }\n",
              "\n",
              "  .colab-df-spinner {\n",
              "    border: 2px solid var(--fill-color);\n",
              "    border-color: transparent;\n",
              "    border-bottom-color: var(--fill-color);\n",
              "    animation:\n",
              "      spin 1s steps(1) infinite;\n",
              "  }\n",
              "\n",
              "  @keyframes spin {\n",
              "    0% {\n",
              "      border-color: transparent;\n",
              "      border-bottom-color: var(--fill-color);\n",
              "      border-left-color: var(--fill-color);\n",
              "    }\n",
              "    20% {\n",
              "      border-color: transparent;\n",
              "      border-left-color: var(--fill-color);\n",
              "      border-top-color: var(--fill-color);\n",
              "    }\n",
              "    30% {\n",
              "      border-color: transparent;\n",
              "      border-left-color: var(--fill-color);\n",
              "      border-top-color: var(--fill-color);\n",
              "      border-right-color: var(--fill-color);\n",
              "    }\n",
              "    40% {\n",
              "      border-color: transparent;\n",
              "      border-right-color: var(--fill-color);\n",
              "      border-top-color: var(--fill-color);\n",
              "    }\n",
              "    60% {\n",
              "      border-color: transparent;\n",
              "      border-right-color: var(--fill-color);\n",
              "    }\n",
              "    80% {\n",
              "      border-color: transparent;\n",
              "      border-right-color: var(--fill-color);\n",
              "      border-bottom-color: var(--fill-color);\n",
              "    }\n",
              "    90% {\n",
              "      border-color: transparent;\n",
              "      border-bottom-color: var(--fill-color);\n",
              "    }\n",
              "  }\n",
              "</style>\n",
              "\n",
              "  <script>\n",
              "    async function quickchart(key) {\n",
              "      const quickchartButtonEl =\n",
              "        document.querySelector('#' + key + ' button');\n",
              "      quickchartButtonEl.disabled = true;  // To prevent multiple clicks.\n",
              "      quickchartButtonEl.classList.add('colab-df-spinner');\n",
              "      try {\n",
              "        const charts = await google.colab.kernel.invokeFunction(\n",
              "            'suggestCharts', [key], {});\n",
              "      } catch (error) {\n",
              "        console.error('Error during call to suggestCharts:', error);\n",
              "      }\n",
              "      quickchartButtonEl.classList.remove('colab-df-spinner');\n",
              "      quickchartButtonEl.classList.add('colab-df-quickchart-complete');\n",
              "    }\n",
              "    (() => {\n",
              "      let quickchartButtonEl =\n",
              "        document.querySelector('#df-4dd18b30-af41-4eda-9965-e4c67b4f8618 button');\n",
              "      quickchartButtonEl.style.display =\n",
              "        google.colab.kernel.accessAllowed ? 'block' : 'none';\n",
              "    })();\n",
              "  </script>\n",
              "</div>\n",
              "\n",
              "    </div>\n",
              "  </div>\n"
            ],
            "application/vnd.google.colaboratory.intrinsic+json": {
              "type": "dataframe",
              "variable_name": "df_preprocesado2",
              "summary": "{\n  \"name\": \"df_preprocesado2\",\n  \"rows\": 51,\n  \"fields\": [\n    {\n      \"column\": \"state\",\n      \"properties\": {\n        \"dtype\": \"string\",\n        \"num_unique_values\": 51,\n        \"samples\": [\n          \"Texas\",\n          \"South Carolina\",\n          \"Vermont\"\n        ],\n        \"semantic_type\": \"\",\n        \"description\": \"\"\n      }\n    },\n    {\n      \"column\": \"state_local_government\",\n      \"properties\": {\n        \"dtype\": \"number\",\n        \"std\": 0.47526876467015616,\n        \"min\": 0.0,\n        \"max\": 2.6,\n        \"num_unique_values\": 13,\n        \"samples\": [\n          0.2,\n          0.6,\n          0.3\n        ],\n        \"semantic_type\": \"\",\n        \"description\": \"\"\n      }\n    },\n    {\n      \"column\": \"non_profit\",\n      \"properties\": {\n        \"dtype\": \"number\",\n        \"std\": 0.7914097622374303,\n        \"min\": 0.5,\n        \"max\": 4.3,\n        \"num_unique_values\": 24,\n        \"samples\": [\n          2.1,\n          4.2,\n          1.5\n        ],\n        \"semantic_type\": \"\",\n        \"description\": \"\"\n      }\n    },\n    {\n      \"column\": \"for_profit\",\n      \"properties\": {\n        \"dtype\": \"number\",\n        \"std\": 0.31168081034326106,\n        \"min\": 0.0,\n        \"max\": 1.3,\n        \"num_unique_values\": 12,\n        \"samples\": [\n          1.0,\n          1.3,\n          0.4\n        ],\n        \"semantic_type\": \"\",\n        \"description\": \"\"\n      }\n    },\n    {\n      \"column\": \"total\",\n      \"properties\": {\n        \"dtype\": \"number\",\n        \"std\": 0.7509523365465388,\n        \"min\": 1.6,\n        \"max\": 4.8,\n        \"num_unique_values\": 25,\n        \"samples\": [\n          2.4,\n          4.3,\n          2.2\n        ],\n        \"semantic_type\": \"\",\n        \"description\": \"\"\n      }\n    }\n  ]\n}"
            }
          },
          "metadata": {},
          "execution_count": 69
        }
      ]
    },
    {
      "cell_type": "code",
      "source": [
        "# Guardem el DataFrame preprocessat\n",
        "df_preprocesado2.to_csv(\"kff_usa_hospital_beds_per_capita_2018_cleaned.csv\", index=False)"
      ],
      "metadata": {
        "id": "-elg0ZkOLHp5"
      },
      "execution_count": 70,
      "outputs": []
    },
    {
      "cell_type": "markdown",
      "source": [
        "# Preprocessing Insurance Data"
      ],
      "metadata": {
        "id": "ruxAAt3ZSGRs"
      }
    },
    {
      "cell_type": "code",
      "execution_count": 71,
      "metadata": {
        "colab": {
          "base_uri": "https://localhost:8080/"
        },
        "id": "v1JlWpNEsLtf",
        "outputId": "0a4973e7-4825-4346-fd9b-de8bda1426cf"
      },
      "outputs": [
        {
          "output_type": "stream",
          "name": "stdout",
          "text": [
            "   geo_id state state_name acs_variable   estimate  margin_of_error  \\\n",
            "0       1    AL    Alabama    DP03_0096  4307566.0           8603.0   \n",
            "1       1    AL    Alabama   DP03_0096P       90.0              0.2   \n",
            "2       1    AL    Alabama    DP03_0097  3221648.0          15028.0   \n",
            "3       1    AL    Alabama   DP03_0097P       67.3              0.3   \n",
            "4       1    AL    Alabama    DP03_0098  1745707.0          10498.0   \n",
            "\n",
            "                                               label  \\\n",
            "0  Estimate!!HEALTH INSURANCE COVERAGE!!Civilian ...   \n",
            "1  Percent Estimate!!HEALTH INSURANCE COVERAGE!!C...   \n",
            "2  Estimate!!HEALTH INSURANCE COVERAGE!!Civilian ...   \n",
            "3  Percent Estimate!!HEALTH INSURANCE COVERAGE!!C...   \n",
            "4  Estimate!!HEALTH INSURANCE COVERAGE!!Civilian ...   \n",
            "\n",
            "                             concept        estimate_type  \\\n",
            "0  Selected Economic Characteristics  population_estimate   \n",
            "1  Selected Economic Characteristics     percent_estimate   \n",
            "2  Selected Economic Characteristics  population_estimate   \n",
            "3  Selected Economic Characteristics     percent_estimate   \n",
            "4  Selected Economic Characteristics  population_estimate   \n",
            "\n",
            "                    coverage_type age_group labor_force employed  \n",
            "0  With health insurance coverage   overall         NaN      NaN  \n",
            "1  With health insurance coverage   overall         NaN      NaN  \n",
            "2   With private health insurance   overall         NaN      NaN  \n",
            "3   With private health insurance   overall         NaN      NaN  \n",
            "4            With public coverage   overall         NaN      NaN  \n"
          ]
        },
        {
          "output_type": "execute_result",
          "data": {
            "text/plain": [
              "(1768, 13)"
            ]
          },
          "metadata": {},
          "execution_count": 71
        }
      ],
      "source": [
        "insurance = \"/content/acs_2018_health_insurance_coverage_estimates.csv\"\n",
        "\n",
        "# Cargamos el dataset\n",
        "df3 = pd.read_csv(insurance)\n",
        "\n",
        "# Mostramos las primeras filas\n",
        "print(df3.head())\n",
        "df3.shape"
      ]
    },
    {
      "cell_type": "code",
      "source": [
        "# Creem una còpia del DataFrame per preprocessar-ho\n",
        "df_preprocesado3 = df3.copy()"
      ],
      "metadata": {
        "id": "WeBbtXrU5M7Z"
      },
      "execution_count": 72,
      "outputs": []
    },
    {
      "cell_type": "markdown",
      "source": [
        "## Selecció de variables"
      ],
      "metadata": {
        "id": "VrKHYIr13mFw"
      }
    },
    {
      "cell_type": "markdown",
      "source": [
        "Un cop més eliminem les variables \"geo_id\" i \"state\". També eliminarem \"label\" ja que es pot deduir a partir de la resta de variables (és redundant). Eliminem la variable “concept”, que té un únic valor que ajuda a contextualitzar. La variable \"employed\" té un 52.94% de missings, que és més de la meitat, per això també l'eliminem."
      ],
      "metadata": {
        "id": "hW3sJQdT4FmE"
      }
    },
    {
      "cell_type": "code",
      "source": [
        "# Eliminem geo_id, state, acs_variable, label, concept, employed\n",
        "df_preprocesado3 = df_preprocesado3.drop(['geo_id', 'state', 'label', 'concept', 'employed'], axis=1)\n",
        "\n",
        "# Reanomenem state_name a state\n",
        "df_preprocesado3 = df_preprocesado3.rename(columns={'state_name': 'state'})\n"
      ],
      "metadata": {
        "id": "iNgpYZ5c5Aw1"
      },
      "execution_count": 73,
      "outputs": []
    },
    {
      "cell_type": "markdown",
      "source": [
        "## Gestió missings"
      ],
      "metadata": {
        "id": "IW0VUSEx6fYt"
      }
    },
    {
      "cell_type": "code",
      "execution_count": 74,
      "metadata": {
        "colab": {
          "base_uri": "https://localhost:8080/"
        },
        "id": "A5Uv0DqbsLtf",
        "outputId": "2e78085f-90d3-4eec-a993-f234acca22da"
      },
      "outputs": [
        {
          "output_type": "stream",
          "name": "stdout",
          "text": [
            "state                0\n",
            "acs_variable         0\n",
            "estimate             0\n",
            "margin_of_error      0\n",
            "estimate_type        0\n",
            "coverage_type        0\n",
            "age_group            0\n",
            "labor_force        520\n",
            "dtype: int64\n"
          ]
        }
      ],
      "source": [
        "missings3 = df_preprocesado3.isnull().sum()\n",
        "print(missings3)"
      ]
    },
    {
      "cell_type": "code",
      "execution_count": 75,
      "metadata": {
        "colab": {
          "base_uri": "https://localhost:8080/"
        },
        "id": "2uW1zxFksLtg",
        "outputId": "de532d90-d847-4e39-ea8b-d71ac75e9959"
      },
      "outputs": [
        {
          "output_type": "stream",
          "name": "stdout",
          "text": [
            "labor_force    29.411765\n",
            "dtype: float64\n"
          ]
        }
      ],
      "source": [
        "missing_values = df_preprocesado3[['labor_force']].isnull().mean() * 100\n",
        "\n",
        "print(missing_values)"
      ]
    },
    {
      "cell_type": "markdown",
      "source": [
        "Per imputar els valors faltants a \"labor_force\" creem la categoria Unknown per evitar esbiaixar els valors."
      ],
      "metadata": {
        "id": "Sahpju6tBGEe"
      }
    },
    {
      "cell_type": "code",
      "source": [
        "df_preprocesado3['labor_force'] = df_preprocesado3['labor_force'].fillna(\"Unknown\")\n",
        "\n",
        "missings3 = df_preprocesado3.isnull().sum()\n",
        "missings3\n"
      ],
      "metadata": {
        "colab": {
          "base_uri": "https://localhost:8080/",
          "height": 335
        },
        "id": "_a11-mTt_y4L",
        "outputId": "0d28aac1-e2a6-4838-c7ac-50eccb0d2963"
      },
      "execution_count": 76,
      "outputs": [
        {
          "output_type": "execute_result",
          "data": {
            "text/plain": [
              "state              0\n",
              "acs_variable       0\n",
              "estimate           0\n",
              "margin_of_error    0\n",
              "estimate_type      0\n",
              "coverage_type      0\n",
              "age_group          0\n",
              "labor_force        0\n",
              "dtype: int64"
            ],
            "text/html": [
              "<div>\n",
              "<style scoped>\n",
              "    .dataframe tbody tr th:only-of-type {\n",
              "        vertical-align: middle;\n",
              "    }\n",
              "\n",
              "    .dataframe tbody tr th {\n",
              "        vertical-align: top;\n",
              "    }\n",
              "\n",
              "    .dataframe thead th {\n",
              "        text-align: right;\n",
              "    }\n",
              "</style>\n",
              "<table border=\"1\" class=\"dataframe\">\n",
              "  <thead>\n",
              "    <tr style=\"text-align: right;\">\n",
              "      <th></th>\n",
              "      <th>0</th>\n",
              "    </tr>\n",
              "  </thead>\n",
              "  <tbody>\n",
              "    <tr>\n",
              "      <th>state</th>\n",
              "      <td>0</td>\n",
              "    </tr>\n",
              "    <tr>\n",
              "      <th>acs_variable</th>\n",
              "      <td>0</td>\n",
              "    </tr>\n",
              "    <tr>\n",
              "      <th>estimate</th>\n",
              "      <td>0</td>\n",
              "    </tr>\n",
              "    <tr>\n",
              "      <th>margin_of_error</th>\n",
              "      <td>0</td>\n",
              "    </tr>\n",
              "    <tr>\n",
              "      <th>estimate_type</th>\n",
              "      <td>0</td>\n",
              "    </tr>\n",
              "    <tr>\n",
              "      <th>coverage_type</th>\n",
              "      <td>0</td>\n",
              "    </tr>\n",
              "    <tr>\n",
              "      <th>age_group</th>\n",
              "      <td>0</td>\n",
              "    </tr>\n",
              "    <tr>\n",
              "      <th>labor_force</th>\n",
              "      <td>0</td>\n",
              "    </tr>\n",
              "  </tbody>\n",
              "</table>\n",
              "</div><br><label><b>dtype:</b> int64</label>"
            ]
          },
          "metadata": {},
          "execution_count": 76
        }
      ]
    },
    {
      "cell_type": "markdown",
      "source": [
        "## Codificació variables categóriques"
      ],
      "metadata": {
        "id": "_H6Hp4YUVmkt"
      }
    },
    {
      "cell_type": "markdown",
      "source": [
        "Utilitzem One-Hot Encoding amb pd.get_dummies per codificar les variables categòriques, convertint-les en variables numèriques binàries. Aquest procés és necessari perquè els models de machine learning no poden interpretar directament variables categòriques"
      ],
      "metadata": {
        "id": "qgWmwXr9gqQa"
      }
    },
    {
      "cell_type": "code",
      "source": [
        "# One-Hot Encoding\n",
        "df_preprocesado3 = pd.get_dummies(df_preprocesado3, columns=['estimate_type','coverage_type','age_group','labor_force'], drop_first=True)\n"
      ],
      "metadata": {
        "id": "D9GE9TuuUWWg"
      },
      "execution_count": 77,
      "outputs": []
    },
    {
      "cell_type": "code",
      "source": [
        "df_preprocesado3.head()"
      ],
      "metadata": {
        "colab": {
          "base_uri": "https://localhost:8080/",
          "height": 261
        },
        "id": "Fr-iifAjUZTF",
        "outputId": "b863ef0e-0212-4168-9c2b-df5e07cd261a"
      },
      "execution_count": 78,
      "outputs": [
        {
          "output_type": "execute_result",
          "data": {
            "text/plain": [
              "     state acs_variable   estimate  margin_of_error  \\\n",
              "0  Alabama    DP03_0096  4307566.0           8603.0   \n",
              "1  Alabama   DP03_0096P       90.0              0.2   \n",
              "2  Alabama    DP03_0097  3221648.0          15028.0   \n",
              "3  Alabama   DP03_0097P       67.3              0.3   \n",
              "4  Alabama    DP03_0098  1745707.0          10498.0   \n",
              "\n",
              "   estimate_type_population_estimate  \\\n",
              "0                               True   \n",
              "1                              False   \n",
              "2                               True   \n",
              "3                              False   \n",
              "4                               True   \n",
              "\n",
              "   coverage_type_With health insurance coverage  \\\n",
              "0                                          True   \n",
              "1                                          True   \n",
              "2                                         False   \n",
              "3                                         False   \n",
              "4                                         False   \n",
              "\n",
              "   coverage_type_With private health insurance  \\\n",
              "0                                        False   \n",
              "1                                        False   \n",
              "2                                         True   \n",
              "3                                         True   \n",
              "4                                        False   \n",
              "\n",
              "   coverage_type_With public coverage  age_group_ under 19 years  \\\n",
              "0                               False                      False   \n",
              "1                               False                      False   \n",
              "2                               False                      False   \n",
              "3                               False                      False   \n",
              "4                                True                      False   \n",
              "\n",
              "   age_group_overall  labor_force_Not in labor force  labor_force_Unknown  \n",
              "0               True                           False                 True  \n",
              "1               True                           False                 True  \n",
              "2               True                           False                 True  \n",
              "3               True                           False                 True  \n",
              "4               True                           False                 True  "
            ],
            "text/html": [
              "\n",
              "  <div id=\"df-3171d6ce-a5b5-4dbe-b833-00e010ff526f\" class=\"colab-df-container\">\n",
              "    <div>\n",
              "<style scoped>\n",
              "    .dataframe tbody tr th:only-of-type {\n",
              "        vertical-align: middle;\n",
              "    }\n",
              "\n",
              "    .dataframe tbody tr th {\n",
              "        vertical-align: top;\n",
              "    }\n",
              "\n",
              "    .dataframe thead th {\n",
              "        text-align: right;\n",
              "    }\n",
              "</style>\n",
              "<table border=\"1\" class=\"dataframe\">\n",
              "  <thead>\n",
              "    <tr style=\"text-align: right;\">\n",
              "      <th></th>\n",
              "      <th>state</th>\n",
              "      <th>acs_variable</th>\n",
              "      <th>estimate</th>\n",
              "      <th>margin_of_error</th>\n",
              "      <th>estimate_type_population_estimate</th>\n",
              "      <th>coverage_type_With health insurance coverage</th>\n",
              "      <th>coverage_type_With private health insurance</th>\n",
              "      <th>coverage_type_With public coverage</th>\n",
              "      <th>age_group_ under 19 years</th>\n",
              "      <th>age_group_overall</th>\n",
              "      <th>labor_force_Not in labor force</th>\n",
              "      <th>labor_force_Unknown</th>\n",
              "    </tr>\n",
              "  </thead>\n",
              "  <tbody>\n",
              "    <tr>\n",
              "      <th>0</th>\n",
              "      <td>Alabama</td>\n",
              "      <td>DP03_0096</td>\n",
              "      <td>4307566.0</td>\n",
              "      <td>8603.0</td>\n",
              "      <td>True</td>\n",
              "      <td>True</td>\n",
              "      <td>False</td>\n",
              "      <td>False</td>\n",
              "      <td>False</td>\n",
              "      <td>True</td>\n",
              "      <td>False</td>\n",
              "      <td>True</td>\n",
              "    </tr>\n",
              "    <tr>\n",
              "      <th>1</th>\n",
              "      <td>Alabama</td>\n",
              "      <td>DP03_0096P</td>\n",
              "      <td>90.0</td>\n",
              "      <td>0.2</td>\n",
              "      <td>False</td>\n",
              "      <td>True</td>\n",
              "      <td>False</td>\n",
              "      <td>False</td>\n",
              "      <td>False</td>\n",
              "      <td>True</td>\n",
              "      <td>False</td>\n",
              "      <td>True</td>\n",
              "    </tr>\n",
              "    <tr>\n",
              "      <th>2</th>\n",
              "      <td>Alabama</td>\n",
              "      <td>DP03_0097</td>\n",
              "      <td>3221648.0</td>\n",
              "      <td>15028.0</td>\n",
              "      <td>True</td>\n",
              "      <td>False</td>\n",
              "      <td>True</td>\n",
              "      <td>False</td>\n",
              "      <td>False</td>\n",
              "      <td>True</td>\n",
              "      <td>False</td>\n",
              "      <td>True</td>\n",
              "    </tr>\n",
              "    <tr>\n",
              "      <th>3</th>\n",
              "      <td>Alabama</td>\n",
              "      <td>DP03_0097P</td>\n",
              "      <td>67.3</td>\n",
              "      <td>0.3</td>\n",
              "      <td>False</td>\n",
              "      <td>False</td>\n",
              "      <td>True</td>\n",
              "      <td>False</td>\n",
              "      <td>False</td>\n",
              "      <td>True</td>\n",
              "      <td>False</td>\n",
              "      <td>True</td>\n",
              "    </tr>\n",
              "    <tr>\n",
              "      <th>4</th>\n",
              "      <td>Alabama</td>\n",
              "      <td>DP03_0098</td>\n",
              "      <td>1745707.0</td>\n",
              "      <td>10498.0</td>\n",
              "      <td>True</td>\n",
              "      <td>False</td>\n",
              "      <td>False</td>\n",
              "      <td>True</td>\n",
              "      <td>False</td>\n",
              "      <td>True</td>\n",
              "      <td>False</td>\n",
              "      <td>True</td>\n",
              "    </tr>\n",
              "  </tbody>\n",
              "</table>\n",
              "</div>\n",
              "    <div class=\"colab-df-buttons\">\n",
              "\n",
              "  <div class=\"colab-df-container\">\n",
              "    <button class=\"colab-df-convert\" onclick=\"convertToInteractive('df-3171d6ce-a5b5-4dbe-b833-00e010ff526f')\"\n",
              "            title=\"Convert this dataframe to an interactive table.\"\n",
              "            style=\"display:none;\">\n",
              "\n",
              "  <svg xmlns=\"http://www.w3.org/2000/svg\" height=\"24px\" viewBox=\"0 -960 960 960\">\n",
              "    <path d=\"M120-120v-720h720v720H120Zm60-500h600v-160H180v160Zm220 220h160v-160H400v160Zm0 220h160v-160H400v160ZM180-400h160v-160H180v160Zm440 0h160v-160H620v160ZM180-180h160v-160H180v160Zm440 0h160v-160H620v160Z\"/>\n",
              "  </svg>\n",
              "    </button>\n",
              "\n",
              "  <style>\n",
              "    .colab-df-container {\n",
              "      display:flex;\n",
              "      gap: 12px;\n",
              "    }\n",
              "\n",
              "    .colab-df-convert {\n",
              "      background-color: #E8F0FE;\n",
              "      border: none;\n",
              "      border-radius: 50%;\n",
              "      cursor: pointer;\n",
              "      display: none;\n",
              "      fill: #1967D2;\n",
              "      height: 32px;\n",
              "      padding: 0 0 0 0;\n",
              "      width: 32px;\n",
              "    }\n",
              "\n",
              "    .colab-df-convert:hover {\n",
              "      background-color: #E2EBFA;\n",
              "      box-shadow: 0px 1px 2px rgba(60, 64, 67, 0.3), 0px 1px 3px 1px rgba(60, 64, 67, 0.15);\n",
              "      fill: #174EA6;\n",
              "    }\n",
              "\n",
              "    .colab-df-buttons div {\n",
              "      margin-bottom: 4px;\n",
              "    }\n",
              "\n",
              "    [theme=dark] .colab-df-convert {\n",
              "      background-color: #3B4455;\n",
              "      fill: #D2E3FC;\n",
              "    }\n",
              "\n",
              "    [theme=dark] .colab-df-convert:hover {\n",
              "      background-color: #434B5C;\n",
              "      box-shadow: 0px 1px 3px 1px rgba(0, 0, 0, 0.15);\n",
              "      filter: drop-shadow(0px 1px 2px rgba(0, 0, 0, 0.3));\n",
              "      fill: #FFFFFF;\n",
              "    }\n",
              "  </style>\n",
              "\n",
              "    <script>\n",
              "      const buttonEl =\n",
              "        document.querySelector('#df-3171d6ce-a5b5-4dbe-b833-00e010ff526f button.colab-df-convert');\n",
              "      buttonEl.style.display =\n",
              "        google.colab.kernel.accessAllowed ? 'block' : 'none';\n",
              "\n",
              "      async function convertToInteractive(key) {\n",
              "        const element = document.querySelector('#df-3171d6ce-a5b5-4dbe-b833-00e010ff526f');\n",
              "        const dataTable =\n",
              "          await google.colab.kernel.invokeFunction('convertToInteractive',\n",
              "                                                    [key], {});\n",
              "        if (!dataTable) return;\n",
              "\n",
              "        const docLinkHtml = 'Like what you see? Visit the ' +\n",
              "          '<a target=\"_blank\" href=https://colab.research.google.com/notebooks/data_table.ipynb>data table notebook</a>'\n",
              "          + ' to learn more about interactive tables.';\n",
              "        element.innerHTML = '';\n",
              "        dataTable['output_type'] = 'display_data';\n",
              "        await google.colab.output.renderOutput(dataTable, element);\n",
              "        const docLink = document.createElement('div');\n",
              "        docLink.innerHTML = docLinkHtml;\n",
              "        element.appendChild(docLink);\n",
              "      }\n",
              "    </script>\n",
              "  </div>\n",
              "\n",
              "\n",
              "<div id=\"df-62d46ec1-ddc9-4577-9e40-51910eaed990\">\n",
              "  <button class=\"colab-df-quickchart\" onclick=\"quickchart('df-62d46ec1-ddc9-4577-9e40-51910eaed990')\"\n",
              "            title=\"Suggest charts\"\n",
              "            style=\"display:none;\">\n",
              "\n",
              "<svg xmlns=\"http://www.w3.org/2000/svg\" height=\"24px\"viewBox=\"0 0 24 24\"\n",
              "     width=\"24px\">\n",
              "    <g>\n",
              "        <path d=\"M19 3H5c-1.1 0-2 .9-2 2v14c0 1.1.9 2 2 2h14c1.1 0 2-.9 2-2V5c0-1.1-.9-2-2-2zM9 17H7v-7h2v7zm4 0h-2V7h2v10zm4 0h-2v-4h2v4z\"/>\n",
              "    </g>\n",
              "</svg>\n",
              "  </button>\n",
              "\n",
              "<style>\n",
              "  .colab-df-quickchart {\n",
              "      --bg-color: #E8F0FE;\n",
              "      --fill-color: #1967D2;\n",
              "      --hover-bg-color: #E2EBFA;\n",
              "      --hover-fill-color: #174EA6;\n",
              "      --disabled-fill-color: #AAA;\n",
              "      --disabled-bg-color: #DDD;\n",
              "  }\n",
              "\n",
              "  [theme=dark] .colab-df-quickchart {\n",
              "      --bg-color: #3B4455;\n",
              "      --fill-color: #D2E3FC;\n",
              "      --hover-bg-color: #434B5C;\n",
              "      --hover-fill-color: #FFFFFF;\n",
              "      --disabled-bg-color: #3B4455;\n",
              "      --disabled-fill-color: #666;\n",
              "  }\n",
              "\n",
              "  .colab-df-quickchart {\n",
              "    background-color: var(--bg-color);\n",
              "    border: none;\n",
              "    border-radius: 50%;\n",
              "    cursor: pointer;\n",
              "    display: none;\n",
              "    fill: var(--fill-color);\n",
              "    height: 32px;\n",
              "    padding: 0;\n",
              "    width: 32px;\n",
              "  }\n",
              "\n",
              "  .colab-df-quickchart:hover {\n",
              "    background-color: var(--hover-bg-color);\n",
              "    box-shadow: 0 1px 2px rgba(60, 64, 67, 0.3), 0 1px 3px 1px rgba(60, 64, 67, 0.15);\n",
              "    fill: var(--button-hover-fill-color);\n",
              "  }\n",
              "\n",
              "  .colab-df-quickchart-complete:disabled,\n",
              "  .colab-df-quickchart-complete:disabled:hover {\n",
              "    background-color: var(--disabled-bg-color);\n",
              "    fill: var(--disabled-fill-color);\n",
              "    box-shadow: none;\n",
              "  }\n",
              "\n",
              "  .colab-df-spinner {\n",
              "    border: 2px solid var(--fill-color);\n",
              "    border-color: transparent;\n",
              "    border-bottom-color: var(--fill-color);\n",
              "    animation:\n",
              "      spin 1s steps(1) infinite;\n",
              "  }\n",
              "\n",
              "  @keyframes spin {\n",
              "    0% {\n",
              "      border-color: transparent;\n",
              "      border-bottom-color: var(--fill-color);\n",
              "      border-left-color: var(--fill-color);\n",
              "    }\n",
              "    20% {\n",
              "      border-color: transparent;\n",
              "      border-left-color: var(--fill-color);\n",
              "      border-top-color: var(--fill-color);\n",
              "    }\n",
              "    30% {\n",
              "      border-color: transparent;\n",
              "      border-left-color: var(--fill-color);\n",
              "      border-top-color: var(--fill-color);\n",
              "      border-right-color: var(--fill-color);\n",
              "    }\n",
              "    40% {\n",
              "      border-color: transparent;\n",
              "      border-right-color: var(--fill-color);\n",
              "      border-top-color: var(--fill-color);\n",
              "    }\n",
              "    60% {\n",
              "      border-color: transparent;\n",
              "      border-right-color: var(--fill-color);\n",
              "    }\n",
              "    80% {\n",
              "      border-color: transparent;\n",
              "      border-right-color: var(--fill-color);\n",
              "      border-bottom-color: var(--fill-color);\n",
              "    }\n",
              "    90% {\n",
              "      border-color: transparent;\n",
              "      border-bottom-color: var(--fill-color);\n",
              "    }\n",
              "  }\n",
              "</style>\n",
              "\n",
              "  <script>\n",
              "    async function quickchart(key) {\n",
              "      const quickchartButtonEl =\n",
              "        document.querySelector('#' + key + ' button');\n",
              "      quickchartButtonEl.disabled = true;  // To prevent multiple clicks.\n",
              "      quickchartButtonEl.classList.add('colab-df-spinner');\n",
              "      try {\n",
              "        const charts = await google.colab.kernel.invokeFunction(\n",
              "            'suggestCharts', [key], {});\n",
              "      } catch (error) {\n",
              "        console.error('Error during call to suggestCharts:', error);\n",
              "      }\n",
              "      quickchartButtonEl.classList.remove('colab-df-spinner');\n",
              "      quickchartButtonEl.classList.add('colab-df-quickchart-complete');\n",
              "    }\n",
              "    (() => {\n",
              "      let quickchartButtonEl =\n",
              "        document.querySelector('#df-62d46ec1-ddc9-4577-9e40-51910eaed990 button');\n",
              "      quickchartButtonEl.style.display =\n",
              "        google.colab.kernel.accessAllowed ? 'block' : 'none';\n",
              "    })();\n",
              "  </script>\n",
              "</div>\n",
              "\n",
              "    </div>\n",
              "  </div>\n"
            ],
            "application/vnd.google.colaboratory.intrinsic+json": {
              "type": "dataframe",
              "variable_name": "df_preprocesado3",
              "summary": "{\n  \"name\": \"df_preprocesado3\",\n  \"rows\": 1768,\n  \"fields\": [\n    {\n      \"column\": \"state\",\n      \"properties\": {\n        \"dtype\": \"category\",\n        \"num_unique_values\": 52,\n        \"samples\": [\n          \"Maine\",\n          \"South Dakota\",\n          \"Washington\"\n        ],\n        \"semantic_type\": \"\",\n        \"description\": \"\"\n      }\n    },\n    {\n      \"column\": \"acs_variable\",\n      \"properties\": {\n        \"dtype\": \"category\",\n        \"num_unique_values\": 34,\n        \"samples\": [\n          \"DP03_0107P\",\n          \"DP03_0110P\",\n          \"DP03_0115P\"\n        ],\n        \"semantic_type\": \"\",\n        \"description\": \"\"\n      }\n    },\n    {\n      \"column\": \"estimate\",\n      \"properties\": {\n        \"dtype\": \"number\",\n        \"std\": 1992238.1551823274,\n        \"min\": 1.3,\n        \"max\": 35373781.0,\n        \"num_unique_values\": 1435,\n        \"samples\": [\n          23.2,\n          184639.0,\n          50588.0\n        ],\n        \"semantic_type\": \"\",\n        \"description\": \"\"\n      }\n    },\n    {\n      \"column\": \"margin_of_error\",\n      \"properties\": {\n        \"dtype\": \"number\",\n        \"std\": 5523.771021244505,\n        \"min\": 0.1,\n        \"max\": 75277.0,\n        \"num_unique_values\": 884,\n        \"samples\": [\n          1020.0,\n          4441.0,\n          2555.0\n        ],\n        \"semantic_type\": \"\",\n        \"description\": \"\"\n      }\n    },\n    {\n      \"column\": \"estimate_type_population_estimate\",\n      \"properties\": {\n        \"dtype\": \"boolean\",\n        \"num_unique_values\": 2,\n        \"samples\": [\n          false,\n          true\n        ],\n        \"semantic_type\": \"\",\n        \"description\": \"\"\n      }\n    },\n    {\n      \"column\": \"coverage_type_With health insurance coverage\",\n      \"properties\": {\n        \"dtype\": \"boolean\",\n        \"num_unique_values\": 2,\n        \"samples\": [\n          false,\n          true\n        ],\n        \"semantic_type\": \"\",\n        \"description\": \"\"\n      }\n    },\n    {\n      \"column\": \"coverage_type_With private health insurance\",\n      \"properties\": {\n        \"dtype\": \"boolean\",\n        \"num_unique_values\": 2,\n        \"samples\": [\n          true,\n          false\n        ],\n        \"semantic_type\": \"\",\n        \"description\": \"\"\n      }\n    },\n    {\n      \"column\": \"coverage_type_With public coverage\",\n      \"properties\": {\n        \"dtype\": \"boolean\",\n        \"num_unique_values\": 2,\n        \"samples\": [\n          true,\n          false\n        ],\n        \"semantic_type\": \"\",\n        \"description\": \"\"\n      }\n    },\n    {\n      \"column\": \"age_group_ under 19 years\",\n      \"properties\": {\n        \"dtype\": \"boolean\",\n        \"num_unique_values\": 2,\n        \"samples\": [\n          true,\n          false\n        ],\n        \"semantic_type\": \"\",\n        \"description\": \"\"\n      }\n    },\n    {\n      \"column\": \"age_group_overall\",\n      \"properties\": {\n        \"dtype\": \"boolean\",\n        \"num_unique_values\": 2,\n        \"samples\": [\n          false,\n          true\n        ],\n        \"semantic_type\": \"\",\n        \"description\": \"\"\n      }\n    },\n    {\n      \"column\": \"labor_force_Not in labor force\",\n      \"properties\": {\n        \"dtype\": \"boolean\",\n        \"num_unique_values\": 2,\n        \"samples\": [\n          true,\n          false\n        ],\n        \"semantic_type\": \"\",\n        \"description\": \"\"\n      }\n    },\n    {\n      \"column\": \"labor_force_Unknown\",\n      \"properties\": {\n        \"dtype\": \"boolean\",\n        \"num_unique_values\": 2,\n        \"samples\": [\n          false,\n          true\n        ],\n        \"semantic_type\": \"\",\n        \"description\": \"\"\n      }\n    }\n  ]\n}"
            }
          },
          "metadata": {},
          "execution_count": 78
        }
      ]
    },
    {
      "cell_type": "code",
      "source": [
        "# Reemplacem True amb 1 i False amb 0\n",
        "df_preprocesado3 = df_preprocesado3.replace({True: 1, False: 0})\n"
      ],
      "metadata": {
        "colab": {
          "base_uri": "https://localhost:8080/"
        },
        "id": "fo1XNvC2ucDl",
        "outputId": "1fc3b19e-2e91-4be1-881c-8df3fa329443"
      },
      "execution_count": 79,
      "outputs": [
        {
          "output_type": "stream",
          "name": "stderr",
          "text": [
            "<ipython-input-79-b5d54586ad70>:2: FutureWarning: Downcasting behavior in `replace` is deprecated and will be removed in a future version. To retain the old behavior, explicitly call `result.infer_objects(copy=False)`. To opt-in to the future behavior, set `pd.set_option('future.no_silent_downcasting', True)`\n",
            "  df_preprocesado3 = df_preprocesado3.replace({True: 1, False: 0})\n"
          ]
        }
      ]
    },
    {
      "cell_type": "code",
      "source": [
        "# Renanomenem les columnes\n",
        "df_preprocesado3.rename(columns={\n",
        "    'estimate_type_population_estimate': 'estimate_type_population',\n",
        "    'coverage_type_With health insurance coverage': 'health_insurance_coverage',\n",
        "    'coverage_type_With private health insurance': 'private_insurance_coverage',\n",
        "    'coverage_type_With public coverage': 'public_coverage',\n",
        "    'labor_force_Not in labor force': 'not_in_labor_force',\n",
        "    'age_group_ under 19 years': 'age_group_under_19'\n",
        "}, inplace=True)\n",
        "\n",
        "print(df_preprocesado3.head())\n"
      ],
      "metadata": {
        "colab": {
          "base_uri": "https://localhost:8080/"
        },
        "id": "-U4jGuQFVudA",
        "outputId": "0bd373eb-2e43-4a53-ef44-b201d2c610ce"
      },
      "execution_count": 80,
      "outputs": [
        {
          "output_type": "stream",
          "name": "stdout",
          "text": [
            "     state acs_variable   estimate  margin_of_error  estimate_type_population  \\\n",
            "0  Alabama    DP03_0096  4307566.0           8603.0                         1   \n",
            "1  Alabama   DP03_0096P       90.0              0.2                         0   \n",
            "2  Alabama    DP03_0097  3221648.0          15028.0                         1   \n",
            "3  Alabama   DP03_0097P       67.3              0.3                         0   \n",
            "4  Alabama    DP03_0098  1745707.0          10498.0                         1   \n",
            "\n",
            "   health_insurance_coverage  private_insurance_coverage  public_coverage  \\\n",
            "0                          1                           0                0   \n",
            "1                          1                           0                0   \n",
            "2                          0                           1                0   \n",
            "3                          0                           1                0   \n",
            "4                          0                           0                1   \n",
            "\n",
            "   age_group_under_19  age_group_overall  not_in_labor_force  \\\n",
            "0                   0                  1                   0   \n",
            "1                   0                  1                   0   \n",
            "2                   0                  1                   0   \n",
            "3                   0                  1                   0   \n",
            "4                   0                  1                   0   \n",
            "\n",
            "   labor_force_Unknown  \n",
            "0                    1  \n",
            "1                    1  \n",
            "2                    1  \n",
            "3                    1  \n",
            "4                    1  \n"
          ]
        }
      ]
    },
    {
      "cell_type": "code",
      "source": [
        "df_preprocesado3.head()"
      ],
      "metadata": {
        "colab": {
          "base_uri": "https://localhost:8080/",
          "height": 226
        },
        "id": "DR_s27lOfTNx",
        "outputId": "a42b6cd6-d9ea-47c2-b10c-2883e71884a2"
      },
      "execution_count": 81,
      "outputs": [
        {
          "output_type": "execute_result",
          "data": {
            "text/plain": [
              "     state acs_variable   estimate  margin_of_error  estimate_type_population  \\\n",
              "0  Alabama    DP03_0096  4307566.0           8603.0                         1   \n",
              "1  Alabama   DP03_0096P       90.0              0.2                         0   \n",
              "2  Alabama    DP03_0097  3221648.0          15028.0                         1   \n",
              "3  Alabama   DP03_0097P       67.3              0.3                         0   \n",
              "4  Alabama    DP03_0098  1745707.0          10498.0                         1   \n",
              "\n",
              "   health_insurance_coverage  private_insurance_coverage  public_coverage  \\\n",
              "0                          1                           0                0   \n",
              "1                          1                           0                0   \n",
              "2                          0                           1                0   \n",
              "3                          0                           1                0   \n",
              "4                          0                           0                1   \n",
              "\n",
              "   age_group_under_19  age_group_overall  not_in_labor_force  \\\n",
              "0                   0                  1                   0   \n",
              "1                   0                  1                   0   \n",
              "2                   0                  1                   0   \n",
              "3                   0                  1                   0   \n",
              "4                   0                  1                   0   \n",
              "\n",
              "   labor_force_Unknown  \n",
              "0                    1  \n",
              "1                    1  \n",
              "2                    1  \n",
              "3                    1  \n",
              "4                    1  "
            ],
            "text/html": [
              "\n",
              "  <div id=\"df-7b59a475-fea0-4fc3-a836-d47e7a0f037f\" class=\"colab-df-container\">\n",
              "    <div>\n",
              "<style scoped>\n",
              "    .dataframe tbody tr th:only-of-type {\n",
              "        vertical-align: middle;\n",
              "    }\n",
              "\n",
              "    .dataframe tbody tr th {\n",
              "        vertical-align: top;\n",
              "    }\n",
              "\n",
              "    .dataframe thead th {\n",
              "        text-align: right;\n",
              "    }\n",
              "</style>\n",
              "<table border=\"1\" class=\"dataframe\">\n",
              "  <thead>\n",
              "    <tr style=\"text-align: right;\">\n",
              "      <th></th>\n",
              "      <th>state</th>\n",
              "      <th>acs_variable</th>\n",
              "      <th>estimate</th>\n",
              "      <th>margin_of_error</th>\n",
              "      <th>estimate_type_population</th>\n",
              "      <th>health_insurance_coverage</th>\n",
              "      <th>private_insurance_coverage</th>\n",
              "      <th>public_coverage</th>\n",
              "      <th>age_group_under_19</th>\n",
              "      <th>age_group_overall</th>\n",
              "      <th>not_in_labor_force</th>\n",
              "      <th>labor_force_Unknown</th>\n",
              "    </tr>\n",
              "  </thead>\n",
              "  <tbody>\n",
              "    <tr>\n",
              "      <th>0</th>\n",
              "      <td>Alabama</td>\n",
              "      <td>DP03_0096</td>\n",
              "      <td>4307566.0</td>\n",
              "      <td>8603.0</td>\n",
              "      <td>1</td>\n",
              "      <td>1</td>\n",
              "      <td>0</td>\n",
              "      <td>0</td>\n",
              "      <td>0</td>\n",
              "      <td>1</td>\n",
              "      <td>0</td>\n",
              "      <td>1</td>\n",
              "    </tr>\n",
              "    <tr>\n",
              "      <th>1</th>\n",
              "      <td>Alabama</td>\n",
              "      <td>DP03_0096P</td>\n",
              "      <td>90.0</td>\n",
              "      <td>0.2</td>\n",
              "      <td>0</td>\n",
              "      <td>1</td>\n",
              "      <td>0</td>\n",
              "      <td>0</td>\n",
              "      <td>0</td>\n",
              "      <td>1</td>\n",
              "      <td>0</td>\n",
              "      <td>1</td>\n",
              "    </tr>\n",
              "    <tr>\n",
              "      <th>2</th>\n",
              "      <td>Alabama</td>\n",
              "      <td>DP03_0097</td>\n",
              "      <td>3221648.0</td>\n",
              "      <td>15028.0</td>\n",
              "      <td>1</td>\n",
              "      <td>0</td>\n",
              "      <td>1</td>\n",
              "      <td>0</td>\n",
              "      <td>0</td>\n",
              "      <td>1</td>\n",
              "      <td>0</td>\n",
              "      <td>1</td>\n",
              "    </tr>\n",
              "    <tr>\n",
              "      <th>3</th>\n",
              "      <td>Alabama</td>\n",
              "      <td>DP03_0097P</td>\n",
              "      <td>67.3</td>\n",
              "      <td>0.3</td>\n",
              "      <td>0</td>\n",
              "      <td>0</td>\n",
              "      <td>1</td>\n",
              "      <td>0</td>\n",
              "      <td>0</td>\n",
              "      <td>1</td>\n",
              "      <td>0</td>\n",
              "      <td>1</td>\n",
              "    </tr>\n",
              "    <tr>\n",
              "      <th>4</th>\n",
              "      <td>Alabama</td>\n",
              "      <td>DP03_0098</td>\n",
              "      <td>1745707.0</td>\n",
              "      <td>10498.0</td>\n",
              "      <td>1</td>\n",
              "      <td>0</td>\n",
              "      <td>0</td>\n",
              "      <td>1</td>\n",
              "      <td>0</td>\n",
              "      <td>1</td>\n",
              "      <td>0</td>\n",
              "      <td>1</td>\n",
              "    </tr>\n",
              "  </tbody>\n",
              "</table>\n",
              "</div>\n",
              "    <div class=\"colab-df-buttons\">\n",
              "\n",
              "  <div class=\"colab-df-container\">\n",
              "    <button class=\"colab-df-convert\" onclick=\"convertToInteractive('df-7b59a475-fea0-4fc3-a836-d47e7a0f037f')\"\n",
              "            title=\"Convert this dataframe to an interactive table.\"\n",
              "            style=\"display:none;\">\n",
              "\n",
              "  <svg xmlns=\"http://www.w3.org/2000/svg\" height=\"24px\" viewBox=\"0 -960 960 960\">\n",
              "    <path d=\"M120-120v-720h720v720H120Zm60-500h600v-160H180v160Zm220 220h160v-160H400v160Zm0 220h160v-160H400v160ZM180-400h160v-160H180v160Zm440 0h160v-160H620v160ZM180-180h160v-160H180v160Zm440 0h160v-160H620v160Z\"/>\n",
              "  </svg>\n",
              "    </button>\n",
              "\n",
              "  <style>\n",
              "    .colab-df-container {\n",
              "      display:flex;\n",
              "      gap: 12px;\n",
              "    }\n",
              "\n",
              "    .colab-df-convert {\n",
              "      background-color: #E8F0FE;\n",
              "      border: none;\n",
              "      border-radius: 50%;\n",
              "      cursor: pointer;\n",
              "      display: none;\n",
              "      fill: #1967D2;\n",
              "      height: 32px;\n",
              "      padding: 0 0 0 0;\n",
              "      width: 32px;\n",
              "    }\n",
              "\n",
              "    .colab-df-convert:hover {\n",
              "      background-color: #E2EBFA;\n",
              "      box-shadow: 0px 1px 2px rgba(60, 64, 67, 0.3), 0px 1px 3px 1px rgba(60, 64, 67, 0.15);\n",
              "      fill: #174EA6;\n",
              "    }\n",
              "\n",
              "    .colab-df-buttons div {\n",
              "      margin-bottom: 4px;\n",
              "    }\n",
              "\n",
              "    [theme=dark] .colab-df-convert {\n",
              "      background-color: #3B4455;\n",
              "      fill: #D2E3FC;\n",
              "    }\n",
              "\n",
              "    [theme=dark] .colab-df-convert:hover {\n",
              "      background-color: #434B5C;\n",
              "      box-shadow: 0px 1px 3px 1px rgba(0, 0, 0, 0.15);\n",
              "      filter: drop-shadow(0px 1px 2px rgba(0, 0, 0, 0.3));\n",
              "      fill: #FFFFFF;\n",
              "    }\n",
              "  </style>\n",
              "\n",
              "    <script>\n",
              "      const buttonEl =\n",
              "        document.querySelector('#df-7b59a475-fea0-4fc3-a836-d47e7a0f037f button.colab-df-convert');\n",
              "      buttonEl.style.display =\n",
              "        google.colab.kernel.accessAllowed ? 'block' : 'none';\n",
              "\n",
              "      async function convertToInteractive(key) {\n",
              "        const element = document.querySelector('#df-7b59a475-fea0-4fc3-a836-d47e7a0f037f');\n",
              "        const dataTable =\n",
              "          await google.colab.kernel.invokeFunction('convertToInteractive',\n",
              "                                                    [key], {});\n",
              "        if (!dataTable) return;\n",
              "\n",
              "        const docLinkHtml = 'Like what you see? Visit the ' +\n",
              "          '<a target=\"_blank\" href=https://colab.research.google.com/notebooks/data_table.ipynb>data table notebook</a>'\n",
              "          + ' to learn more about interactive tables.';\n",
              "        element.innerHTML = '';\n",
              "        dataTable['output_type'] = 'display_data';\n",
              "        await google.colab.output.renderOutput(dataTable, element);\n",
              "        const docLink = document.createElement('div');\n",
              "        docLink.innerHTML = docLinkHtml;\n",
              "        element.appendChild(docLink);\n",
              "      }\n",
              "    </script>\n",
              "  </div>\n",
              "\n",
              "\n",
              "<div id=\"df-97cf720b-be7c-49c7-8e63-3d7ab2cb40af\">\n",
              "  <button class=\"colab-df-quickchart\" onclick=\"quickchart('df-97cf720b-be7c-49c7-8e63-3d7ab2cb40af')\"\n",
              "            title=\"Suggest charts\"\n",
              "            style=\"display:none;\">\n",
              "\n",
              "<svg xmlns=\"http://www.w3.org/2000/svg\" height=\"24px\"viewBox=\"0 0 24 24\"\n",
              "     width=\"24px\">\n",
              "    <g>\n",
              "        <path d=\"M19 3H5c-1.1 0-2 .9-2 2v14c0 1.1.9 2 2 2h14c1.1 0 2-.9 2-2V5c0-1.1-.9-2-2-2zM9 17H7v-7h2v7zm4 0h-2V7h2v10zm4 0h-2v-4h2v4z\"/>\n",
              "    </g>\n",
              "</svg>\n",
              "  </button>\n",
              "\n",
              "<style>\n",
              "  .colab-df-quickchart {\n",
              "      --bg-color: #E8F0FE;\n",
              "      --fill-color: #1967D2;\n",
              "      --hover-bg-color: #E2EBFA;\n",
              "      --hover-fill-color: #174EA6;\n",
              "      --disabled-fill-color: #AAA;\n",
              "      --disabled-bg-color: #DDD;\n",
              "  }\n",
              "\n",
              "  [theme=dark] .colab-df-quickchart {\n",
              "      --bg-color: #3B4455;\n",
              "      --fill-color: #D2E3FC;\n",
              "      --hover-bg-color: #434B5C;\n",
              "      --hover-fill-color: #FFFFFF;\n",
              "      --disabled-bg-color: #3B4455;\n",
              "      --disabled-fill-color: #666;\n",
              "  }\n",
              "\n",
              "  .colab-df-quickchart {\n",
              "    background-color: var(--bg-color);\n",
              "    border: none;\n",
              "    border-radius: 50%;\n",
              "    cursor: pointer;\n",
              "    display: none;\n",
              "    fill: var(--fill-color);\n",
              "    height: 32px;\n",
              "    padding: 0;\n",
              "    width: 32px;\n",
              "  }\n",
              "\n",
              "  .colab-df-quickchart:hover {\n",
              "    background-color: var(--hover-bg-color);\n",
              "    box-shadow: 0 1px 2px rgba(60, 64, 67, 0.3), 0 1px 3px 1px rgba(60, 64, 67, 0.15);\n",
              "    fill: var(--button-hover-fill-color);\n",
              "  }\n",
              "\n",
              "  .colab-df-quickchart-complete:disabled,\n",
              "  .colab-df-quickchart-complete:disabled:hover {\n",
              "    background-color: var(--disabled-bg-color);\n",
              "    fill: var(--disabled-fill-color);\n",
              "    box-shadow: none;\n",
              "  }\n",
              "\n",
              "  .colab-df-spinner {\n",
              "    border: 2px solid var(--fill-color);\n",
              "    border-color: transparent;\n",
              "    border-bottom-color: var(--fill-color);\n",
              "    animation:\n",
              "      spin 1s steps(1) infinite;\n",
              "  }\n",
              "\n",
              "  @keyframes spin {\n",
              "    0% {\n",
              "      border-color: transparent;\n",
              "      border-bottom-color: var(--fill-color);\n",
              "      border-left-color: var(--fill-color);\n",
              "    }\n",
              "    20% {\n",
              "      border-color: transparent;\n",
              "      border-left-color: var(--fill-color);\n",
              "      border-top-color: var(--fill-color);\n",
              "    }\n",
              "    30% {\n",
              "      border-color: transparent;\n",
              "      border-left-color: var(--fill-color);\n",
              "      border-top-color: var(--fill-color);\n",
              "      border-right-color: var(--fill-color);\n",
              "    }\n",
              "    40% {\n",
              "      border-color: transparent;\n",
              "      border-right-color: var(--fill-color);\n",
              "      border-top-color: var(--fill-color);\n",
              "    }\n",
              "    60% {\n",
              "      border-color: transparent;\n",
              "      border-right-color: var(--fill-color);\n",
              "    }\n",
              "    80% {\n",
              "      border-color: transparent;\n",
              "      border-right-color: var(--fill-color);\n",
              "      border-bottom-color: var(--fill-color);\n",
              "    }\n",
              "    90% {\n",
              "      border-color: transparent;\n",
              "      border-bottom-color: var(--fill-color);\n",
              "    }\n",
              "  }\n",
              "</style>\n",
              "\n",
              "  <script>\n",
              "    async function quickchart(key) {\n",
              "      const quickchartButtonEl =\n",
              "        document.querySelector('#' + key + ' button');\n",
              "      quickchartButtonEl.disabled = true;  // To prevent multiple clicks.\n",
              "      quickchartButtonEl.classList.add('colab-df-spinner');\n",
              "      try {\n",
              "        const charts = await google.colab.kernel.invokeFunction(\n",
              "            'suggestCharts', [key], {});\n",
              "      } catch (error) {\n",
              "        console.error('Error during call to suggestCharts:', error);\n",
              "      }\n",
              "      quickchartButtonEl.classList.remove('colab-df-spinner');\n",
              "      quickchartButtonEl.classList.add('colab-df-quickchart-complete');\n",
              "    }\n",
              "    (() => {\n",
              "      let quickchartButtonEl =\n",
              "        document.querySelector('#df-97cf720b-be7c-49c7-8e63-3d7ab2cb40af button');\n",
              "      quickchartButtonEl.style.display =\n",
              "        google.colab.kernel.accessAllowed ? 'block' : 'none';\n",
              "    })();\n",
              "  </script>\n",
              "</div>\n",
              "\n",
              "    </div>\n",
              "  </div>\n"
            ],
            "application/vnd.google.colaboratory.intrinsic+json": {
              "type": "dataframe",
              "variable_name": "df_preprocesado3",
              "summary": "{\n  \"name\": \"df_preprocesado3\",\n  \"rows\": 1768,\n  \"fields\": [\n    {\n      \"column\": \"state\",\n      \"properties\": {\n        \"dtype\": \"category\",\n        \"num_unique_values\": 52,\n        \"samples\": [\n          \"Maine\",\n          \"South Dakota\",\n          \"Washington\"\n        ],\n        \"semantic_type\": \"\",\n        \"description\": \"\"\n      }\n    },\n    {\n      \"column\": \"acs_variable\",\n      \"properties\": {\n        \"dtype\": \"category\",\n        \"num_unique_values\": 34,\n        \"samples\": [\n          \"DP03_0107P\",\n          \"DP03_0110P\",\n          \"DP03_0115P\"\n        ],\n        \"semantic_type\": \"\",\n        \"description\": \"\"\n      }\n    },\n    {\n      \"column\": \"estimate\",\n      \"properties\": {\n        \"dtype\": \"number\",\n        \"std\": 1992238.1551823274,\n        \"min\": 1.3,\n        \"max\": 35373781.0,\n        \"num_unique_values\": 1435,\n        \"samples\": [\n          23.2,\n          184639.0,\n          50588.0\n        ],\n        \"semantic_type\": \"\",\n        \"description\": \"\"\n      }\n    },\n    {\n      \"column\": \"margin_of_error\",\n      \"properties\": {\n        \"dtype\": \"number\",\n        \"std\": 5523.771021244505,\n        \"min\": 0.1,\n        \"max\": 75277.0,\n        \"num_unique_values\": 884,\n        \"samples\": [\n          1020.0,\n          4441.0,\n          2555.0\n        ],\n        \"semantic_type\": \"\",\n        \"description\": \"\"\n      }\n    },\n    {\n      \"column\": \"estimate_type_population\",\n      \"properties\": {\n        \"dtype\": \"number\",\n        \"std\": 0,\n        \"min\": 0,\n        \"max\": 1,\n        \"num_unique_values\": 2,\n        \"samples\": [\n          0,\n          1\n        ],\n        \"semantic_type\": \"\",\n        \"description\": \"\"\n      }\n    },\n    {\n      \"column\": \"health_insurance_coverage\",\n      \"properties\": {\n        \"dtype\": \"number\",\n        \"std\": 0,\n        \"min\": 0,\n        \"max\": 1,\n        \"num_unique_values\": 2,\n        \"samples\": [\n          0,\n          1\n        ],\n        \"semantic_type\": \"\",\n        \"description\": \"\"\n      }\n    },\n    {\n      \"column\": \"private_insurance_coverage\",\n      \"properties\": {\n        \"dtype\": \"number\",\n        \"std\": 0,\n        \"min\": 0,\n        \"max\": 1,\n        \"num_unique_values\": 2,\n        \"samples\": [\n          1,\n          0\n        ],\n        \"semantic_type\": \"\",\n        \"description\": \"\"\n      }\n    },\n    {\n      \"column\": \"public_coverage\",\n      \"properties\": {\n        \"dtype\": \"number\",\n        \"std\": 0,\n        \"min\": 0,\n        \"max\": 1,\n        \"num_unique_values\": 2,\n        \"samples\": [\n          1,\n          0\n        ],\n        \"semantic_type\": \"\",\n        \"description\": \"\"\n      }\n    },\n    {\n      \"column\": \"age_group_under_19\",\n      \"properties\": {\n        \"dtype\": \"number\",\n        \"std\": 0,\n        \"min\": 0,\n        \"max\": 1,\n        \"num_unique_values\": 2,\n        \"samples\": [\n          1,\n          0\n        ],\n        \"semantic_type\": \"\",\n        \"description\": \"\"\n      }\n    },\n    {\n      \"column\": \"age_group_overall\",\n      \"properties\": {\n        \"dtype\": \"number\",\n        \"std\": 0,\n        \"min\": 0,\n        \"max\": 1,\n        \"num_unique_values\": 2,\n        \"samples\": [\n          0,\n          1\n        ],\n        \"semantic_type\": \"\",\n        \"description\": \"\"\n      }\n    },\n    {\n      \"column\": \"not_in_labor_force\",\n      \"properties\": {\n        \"dtype\": \"number\",\n        \"std\": 0,\n        \"min\": 0,\n        \"max\": 1,\n        \"num_unique_values\": 2,\n        \"samples\": [\n          1,\n          0\n        ],\n        \"semantic_type\": \"\",\n        \"description\": \"\"\n      }\n    },\n    {\n      \"column\": \"labor_force_Unknown\",\n      \"properties\": {\n        \"dtype\": \"number\",\n        \"std\": 0,\n        \"min\": 0,\n        \"max\": 1,\n        \"num_unique_values\": 2,\n        \"samples\": [\n          0,\n          1\n        ],\n        \"semantic_type\": \"\",\n        \"description\": \"\"\n      }\n    }\n  ]\n}"
            }
          },
          "metadata": {},
          "execution_count": 81
        }
      ]
    },
    {
      "cell_type": "code",
      "source": [
        "# Guardem el DataFrame preprocessat\n",
        "df_preprocesado3.to_csv(\"acs_2018_health_insurance_coverage_estimates_cleaned.csv\", index=False)"
      ],
      "metadata": {
        "id": "GdG_2PmOMLTh"
      },
      "execution_count": 82,
      "outputs": []
    },
    {
      "cell_type": "markdown",
      "source": [
        "METADATA"
      ],
      "metadata": {
        "id": "E8zmkgLo41FK"
      }
    },
    {
      "cell_type": "code",
      "source": [
        "import json\n",
        "import numpy as np\n",
        "\n",
        "def obtener_metadata(df, nombre):\n",
        "    return {\n",
        "        \"Nom\": nombre,\n",
        "        \"Nombre de mostres\": int(df.shape[0]),\n",
        "        \"Nombre d'atributs\": int(df.shape[1]),\n",
        "        \"Valors nuls despres del preprocessament\": int(df.isnull().sum().sum()),\n",
        "        \"Valors nuls per columna\": {k: int(v) for k, v in df.isnull().sum().to_dict().items()}\n",
        "    }\n",
        "\n",
        "# Generar la metadata de cada dataset\n",
        "metadata_acs = obtener_metadata(df_preprocesado, \"ACS Health Insurance 2018\")\n",
        "metadata_kff = obtener_metadata(df_preprocesado2, \"KFF Hospital Beds per Capita 2018\")\n",
        "metadata_census = obtener_metadata(df_preprocesado3, \"US Census Population 2018\")\n",
        "\n",
        "# Mostrar resultados\n",
        "print(json.dumps([metadata_acs, metadata_kff, metadata_census], indent=4))"
      ],
      "metadata": {
        "id": "Dbe28gW75VKY",
        "outputId": "4375c7d6-03f6-4395-aeab-ddfdb2239e30",
        "colab": {
          "base_uri": "https://localhost:8080/"
        }
      },
      "execution_count": 83,
      "outputs": [
        {
          "output_type": "stream",
          "name": "stdout",
          "text": [
            "[\n",
            "    {\n",
            "        \"Nom\": \"ACS Health Insurance 2018\",\n",
            "        \"Nombre de mostres\": 3220,\n",
            "        \"Nombre d'atributs\": 4,\n",
            "        \"Valors nuls despres del preprocessament\": 0,\n",
            "        \"Valors nuls per columna\": {\n",
            "            \"county\": 0,\n",
            "            \"state\": 0,\n",
            "            \"population\": 0,\n",
            "            \"pop_density\": 0\n",
            "        }\n",
            "    },\n",
            "    {\n",
            "        \"Nom\": \"KFF Hospital Beds per Capita 2018\",\n",
            "        \"Nombre de mostres\": 51,\n",
            "        \"Nombre d'atributs\": 5,\n",
            "        \"Valors nuls despres del preprocessament\": 13,\n",
            "        \"Valors nuls per columna\": {\n",
            "            \"state\": 0,\n",
            "            \"state_local_government\": 8,\n",
            "            \"non_profit\": 0,\n",
            "            \"for_profit\": 5,\n",
            "            \"total\": 0\n",
            "        }\n",
            "    },\n",
            "    {\n",
            "        \"Nom\": \"US Census Population 2018\",\n",
            "        \"Nombre de mostres\": 1768,\n",
            "        \"Nombre d'atributs\": 12,\n",
            "        \"Valors nuls despres del preprocessament\": 0,\n",
            "        \"Valors nuls per columna\": {\n",
            "            \"state\": 0,\n",
            "            \"acs_variable\": 0,\n",
            "            \"estimate\": 0,\n",
            "            \"margin_of_error\": 0,\n",
            "            \"estimate_type_population\": 0,\n",
            "            \"health_insurance_coverage\": 0,\n",
            "            \"private_insurance_coverage\": 0,\n",
            "            \"public_coverage\": 0,\n",
            "            \"age_group_under_19\": 0,\n",
            "            \"age_group_overall\": 0,\n",
            "            \"not_in_labor_force\": 0,\n",
            "            \"labor_force_Unknown\": 0\n",
            "        }\n",
            "    }\n",
            "]\n"
          ]
        }
      ]
    }
  ],
  "metadata": {
    "kernelspec": {
      "display_name": "Python 3",
      "language": "python",
      "name": "python3"
    },
    "language_info": {
      "codemirror_mode": {
        "name": "ipython",
        "version": 3
      },
      "file_extension": ".py",
      "mimetype": "text/x-python",
      "name": "python",
      "nbconvert_exporter": "python",
      "pygments_lexer": "ipython3",
      "version": "3.10.7"
    },
    "colab": {
      "provenance": []
    }
  },
  "nbformat": 4,
  "nbformat_minor": 0
}